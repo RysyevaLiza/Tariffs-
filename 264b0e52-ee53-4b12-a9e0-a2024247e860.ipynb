{
 "cells": [
  {
   "cell_type": "markdown",
   "id": "3abcdca1",
   "metadata": {},
   "source": [
    "# Содержание"
   ]
  },
  {
   "cell_type": "markdown",
   "id": "5e6704e2",
   "metadata": {},
   "source": [
    "# Описание проекта\n",
    "\n",
    "Вы аналитик компании «Мегалайн» — федерального оператора сотовой связи. Клиентам предлагают два тарифных плана: «Смарт» и «Ультра». Чтобы скорректировать рекламный бюджет, коммерческий департамент хочет понять, какой тариф приносит больше денег.\n",
    "Вам предстоит сделать предварительный анализ тарифов на небольшой выборке клиентов. В вашем распоряжении данные 500 пользователей «Мегалайна»: кто они, откуда, каким тарифом пользуются, сколько звонков и сообщений каждый отправил за 2018 год. Нужно проанализировать поведение клиентов и сделать вывод — какой тариф лучше."
   ]
  },
  {
   "cell_type": "markdown",
   "id": "c100d2e4",
   "metadata": {},
   "source": [
    "## Описание тарифов"
   ]
  },
  {
   "cell_type": "markdown",
   "id": "e39b8011",
   "metadata": {},
   "source": [
    "#### Тариф «Смарт»\n",
    "Ежемесячная плата: 550 рублей\n",
    "\n",
    "Включено 500 минут разговора, 50 сообщений и 15 Гб интернет-трафика\n",
    "\n",
    "Стоимость услуг сверх тарифного пакета:\n",
    "\n",
    "    минута разговора: 3 рубля\n",
    "    сообщение: 3 рубля\n",
    "    1 Гб интернет-трафика: 200 рублей\n"
   ]
  },
  {
   "cell_type": "markdown",
   "id": "c883fbd4",
   "metadata": {},
   "source": [
    "#### Тариф «Ультра»\n",
    "Ежемесячная плата: 1950 рублей\n",
    "\n",
    "Включено 3000 минут разговора, 1000 сообщений и 30 Гб интернет-трафика\n",
    "\n",
    "Стоимость услуг сверх тарифного пакета:\n",
    "\n",
    "    минута разговора: 1 рубль\n",
    "    сообщение: 1 рубль\n",
    "    1 Гб интернет-трафика: 150 рублей"
   ]
  },
  {
   "cell_type": "code",
   "execution_count": 1,
   "id": "9502e167",
   "metadata": {},
   "outputs": [],
   "source": [
    "import pandas as pd\n",
    "import seaborn as sns\n",
    "sns.set(color_codes=True)\n",
    "\n",
    "import matplotlib.pyplot as plt\n",
    "import numpy as np\n",
    "import scipy.stats as st\n",
    "import math "
   ]
  },
  {
   "cell_type": "code",
   "execution_count": 2,
   "id": "014b4baa",
   "metadata": {},
   "outputs": [],
   "source": [
    "calls = pd.read_csv('/datasets/calls.csv')\n",
    "internet = pd.read_csv('/datasets/internet.csv').drop(['Unnamed: 0'],axis = 1)\n",
    "messages = pd.read_csv('/datasets/messages.csv')\n",
    "tariffs = pd.read_csv('/datasets/tariffs.csv')\n",
    "users = pd.read_csv('/datasets/users.csv')"
   ]
  },
  {
   "cell_type": "markdown",
   "id": "3df3a696",
   "metadata": {},
   "source": [
    "# Исследовательский анализ"
   ]
  },
  {
   "cell_type": "markdown",
   "id": "bec65c01",
   "metadata": {},
   "source": [
    "### Обработка нуляевых значений (пропусков)"
   ]
  },
  {
   "cell_type": "markdown",
   "id": "6762cb7f",
   "metadata": {},
   "source": [
    "Чтобы не вызывать мето info для каждого датафрейма, создадим функцию, которая будет обрабатывать необходимую информацию и соединять все в одну таблицу"
   ]
  },
  {
   "cell_type": "code",
   "execution_count": 3,
   "id": "126d361e",
   "metadata": {},
   "outputs": [
    {
     "name": "stdout",
     "output_type": "stream",
     "text": [
      "<class 'pandas.core.frame.DataFrame'>\n",
      "RangeIndex: 202607 entries, 0 to 202606\n",
      "Data columns (total 4 columns):\n",
      " #   Column     Non-Null Count   Dtype  \n",
      "---  ------     --------------   -----  \n",
      " 0   id         202607 non-null  object \n",
      " 1   call_date  202607 non-null  object \n",
      " 2   duration   202607 non-null  float64\n",
      " 3   user_id    202607 non-null  int64  \n",
      "dtypes: float64(1), int64(1), object(2)\n",
      "memory usage: 6.2+ MB\n",
      "None\n",
      "\n",
      "<class 'pandas.core.frame.DataFrame'>\n",
      "RangeIndex: 149396 entries, 0 to 149395\n",
      "Data columns (total 4 columns):\n",
      " #   Column        Non-Null Count   Dtype  \n",
      "---  ------        --------------   -----  \n",
      " 0   id            149396 non-null  object \n",
      " 1   mb_used       149396 non-null  float64\n",
      " 2   session_date  149396 non-null  object \n",
      " 3   user_id       149396 non-null  int64  \n",
      "dtypes: float64(1), int64(1), object(2)\n",
      "memory usage: 4.6+ MB\n",
      "None\n",
      "\n",
      "<class 'pandas.core.frame.DataFrame'>\n",
      "RangeIndex: 123036 entries, 0 to 123035\n",
      "Data columns (total 3 columns):\n",
      " #   Column        Non-Null Count   Dtype \n",
      "---  ------        --------------   ----- \n",
      " 0   id            123036 non-null  object\n",
      " 1   message_date  123036 non-null  object\n",
      " 2   user_id       123036 non-null  int64 \n",
      "dtypes: int64(1), object(2)\n",
      "memory usage: 2.8+ MB\n",
      "None\n",
      "\n",
      "<class 'pandas.core.frame.DataFrame'>\n",
      "RangeIndex: 500 entries, 0 to 499\n",
      "Data columns (total 8 columns):\n",
      " #   Column      Non-Null Count  Dtype \n",
      "---  ------      --------------  ----- \n",
      " 0   user_id     500 non-null    int64 \n",
      " 1   age         500 non-null    int64 \n",
      " 2   churn_date  38 non-null     object\n",
      " 3   city        500 non-null    object\n",
      " 4   first_name  500 non-null    object\n",
      " 5   last_name   500 non-null    object\n",
      " 6   reg_date    500 non-null    object\n",
      " 7   tariff      500 non-null    object\n",
      "dtypes: int64(2), object(6)\n",
      "memory usage: 31.4+ KB\n",
      "None\n",
      "\n",
      "<class 'pandas.core.frame.DataFrame'>\n",
      "RangeIndex: 2 entries, 0 to 1\n",
      "Data columns (total 8 columns):\n",
      " #   Column                 Non-Null Count  Dtype \n",
      "---  ------                 --------------  ----- \n",
      " 0   messages_included      2 non-null      int64 \n",
      " 1   mb_per_month_included  2 non-null      int64 \n",
      " 2   minutes_included       2 non-null      int64 \n",
      " 3   rub_monthly_fee        2 non-null      int64 \n",
      " 4   rub_per_gb             2 non-null      int64 \n",
      " 5   rub_per_message        2 non-null      int64 \n",
      " 6   rub_per_minute         2 non-null      int64 \n",
      " 7   tariff_name            2 non-null      object\n",
      "dtypes: int64(7), object(1)\n",
      "memory usage: 256.0+ bytes\n",
      "None\n",
      "\n"
     ]
    }
   ],
   "source": [
    "for data in [calls, internet, messages, users, tariffs]: \n",
    "    print(data.info(), end='\\n\\n')"
   ]
  },
  {
   "cell_type": "markdown",
   "id": "74df0073",
   "metadata": {},
   "source": [
    "Заметим, что только единственный столбец имеет пропущенные значения \"churn_date\". Чтобы обработать данные значения необходимо изменить тип данных"
   ]
  },
  {
   "cell_type": "code",
   "execution_count": 4,
   "id": "f8394401",
   "metadata": {},
   "outputs": [],
   "source": [
    "columns_to_datetime = {\"reg_date\":users,\n",
    "                       \"message_date\":messages,\n",
    "                       \"session_date\":internet,\n",
    "                       \"call_date\":calls}\n",
    "\n",
    "for column, data in columns_to_datetime.items():\n",
    "    data[column] = pd.to_datetime(data[column],format = '%Y-%m-%d')"
   ]
  },
  {
   "cell_type": "markdown",
   "id": "941fd386",
   "metadata": {},
   "source": [
    "#### Заполним пропуски"
   ]
  },
  {
   "cell_type": "markdown",
   "id": "daccd4d9",
   "metadata": {},
   "source": [
    "Средняя продолжительность жизни в России 71,5 год. Прибавим к текущей дате разницу между среднем возрастом и возрастом абонента и заполним этим значением пропуски"
   ]
  },
  {
   "cell_type": "code",
   "execution_count": 5,
   "id": "ee07cbb9",
   "metadata": {},
   "outputs": [],
   "source": [
    "def fillna_churn_date(row):\n",
    "    if pd.isnull(row[\"churn_date\"]):\n",
    "        mean_ages = 100\n",
    "        delta = mean_ages - row['age'] \n",
    "        date = str(2022 + delta)+'-01-01' #возьмем первое число первого месяца\n",
    "        row[\"churn_date\"] = pd.to_datetime(date,format = '%Y-%m-%d')\n",
    "    return row"
   ]
  },
  {
   "cell_type": "code",
   "execution_count": 6,
   "id": "b7e484bc",
   "metadata": {},
   "outputs": [],
   "source": [
    "users = users.apply(fillna_churn_date, axis = 1)"
   ]
  },
  {
   "cell_type": "markdown",
   "id": "e6e3a2bc",
   "metadata": {},
   "source": [
    "После объединения данных (сводная таблица по звонкам, по сообщениям и интернет-трафику) возникнут пропущенные значения (клиент мог в каком-то месяце не писать сообщений, но звонить и использовать интернет), которые также нужно будет заменить на нули."
   ]
  },
  {
   "cell_type": "markdown",
   "id": "1ab941ba",
   "metadata": {},
   "source": [
    "## Проверка на дубликаты"
   ]
  },
  {
   "cell_type": "code",
   "execution_count": 7,
   "id": "9ff60332",
   "metadata": {},
   "outputs": [],
   "source": [
    "all_table = [calls, internet, messages, tariffs, users]"
   ]
  },
  {
   "cell_type": "code",
   "execution_count": 8,
   "id": "b82edfd1",
   "metadata": {},
   "outputs": [
    {
     "name": "stdout",
     "output_type": "stream",
     "text": [
      "0\n",
      "0\n",
      "0\n",
      "0\n",
      "0\n"
     ]
    }
   ],
   "source": [
    "for table in all_table:\n",
    "    print(table.duplicated().sum())"
   ]
  },
  {
   "cell_type": "markdown",
   "id": "b6c1d848",
   "metadata": {},
   "source": [
    "## Добавим столбец со значением месяца"
   ]
  },
  {
   "cell_type": "code",
   "execution_count": 9,
   "id": "f9aab55a",
   "metadata": {},
   "outputs": [],
   "source": [
    "calls['month'] = calls[\"call_date\"].dt.month"
   ]
  },
  {
   "cell_type": "markdown",
   "id": "a8635dd4",
   "metadata": {},
   "source": [
    "Построим график зависимости количества нулевых значений от общего числа звонков за каждый месяц"
   ]
  },
  {
   "cell_type": "code",
   "execution_count": 10,
   "id": "dd7ec4d0",
   "metadata": {},
   "outputs": [
    {
     "data": {
      "image/png": "[encoded data removed]",
      "text/plain": [
       "<Figure size 360x360 with 1 Axes>"
      ]
     },
     "metadata": {},
     "output_type": "display_data"
    }
   ],
   "source": [
    "calls.loc[calls['duration'] == 0, 'nulls_count'] = 1\n",
    "null_calls = calls.pivot_table(index='month', values=['id', 'nulls_count'], aggfunc='count')\n",
    "null_calls['null_ratio'] = round(null_calls['nulls_count'] / null_calls['id'], 3)\n",
    "\n",
    "sns.relplot(x='id', y='nulls_count', data=null_calls)\n",
    "plt.xlabel('Общее число звонков по месяцам')\n",
    "plt.ylabel('Число звонков с нулевой продолжительностью');\n"
   ]
  },
  {
   "cell_type": "markdown",
   "id": "a7e9846a",
   "metadata": {},
   "source": [
    "Округлим все значения в большую сторону (т.к. тариф считается по минутам), а нулевые значения заменим на 1."
   ]
  },
  {
   "cell_type": "code",
   "execution_count": 11,
   "id": "c8d104bd",
   "metadata": {},
   "outputs": [],
   "source": [
    "calls['duration'] = np.ceil(calls['duration'])\n",
    "\n",
    "calls.loc[calls['duration'] == 0, 'duration'] = 1"
   ]
  },
  {
   "cell_type": "code",
   "execution_count": 12,
   "id": "4d9a3d17",
   "metadata": {},
   "outputs": [
    {
     "data": {
      "text/plain": [
       "0          1.0\n",
       "1          1.0\n",
       "2          3.0\n",
       "3         14.0\n",
       "4          6.0\n",
       "          ... \n",
       "202602     1.0\n",
       "202603    19.0\n",
       "202604    11.0\n",
       "202605     5.0\n",
       "202606    20.0\n",
       "Name: duration, Length: 202607, dtype: float64"
      ]
     },
     "execution_count": 12,
     "metadata": {},
     "output_type": "execute_result"
    }
   ],
   "source": [
    "calls['duration']"
   ]
  },
  {
   "cell_type": "markdown",
   "id": "0cb544dd",
   "metadata": {},
   "source": [
    "### Добавим столбец со значением месяца"
   ]
  },
  {
   "cell_type": "code",
   "execution_count": 13,
   "id": "63ab712f",
   "metadata": {},
   "outputs": [],
   "source": [
    "internet['month'] = internet['session_date'].dt.month"
   ]
  },
  {
   "cell_type": "markdown",
   "id": "82b8c889",
   "metadata": {},
   "source": [
    "Построим график зависимости количества нулевых значений от общего числа Интернет-сессий за каждый месяц"
   ]
  },
  {
   "cell_type": "code",
   "execution_count": 14,
   "id": "8ab05fd1",
   "metadata": {},
   "outputs": [
    {
     "data": {
      "image/png": "[encoded data removed]",
      "text/plain": [
       "<Figure size 360x360 with 1 Axes>"
      ]
     },
     "metadata": {},
     "output_type": "display_data"
    }
   ],
   "source": [
    "internet.loc[internet['mb_used'] == 0, 'nulls_count'] = 1\n",
    "\n",
    "null_mb = internet.pivot_table(index='month', values=['id', 'nulls_count'], aggfunc='count')\n",
    "\n",
    "null_mb['null_ratio'] = round(null_mb['nulls_count'] / null_mb['id'], 3)\n",
    "\n",
    "sns.relplot(x='id', y='nulls_count', data=null_mb, color='tab:red')\n",
    "plt.xlabel('Общее число интернет-сессий по месяцам')\n",
    "plt.ylabel('Число интернет-сессий с нулевым трафиком');"
   ]
  },
  {
   "cell_type": "markdown",
   "id": "56a13f87",
   "metadata": {},
   "source": [
    "Округлим все значения в большую сторону (т.к. тариф считается по мегабайтам), а нулевые значения заменим на 1."
   ]
  },
  {
   "cell_type": "markdown",
   "id": "17088518",
   "metadata": {},
   "source": [
    "### Добавим столбец со значением месяца"
   ]
  },
  {
   "cell_type": "code",
   "execution_count": 15,
   "id": "253ce874",
   "metadata": {},
   "outputs": [],
   "source": [
    "messages['month'] = messages[\"message_date\"].dt.month"
   ]
  },
  {
   "cell_type": "markdown",
   "id": "6a8a7523",
   "metadata": {},
   "source": [
    "# Изменение типа данных"
   ]
  },
  {
   "cell_type": "code",
   "execution_count": 16,
   "id": "2f741301",
   "metadata": {},
   "outputs": [
    {
     "name": "stdout",
     "output_type": "stream",
     "text": [
      "Machine parameters for uint8\n",
      "---------------------------------------------------------------\n",
      "min = 0\n",
      "max = 255\n",
      "---------------------------------------------------------------\n",
      "\n",
      "Machine parameters for int8\n",
      "---------------------------------------------------------------\n",
      "min = -128\n",
      "max = 127\n",
      "---------------------------------------------------------------\n",
      "\n",
      "Machine parameters for int16\n",
      "---------------------------------------------------------------\n",
      "min = -32768\n",
      "max = 32767\n",
      "---------------------------------------------------------------\n",
      "\n"
     ]
    }
   ],
   "source": [
    "int_types = [\"uint8\", \"int8\", \"int16\"]\n",
    "for it in int_types:\n",
    "    print(np.iinfo(it))"
   ]
  },
  {
   "cell_type": "markdown",
   "id": "77d4886d",
   "metadata": {},
   "source": [
    "#### Таблица calls"
   ]
  },
  {
   "cell_type": "code",
   "execution_count": 17,
   "id": "b6f27f43",
   "metadata": {},
   "outputs": [
    {
     "name": "stdout",
     "output_type": "stream",
     "text": [
      "Average memory usage for float columns: 1.03 MB\n",
      "Average memory usage for int columns: 1.03 MB\n",
      "Average memory usage for object columns: 6.26 MB\n"
     ]
    }
   ],
   "source": [
    "for dtype in ['float','int','object']:\n",
    "    selected_dtype = calls.select_dtypes(include=[dtype])\n",
    "    mean_usage_b = selected_dtype.memory_usage(deep=True).mean()\n",
    "    mean_usage_mb = mean_usage_b / 1024 ** 2\n",
    "    print(\"Average memory usage for {} columns: {:03.2f} MB\".format(dtype,mean_usage_mb))\n"
   ]
  },
  {
   "cell_type": "code",
   "execution_count": 18,
   "id": "efc8bb2f",
   "metadata": {},
   "outputs": [
    {
     "name": "stdout",
     "output_type": "stream",
     "text": [
      "3.09 MB\n",
      "0.58 MB\n"
     ]
    },
    {
     "data": {
      "text/html": [
       "<div>\n",
       "<style scoped>\n",
       "    .dataframe tbody tr th:only-of-type {\n",
       "        vertical-align: middle;\n",
       "    }\n",
       "\n",
       "    .dataframe tbody tr th {\n",
       "        vertical-align: top;\n",
       "    }\n",
       "\n",
       "    .dataframe thead th {\n",
       "        text-align: right;\n",
       "    }\n",
       "</style>\n",
       "<table border=\"1\" class=\"dataframe\">\n",
       "  <thead>\n",
       "    <tr style=\"text-align: right;\">\n",
       "      <th></th>\n",
       "      <th>before</th>\n",
       "      <th>after</th>\n",
       "    </tr>\n",
       "  </thead>\n",
       "  <tbody>\n",
       "    <tr>\n",
       "      <th>uint8</th>\n",
       "      <td>NaN</td>\n",
       "      <td>1.0</td>\n",
       "    </tr>\n",
       "    <tr>\n",
       "      <th>uint16</th>\n",
       "      <td>NaN</td>\n",
       "      <td>1.0</td>\n",
       "    </tr>\n",
       "    <tr>\n",
       "      <th>int64</th>\n",
       "      <td>2.0</td>\n",
       "      <td>NaN</td>\n",
       "    </tr>\n",
       "  </tbody>\n",
       "</table>\n",
       "</div>"
      ],
      "text/plain": [
       "        before  after\n",
       "uint8      NaN    1.0\n",
       "uint16     NaN    1.0\n",
       "int64      2.0    NaN"
      ]
     },
     "execution_count": 18,
     "metadata": {},
     "output_type": "execute_result"
    }
   ],
   "source": [
    "def mem_usage(pandas_obj):\n",
    "    if isinstance(pandas_obj,pd.DataFrame):\n",
    "        usage_b = pandas_obj.memory_usage(deep=True).sum()\n",
    "    else: # исходим из предположения о том, что если это не DataFrame, то это Series\n",
    "        usage_b = pandas_obj.memory_usage(deep=True)\n",
    "    usage_mb = usage_b / 1024 ** 2 # преобразуем байты в мегабайты\n",
    "    return \"{:03.2f} MB\".format(usage_mb)\n",
    "\n",
    "df_int = calls.select_dtypes(include=['int'])\n",
    "converted_int = df_int.apply(pd.to_numeric,downcast='unsigned')\n",
    "\n",
    "print(mem_usage(df_int))\n",
    "print(mem_usage(converted_int))\n",
    "\n",
    "compare_ints = pd.concat([df_int.dtypes,converted_int.dtypes],axis=1)\n",
    "compare_ints.columns = ['before','after']\n",
    "compare_ints.apply(pd.Series.value_counts)"
   ]
  },
  {
   "cell_type": "code",
   "execution_count": 19,
   "id": "6f709c65",
   "metadata": {},
   "outputs": [
    {
     "name": "stdout",
     "output_type": "stream",
     "text": [
      "3.09 MB\n",
      "1.55 MB\n"
     ]
    },
    {
     "data": {
      "text/html": [
       "<div>\n",
       "<style scoped>\n",
       "    .dataframe tbody tr th:only-of-type {\n",
       "        vertical-align: middle;\n",
       "    }\n",
       "\n",
       "    .dataframe tbody tr th {\n",
       "        vertical-align: top;\n",
       "    }\n",
       "\n",
       "    .dataframe thead th {\n",
       "        text-align: right;\n",
       "    }\n",
       "</style>\n",
       "<table border=\"1\" class=\"dataframe\">\n",
       "  <thead>\n",
       "    <tr style=\"text-align: right;\">\n",
       "      <th></th>\n",
       "      <th>before</th>\n",
       "      <th>after</th>\n",
       "    </tr>\n",
       "  </thead>\n",
       "  <tbody>\n",
       "    <tr>\n",
       "      <th>float32</th>\n",
       "      <td>NaN</td>\n",
       "      <td>2.0</td>\n",
       "    </tr>\n",
       "    <tr>\n",
       "      <th>float64</th>\n",
       "      <td>2.0</td>\n",
       "      <td>NaN</td>\n",
       "    </tr>\n",
       "  </tbody>\n",
       "</table>\n",
       "</div>"
      ],
      "text/plain": [
       "         before  after\n",
       "float32     NaN    2.0\n",
       "float64     2.0    NaN"
      ]
     },
     "execution_count": 19,
     "metadata": {},
     "output_type": "execute_result"
    }
   ],
   "source": [
    "df_float = calls.select_dtypes(include=['float'])\n",
    "converted_float = df_float.apply(pd.to_numeric,downcast='float')\n",
    "\n",
    "print(mem_usage(df_float))\n",
    "print(mem_usage(converted_float))\n",
    "\n",
    "compare_floats = pd.concat([df_float.dtypes,converted_float.dtypes],axis=1)\n",
    "compare_floats.columns = ['before','after']\n",
    "compare_floats.apply(pd.Series.value_counts)"
   ]
  },
  {
   "cell_type": "code",
   "execution_count": 20,
   "id": "54b2435a",
   "metadata": {},
   "outputs": [
    {
     "name": "stdout",
     "output_type": "stream",
     "text": [
      "20.24 MB\n",
      "16.18 MB\n"
     ]
    }
   ],
   "source": [
    "optimized_df = calls.copy()\n",
    "\n",
    "optimized_df[converted_int.columns] = converted_int\n",
    "optimized_df[converted_float.columns] = converted_float\n",
    "\n",
    "print(mem_usage(calls))\n",
    "print(mem_usage(optimized_df))"
   ]
  },
  {
   "cell_type": "code",
   "execution_count": 21,
   "id": "9ae4dfa3",
   "metadata": {},
   "outputs": [
    {
     "data": {
      "text/html": [
       "<div>\n",
       "<style scoped>\n",
       "    .dataframe tbody tr th:only-of-type {\n",
       "        vertical-align: middle;\n",
       "    }\n",
       "\n",
       "    .dataframe tbody tr th {\n",
       "        vertical-align: top;\n",
       "    }\n",
       "\n",
       "    .dataframe thead th {\n",
       "        text-align: right;\n",
       "    }\n",
       "</style>\n",
       "<table border=\"1\" class=\"dataframe\">\n",
       "  <thead>\n",
       "    <tr style=\"text-align: right;\">\n",
       "      <th></th>\n",
       "      <th>count</th>\n",
       "      <th>unique</th>\n",
       "      <th>top</th>\n",
       "      <th>freq</th>\n",
       "    </tr>\n",
       "  </thead>\n",
       "  <tbody>\n",
       "    <tr>\n",
       "      <th>id</th>\n",
       "      <td>202607</td>\n",
       "      <td>202607</td>\n",
       "      <td>1058_239</td>\n",
       "      <td>1</td>\n",
       "    </tr>\n",
       "  </tbody>\n",
       "</table>\n",
       "</div>"
      ],
      "text/plain": [
       "     count  unique       top freq\n",
       "id  202607  202607  1058_239    1"
      ]
     },
     "execution_count": 21,
     "metadata": {},
     "output_type": "execute_result"
    }
   ],
   "source": [
    "df_obj = calls.select_dtypes(include=['object']).copy()\n",
    "df_obj.describe().T"
   ]
  },
  {
   "cell_type": "code",
   "execution_count": 22,
   "id": "6738faeb",
   "metadata": {},
   "outputs": [
    {
     "data": {
      "text/plain": [
       "'16.18 MB'"
      ]
     },
     "execution_count": 22,
     "metadata": {},
     "output_type": "execute_result"
    }
   ],
   "source": [
    "converted_obj = pd.DataFrame()\n",
    "optimized_df[converted_obj.columns] = converted_obj\n",
    "\n",
    "mem_usage(optimized_df)"
   ]
  },
  {
   "cell_type": "code",
   "execution_count": 23,
   "id": "17fef3f9",
   "metadata": {},
   "outputs": [],
   "source": [
    "calls = optimized_df"
   ]
  },
  {
   "cell_type": "code",
   "execution_count": 24,
   "id": "14039e99",
   "metadata": {},
   "outputs": [
    {
     "name": "stdout",
     "output_type": "stream",
     "text": [
      "<class 'pandas.core.frame.DataFrame'>\n",
      "RangeIndex: 202607 entries, 0 to 202606\n",
      "Data columns (total 6 columns):\n",
      " #   Column       Non-Null Count   Dtype         \n",
      "---  ------       --------------   -----         \n",
      " 0   id           202607 non-null  object        \n",
      " 1   call_date    202607 non-null  datetime64[ns]\n",
      " 2   duration     202607 non-null  float32       \n",
      " 3   user_id      202607 non-null  uint16        \n",
      " 4   month        202607 non-null  uint8         \n",
      " 5   nulls_count  39613 non-null   float32       \n",
      "dtypes: datetime64[ns](1), float32(2), object(1), uint16(1), uint8(1)\n",
      "memory usage: 5.2+ MB\n"
     ]
    }
   ],
   "source": [
    "calls.info()"
   ]
  },
  {
   "cell_type": "markdown",
   "id": "89c2c2b0",
   "metadata": {},
   "source": [
    "#### Таблица internet"
   ]
  },
  {
   "cell_type": "code",
   "execution_count": 25,
   "id": "dcad8b58",
   "metadata": {},
   "outputs": [
    {
     "name": "stdout",
     "output_type": "stream",
     "text": [
      "Average memory usage for float columns: 0.76 MB\n",
      "Average memory usage for int columns: 0.76 MB\n",
      "Average memory usage for object columns: 4.61 MB\n"
     ]
    }
   ],
   "source": [
    "for dtype in ['float','int','object']:\n",
    "    selected_dtype = internet.select_dtypes(include=[dtype])\n",
    "    mean_usage_b = selected_dtype.memory_usage(deep=True).mean()\n",
    "    mean_usage_mb = mean_usage_b / 1024 ** 2\n",
    "    print(\"Average memory usage for {} columns: {:03.2f} MB\".format(dtype,mean_usage_mb))\n"
   ]
  },
  {
   "cell_type": "code",
   "execution_count": 26,
   "id": "b479d4f5",
   "metadata": {},
   "outputs": [
    {
     "name": "stdout",
     "output_type": "stream",
     "text": [
      "2.28 MB\n",
      "0.43 MB\n"
     ]
    },
    {
     "data": {
      "text/html": [
       "<div>\n",
       "<style scoped>\n",
       "    .dataframe tbody tr th:only-of-type {\n",
       "        vertical-align: middle;\n",
       "    }\n",
       "\n",
       "    .dataframe tbody tr th {\n",
       "        vertical-align: top;\n",
       "    }\n",
       "\n",
       "    .dataframe thead th {\n",
       "        text-align: right;\n",
       "    }\n",
       "</style>\n",
       "<table border=\"1\" class=\"dataframe\">\n",
       "  <thead>\n",
       "    <tr style=\"text-align: right;\">\n",
       "      <th></th>\n",
       "      <th>before</th>\n",
       "      <th>after</th>\n",
       "    </tr>\n",
       "  </thead>\n",
       "  <tbody>\n",
       "    <tr>\n",
       "      <th>uint8</th>\n",
       "      <td>NaN</td>\n",
       "      <td>1.0</td>\n",
       "    </tr>\n",
       "    <tr>\n",
       "      <th>uint16</th>\n",
       "      <td>NaN</td>\n",
       "      <td>1.0</td>\n",
       "    </tr>\n",
       "    <tr>\n",
       "      <th>int64</th>\n",
       "      <td>2.0</td>\n",
       "      <td>NaN</td>\n",
       "    </tr>\n",
       "  </tbody>\n",
       "</table>\n",
       "</div>"
      ],
      "text/plain": [
       "        before  after\n",
       "uint8      NaN    1.0\n",
       "uint16     NaN    1.0\n",
       "int64      2.0    NaN"
      ]
     },
     "execution_count": 26,
     "metadata": {},
     "output_type": "execute_result"
    }
   ],
   "source": [
    "def mem_usage(pandas_obj):\n",
    "    if isinstance(pandas_obj,pd.DataFrame):\n",
    "        usage_b = pandas_obj.memory_usage(deep=True).sum()\n",
    "    else: # исходим из предположения о том, что если это не DataFrame, то это Series\n",
    "        usage_b = pandas_obj.memory_usage(deep=True)\n",
    "    usage_mb = usage_b / 1024 ** 2 # преобразуем байты в мегабайты\n",
    "    return \"{:03.2f} MB\".format(usage_mb)\n",
    "\n",
    "df_int = internet.select_dtypes(include=['int'])\n",
    "converted_int = df_int.apply(pd.to_numeric,downcast='unsigned')\n",
    "\n",
    "print(mem_usage(df_int))\n",
    "print(mem_usage(converted_int))\n",
    "\n",
    "compare_ints = pd.concat([df_int.dtypes,converted_int.dtypes],axis=1)\n",
    "compare_ints.columns = ['before','after']\n",
    "compare_ints.apply(pd.Series.value_counts)"
   ]
  },
  {
   "cell_type": "code",
   "execution_count": 27,
   "id": "cc03222e",
   "metadata": {},
   "outputs": [
    {
     "name": "stdout",
     "output_type": "stream",
     "text": [
      "2.28 MB\n",
      "1.14 MB\n"
     ]
    },
    {
     "data": {
      "text/html": [
       "<div>\n",
       "<style scoped>\n",
       "    .dataframe tbody tr th:only-of-type {\n",
       "        vertical-align: middle;\n",
       "    }\n",
       "\n",
       "    .dataframe tbody tr th {\n",
       "        vertical-align: top;\n",
       "    }\n",
       "\n",
       "    .dataframe thead th {\n",
       "        text-align: right;\n",
       "    }\n",
       "</style>\n",
       "<table border=\"1\" class=\"dataframe\">\n",
       "  <thead>\n",
       "    <tr style=\"text-align: right;\">\n",
       "      <th></th>\n",
       "      <th>before</th>\n",
       "      <th>after</th>\n",
       "    </tr>\n",
       "  </thead>\n",
       "  <tbody>\n",
       "    <tr>\n",
       "      <th>float32</th>\n",
       "      <td>NaN</td>\n",
       "      <td>2.0</td>\n",
       "    </tr>\n",
       "    <tr>\n",
       "      <th>float64</th>\n",
       "      <td>2.0</td>\n",
       "      <td>NaN</td>\n",
       "    </tr>\n",
       "  </tbody>\n",
       "</table>\n",
       "</div>"
      ],
      "text/plain": [
       "         before  after\n",
       "float32     NaN    2.0\n",
       "float64     2.0    NaN"
      ]
     },
     "execution_count": 27,
     "metadata": {},
     "output_type": "execute_result"
    }
   ],
   "source": [
    "df_float = internet.select_dtypes(include=['float'])\n",
    "converted_float = df_float.apply(pd.to_numeric,downcast='float')\n",
    "\n",
    "print(mem_usage(df_float))\n",
    "print(mem_usage(converted_float))\n",
    "\n",
    "compare_floats = pd.concat([df_float.dtypes,converted_float.dtypes],axis=1)\n",
    "compare_floats.columns = ['before','after']\n",
    "compare_floats.apply(pd.Series.value_counts)"
   ]
  },
  {
   "cell_type": "code",
   "execution_count": 28,
   "id": "6481dad1",
   "metadata": {},
   "outputs": [
    {
     "name": "stdout",
     "output_type": "stream",
     "text": [
      "14.91 MB\n",
      "11.92 MB\n"
     ]
    }
   ],
   "source": [
    "optimized_df = internet.copy()\n",
    "\n",
    "optimized_df[converted_int.columns] = converted_int\n",
    "optimized_df[converted_float.columns] = converted_float\n",
    "\n",
    "print(mem_usage(internet))\n",
    "print(mem_usage(optimized_df))"
   ]
  },
  {
   "cell_type": "code",
   "execution_count": 29,
   "id": "79138669",
   "metadata": {},
   "outputs": [
    {
     "data": {
      "text/html": [
       "<div>\n",
       "<style scoped>\n",
       "    .dataframe tbody tr th:only-of-type {\n",
       "        vertical-align: middle;\n",
       "    }\n",
       "\n",
       "    .dataframe tbody tr th {\n",
       "        vertical-align: top;\n",
       "    }\n",
       "\n",
       "    .dataframe thead th {\n",
       "        text-align: right;\n",
       "    }\n",
       "</style>\n",
       "<table border=\"1\" class=\"dataframe\">\n",
       "  <thead>\n",
       "    <tr style=\"text-align: right;\">\n",
       "      <th></th>\n",
       "      <th>count</th>\n",
       "      <th>unique</th>\n",
       "      <th>top</th>\n",
       "      <th>freq</th>\n",
       "    </tr>\n",
       "  </thead>\n",
       "  <tbody>\n",
       "    <tr>\n",
       "      <th>id</th>\n",
       "      <td>149396</td>\n",
       "      <td>149396</td>\n",
       "      <td>1496_554</td>\n",
       "      <td>1</td>\n",
       "    </tr>\n",
       "  </tbody>\n",
       "</table>\n",
       "</div>"
      ],
      "text/plain": [
       "     count  unique       top freq\n",
       "id  149396  149396  1496_554    1"
      ]
     },
     "execution_count": 29,
     "metadata": {},
     "output_type": "execute_result"
    }
   ],
   "source": [
    "df_obj = internet.select_dtypes(include=['object']).copy()\n",
    "df_obj.describe().T"
   ]
  },
  {
   "cell_type": "code",
   "execution_count": 30,
   "id": "0330f46d",
   "metadata": {},
   "outputs": [
    {
     "data": {
      "text/plain": [
       "'11.92 MB'"
      ]
     },
     "execution_count": 30,
     "metadata": {},
     "output_type": "execute_result"
    }
   ],
   "source": [
    "converted_obj = pd.DataFrame()\n",
    "optimized_df[converted_obj.columns] = converted_obj\n",
    "\n",
    "mem_usage(optimized_df)"
   ]
  },
  {
   "cell_type": "code",
   "execution_count": 31,
   "id": "470d67b6",
   "metadata": {},
   "outputs": [],
   "source": [
    "internet = optimized_df"
   ]
  },
  {
   "cell_type": "code",
   "execution_count": 32,
   "id": "f6703b1f",
   "metadata": {},
   "outputs": [
    {
     "name": "stdout",
     "output_type": "stream",
     "text": [
      "<class 'pandas.core.frame.DataFrame'>\n",
      "RangeIndex: 149396 entries, 0 to 149395\n",
      "Data columns (total 6 columns):\n",
      " #   Column        Non-Null Count   Dtype         \n",
      "---  ------        --------------   -----         \n",
      " 0   id            149396 non-null  object        \n",
      " 1   mb_used       149396 non-null  float32       \n",
      " 2   session_date  149396 non-null  datetime64[ns]\n",
      " 3   user_id       149396 non-null  uint16        \n",
      " 4   month         149396 non-null  uint8         \n",
      " 5   nulls_count   19598 non-null   float32       \n",
      "dtypes: datetime64[ns](1), float32(2), object(1), uint16(1), uint8(1)\n",
      "memory usage: 3.8+ MB\n"
     ]
    }
   ],
   "source": [
    "internet.info()"
   ]
  },
  {
   "cell_type": "markdown",
   "id": "40757ee6",
   "metadata": {},
   "source": [
    "#### Таблица messages"
   ]
  },
  {
   "cell_type": "code",
   "execution_count": 33,
   "id": "2370ad13",
   "metadata": {},
   "outputs": [
    {
     "name": "stdout",
     "output_type": "stream",
     "text": [
      "Average memory usage for float columns: 0.00 MB\n",
      "Average memory usage for int columns: 0.63 MB\n",
      "Average memory usage for object columns: 3.80 MB\n"
     ]
    }
   ],
   "source": [
    "for dtype in ['float','int','object']:\n",
    "    selected_dtype = messages.select_dtypes(include=[dtype])\n",
    "    mean_usage_b = selected_dtype.memory_usage(deep=True).mean()\n",
    "    mean_usage_mb = mean_usage_b / 1024 ** 2\n",
    "    print(\"Average memory usage for {} columns: {:03.2f} MB\".format(dtype,mean_usage_mb))"
   ]
  },
  {
   "cell_type": "code",
   "execution_count": 34,
   "id": "c3b034e0",
   "metadata": {},
   "outputs": [
    {
     "name": "stdout",
     "output_type": "stream",
     "text": [
      "1.88 MB\n",
      "0.35 MB\n"
     ]
    },
    {
     "data": {
      "text/html": [
       "<div>\n",
       "<style scoped>\n",
       "    .dataframe tbody tr th:only-of-type {\n",
       "        vertical-align: middle;\n",
       "    }\n",
       "\n",
       "    .dataframe tbody tr th {\n",
       "        vertical-align: top;\n",
       "    }\n",
       "\n",
       "    .dataframe thead th {\n",
       "        text-align: right;\n",
       "    }\n",
       "</style>\n",
       "<table border=\"1\" class=\"dataframe\">\n",
       "  <thead>\n",
       "    <tr style=\"text-align: right;\">\n",
       "      <th></th>\n",
       "      <th>before</th>\n",
       "      <th>after</th>\n",
       "    </tr>\n",
       "  </thead>\n",
       "  <tbody>\n",
       "    <tr>\n",
       "      <th>uint8</th>\n",
       "      <td>NaN</td>\n",
       "      <td>1.0</td>\n",
       "    </tr>\n",
       "    <tr>\n",
       "      <th>uint16</th>\n",
       "      <td>NaN</td>\n",
       "      <td>1.0</td>\n",
       "    </tr>\n",
       "    <tr>\n",
       "      <th>int64</th>\n",
       "      <td>2.0</td>\n",
       "      <td>NaN</td>\n",
       "    </tr>\n",
       "  </tbody>\n",
       "</table>\n",
       "</div>"
      ],
      "text/plain": [
       "        before  after\n",
       "uint8      NaN    1.0\n",
       "uint16     NaN    1.0\n",
       "int64      2.0    NaN"
      ]
     },
     "execution_count": 34,
     "metadata": {},
     "output_type": "execute_result"
    }
   ],
   "source": [
    "def mem_usage(pandas_obj):\n",
    "    if isinstance(pandas_obj,pd.DataFrame):\n",
    "        usage_b = pandas_obj.memory_usage(deep=True).sum()\n",
    "    else: # исходим из предположения о том, что если это не DataFrame, то это Series\n",
    "        usage_b = pandas_obj.memory_usage(deep=True)\n",
    "    usage_mb = usage_b / 1024 ** 2 # преобразуем байты в мегабайты\n",
    "    return \"{:03.2f} MB\".format(usage_mb)\n",
    "\n",
    "df_int = messages.select_dtypes(include=['int'])\n",
    "converted_int = df_int.apply(pd.to_numeric,downcast='unsigned')\n",
    "\n",
    "print(mem_usage(df_int))\n",
    "print(mem_usage(converted_int))\n",
    "\n",
    "compare_ints = pd.concat([df_int.dtypes,converted_int.dtypes],axis=1)\n",
    "compare_ints.columns = ['before','after']\n",
    "compare_ints.apply(pd.Series.value_counts)"
   ]
  },
  {
   "cell_type": "code",
   "execution_count": 35,
   "id": "a19119de",
   "metadata": {},
   "outputs": [
    {
     "name": "stdout",
     "output_type": "stream",
     "text": [
      "10.41 MB\n",
      "8.88 MB\n"
     ]
    }
   ],
   "source": [
    "optimized_df = messages.copy()\n",
    "\n",
    "optimized_df[converted_int.columns] = converted_int\n",
    "\n",
    "\n",
    "print(mem_usage(messages))\n",
    "print(mem_usage(optimized_df))"
   ]
  },
  {
   "cell_type": "code",
   "execution_count": 36,
   "id": "bf03859d",
   "metadata": {},
   "outputs": [
    {
     "data": {
      "text/html": [
       "<div>\n",
       "<style scoped>\n",
       "    .dataframe tbody tr th:only-of-type {\n",
       "        vertical-align: middle;\n",
       "    }\n",
       "\n",
       "    .dataframe tbody tr th {\n",
       "        vertical-align: top;\n",
       "    }\n",
       "\n",
       "    .dataframe thead th {\n",
       "        text-align: right;\n",
       "    }\n",
       "</style>\n",
       "<table border=\"1\" class=\"dataframe\">\n",
       "  <thead>\n",
       "    <tr style=\"text-align: right;\">\n",
       "      <th></th>\n",
       "      <th>count</th>\n",
       "      <th>unique</th>\n",
       "      <th>top</th>\n",
       "      <th>freq</th>\n",
       "    </tr>\n",
       "  </thead>\n",
       "  <tbody>\n",
       "    <tr>\n",
       "      <th>id</th>\n",
       "      <td>123036</td>\n",
       "      <td>123036</td>\n",
       "      <td>1241_102</td>\n",
       "      <td>1</td>\n",
       "    </tr>\n",
       "  </tbody>\n",
       "</table>\n",
       "</div>"
      ],
      "text/plain": [
       "     count  unique       top freq\n",
       "id  123036  123036  1241_102    1"
      ]
     },
     "execution_count": 36,
     "metadata": {},
     "output_type": "execute_result"
    }
   ],
   "source": [
    "df_obj = messages.select_dtypes(include=['object']).copy()\n",
    "df_obj.describe().T"
   ]
  },
  {
   "cell_type": "code",
   "execution_count": 37,
   "id": "8289bc7b",
   "metadata": {},
   "outputs": [
    {
     "data": {
      "text/plain": [
       "'8.88 MB'"
      ]
     },
     "execution_count": 37,
     "metadata": {},
     "output_type": "execute_result"
    }
   ],
   "source": [
    "converted_obj = pd.DataFrame()\n",
    "\n",
    "optimized_df[converted_obj.columns] = converted_obj\n",
    "\n",
    "mem_usage(optimized_df)"
   ]
  },
  {
   "cell_type": "code",
   "execution_count": 38,
   "id": "9b0e906c",
   "metadata": {},
   "outputs": [],
   "source": [
    "messages = optimized_df"
   ]
  },
  {
   "cell_type": "code",
   "execution_count": 39,
   "id": "52e942ea",
   "metadata": {},
   "outputs": [
    {
     "name": "stdout",
     "output_type": "stream",
     "text": [
      "<class 'pandas.core.frame.DataFrame'>\n",
      "RangeIndex: 123036 entries, 0 to 123035\n",
      "Data columns (total 4 columns):\n",
      " #   Column        Non-Null Count   Dtype         \n",
      "---  ------        --------------   -----         \n",
      " 0   id            123036 non-null  object        \n",
      " 1   message_date  123036 non-null  datetime64[ns]\n",
      " 2   user_id       123036 non-null  uint16        \n",
      " 3   month         123036 non-null  uint8         \n",
      "dtypes: datetime64[ns](1), object(1), uint16(1), uint8(1)\n",
      "memory usage: 2.2+ MB\n"
     ]
    }
   ],
   "source": [
    "messages.info()"
   ]
  },
  {
   "cell_type": "markdown",
   "id": "847efc71",
   "metadata": {},
   "source": [
    "#### Таблица tariffs"
   ]
  },
  {
   "cell_type": "code",
   "execution_count": 40,
   "id": "38369f18",
   "metadata": {},
   "outputs": [
    {
     "name": "stdout",
     "output_type": "stream",
     "text": [
      "Average memory usage for float columns: 16.00 B\n",
      "Average memory usage for int columns: 3.75 B\n",
      "Average memory usage for object columns: 15.75 B\n"
     ]
    }
   ],
   "source": [
    "for dtype in ['float','int','object']:\n",
    "    selected_dtype = tariffs.select_dtypes(include=[dtype])\n",
    "    mean_usage_b = selected_dtype.memory_usage(deep=True).mean()\n",
    "    mean_usage_mb = mean_usage_b / 8\n",
    "    print(\"Average memory usage for {} columns: {:03.2f} B\".format(dtype,mean_usage_mb))\n"
   ]
  },
  {
   "cell_type": "code",
   "execution_count": 41,
   "id": "dcfd022b",
   "metadata": {},
   "outputs": [
    {
     "name": "stdout",
     "output_type": "stream",
     "text": [
      "30.00 B\n",
      "18.75 B\n"
     ]
    },
    {
     "data": {
      "text/html": [
       "<div>\n",
       "<style scoped>\n",
       "    .dataframe tbody tr th:only-of-type {\n",
       "        vertical-align: middle;\n",
       "    }\n",
       "\n",
       "    .dataframe tbody tr th {\n",
       "        vertical-align: top;\n",
       "    }\n",
       "\n",
       "    .dataframe thead th {\n",
       "        text-align: right;\n",
       "    }\n",
       "</style>\n",
       "<table border=\"1\" class=\"dataframe\">\n",
       "  <thead>\n",
       "    <tr style=\"text-align: right;\">\n",
       "      <th></th>\n",
       "      <th>before</th>\n",
       "      <th>after</th>\n",
       "    </tr>\n",
       "  </thead>\n",
       "  <tbody>\n",
       "    <tr>\n",
       "      <th>uint8</th>\n",
       "      <td>NaN</td>\n",
       "      <td>3.0</td>\n",
       "    </tr>\n",
       "    <tr>\n",
       "      <th>uint16</th>\n",
       "      <td>NaN</td>\n",
       "      <td>4.0</td>\n",
       "    </tr>\n",
       "    <tr>\n",
       "      <th>int64</th>\n",
       "      <td>7.0</td>\n",
       "      <td>NaN</td>\n",
       "    </tr>\n",
       "  </tbody>\n",
       "</table>\n",
       "</div>"
      ],
      "text/plain": [
       "        before  after\n",
       "uint8      NaN    3.0\n",
       "uint16     NaN    4.0\n",
       "int64      7.0    NaN"
      ]
     },
     "execution_count": 41,
     "metadata": {},
     "output_type": "execute_result"
    }
   ],
   "source": [
    "def mem_usage(pandas_obj):\n",
    "    if isinstance(pandas_obj,pd.DataFrame):\n",
    "        usage_b = pandas_obj.memory_usage(deep=True).sum()\n",
    "    else: # исходим из предположения о том, что если это не DataFrame, то это Series\n",
    "        usage_b = pandas_obj.memory_usage(deep=True)\n",
    "    usage_mb = usage_b / 8 # преобразуем байты в мегабайты\n",
    "    return \"{:03.2f} B\".format(usage_mb)\n",
    "\n",
    "df_int = tariffs.select_dtypes(include=['int'])\n",
    "converted_int = df_int.apply(pd.to_numeric,downcast='unsigned')\n",
    "\n",
    "print(mem_usage(df_int))\n",
    "print(mem_usage(converted_int))\n",
    "\n",
    "compare_ints = pd.concat([df_int.dtypes,converted_int.dtypes],axis=1)\n",
    "compare_ints.columns = ['before','after']\n",
    "compare_ints.apply(pd.Series.value_counts)"
   ]
  },
  {
   "cell_type": "code",
   "execution_count": 42,
   "id": "0f8d6385",
   "metadata": {},
   "outputs": [
    {
     "name": "stdout",
     "output_type": "stream",
     "text": [
      "45.50 B\n",
      "34.25 B\n"
     ]
    }
   ],
   "source": [
    "optimized_df = tariffs.copy()\n",
    "\n",
    "optimized_df[converted_int.columns] = converted_int\n",
    "\n",
    "print(mem_usage(tariffs))\n",
    "print(mem_usage(optimized_df))"
   ]
  },
  {
   "cell_type": "code",
   "execution_count": 43,
   "id": "a7d0120c",
   "metadata": {},
   "outputs": [
    {
     "data": {
      "text/html": [
       "<div>\n",
       "<style scoped>\n",
       "    .dataframe tbody tr th:only-of-type {\n",
       "        vertical-align: middle;\n",
       "    }\n",
       "\n",
       "    .dataframe tbody tr th {\n",
       "        vertical-align: top;\n",
       "    }\n",
       "\n",
       "    .dataframe thead th {\n",
       "        text-align: right;\n",
       "    }\n",
       "</style>\n",
       "<table border=\"1\" class=\"dataframe\">\n",
       "  <thead>\n",
       "    <tr style=\"text-align: right;\">\n",
       "      <th></th>\n",
       "      <th>count</th>\n",
       "      <th>unique</th>\n",
       "      <th>top</th>\n",
       "      <th>freq</th>\n",
       "    </tr>\n",
       "  </thead>\n",
       "  <tbody>\n",
       "    <tr>\n",
       "      <th>tariff_name</th>\n",
       "      <td>2</td>\n",
       "      <td>2</td>\n",
       "      <td>ultra</td>\n",
       "      <td>1</td>\n",
       "    </tr>\n",
       "  </tbody>\n",
       "</table>\n",
       "</div>"
      ],
      "text/plain": [
       "            count unique    top freq\n",
       "tariff_name     2      2  ultra    1"
      ]
     },
     "execution_count": 43,
     "metadata": {},
     "output_type": "execute_result"
    }
   ],
   "source": [
    "df_obj = tariffs.select_dtypes(include=['object']).copy()\n",
    "df_obj.describe().T"
   ]
  },
  {
   "cell_type": "code",
   "execution_count": 44,
   "id": "e0edca1b",
   "metadata": {},
   "outputs": [
    {
     "data": {
      "text/plain": [
       "'34.25 B'"
      ]
     },
     "execution_count": 44,
     "metadata": {},
     "output_type": "execute_result"
    }
   ],
   "source": [
    "converted_obj = pd.DataFrame()\n",
    "\n",
    "optimized_df[converted_obj.columns] = converted_obj\n",
    "\n",
    "mem_usage(optimized_df)"
   ]
  },
  {
   "cell_type": "code",
   "execution_count": 45,
   "id": "fe27db7a",
   "metadata": {},
   "outputs": [],
   "source": [
    "tariffs = optimized_df"
   ]
  },
  {
   "cell_type": "code",
   "execution_count": 46,
   "id": "eace8d3c",
   "metadata": {},
   "outputs": [
    {
     "name": "stdout",
     "output_type": "stream",
     "text": [
      "<class 'pandas.core.frame.DataFrame'>\n",
      "RangeIndex: 2 entries, 0 to 1\n",
      "Data columns (total 8 columns):\n",
      " #   Column                 Non-Null Count  Dtype \n",
      "---  ------                 --------------  ----- \n",
      " 0   messages_included      2 non-null      uint16\n",
      " 1   mb_per_month_included  2 non-null      uint16\n",
      " 2   minutes_included       2 non-null      uint16\n",
      " 3   rub_monthly_fee        2 non-null      uint16\n",
      " 4   rub_per_gb             2 non-null      uint8 \n",
      " 5   rub_per_message        2 non-null      uint8 \n",
      " 6   rub_per_minute         2 non-null      uint8 \n",
      " 7   tariff_name            2 non-null      object\n",
      "dtypes: object(1), uint16(4), uint8(3)\n",
      "memory usage: 166.0+ bytes\n"
     ]
    }
   ],
   "source": [
    "tariffs.info()"
   ]
  },
  {
   "cell_type": "markdown",
   "id": "0ff5bcef",
   "metadata": {},
   "source": [
    "#### Таблица users"
   ]
  },
  {
   "cell_type": "markdown",
   "id": "8bf9c5bb",
   "metadata": {},
   "source": [
    "Так как данные разных типов хранятся раздельно, мы исследуем использование памяти разными типами данных. Начнём со среднего показателя использования памяти по разным типам данных."
   ]
  },
  {
   "cell_type": "code",
   "execution_count": 47,
   "id": "868cbd7b",
   "metadata": {},
   "outputs": [
    {
     "name": "stdout",
     "output_type": "stream",
     "text": [
      "Average memory usage for float columns: 16.00 B\n",
      "Average memory usage for int columns: 338.67 B\n",
      "Average memory usage for object columns: 4997.90 B\n"
     ]
    }
   ],
   "source": [
    "for dtype in ['float','int','object']:\n",
    "    selected_dtype = users.select_dtypes(include=[dtype])\n",
    "    mean_usage_b = selected_dtype.memory_usage(deep=True).mean()\n",
    "    mean_usage_mb = mean_usage_b / 8\n",
    "    print(\"Average memory usage for {} columns: {:03.2f} B\".format(dtype,mean_usage_mb))"
   ]
  },
  {
   "cell_type": "markdown",
   "id": "2e4d1fcc",
   "metadata": {},
   "source": [
    "Эти сведения дают нам понять то, что большая часть памяти уходит на столбцы, хранящих объектные значения."
   ]
  },
  {
   "cell_type": "markdown",
   "id": "415949bc",
   "metadata": {},
   "source": [
    "Мы часто выясняем сколько памяти используется,поэтому создадим функцию, которая поможет нам сэкономить немного времени.\n"
   ]
  },
  {
   "cell_type": "code",
   "execution_count": 48,
   "id": "cc38a84b",
   "metadata": {},
   "outputs": [
    {
     "name": "stdout",
     "output_type": "stream",
     "text": [
      "1016.00 B\n",
      "203.50 B\n"
     ]
    },
    {
     "data": {
      "text/html": [
       "<div>\n",
       "<style scoped>\n",
       "    .dataframe tbody tr th:only-of-type {\n",
       "        vertical-align: middle;\n",
       "    }\n",
       "\n",
       "    .dataframe tbody tr th {\n",
       "        vertical-align: top;\n",
       "    }\n",
       "\n",
       "    .dataframe thead th {\n",
       "        text-align: right;\n",
       "    }\n",
       "</style>\n",
       "<table border=\"1\" class=\"dataframe\">\n",
       "  <thead>\n",
       "    <tr style=\"text-align: right;\">\n",
       "      <th></th>\n",
       "      <th>before</th>\n",
       "      <th>after</th>\n",
       "    </tr>\n",
       "  </thead>\n",
       "  <tbody>\n",
       "    <tr>\n",
       "      <th>uint8</th>\n",
       "      <td>NaN</td>\n",
       "      <td>1.0</td>\n",
       "    </tr>\n",
       "    <tr>\n",
       "      <th>uint16</th>\n",
       "      <td>NaN</td>\n",
       "      <td>1.0</td>\n",
       "    </tr>\n",
       "    <tr>\n",
       "      <th>int64</th>\n",
       "      <td>2.0</td>\n",
       "      <td>NaN</td>\n",
       "    </tr>\n",
       "  </tbody>\n",
       "</table>\n",
       "</div>"
      ],
      "text/plain": [
       "        before  after\n",
       "uint8      NaN    1.0\n",
       "uint16     NaN    1.0\n",
       "int64      2.0    NaN"
      ]
     },
     "execution_count": 48,
     "metadata": {},
     "output_type": "execute_result"
    }
   ],
   "source": [
    "def mem_usage(pandas_obj):\n",
    "    if isinstance(pandas_obj,pd.DataFrame):\n",
    "        usage_b = pandas_obj.memory_usage(deep=True).sum()\n",
    "    else: # исходим из предположения о том, что если это не DataFrame, то это Series\n",
    "        usage_b = pandas_obj.memory_usage(deep=True)\n",
    "    usage_mb = usage_b / 8 # преобразуем байты в мегабайты\n",
    "    return \"{:03.2f} B\".format(usage_mb)\n",
    "\n",
    "df_int = users.select_dtypes(include=['int'])\n",
    "converted_int = df_int.apply(pd.to_numeric,downcast='unsigned')\n",
    "\n",
    "print(mem_usage(df_int))\n",
    "print(mem_usage(converted_int))\n",
    "\n",
    "compare_ints = pd.concat([df_int.dtypes,converted_int.dtypes],axis=1)\n",
    "compare_ints.columns = ['before','after']\n",
    "compare_ints.apply(pd.Series.value_counts)"
   ]
  },
  {
   "cell_type": "markdown",
   "id": "4dc8048a",
   "metadata": {},
   "source": [
    "В результате можно видеть падение использования памяти с 1016 до 204 байт, то есть — мы снизили потребление памяти. Общее воздействие этой оптимизации на исходный объект DataFrame, однако, не является особенно сильным, так как в нём очень мало целочисленных столбцов."
   ]
  },
  {
   "cell_type": "code",
   "execution_count": 49,
   "id": "fd57eff9",
   "metadata": {},
   "outputs": [
    {
     "name": "stdout",
     "output_type": "stream",
     "text": [
      "16.00 B\n",
      "16.00 B\n"
     ]
    },
    {
     "data": {
      "text/html": [
       "<div>\n",
       "<style scoped>\n",
       "    .dataframe tbody tr th:only-of-type {\n",
       "        vertical-align: middle;\n",
       "    }\n",
       "\n",
       "    .dataframe tbody tr th {\n",
       "        vertical-align: top;\n",
       "    }\n",
       "\n",
       "    .dataframe thead th {\n",
       "        text-align: right;\n",
       "    }\n",
       "</style>\n",
       "<table border=\"1\" class=\"dataframe\">\n",
       "  <thead>\n",
       "    <tr style=\"text-align: right;\">\n",
       "      <th></th>\n",
       "      <th>before</th>\n",
       "      <th>after</th>\n",
       "    </tr>\n",
       "  </thead>\n",
       "  <tbody>\n",
       "  </tbody>\n",
       "</table>\n",
       "</div>"
      ],
      "text/plain": [
       "Empty DataFrame\n",
       "Columns: [before, after]\n",
       "Index: []"
      ]
     },
     "execution_count": 49,
     "metadata": {},
     "output_type": "execute_result"
    }
   ],
   "source": [
    "df_float = users.select_dtypes(include=['float'])\n",
    "converted_float = df_float.apply(pd.to_numeric,downcast='float')\n",
    "\n",
    "print(mem_usage(df_float))\n",
    "print(mem_usage(converted_float))\n",
    "\n",
    "compare_floats = pd.concat([df_float.dtypes,converted_float.dtypes],axis=1)\n",
    "compare_floats.columns = ['before','after']\n",
    "compare_floats.apply(pd.Series.value_counts)"
   ]
  },
  {
   "cell_type": "markdown",
   "id": "778a02a1",
   "metadata": {},
   "source": [
    "Создадим копию исходного объекта DataFrame, используем эти оптимизированные числовые столбцы вместо тех, что присутствовали в нём изначально, и посмотрим на общий показатель использования памяти после оптимизации."
   ]
  },
  {
   "cell_type": "code",
   "execution_count": 50,
   "id": "f6e2fc8e",
   "metadata": {},
   "outputs": [
    {
     "name": "stdout",
     "output_type": "stream",
     "text": [
      "26989.50 B\n",
      "26177.00 B\n"
     ]
    }
   ],
   "source": [
    "optimized_df = users.copy()\n",
    "\n",
    "optimized_df[converted_int.columns] = converted_int\n",
    "optimized_df[converted_float.columns] = converted_float\n",
    "\n",
    "print(mem_usage(users))\n",
    "print(mem_usage(optimized_df))"
   ]
  },
  {
   "cell_type": "markdown",
   "id": "96c75b16",
   "metadata": {},
   "source": [
    "Хотя мы значительно уменьшили потребление памяти столбцами, хранящими числовые данные, в целом, по всему объекту DataFrame, потребление памяти снизилось лишь на 7%. Источником куда более серьёзного улучшения ситуации может стать оптимизация хранения объектных типов."
   ]
  },
  {
   "cell_type": "markdown",
   "id": "44bdf7b3",
   "metadata": {},
   "source": [
    "Для того чтобы понять, где именно мы сможем воспользоваться категориальными данными для снижения потребления памяти, выясним количество уникальных значений в столбцах, хранящих значения объектных типов:"
   ]
  },
  {
   "cell_type": "code",
   "execution_count": 51,
   "id": "8a7f9eff",
   "metadata": {},
   "outputs": [
    {
     "data": {
      "text/html": [
       "<div>\n",
       "<style scoped>\n",
       "    .dataframe tbody tr th:only-of-type {\n",
       "        vertical-align: middle;\n",
       "    }\n",
       "\n",
       "    .dataframe tbody tr th {\n",
       "        vertical-align: top;\n",
       "    }\n",
       "\n",
       "    .dataframe thead th {\n",
       "        text-align: right;\n",
       "    }\n",
       "</style>\n",
       "<table border=\"1\" class=\"dataframe\">\n",
       "  <thead>\n",
       "    <tr style=\"text-align: right;\">\n",
       "      <th></th>\n",
       "      <th>count</th>\n",
       "      <th>unique</th>\n",
       "      <th>top</th>\n",
       "      <th>freq</th>\n",
       "    </tr>\n",
       "  </thead>\n",
       "  <tbody>\n",
       "    <tr>\n",
       "      <th>city</th>\n",
       "      <td>500</td>\n",
       "      <td>76</td>\n",
       "      <td>Москва</td>\n",
       "      <td>99</td>\n",
       "    </tr>\n",
       "    <tr>\n",
       "      <th>first_name</th>\n",
       "      <td>500</td>\n",
       "      <td>246</td>\n",
       "      <td>Радим</td>\n",
       "      <td>6</td>\n",
       "    </tr>\n",
       "    <tr>\n",
       "      <th>last_name</th>\n",
       "      <td>500</td>\n",
       "      <td>419</td>\n",
       "      <td>Андреенко</td>\n",
       "      <td>5</td>\n",
       "    </tr>\n",
       "    <tr>\n",
       "      <th>tariff</th>\n",
       "      <td>500</td>\n",
       "      <td>2</td>\n",
       "      <td>smart</td>\n",
       "      <td>351</td>\n",
       "    </tr>\n",
       "  </tbody>\n",
       "</table>\n",
       "</div>"
      ],
      "text/plain": [
       "           count unique        top freq\n",
       "city         500     76     Москва   99\n",
       "first_name   500    246      Радим    6\n",
       "last_name    500    419  Андреенко    5\n",
       "tariff       500      2      smart  351"
      ]
     },
     "execution_count": 51,
     "metadata": {},
     "output_type": "execute_result"
    }
   ],
   "source": [
    "df_obj = users.select_dtypes(include=['object']).copy()\n",
    "df_obj.describe().T"
   ]
  },
  {
   "cell_type": "markdown",
   "id": "6a1c6acc",
   "metadata": {},
   "source": [
    "Заметим, что в столбцах city и  tariff 500 значений из них меньше 50% уникальные, поэтому переведем их в категорию"
   ]
  },
  {
   "cell_type": "markdown",
   "id": "3d756fc4",
   "metadata": {},
   "source": [
    "Создадим цикл, который перебирает все столбцы, хранящие данные типа object, выясняет, не превышает ли число уникальных значений в столбцах 50%, и если это так, преобразует их в тип category."
   ]
  },
  {
   "cell_type": "code",
   "execution_count": 52,
   "id": "b4b3a63b",
   "metadata": {},
   "outputs": [],
   "source": [
    "converted_obj = pd.DataFrame()\n",
    "\n",
    "for col in df_obj.columns:\n",
    "    num_unique_values = len(df_obj[col].unique())\n",
    "    num_total_values = len(df_obj[col])\n",
    "    if num_unique_values / num_total_values < 0.5:\n",
    "        converted_obj.loc[:,col] = df_obj[col].astype('category')\n",
    "    else:\n",
    "        converted_obj.loc[:,col] = df_obj[col]"
   ]
  },
  {
   "cell_type": "markdown",
   "id": "cd265a93",
   "metadata": {},
   "source": [
    "Теперь сравним то, что получилось после оптимизации, с тем, что было раньше:"
   ]
  },
  {
   "cell_type": "code",
   "execution_count": 53,
   "id": "e50abbef",
   "metadata": {},
   "outputs": [
    {
     "name": "stdout",
     "output_type": "stream",
     "text": [
      "24989.50 B\n",
      "13121.38 B\n"
     ]
    },
    {
     "data": {
      "text/html": [
       "<div>\n",
       "<style scoped>\n",
       "    .dataframe tbody tr th:only-of-type {\n",
       "        vertical-align: middle;\n",
       "    }\n",
       "\n",
       "    .dataframe tbody tr th {\n",
       "        vertical-align: top;\n",
       "    }\n",
       "\n",
       "    .dataframe thead th {\n",
       "        text-align: right;\n",
       "    }\n",
       "</style>\n",
       "<table border=\"1\" class=\"dataframe\">\n",
       "  <thead>\n",
       "    <tr style=\"text-align: right;\">\n",
       "      <th></th>\n",
       "      <th>before</th>\n",
       "      <th>after</th>\n",
       "    </tr>\n",
       "  </thead>\n",
       "  <tbody>\n",
       "    <tr>\n",
       "      <th>object</th>\n",
       "      <td>4.0</td>\n",
       "      <td>1</td>\n",
       "    </tr>\n",
       "    <tr>\n",
       "      <th>category</th>\n",
       "      <td>NaN</td>\n",
       "      <td>1</td>\n",
       "    </tr>\n",
       "    <tr>\n",
       "      <th>category</th>\n",
       "      <td>NaN</td>\n",
       "      <td>1</td>\n",
       "    </tr>\n",
       "    <tr>\n",
       "      <th>category</th>\n",
       "      <td>NaN</td>\n",
       "      <td>1</td>\n",
       "    </tr>\n",
       "  </tbody>\n",
       "</table>\n",
       "</div>"
      ],
      "text/plain": [
       "          before  after\n",
       "object       4.0      1\n",
       "category     NaN      1\n",
       "category     NaN      1\n",
       "category     NaN      1"
      ]
     },
     "execution_count": 53,
     "metadata": {},
     "output_type": "execute_result"
    }
   ],
   "source": [
    "print(mem_usage(df_obj))\n",
    "print(mem_usage(converted_obj))\n",
    "\n",
    "compare_obj = pd.concat([df_obj.dtypes,converted_obj.dtypes],axis=1)\n",
    "compare_obj.columns = ['before','after']\n",
    "compare_obj.apply(pd.Series.value_counts)"
   ]
  },
  {
   "cell_type": "code",
   "execution_count": 54,
   "id": "ba9416b7",
   "metadata": {},
   "outputs": [
    {
     "data": {
      "text/plain": [
       "'14308.88 B'"
      ]
     },
     "execution_count": 54,
     "metadata": {},
     "output_type": "execute_result"
    }
   ],
   "source": [
    "optimized_df[converted_obj.columns] = converted_obj\n",
    "\n",
    "mem_usage(optimized_df)"
   ]
  },
  {
   "cell_type": "code",
   "execution_count": 55,
   "id": "08f1ccae",
   "metadata": {},
   "outputs": [],
   "source": [
    "users = optimized_df"
   ]
  },
  {
   "cell_type": "code",
   "execution_count": 56,
   "id": "d389537e",
   "metadata": {},
   "outputs": [
    {
     "name": "stdout",
     "output_type": "stream",
     "text": [
      "<class 'pandas.core.frame.DataFrame'>\n",
      "RangeIndex: 500 entries, 0 to 499\n",
      "Data columns (total 8 columns):\n",
      " #   Column      Non-Null Count  Dtype         \n",
      "---  ------      --------------  -----         \n",
      " 0   user_id     500 non-null    uint16        \n",
      " 1   age         500 non-null    uint8         \n",
      " 2   churn_date  500 non-null    datetime64[ns]\n",
      " 3   city        500 non-null    category      \n",
      " 4   first_name  500 non-null    category      \n",
      " 5   last_name   500 non-null    object        \n",
      " 6   reg_date    500 non-null    datetime64[ns]\n",
      " 7   tariff      500 non-null    category      \n",
      "dtypes: category(3), datetime64[ns](2), object(1), uint16(1), uint8(1)\n",
      "memory usage: 28.1+ KB\n"
     ]
    }
   ],
   "source": [
    "users.info()"
   ]
  },
  {
   "cell_type": "markdown",
   "id": "9dcdd26a",
   "metadata": {},
   "source": [
    "### Вывод\n",
    "None пропусков в таблицах нет, типы данных скорректированы(столбцы дат и целочисленных значений). В таблице users столбец churn_date заполнили среднем значнием по продолжительности жизни  для того, чтобы можно было проставить корректный тип данных. Округление в признаках длительность и объём для звонков и интернет трафика произведено в большую сторону, согласно условиям данного оператора округление происходит при считывании использования пакета в большую сторну при минимальной единице учета секунда - время, Мб - интернет."
   ]
  },
  {
   "cell_type": "markdown",
   "id": "463c377e",
   "metadata": {},
   "source": [
    "# Статистика"
   ]
  },
  {
   "cell_type": "markdown",
   "id": "bef05074",
   "metadata": {},
   "source": [
    "Найдем для каждого пользователя:\n",
    "* количество сделанных звонков и израсходованных минут \n",
    "* разговора по месяцам;\n",
    "* количество отправленных сообщений по месяцам;\n",
    "* объем израсходованного интернет-трафика по месяцам."
   ]
  },
  {
   "cell_type": "markdown",
   "id": "7e3de0a9",
   "metadata": {},
   "source": [
    "### Сводная таблица по звонкам"
   ]
  },
  {
   "cell_type": "code",
   "execution_count": 57,
   "id": "aba4fd9f",
   "metadata": {},
   "outputs": [],
   "source": [
    "calls_temp = calls.merge(users, on='user_id', how='inner')\n",
    "calls_grouped = calls_temp.pivot_table(index=['user_id', 'month'], values='duration', aggfunc=['count', 'sum'])\n",
    "calls_grouped.columns = ['calls', 'duration']"
   ]
  },
  {
   "cell_type": "code",
   "execution_count": 58,
   "id": "7af4e6a9",
   "metadata": {},
   "outputs": [
    {
     "data": {
      "text/html": [
       "<div>\n",
       "<style scoped>\n",
       "    .dataframe tbody tr th:only-of-type {\n",
       "        vertical-align: middle;\n",
       "    }\n",
       "\n",
       "    .dataframe tbody tr th {\n",
       "        vertical-align: top;\n",
       "    }\n",
       "\n",
       "    .dataframe thead th {\n",
       "        text-align: right;\n",
       "    }\n",
       "</style>\n",
       "<table border=\"1\" class=\"dataframe\">\n",
       "  <thead>\n",
       "    <tr style=\"text-align: right;\">\n",
       "      <th></th>\n",
       "      <th></th>\n",
       "      <th>calls</th>\n",
       "      <th>duration</th>\n",
       "    </tr>\n",
       "    <tr>\n",
       "      <th>user_id</th>\n",
       "      <th>month</th>\n",
       "      <th></th>\n",
       "      <th></th>\n",
       "    </tr>\n",
       "  </thead>\n",
       "  <tbody>\n",
       "    <tr>\n",
       "      <th rowspan=\"5\" valign=\"top\">1000</th>\n",
       "      <th>5</th>\n",
       "      <td>22</td>\n",
       "      <td>164.0</td>\n",
       "    </tr>\n",
       "    <tr>\n",
       "      <th>6</th>\n",
       "      <td>43</td>\n",
       "      <td>187.0</td>\n",
       "    </tr>\n",
       "    <tr>\n",
       "      <th>7</th>\n",
       "      <td>47</td>\n",
       "      <td>346.0</td>\n",
       "    </tr>\n",
       "    <tr>\n",
       "      <th>8</th>\n",
       "      <td>52</td>\n",
       "      <td>418.0</td>\n",
       "    </tr>\n",
       "    <tr>\n",
       "      <th>9</th>\n",
       "      <td>58</td>\n",
       "      <td>478.0</td>\n",
       "    </tr>\n",
       "    <tr>\n",
       "      <th>...</th>\n",
       "      <th>...</th>\n",
       "      <td>...</td>\n",
       "      <td>...</td>\n",
       "    </tr>\n",
       "    <tr>\n",
       "      <th>1498</th>\n",
       "      <th>10</th>\n",
       "      <td>41</td>\n",
       "      <td>258.0</td>\n",
       "    </tr>\n",
       "    <tr>\n",
       "      <th rowspan=\"4\" valign=\"top\">1499</th>\n",
       "      <th>9</th>\n",
       "      <td>9</td>\n",
       "      <td>71.0</td>\n",
       "    </tr>\n",
       "    <tr>\n",
       "      <th>10</th>\n",
       "      <td>68</td>\n",
       "      <td>473.0</td>\n",
       "    </tr>\n",
       "    <tr>\n",
       "      <th>11</th>\n",
       "      <td>74</td>\n",
       "      <td>624.0</td>\n",
       "    </tr>\n",
       "    <tr>\n",
       "      <th>12</th>\n",
       "      <td>69</td>\n",
       "      <td>505.0</td>\n",
       "    </tr>\n",
       "  </tbody>\n",
       "</table>\n",
       "<p>3174 rows × 2 columns</p>\n",
       "</div>"
      ],
      "text/plain": [
       "               calls  duration\n",
       "user_id month                 \n",
       "1000    5         22     164.0\n",
       "        6         43     187.0\n",
       "        7         47     346.0\n",
       "        8         52     418.0\n",
       "        9         58     478.0\n",
       "...              ...       ...\n",
       "1498    10        41     258.0\n",
       "1499    9          9      71.0\n",
       "        10        68     473.0\n",
       "        11        74     624.0\n",
       "        12        69     505.0\n",
       "\n",
       "[3174 rows x 2 columns]"
      ]
     },
     "execution_count": 58,
     "metadata": {},
     "output_type": "execute_result"
    }
   ],
   "source": [
    "calls_grouped "
   ]
  },
  {
   "cell_type": "markdown",
   "id": "bb9d90d6",
   "metadata": {},
   "source": [
    "### Сводная таблица по сообщениям"
   ]
  },
  {
   "cell_type": "code",
   "execution_count": 59,
   "id": "49cb1fc5",
   "metadata": {},
   "outputs": [],
   "source": [
    "messages_temp = messages.merge(users, on='user_id', how='inner')\n",
    "messages_grouped = messages_temp.pivot_table(index=['user_id', 'month'], values='message_date', aggfunc='count')\n",
    "messages_grouped.columns = ['messages']"
   ]
  },
  {
   "cell_type": "code",
   "execution_count": 60,
   "id": "22ede58f",
   "metadata": {},
   "outputs": [
    {
     "data": {
      "text/html": [
       "<div>\n",
       "<style scoped>\n",
       "    .dataframe tbody tr th:only-of-type {\n",
       "        vertical-align: middle;\n",
       "    }\n",
       "\n",
       "    .dataframe tbody tr th {\n",
       "        vertical-align: top;\n",
       "    }\n",
       "\n",
       "    .dataframe thead th {\n",
       "        text-align: right;\n",
       "    }\n",
       "</style>\n",
       "<table border=\"1\" class=\"dataframe\">\n",
       "  <thead>\n",
       "    <tr style=\"text-align: right;\">\n",
       "      <th></th>\n",
       "      <th></th>\n",
       "      <th>messages</th>\n",
       "    </tr>\n",
       "    <tr>\n",
       "      <th>user_id</th>\n",
       "      <th>month</th>\n",
       "      <th></th>\n",
       "    </tr>\n",
       "  </thead>\n",
       "  <tbody>\n",
       "    <tr>\n",
       "      <th rowspan=\"5\" valign=\"top\">1000</th>\n",
       "      <th>5</th>\n",
       "      <td>22</td>\n",
       "    </tr>\n",
       "    <tr>\n",
       "      <th>6</th>\n",
       "      <td>60</td>\n",
       "    </tr>\n",
       "    <tr>\n",
       "      <th>7</th>\n",
       "      <td>75</td>\n",
       "    </tr>\n",
       "    <tr>\n",
       "      <th>8</th>\n",
       "      <td>81</td>\n",
       "    </tr>\n",
       "    <tr>\n",
       "      <th>9</th>\n",
       "      <td>57</td>\n",
       "    </tr>\n",
       "    <tr>\n",
       "      <th>...</th>\n",
       "      <th>...</th>\n",
       "      <td>...</td>\n",
       "    </tr>\n",
       "    <tr>\n",
       "      <th>1498</th>\n",
       "      <th>10</th>\n",
       "      <td>42</td>\n",
       "    </tr>\n",
       "    <tr>\n",
       "      <th rowspan=\"4\" valign=\"top\">1499</th>\n",
       "      <th>9</th>\n",
       "      <td>11</td>\n",
       "    </tr>\n",
       "    <tr>\n",
       "      <th>10</th>\n",
       "      <td>48</td>\n",
       "    </tr>\n",
       "    <tr>\n",
       "      <th>11</th>\n",
       "      <td>59</td>\n",
       "    </tr>\n",
       "    <tr>\n",
       "      <th>12</th>\n",
       "      <td>66</td>\n",
       "    </tr>\n",
       "  </tbody>\n",
       "</table>\n",
       "<p>2717 rows × 1 columns</p>\n",
       "</div>"
      ],
      "text/plain": [
       "               messages\n",
       "user_id month          \n",
       "1000    5            22\n",
       "        6            60\n",
       "        7            75\n",
       "        8            81\n",
       "        9            57\n",
       "...                 ...\n",
       "1498    10           42\n",
       "1499    9            11\n",
       "        10           48\n",
       "        11           59\n",
       "        12           66\n",
       "\n",
       "[2717 rows x 1 columns]"
      ]
     },
     "execution_count": 60,
     "metadata": {},
     "output_type": "execute_result"
    }
   ],
   "source": [
    "messages_grouped"
   ]
  },
  {
   "cell_type": "markdown",
   "id": "e49ed4cd",
   "metadata": {},
   "source": [
    "### Сводная таблица по интернет-трафику"
   ]
  },
  {
   "cell_type": "code",
   "execution_count": 61,
   "id": "b0500f13",
   "metadata": {},
   "outputs": [],
   "source": [
    "internet_temp = internet.merge(users, on='user_id', how='inner')\n",
    "internet_grouped = internet_temp.pivot_table(index=['user_id', 'month'], values='mb_used', aggfunc='sum')\n",
    "internet_grouped.columns = ['mb_used']"
   ]
  },
  {
   "cell_type": "code",
   "execution_count": 62,
   "id": "a7a8555c",
   "metadata": {},
   "outputs": [],
   "source": [
    "internet_grouped['gb_used'] = np.ceil(internet_grouped['mb_used']/1024).astype('int')\n",
    "internet_grouped.loc[internet_grouped['gb_used'] == 0, 'gb_used'] = 1"
   ]
  },
  {
   "cell_type": "code",
   "execution_count": 63,
   "id": "89a4a250",
   "metadata": {},
   "outputs": [
    {
     "data": {
      "text/html": [
       "<div>\n",
       "<style scoped>\n",
       "    .dataframe tbody tr th:only-of-type {\n",
       "        vertical-align: middle;\n",
       "    }\n",
       "\n",
       "    .dataframe tbody tr th {\n",
       "        vertical-align: top;\n",
       "    }\n",
       "\n",
       "    .dataframe thead th {\n",
       "        text-align: right;\n",
       "    }\n",
       "</style>\n",
       "<table border=\"1\" class=\"dataframe\">\n",
       "  <thead>\n",
       "    <tr style=\"text-align: right;\">\n",
       "      <th></th>\n",
       "      <th></th>\n",
       "      <th>mb_used</th>\n",
       "      <th>gb_used</th>\n",
       "    </tr>\n",
       "    <tr>\n",
       "      <th>user_id</th>\n",
       "      <th>month</th>\n",
       "      <th></th>\n",
       "      <th></th>\n",
       "    </tr>\n",
       "  </thead>\n",
       "  <tbody>\n",
       "    <tr>\n",
       "      <th rowspan=\"5\" valign=\"top\">1000</th>\n",
       "      <th>5</th>\n",
       "      <td>2253.489990</td>\n",
       "      <td>3</td>\n",
       "    </tr>\n",
       "    <tr>\n",
       "      <th>6</th>\n",
       "      <td>23233.769531</td>\n",
       "      <td>23</td>\n",
       "    </tr>\n",
       "    <tr>\n",
       "      <th>7</th>\n",
       "      <td>14003.639648</td>\n",
       "      <td>14</td>\n",
       "    </tr>\n",
       "    <tr>\n",
       "      <th>8</th>\n",
       "      <td>14055.929688</td>\n",
       "      <td>14</td>\n",
       "    </tr>\n",
       "    <tr>\n",
       "      <th>9</th>\n",
       "      <td>14568.910156</td>\n",
       "      <td>15</td>\n",
       "    </tr>\n",
       "    <tr>\n",
       "      <th>...</th>\n",
       "      <th>...</th>\n",
       "      <td>...</td>\n",
       "      <td>...</td>\n",
       "    </tr>\n",
       "    <tr>\n",
       "      <th>1498</th>\n",
       "      <th>10</th>\n",
       "      <td>20579.359375</td>\n",
       "      <td>21</td>\n",
       "    </tr>\n",
       "    <tr>\n",
       "      <th rowspan=\"4\" valign=\"top\">1499</th>\n",
       "      <th>9</th>\n",
       "      <td>1845.750000</td>\n",
       "      <td>2</td>\n",
       "    </tr>\n",
       "    <tr>\n",
       "      <th>10</th>\n",
       "      <td>17788.509766</td>\n",
       "      <td>18</td>\n",
       "    </tr>\n",
       "    <tr>\n",
       "      <th>11</th>\n",
       "      <td>17963.310547</td>\n",
       "      <td>18</td>\n",
       "    </tr>\n",
       "    <tr>\n",
       "      <th>12</th>\n",
       "      <td>13055.580078</td>\n",
       "      <td>13</td>\n",
       "    </tr>\n",
       "  </tbody>\n",
       "</table>\n",
       "<p>3203 rows × 2 columns</p>\n",
       "</div>"
      ],
      "text/plain": [
       "                    mb_used  gb_used\n",
       "user_id month                       \n",
       "1000    5       2253.489990        3\n",
       "        6      23233.769531       23\n",
       "        7      14003.639648       14\n",
       "        8      14055.929688       14\n",
       "        9      14568.910156       15\n",
       "...                     ...      ...\n",
       "1498    10     20579.359375       21\n",
       "1499    9       1845.750000        2\n",
       "        10     17788.509766       18\n",
       "        11     17963.310547       18\n",
       "        12     13055.580078       13\n",
       "\n",
       "[3203 rows x 2 columns]"
      ]
     },
     "execution_count": 63,
     "metadata": {},
     "output_type": "execute_result"
    }
   ],
   "source": [
    "internet_grouped"
   ]
  },
  {
   "cell_type": "code",
   "execution_count": 64,
   "id": "1b9938a4",
   "metadata": {},
   "outputs": [
    {
     "name": "stdout",
     "output_type": "stream",
     "text": [
      "<class 'pandas.core.frame.DataFrame'>\n",
      "MultiIndex: 3203 entries, (1000, 5) to (1499, 12)\n",
      "Data columns (total 2 columns):\n",
      " #   Column   Non-Null Count  Dtype  \n",
      "---  ------   --------------  -----  \n",
      " 0   mb_used  3203 non-null   float32\n",
      " 1   gb_used  3203 non-null   int64  \n",
      "dtypes: float32(1), int64(1)\n",
      "memory usage: 51.0 KB\n"
     ]
    }
   ],
   "source": [
    "internet_grouped.info()"
   ]
  },
  {
   "cell_type": "markdown",
   "id": "0a7aa22f",
   "metadata": {},
   "source": [
    "### Объединяем все три сводные таблицы в одну"
   ]
  },
  {
   "cell_type": "code",
   "execution_count": 65,
   "id": "b00799c2",
   "metadata": {},
   "outputs": [],
   "source": [
    "df = calls_grouped.join([messages_grouped, internet_grouped], how='outer')"
   ]
  },
  {
   "cell_type": "code",
   "execution_count": 66,
   "id": "ffed7377",
   "metadata": {},
   "outputs": [
    {
     "data": {
      "text/html": [
       "<div>\n",
       "<style scoped>\n",
       "    .dataframe tbody tr th:only-of-type {\n",
       "        vertical-align: middle;\n",
       "    }\n",
       "\n",
       "    .dataframe tbody tr th {\n",
       "        vertical-align: top;\n",
       "    }\n",
       "\n",
       "    .dataframe thead th {\n",
       "        text-align: right;\n",
       "    }\n",
       "</style>\n",
       "<table border=\"1\" class=\"dataframe\">\n",
       "  <thead>\n",
       "    <tr style=\"text-align: right;\">\n",
       "      <th></th>\n",
       "      <th></th>\n",
       "      <th>calls</th>\n",
       "      <th>duration</th>\n",
       "      <th>messages</th>\n",
       "      <th>mb_used</th>\n",
       "      <th>gb_used</th>\n",
       "    </tr>\n",
       "    <tr>\n",
       "      <th>user_id</th>\n",
       "      <th>month</th>\n",
       "      <th></th>\n",
       "      <th></th>\n",
       "      <th></th>\n",
       "      <th></th>\n",
       "      <th></th>\n",
       "    </tr>\n",
       "  </thead>\n",
       "  <tbody>\n",
       "    <tr>\n",
       "      <th rowspan=\"8\" valign=\"top\">1000</th>\n",
       "      <th>5</th>\n",
       "      <td>22.0</td>\n",
       "      <td>164.0</td>\n",
       "      <td>22.0</td>\n",
       "      <td>2253.489990</td>\n",
       "      <td>3.0</td>\n",
       "    </tr>\n",
       "    <tr>\n",
       "      <th>6</th>\n",
       "      <td>43.0</td>\n",
       "      <td>187.0</td>\n",
       "      <td>60.0</td>\n",
       "      <td>23233.769531</td>\n",
       "      <td>23.0</td>\n",
       "    </tr>\n",
       "    <tr>\n",
       "      <th>7</th>\n",
       "      <td>47.0</td>\n",
       "      <td>346.0</td>\n",
       "      <td>75.0</td>\n",
       "      <td>14003.639648</td>\n",
       "      <td>14.0</td>\n",
       "    </tr>\n",
       "    <tr>\n",
       "      <th>8</th>\n",
       "      <td>52.0</td>\n",
       "      <td>418.0</td>\n",
       "      <td>81.0</td>\n",
       "      <td>14055.929688</td>\n",
       "      <td>14.0</td>\n",
       "    </tr>\n",
       "    <tr>\n",
       "      <th>9</th>\n",
       "      <td>58.0</td>\n",
       "      <td>478.0</td>\n",
       "      <td>57.0</td>\n",
       "      <td>14568.910156</td>\n",
       "      <td>15.0</td>\n",
       "    </tr>\n",
       "    <tr>\n",
       "      <th>10</th>\n",
       "      <td>57.0</td>\n",
       "      <td>363.0</td>\n",
       "      <td>73.0</td>\n",
       "      <td>14702.490234</td>\n",
       "      <td>15.0</td>\n",
       "    </tr>\n",
       "    <tr>\n",
       "      <th>11</th>\n",
       "      <td>43.0</td>\n",
       "      <td>344.0</td>\n",
       "      <td>58.0</td>\n",
       "      <td>14756.469727</td>\n",
       "      <td>15.0</td>\n",
       "    </tr>\n",
       "    <tr>\n",
       "      <th>12</th>\n",
       "      <td>46.0</td>\n",
       "      <td>341.0</td>\n",
       "      <td>70.0</td>\n",
       "      <td>9817.610352</td>\n",
       "      <td>10.0</td>\n",
       "    </tr>\n",
       "    <tr>\n",
       "      <th rowspan=\"2\" valign=\"top\">1001</th>\n",
       "      <th>11</th>\n",
       "      <td>59.0</td>\n",
       "      <td>444.0</td>\n",
       "      <td>NaN</td>\n",
       "      <td>18429.339844</td>\n",
       "      <td>18.0</td>\n",
       "    </tr>\n",
       "    <tr>\n",
       "      <th>12</th>\n",
       "      <td>63.0</td>\n",
       "      <td>430.0</td>\n",
       "      <td>NaN</td>\n",
       "      <td>14036.660156</td>\n",
       "      <td>14.0</td>\n",
       "    </tr>\n",
       "  </tbody>\n",
       "</table>\n",
       "</div>"
      ],
      "text/plain": [
       "               calls  duration  messages       mb_used  gb_used\n",
       "user_id month                                                  \n",
       "1000    5       22.0     164.0      22.0   2253.489990      3.0\n",
       "        6       43.0     187.0      60.0  23233.769531     23.0\n",
       "        7       47.0     346.0      75.0  14003.639648     14.0\n",
       "        8       52.0     418.0      81.0  14055.929688     14.0\n",
       "        9       58.0     478.0      57.0  14568.910156     15.0\n",
       "        10      57.0     363.0      73.0  14702.490234     15.0\n",
       "        11      43.0     344.0      58.0  14756.469727     15.0\n",
       "        12      46.0     341.0      70.0   9817.610352     10.0\n",
       "1001    11      59.0     444.0       NaN  18429.339844     18.0\n",
       "        12      63.0     430.0       NaN  14036.660156     14.0"
      ]
     },
     "execution_count": 66,
     "metadata": {},
     "output_type": "execute_result"
    }
   ],
   "source": [
    "df.head(10)"
   ]
  },
  {
   "cell_type": "code",
   "execution_count": 67,
   "id": "6f6bb7c0",
   "metadata": {},
   "outputs": [],
   "source": [
    "df = df.join(users.loc[:,['user_id', 'tariff']].set_index('user_id'), how='outer')"
   ]
  },
  {
   "cell_type": "markdown",
   "id": "501cc92d",
   "metadata": {},
   "source": [
    "В итоге мы получаем полную сводную таблицу, в которой для каждого пользователя по месяцам указаны количества звонков, продолжительности звонков, интернет сессий и количество смс сообщений, а так же тарифф."
   ]
  },
  {
   "cell_type": "markdown",
   "id": "6022a0d9",
   "metadata": {},
   "source": [
    "Однако, ранее мы могли заметить, что все таблицы имеют разное количество строк. \n",
    "\n",
    "Это объясняется тем, что у некоторых пользователей отсутствовала информация по конкретным месяцам, например они могли не отправлять в месяц ни одного сообщения, или не выходить в интернет. \n",
    "\n",
    "А это значит, что в нашей сводной таблице образовались пропуски.\n",
    "\n",
    "Заполнил их нулями, исходя из той логики, что пользователь не совершал никаких действий в определенный период."
   ]
  },
  {
   "cell_type": "code",
   "execution_count": 68,
   "id": "30bcdbc4",
   "metadata": {
    "scrolled": true
   },
   "outputs": [
    {
     "data": {
      "text/plain": [
       "0"
      ]
     },
     "execution_count": 68,
     "metadata": {},
     "output_type": "execute_result"
    }
   ],
   "source": [
    "df['duration'].fillna(0, inplace=True)\n",
    "df['duration'].isnull().sum()"
   ]
  },
  {
   "cell_type": "code",
   "execution_count": 69,
   "id": "8c134d85",
   "metadata": {},
   "outputs": [
    {
     "data": {
      "text/plain": [
       "0"
      ]
     },
     "execution_count": 69,
     "metadata": {},
     "output_type": "execute_result"
    }
   ],
   "source": [
    "df['calls'].fillna(0, inplace=True)\n",
    "df['calls'].isnull().sum()"
   ]
  },
  {
   "cell_type": "code",
   "execution_count": 70,
   "id": "51da3a21",
   "metadata": {},
   "outputs": [
    {
     "data": {
      "text/plain": [
       "0"
      ]
     },
     "execution_count": 70,
     "metadata": {},
     "output_type": "execute_result"
    }
   ],
   "source": [
    "df['messages'].fillna(0, inplace=True)\n",
    "df['messages'].isnull().sum()"
   ]
  },
  {
   "cell_type": "code",
   "execution_count": 71,
   "id": "5b06beee",
   "metadata": {},
   "outputs": [
    {
     "data": {
      "text/plain": [
       "0"
      ]
     },
     "execution_count": 71,
     "metadata": {},
     "output_type": "execute_result"
    }
   ],
   "source": [
    "df['mb_used'].fillna(0, inplace=True)\n",
    "df['mb_used'].isnull().sum()"
   ]
  },
  {
   "cell_type": "markdown",
   "id": "fb79da88",
   "metadata": {},
   "source": [
    "Наша сводная таблица готова к расчету помесячной выручки. Для расчета выручки необходимо для каждого пользователя вычесть бесплатный лимит из суммарного количества звонков, сообщений и интернет-трафика, а остаток умножить на значение из тарифного плана. Так же нужно добавить к сумме абонентскую плату за месяц.\n",
    "\n",
    "Объявим функцию total_income_per_month_calculation, которая будет возвращать суммарную выручку за каждого пользователя в месяц. Для расчета выручки необходимо прибавить к абонентской плате дополнительную плату за минуты, сообщения и трафик вышедший за пределы лимитов."
   ]
  },
  {
   "cell_type": "code",
   "execution_count": 72,
   "id": "5cfd75a5",
   "metadata": {},
   "outputs": [
    {
     "data": {
      "text/html": [
       "<div>\n",
       "<style scoped>\n",
       "    .dataframe tbody tr th:only-of-type {\n",
       "        vertical-align: middle;\n",
       "    }\n",
       "\n",
       "    .dataframe tbody tr th {\n",
       "        vertical-align: top;\n",
       "    }\n",
       "\n",
       "    .dataframe thead th {\n",
       "        text-align: right;\n",
       "    }\n",
       "</style>\n",
       "<table border=\"1\" class=\"dataframe\">\n",
       "  <thead>\n",
       "    <tr style=\"text-align: right;\">\n",
       "      <th></th>\n",
       "      <th></th>\n",
       "      <th>calls</th>\n",
       "      <th>duration</th>\n",
       "      <th>messages</th>\n",
       "      <th>mb_used</th>\n",
       "      <th>gb_used</th>\n",
       "      <th>tariff</th>\n",
       "    </tr>\n",
       "    <tr>\n",
       "      <th>user_id</th>\n",
       "      <th>month</th>\n",
       "      <th></th>\n",
       "      <th></th>\n",
       "      <th></th>\n",
       "      <th></th>\n",
       "      <th></th>\n",
       "      <th></th>\n",
       "    </tr>\n",
       "  </thead>\n",
       "  <tbody>\n",
       "    <tr>\n",
       "      <th rowspan=\"8\" valign=\"top\">1000</th>\n",
       "      <th>5</th>\n",
       "      <td>22.0</td>\n",
       "      <td>164.0</td>\n",
       "      <td>22.0</td>\n",
       "      <td>2253.489990</td>\n",
       "      <td>3.0</td>\n",
       "      <td>ultra</td>\n",
       "    </tr>\n",
       "    <tr>\n",
       "      <th>6</th>\n",
       "      <td>43.0</td>\n",
       "      <td>187.0</td>\n",
       "      <td>60.0</td>\n",
       "      <td>23233.769531</td>\n",
       "      <td>23.0</td>\n",
       "      <td>ultra</td>\n",
       "    </tr>\n",
       "    <tr>\n",
       "      <th>7</th>\n",
       "      <td>47.0</td>\n",
       "      <td>346.0</td>\n",
       "      <td>75.0</td>\n",
       "      <td>14003.639648</td>\n",
       "      <td>14.0</td>\n",
       "      <td>ultra</td>\n",
       "    </tr>\n",
       "    <tr>\n",
       "      <th>8</th>\n",
       "      <td>52.0</td>\n",
       "      <td>418.0</td>\n",
       "      <td>81.0</td>\n",
       "      <td>14055.929688</td>\n",
       "      <td>14.0</td>\n",
       "      <td>ultra</td>\n",
       "    </tr>\n",
       "    <tr>\n",
       "      <th>9</th>\n",
       "      <td>58.0</td>\n",
       "      <td>478.0</td>\n",
       "      <td>57.0</td>\n",
       "      <td>14568.910156</td>\n",
       "      <td>15.0</td>\n",
       "      <td>ultra</td>\n",
       "    </tr>\n",
       "    <tr>\n",
       "      <th>10</th>\n",
       "      <td>57.0</td>\n",
       "      <td>363.0</td>\n",
       "      <td>73.0</td>\n",
       "      <td>14702.490234</td>\n",
       "      <td>15.0</td>\n",
       "      <td>ultra</td>\n",
       "    </tr>\n",
       "    <tr>\n",
       "      <th>11</th>\n",
       "      <td>43.0</td>\n",
       "      <td>344.0</td>\n",
       "      <td>58.0</td>\n",
       "      <td>14756.469727</td>\n",
       "      <td>15.0</td>\n",
       "      <td>ultra</td>\n",
       "    </tr>\n",
       "    <tr>\n",
       "      <th>12</th>\n",
       "      <td>46.0</td>\n",
       "      <td>341.0</td>\n",
       "      <td>70.0</td>\n",
       "      <td>9817.610352</td>\n",
       "      <td>10.0</td>\n",
       "      <td>ultra</td>\n",
       "    </tr>\n",
       "    <tr>\n",
       "      <th rowspan=\"2\" valign=\"top\">1001</th>\n",
       "      <th>11</th>\n",
       "      <td>59.0</td>\n",
       "      <td>444.0</td>\n",
       "      <td>0.0</td>\n",
       "      <td>18429.339844</td>\n",
       "      <td>18.0</td>\n",
       "      <td>smart</td>\n",
       "    </tr>\n",
       "    <tr>\n",
       "      <th>12</th>\n",
       "      <td>63.0</td>\n",
       "      <td>430.0</td>\n",
       "      <td>0.0</td>\n",
       "      <td>14036.660156</td>\n",
       "      <td>14.0</td>\n",
       "      <td>smart</td>\n",
       "    </tr>\n",
       "  </tbody>\n",
       "</table>\n",
       "</div>"
      ],
      "text/plain": [
       "               calls  duration  messages       mb_used  gb_used tariff\n",
       "user_id month                                                         \n",
       "1000    5       22.0     164.0      22.0   2253.489990      3.0  ultra\n",
       "        6       43.0     187.0      60.0  23233.769531     23.0  ultra\n",
       "        7       47.0     346.0      75.0  14003.639648     14.0  ultra\n",
       "        8       52.0     418.0      81.0  14055.929688     14.0  ultra\n",
       "        9       58.0     478.0      57.0  14568.910156     15.0  ultra\n",
       "        10      57.0     363.0      73.0  14702.490234     15.0  ultra\n",
       "        11      43.0     344.0      58.0  14756.469727     15.0  ultra\n",
       "        12      46.0     341.0      70.0   9817.610352     10.0  ultra\n",
       "1001    11      59.0     444.0       0.0  18429.339844     18.0  smart\n",
       "        12      63.0     430.0       0.0  14036.660156     14.0  smart"
      ]
     },
     "execution_count": 72,
     "metadata": {},
     "output_type": "execute_result"
    }
   ],
   "source": [
    "df.head(10)"
   ]
  },
  {
   "cell_type": "code",
   "execution_count": 73,
   "id": "2e218964",
   "metadata": {},
   "outputs": [],
   "source": [
    "def total_income_per_month_calculation(row):\n",
    "    #присвоим переменным конкретные значения строк из таблицы\n",
    "    calls = row['calls']\n",
    "    duration = row['duration']\n",
    "    gb_used = row['mb_used']\n",
    "    messages = row['messages']\n",
    "    tariff = row['tariff']\n",
    "    \n",
    "    #Зададим переменные стоимости и лимитов для каждого из тарифов.\n",
    "    megabytes_included = int(tariffs.loc[tariffs.loc[:,'tariff_name'] == tariff]['mb_per_month_included'])\n",
    "    messages_included = int(tariffs.loc[tariffs.loc[:,'tariff_name'] == tariff]['messages_included'])\n",
    "    minutes_included = int(tariffs.loc[tariffs.loc[:,'tariff_name'] == tariff]['minutes_included'])\n",
    "    monthly_fee = int(tariffs.loc[tariffs.loc[:,'tariff_name'] == tariff]['rub_monthly_fee'])\n",
    "    price_for_gb = int(tariffs.loc[tariffs.loc[:,'tariff_name'] == tariff]['rub_per_gb'])\n",
    "    price_for_message = int(tariffs.loc[tariffs.loc[:,'tariff_name'] == tariff]['rub_per_message'])\n",
    "    price_for_minute = int(tariffs.loc[tariffs.loc[:,'tariff_name'] == tariff]['rub_per_minute'])\n",
    "    \n",
    "    over_gb = 0                #объявляем переменные перерасхода для трафика, сообщений и звонков.\n",
    "    over_msg = 0               #в них мы будем сохранять для каждого пользователя значения сверх лимита\n",
    "    over_calls = 0             #затем при наличии перерасхода минут/сообщений/трафика значения умножим на стоимость.\n",
    "    \n",
    "    #если пользователь вышел за лимит трафика, посчитаем сколько рублей он должен заплатить за дополнительный трафик\n",
    "    #для получения цены в рублях умножим значения на стоимость.\n",
    "    \n",
    "    gb_used = row['gb_used']\n",
    "\n",
    "    if gb_used > (megabytes_included/1024):\n",
    "        over_gb = (gb_used - megabytes_included/1024) * price_for_gb\n",
    "    \n",
    "    #аналогично поступаем с минутами и сообщения\n",
    "    if duration > minutes_included:\n",
    "        over_calls = (duration - minutes_included) * price_for_minute\n",
    "        \n",
    "    if messages > messages_included:\n",
    "        over_msg = (messages - messages_included) * price_for_message \n",
    "    \n",
    "    #считаем суммарную выручку с пользователя, добавив ко всем перерасходам абонентскую плату.\n",
    "    return over_gb + over_msg + over_calls + monthly_fee"
   ]
  },
  {
   "cell_type": "code",
   "execution_count": 74,
   "id": "a1adbb20",
   "metadata": {},
   "outputs": [],
   "source": [
    "df['total_income'] = df.apply(total_income_per_month_calculation, axis = 1)"
   ]
  },
  {
   "cell_type": "code",
   "execution_count": 75,
   "id": "9be8a7f3",
   "metadata": {},
   "outputs": [
    {
     "data": {
      "text/html": [
       "<div>\n",
       "<style scoped>\n",
       "    .dataframe tbody tr th:only-of-type {\n",
       "        vertical-align: middle;\n",
       "    }\n",
       "\n",
       "    .dataframe tbody tr th {\n",
       "        vertical-align: top;\n",
       "    }\n",
       "\n",
       "    .dataframe thead th {\n",
       "        text-align: right;\n",
       "    }\n",
       "</style>\n",
       "<table border=\"1\" class=\"dataframe\">\n",
       "  <thead>\n",
       "    <tr style=\"text-align: right;\">\n",
       "      <th></th>\n",
       "      <th></th>\n",
       "      <th>calls</th>\n",
       "      <th>duration</th>\n",
       "      <th>messages</th>\n",
       "      <th>gb_used</th>\n",
       "      <th>tariff</th>\n",
       "      <th>total_income</th>\n",
       "    </tr>\n",
       "    <tr>\n",
       "      <th>user_id</th>\n",
       "      <th>month</th>\n",
       "      <th></th>\n",
       "      <th></th>\n",
       "      <th></th>\n",
       "      <th></th>\n",
       "      <th></th>\n",
       "      <th></th>\n",
       "    </tr>\n",
       "  </thead>\n",
       "  <tbody>\n",
       "    <tr>\n",
       "      <th rowspan=\"8\" valign=\"top\">1000</th>\n",
       "      <th>5</th>\n",
       "      <td>22.0</td>\n",
       "      <td>164.0</td>\n",
       "      <td>22.0</td>\n",
       "      <td>3.0</td>\n",
       "      <td>ultra</td>\n",
       "      <td>1950.0</td>\n",
       "    </tr>\n",
       "    <tr>\n",
       "      <th>6</th>\n",
       "      <td>43.0</td>\n",
       "      <td>187.0</td>\n",
       "      <td>60.0</td>\n",
       "      <td>23.0</td>\n",
       "      <td>ultra</td>\n",
       "      <td>1950.0</td>\n",
       "    </tr>\n",
       "    <tr>\n",
       "      <th>7</th>\n",
       "      <td>47.0</td>\n",
       "      <td>346.0</td>\n",
       "      <td>75.0</td>\n",
       "      <td>14.0</td>\n",
       "      <td>ultra</td>\n",
       "      <td>1950.0</td>\n",
       "    </tr>\n",
       "    <tr>\n",
       "      <th>8</th>\n",
       "      <td>52.0</td>\n",
       "      <td>418.0</td>\n",
       "      <td>81.0</td>\n",
       "      <td>14.0</td>\n",
       "      <td>ultra</td>\n",
       "      <td>1950.0</td>\n",
       "    </tr>\n",
       "    <tr>\n",
       "      <th>9</th>\n",
       "      <td>58.0</td>\n",
       "      <td>478.0</td>\n",
       "      <td>57.0</td>\n",
       "      <td>15.0</td>\n",
       "      <td>ultra</td>\n",
       "      <td>1950.0</td>\n",
       "    </tr>\n",
       "    <tr>\n",
       "      <th>10</th>\n",
       "      <td>57.0</td>\n",
       "      <td>363.0</td>\n",
       "      <td>73.0</td>\n",
       "      <td>15.0</td>\n",
       "      <td>ultra</td>\n",
       "      <td>1950.0</td>\n",
       "    </tr>\n",
       "    <tr>\n",
       "      <th>11</th>\n",
       "      <td>43.0</td>\n",
       "      <td>344.0</td>\n",
       "      <td>58.0</td>\n",
       "      <td>15.0</td>\n",
       "      <td>ultra</td>\n",
       "      <td>1950.0</td>\n",
       "    </tr>\n",
       "    <tr>\n",
       "      <th>12</th>\n",
       "      <td>46.0</td>\n",
       "      <td>341.0</td>\n",
       "      <td>70.0</td>\n",
       "      <td>10.0</td>\n",
       "      <td>ultra</td>\n",
       "      <td>1950.0</td>\n",
       "    </tr>\n",
       "    <tr>\n",
       "      <th rowspan=\"2\" valign=\"top\">1001</th>\n",
       "      <th>11</th>\n",
       "      <td>59.0</td>\n",
       "      <td>444.0</td>\n",
       "      <td>0.0</td>\n",
       "      <td>18.0</td>\n",
       "      <td>smart</td>\n",
       "      <td>1150.0</td>\n",
       "    </tr>\n",
       "    <tr>\n",
       "      <th>12</th>\n",
       "      <td>63.0</td>\n",
       "      <td>430.0</td>\n",
       "      <td>0.0</td>\n",
       "      <td>14.0</td>\n",
       "      <td>smart</td>\n",
       "      <td>550.0</td>\n",
       "    </tr>\n",
       "  </tbody>\n",
       "</table>\n",
       "</div>"
      ],
      "text/plain": [
       "               calls  duration  messages  gb_used tariff  total_income\n",
       "user_id month                                                         \n",
       "1000    5       22.0     164.0      22.0      3.0  ultra        1950.0\n",
       "        6       43.0     187.0      60.0     23.0  ultra        1950.0\n",
       "        7       47.0     346.0      75.0     14.0  ultra        1950.0\n",
       "        8       52.0     418.0      81.0     14.0  ultra        1950.0\n",
       "        9       58.0     478.0      57.0     15.0  ultra        1950.0\n",
       "        10      57.0     363.0      73.0     15.0  ultra        1950.0\n",
       "        11      43.0     344.0      58.0     15.0  ultra        1950.0\n",
       "        12      46.0     341.0      70.0     10.0  ultra        1950.0\n",
       "1001    11      59.0     444.0       0.0     18.0  smart        1150.0\n",
       "        12      63.0     430.0       0.0     14.0  smart         550.0"
      ]
     },
     "execution_count": 75,
     "metadata": {},
     "output_type": "execute_result"
    }
   ],
   "source": [
    "df.drop(columns = ['mb_used'],axis = 1).head(10)"
   ]
  },
  {
   "cell_type": "code",
   "execution_count": 76,
   "id": "4f67cb25",
   "metadata": {},
   "outputs": [
    {
     "data": {
      "text/plain": [
       "6824.0"
      ]
     },
     "execution_count": 76,
     "metadata": {},
     "output_type": "execute_result"
    }
   ],
   "source": [
    "df['total_income'].max()"
   ]
  },
  {
   "cell_type": "markdown",
   "id": "6e98f7f4",
   "metadata": {},
   "source": [
    "## Вывод"
   ]
  },
  {
   "cell_type": "markdown",
   "id": "6ad1a530",
   "metadata": {},
   "source": [
    "На этапе предобработки данных мы постарились убрать недочеты, выявленные на этапе изучения общей информации:\n",
    "\n",
    "  Был изменен тип данных с object на datetime64 для всех столбцов, содержащих дату.\n",
    "    \n",
    "   Было произведено округление в большую сторону значений минут разговора и потраченного трафика.\n",
    "    \n",
    "   Пропущенные значения в столбце 'churn_date' в таблице users не были заполнены, в связи с тем, что в дальнейшем анализе эти данные не используются, а так же исходя из той логики, что незаполненные значения означают, что пользователь пользуется тарифом до сих пор.\n",
    "    \n",
    "   Было принято решение не изменять и не удалять нулевые значения в столбцах с продолжительностью разговора и использованного трафика, исходя из той логики, что нули означают либо непринятые вызовы, либо ошибочно записанную интернет сессию.\n",
    "    \n",
    "   Был удален лишний столбец из датафрейма internet.\n",
    "   \n",
    "   Были добавлены столбцы со значением месяца в датафреймы calls, internet, messages.\n",
    "    \n",
    "   Была создана сводная общая таблица, в которой были посчитана сумма продолжительности разговоров, отправленных сообщений и израсходованного трафика для каждого пользователя по месяцам.\n",
    "    \n",
    "   Была расчитана ежемесечная выручка с каждого пользователя.\n",
    "    \n",
    "   Такая предобработка данных позволит нам провести быстрый и информативный анализ данных, вычислить основные статистические характеристики, а так же проверить гипотезы."
   ]
  },
  {
   "cell_type": "markdown",
   "id": "551f9fcb",
   "metadata": {},
   "source": [
    "# Анализ данных"
   ]
  },
  {
   "cell_type": "markdown",
   "id": "81a82710",
   "metadata": {},
   "source": [
    "Выясним, сколько минут разговора, трафика и сообщений в среднем в месяц требуется пользователям каждого тарифа. Создадим сводную таблицу, сгруппировав данные по пользователям и используя функцию для нахождения медианы."
   ]
  },
  {
   "cell_type": "code",
   "execution_count": 77,
   "id": "31e39f39",
   "metadata": {},
   "outputs": [],
   "source": [
    "medians_per_month = df.pivot_table(index='user_id', \n",
    "                        values=['duration', 'gb_used', 'messages'], \n",
    "                        aggfunc='median')"
   ]
  },
  {
   "cell_type": "code",
   "execution_count": 78,
   "id": "c510f894",
   "metadata": {},
   "outputs": [
    {
     "data": {
      "text/html": [
       "<div>\n",
       "<style scoped>\n",
       "    .dataframe tbody tr th:only-of-type {\n",
       "        vertical-align: middle;\n",
       "    }\n",
       "\n",
       "    .dataframe tbody tr th {\n",
       "        vertical-align: top;\n",
       "    }\n",
       "\n",
       "    .dataframe thead th {\n",
       "        text-align: right;\n",
       "    }\n",
       "</style>\n",
       "<table border=\"1\" class=\"dataframe\">\n",
       "  <thead>\n",
       "    <tr style=\"text-align: right;\">\n",
       "      <th></th>\n",
       "      <th>duration</th>\n",
       "      <th>gb_used</th>\n",
       "      <th>messages</th>\n",
       "      <th>tariff</th>\n",
       "    </tr>\n",
       "    <tr>\n",
       "      <th>user_id</th>\n",
       "      <th></th>\n",
       "      <th></th>\n",
       "      <th></th>\n",
       "      <th></th>\n",
       "    </tr>\n",
       "  </thead>\n",
       "  <tbody>\n",
       "    <tr>\n",
       "      <th>1000</th>\n",
       "      <td>345.0</td>\n",
       "      <td>14.5</td>\n",
       "      <td>65.0</td>\n",
       "      <td>ultra</td>\n",
       "    </tr>\n",
       "    <tr>\n",
       "      <th>1001</th>\n",
       "      <td>437.0</td>\n",
       "      <td>16.0</td>\n",
       "      <td>0.0</td>\n",
       "      <td>smart</td>\n",
       "    </tr>\n",
       "    <tr>\n",
       "      <th>1002</th>\n",
       "      <td>221.0</td>\n",
       "      <td>18.0</td>\n",
       "      <td>11.0</td>\n",
       "      <td>smart</td>\n",
       "    </tr>\n",
       "    <tr>\n",
       "      <th>1003</th>\n",
       "      <td>844.0</td>\n",
       "      <td>12.0</td>\n",
       "      <td>83.0</td>\n",
       "      <td>ultra</td>\n",
       "    </tr>\n",
       "    <tr>\n",
       "      <th>1004</th>\n",
       "      <td>136.5</td>\n",
       "      <td>18.0</td>\n",
       "      <td>154.5</td>\n",
       "      <td>ultra</td>\n",
       "    </tr>\n",
       "  </tbody>\n",
       "</table>\n",
       "</div>"
      ],
      "text/plain": [
       "         duration  gb_used  messages tariff\n",
       "user_id                                    \n",
       "1000        345.0     14.5      65.0  ultra\n",
       "1001        437.0     16.0       0.0  smart\n",
       "1002        221.0     18.0      11.0  smart\n",
       "1003        844.0     12.0      83.0  ultra\n",
       "1004        136.5     18.0     154.5  ultra"
      ]
     },
     "execution_count": 78,
     "metadata": {},
     "output_type": "execute_result"
    }
   ],
   "source": [
    "medians_per_month.join(users.loc[:,['user_id', 'tariff']].set_index('user_id'), how='outer').head()"
   ]
  },
  {
   "cell_type": "markdown",
   "id": "ee7f9441",
   "metadata": {},
   "source": [
    "Как видно, пользователи по разному пользуются услугами: кто-то за месяц не отправляет ни одного сообщения, а кто-то проговаривает 700 минут."
   ]
  },
  {
   "cell_type": "markdown",
   "id": "b644a11e",
   "metadata": {},
   "source": [
    "Посчитаем среднее, медиану, дисперсию и стандартное отклонение для продолжительности звонков, использованного траффика и количества сообщений."
   ]
  },
  {
   "cell_type": "code",
   "execution_count": 79,
   "id": "0520876a",
   "metadata": {
    "scrolled": true
   },
   "outputs": [
    {
     "data": {
      "text/html": [
       "<div>\n",
       "<style scoped>\n",
       "    .dataframe tbody tr th:only-of-type {\n",
       "        vertical-align: middle;\n",
       "    }\n",
       "\n",
       "    .dataframe tbody tr th {\n",
       "        vertical-align: top;\n",
       "    }\n",
       "\n",
       "    .dataframe thead tr th {\n",
       "        text-align: left;\n",
       "    }\n",
       "\n",
       "    .dataframe thead tr:last-of-type th {\n",
       "        text-align: right;\n",
       "    }\n",
       "</style>\n",
       "<table border=\"1\" class=\"dataframe\">\n",
       "  <thead>\n",
       "    <tr>\n",
       "      <th></th>\n",
       "      <th colspan=\"4\" halign=\"left\">duration</th>\n",
       "      <th colspan=\"4\" halign=\"left\">gb_used</th>\n",
       "      <th colspan=\"4\" halign=\"left\">messages</th>\n",
       "    </tr>\n",
       "    <tr>\n",
       "      <th></th>\n",
       "      <th>mean</th>\n",
       "      <th>median</th>\n",
       "      <th>std</th>\n",
       "      <th>var</th>\n",
       "      <th>mean</th>\n",
       "      <th>median</th>\n",
       "      <th>std</th>\n",
       "      <th>var</th>\n",
       "      <th>mean</th>\n",
       "      <th>median</th>\n",
       "      <th>std</th>\n",
       "      <th>var</th>\n",
       "    </tr>\n",
       "    <tr>\n",
       "      <th>tariff</th>\n",
       "      <th></th>\n",
       "      <th></th>\n",
       "      <th></th>\n",
       "      <th></th>\n",
       "      <th></th>\n",
       "      <th></th>\n",
       "      <th></th>\n",
       "      <th></th>\n",
       "      <th></th>\n",
       "      <th></th>\n",
       "      <th></th>\n",
       "      <th></th>\n",
       "    </tr>\n",
       "  </thead>\n",
       "  <tbody>\n",
       "    <tr>\n",
       "      <th>smart</th>\n",
       "      <td>429.5</td>\n",
       "      <td>435.0</td>\n",
       "      <td>194.9</td>\n",
       "      <td>37974.8</td>\n",
       "      <td>16.3</td>\n",
       "      <td>17.0</td>\n",
       "      <td>5.7</td>\n",
       "      <td>32.9</td>\n",
       "      <td>33.4</td>\n",
       "      <td>28.0</td>\n",
       "      <td>28.2</td>\n",
       "      <td>796.8</td>\n",
       "    </tr>\n",
       "    <tr>\n",
       "      <th>ultra</th>\n",
       "      <td>540.8</td>\n",
       "      <td>532.0</td>\n",
       "      <td>325.7</td>\n",
       "      <td>106105.7</td>\n",
       "      <td>19.7</td>\n",
       "      <td>19.0</td>\n",
       "      <td>9.7</td>\n",
       "      <td>94.1</td>\n",
       "      <td>49.4</td>\n",
       "      <td>38.0</td>\n",
       "      <td>47.8</td>\n",
       "      <td>2285.3</td>\n",
       "    </tr>\n",
       "  </tbody>\n",
       "</table>\n",
       "</div>"
      ],
      "text/plain": [
       "       duration                         gb_used                   messages  \\\n",
       "           mean median    std       var    mean median  std   var     mean   \n",
       "tariff                                                                       \n",
       "smart     429.5  435.0  194.9   37974.8    16.3   17.0  5.7  32.9     33.4   \n",
       "ultra     540.8  532.0  325.7  106105.7    19.7   19.0  9.7  94.1     49.4   \n",
       "\n",
       "                             \n",
       "       median   std     var  \n",
       "tariff                       \n",
       "smart    28.0  28.2   796.8  \n",
       "ultra    38.0  47.8  2285.3  "
      ]
     },
     "execution_count": 79,
     "metadata": {},
     "output_type": "execute_result"
    }
   ],
   "source": [
    "statistics = df.pivot_table(index=['tariff'], values=['duration', 'gb_used', 'messages'], \n",
    "                    aggfunc={'duration': [np.mean, np.median, np.var, np.std], \n",
    "                             'gb_used': [np.mean, np.median, np.var, np.std], \n",
    "                             'messages': [np.mean, np.median, np.var, np.std]})\n",
    "statistics.applymap(\"{:.1f}\".format) #округлим выводимые значения используя format"
   ]
  },
  {
   "cell_type": "markdown",
   "id": "263507a1",
   "metadata": {},
   "source": [
    "## Вывод"
   ]
  },
  {
   "cell_type": "markdown",
   "id": "108cc471",
   "metadata": {},
   "source": [
    "Из показателей можно сделать следующие выводы:\n",
    "\n",
    "В среднем пользователь смарт проговаривает **430 минуты** в месяц, а пользователь ультра - **532 минут**.\n",
    "\n",
    "В среднем пользователь смарт использует **16.3 гб.** трафика, а пользователь тарифа ультра - **19 гб**.\n",
    "\n",
    "В среднем пользователь смарт отправляет **28 сообщений**, а пользователь тарифа ультра - **38**.\n",
    "Дисперсии тарифа ультра больше, чем у тарифа смарт, это говорит нам о большем размахе значений.\n",
    "\n",
    "В целом пользователи **тарифа \"Ультра\" пользуются услугами оператора более свободно**, они больше разговаривают, больше проводят времени в интернете, отправляют больше сообщений, при этом среднестатистический пользователь не превышает тарифные лимиты. С другой стороны среднестатистическому **пользователю тарифа \"Смарт\" приходится докупать 1 гб. трафика сверх лимита**."
   ]
  },
  {
   "cell_type": "code",
   "execution_count": 80,
   "id": "f4d8ef23",
   "metadata": {},
   "outputs": [
    {
     "data": {
      "image/png": "[encoded data removed]",
      "text/plain": [
       "<Figure size 360x360 with 1 Axes>"
      ]
     },
     "metadata": {},
     "output_type": "display_data"
    },
    {
     "data": {
      "image/png": "[encoded data removed]",
      "text/plain": [
       "<Figure size 360x360 with 1 Axes>"
      ]
     },
     "metadata": {},
     "output_type": "display_data"
    },
    {
     "data": {
      "image/png": "[encoded data removed]",
      "text/plain": [
       "<Figure size 360x360 with 1 Axes>"
      ]
     },
     "metadata": {},
     "output_type": "display_data"
    }
   ],
   "source": [
    "for column in ['duration', 'gb_used', 'messages']:\n",
    "    sns.catplot(x='tariff', y=column, data=df, kind='box')\n",
    "    plt.title(column, fontsize=15)"
   ]
  },
  {
   "cell_type": "code",
   "execution_count": 81,
   "id": "55bce489",
   "metadata": {},
   "outputs": [
    {
     "data": {
      "image/png": "[encoded data removed]",
      "text/plain": [
       "<Figure size 720x360 with 1 Axes>"
      ]
     },
     "metadata": {},
     "output_type": "display_data"
    },
    {
     "data": {
      "image/png": "[encoded data removed]",
      "text/plain": [
       "<Figure size 720x360 with 1 Axes>"
      ]
     },
     "metadata": {},
     "output_type": "display_data"
    },
    {
     "data": {
      "image/png": "[encoded data removed]",
      "text/plain": [
       "<Figure size 720x360 with 1 Axes>"
      ]
     },
     "metadata": {},
     "output_type": "display_data"
    }
   ],
   "source": [
    "list_of_columns=['duration', 'gb_used', 'messages']\n",
    "tariffs = ['ultra','smart']\n",
    "for column in list_of_columns:\n",
    "        df.loc[df.loc[:,'tariff'] == 'smart'][column].plot( kind = 'hist', bins = 30,label = 'smart', figsize = (10,5))\n",
    "        df.loc[df.loc[:,'tariff'] == \"ultra\"][column].plot( kind = 'hist',bins = 30,alpha =0.7,label = 'ultra',figsize = (10,5))\n",
    "        \n",
    "        plt.title(column)\n",
    "        plt.legend(['ultra', 'smart'])\n",
    "        plt.show()"
   ]
  },
  {
   "cell_type": "markdown",
   "id": "e81cb3a4",
   "metadata": {},
   "source": [
    "Из боксплотов и диаграмм мы можем наглядно заметить, что **дисперсии и размахи больше для тарифа Ultra**, так же **средние и медианы смещены для тарифа Ultra в большую сторону в большей степени**, чем для тарифа Smart. Так же стоит отметить, что **среди значений тарифа Ultra присутствует меньше выбросов**.\n",
    "\n",
    "Распределения продолжительности звонков и использованного трафика для обоих тарифов близки к нормальному распределению и относительно симметричны, однако имеют \"тяжелые\" хвосты. Будем считать, что распределение этих величин - **распределение Стьюдента**.\n",
    "\n",
    "Гистограмма распределения количества отправленных сообщений имеет ярко выраженный **скос вправо**. Так же из данной гистограммы наглядно видно, что **среднее значение больше, чем медиана**.\n",
    "\n",
    "Выясним, как в течении года изменялся доход от пользователей тарифа смарт. Создадим сводную таблицу, содержащую только пользователей тарифа смарт и сгруппируем ее по месяцам, вычислим медиану каждого месяца."
   ]
  },
  {
   "cell_type": "code",
   "execution_count": 82,
   "id": "de1083e5",
   "metadata": {},
   "outputs": [],
   "source": [
    "monthly_overpayment_smart = df.query('tariff==\"smart\"').pivot_table(index='month', \n",
    "                        values=['total_income'],\n",
    "                        aggfunc='median')\n",
    "months = ['Январь', 'Февраль', 'Март', 'Апрель','Май','Июнь','Июль','Август','Сентябрь','Октябрь', 'Ноябрь','Декабрь']\n",
    "monthly_overpayment_smart['months'] = months"
   ]
  },
  {
   "cell_type": "code",
   "execution_count": 83,
   "id": "d942bcf7",
   "metadata": {},
   "outputs": [
    {
     "data": {
      "image/png": "[encoded data removed]",
      "text/plain": [
       "<Figure size 432x288 with 1 Axes>"
      ]
     },
     "metadata": {},
     "output_type": "display_data"
    }
   ],
   "source": [
    "# libraries\n",
    "import numpy as np\n",
    "import matplotlib.pyplot as plt\n",
    " \n",
    "# create dataset\n",
    "total_income = monthly_overpayment_smart['total_income']\n",
    "months = monthly_overpayment_smart['months']\n",
    "\n",
    "width = [0.1,0.2,3,1.5,0.3]\n",
    "x_pos = np.arange(len(months))\n",
    " \n",
    "# Create bars and choose color\n",
    "plt.bar(x_pos, total_income, color = (0.5,0.1,0.5,0.6))\n",
    " \n",
    "# Add title and axis names\n",
    "\n",
    "plt.xlabel('months')\n",
    "plt.ylabel('total_income')\n",
    " \n",
    "# Create names on the x axis\n",
    "plt.xticks(x_pos, months, rotation=90)\n",
    "\n",
    "# Create names on the hist\n",
    "plt.title('График средней выручки от пользователей тарифа \"Смарт\" в зависимости от месяца\\n\\n', fontsize=(14))\n",
    "\n",
    "# Show graph\n",
    "plt.show()"
   ]
  },
  {
   "cell_type": "code",
   "execution_count": 84,
   "id": "9501801d",
   "metadata": {},
   "outputs": [
    {
     "data": {
      "text/html": [
       "<div>\n",
       "<style scoped>\n",
       "    .dataframe tbody tr th:only-of-type {\n",
       "        vertical-align: middle;\n",
       "    }\n",
       "\n",
       "    .dataframe tbody tr th {\n",
       "        vertical-align: top;\n",
       "    }\n",
       "\n",
       "    .dataframe thead th {\n",
       "        text-align: right;\n",
       "    }\n",
       "</style>\n",
       "<table border=\"1\" class=\"dataframe\">\n",
       "  <thead>\n",
       "    <tr style=\"text-align: right;\">\n",
       "      <th></th>\n",
       "      <th>total_income</th>\n",
       "    </tr>\n",
       "    <tr>\n",
       "      <th>tariff</th>\n",
       "      <th></th>\n",
       "    </tr>\n",
       "  </thead>\n",
       "  <tbody>\n",
       "    <tr>\n",
       "      <th>smart</th>\n",
       "      <td>2913190.0</td>\n",
       "    </tr>\n",
       "    <tr>\n",
       "      <th>ultra</th>\n",
       "      <td>2039100.0</td>\n",
       "    </tr>\n",
       "  </tbody>\n",
       "</table>\n",
       "</div>"
      ],
      "text/plain": [
       "        total_income\n",
       "tariff              \n",
       "smart      2913190.0\n",
       "ultra      2039100.0"
      ]
     },
     "execution_count": 84,
     "metadata": {},
     "output_type": "execute_result"
    }
   ],
   "source": [
    "df.pivot_table(index='tariff', values='total_income', aggfunc='sum')"
   ]
  },
  {
   "cell_type": "code",
   "execution_count": 85,
   "id": "f4904153",
   "metadata": {},
   "outputs": [
    {
     "data": {
      "text/plain": [
       "smart    351\n",
       "ultra    149\n",
       "Name: tariff, dtype: int64"
      ]
     },
     "execution_count": 85,
     "metadata": {},
     "output_type": "execute_result"
    }
   ],
   "source": [
    "users['tariff'].value_counts()"
   ]
  },
  {
   "cell_type": "markdown",
   "id": "f4b20e25",
   "metadata": {},
   "source": [
    "**Тариф \"Смарт\"** принес компании в 2018 году прибыль в **2,9 млн. руб**, в то время как тариф **\"Ультра\" - 2,04**.\n",
    "\n",
    "Пользователей тарифа **\"Смарт\" - 351 человек, а \"Ультра\" имеет всего 149 пользователей**.\n",
    "\n",
    "Выясним равны ли средние выручки по тарифам."
   ]
  },
  {
   "cell_type": "markdown",
   "id": "8c96848f",
   "metadata": {},
   "source": [
    "## Вывод"
   ]
  },
  {
   "cell_type": "markdown",
   "id": "c5795753",
   "metadata": {},
   "source": [
    "В результате анализа данных, нам удалось расчитать основные статистические характерстики для значений отправленных сообщений, продолжительности звонков и использованного трафика. По этим характеристикам можно сделать следующий вывод:\n",
    "\n",
    "1) В среднем пользователь смарт проговаривает **430 минуты** в месяц, а пользователь ультра - **532 минут**.\n",
    "\n",
    "2) В среднем пользователь смарт использует **16.3 гб. трафика**, а пользователь тарифа ультра - **19 гб**.\n",
    "\n",
    "3) В среднем пользователь смарт отправляет **28 сообщений**, а пользователь тарифа ультра - **38**.\n",
    "\n",
    "Дисперсии тарифа ультра больше, чем у тарифа смарт, это говорит нам о большем размахе значений.\n",
    "\n",
    "Так же мы построили боксплоты и гистограммы распределений значений. Графики позволили нам убедиться в том, что размах значений для всех действий пользователей тарифа \"Ультра\" шире, чем размах значений пользователей тарифа \"Смарт\". Боксплоты наглядно проиллюстрировали наличие большого количества выбросов пользователей тарифа \"Смарт\". Возможно для этих пользователей тариф Ультра мог бы подойти лучше.\n",
    "\n",
    "К концу года, в среднем, пользователем тарифа \"Смарт\" стало сильно не хватать заложенных в тариф лимитов, за услуги связи в декабре они в среднем заплатили 1200 руб. за услуги связи, или если говорить проще, две с половиной абонентских платы.\n",
    "\n",
    "Суммарная выручка от всех пользователей тарифа \"Смарт\" составила 2,6 млн. руб, в то время как пользователи тарифа \"Ультра\" принесли 2,04 млн. руб. дохода. Стоит так же проанализировать средние выручки от пользователей этих тарифов."
   ]
  },
  {
   "cell_type": "markdown",
   "id": "5d21499f",
   "metadata": {},
   "source": [
    "# Проверка гипотез"
   ]
  },
  {
   "cell_type": "markdown",
   "id": "3ac2e8b3",
   "metadata": {},
   "source": [
    "Проверим гипотезу о том, что средняя выручка от пользователей тарифа \"Смарт\" равна средней выручке от пользователей с тарифа \"Ультра\". Нулевая гипотеза будет гласить о том, что средние выручки от тарифов равны, а альтернативная - о том, что средние выручки отличаются."
   ]
  },
  {
   "cell_type": "markdown",
   "id": "ed539d1a",
   "metadata": {},
   "source": [
    "𝐻0  - средняя выручка от пользователей тарифа \"Ультра\" равна средней выручке от пользователей тарифа \"Смарт\"\n",
    "\n",
    "𝐻1 - средние выручки отличаются\n",
    "\n",
    "𝛼=0.1% - уровень значимости"
   ]
  },
  {
   "cell_type": "code",
   "execution_count": 86,
   "id": "d8c86f18",
   "metadata": {},
   "outputs": [],
   "source": [
    "alpha=.001"
   ]
  },
  {
   "cell_type": "code",
   "execution_count": 87,
   "id": "61b9812a",
   "metadata": {},
   "outputs": [],
   "source": [
    "smart = df.query('tariff==\"smart\"')['total_income']\n",
    "ultra = df.query('tariff==\"ultra\"')['total_income']"
   ]
  },
  {
   "cell_type": "code",
   "execution_count": 88,
   "id": "e6382424",
   "metadata": {},
   "outputs": [
    {
     "data": {
      "text/plain": [
       "user_id  month\n",
       "1001     11       1150.0\n",
       "         12        550.0\n",
       "1002     6         550.0\n",
       "         7        1150.0\n",
       "         8        1550.0\n",
       "                   ...  \n",
       "1498     10       1750.0\n",
       "1499     9         550.0\n",
       "         10       1150.0\n",
       "         11       1549.0\n",
       "         12        613.0\n",
       "Name: total_income, Length: 2229, dtype: float64"
      ]
     },
     "execution_count": 88,
     "metadata": {},
     "output_type": "execute_result"
    }
   ],
   "source": [
    "smart"
   ]
  },
  {
   "cell_type": "code",
   "execution_count": 89,
   "id": "1dccac2b",
   "metadata": {},
   "outputs": [
    {
     "data": {
      "text/plain": [
       "user_id  month\n",
       "1000     5        1950.0\n",
       "         6        1950.0\n",
       "         7        1950.0\n",
       "         8        1950.0\n",
       "         9        1950.0\n",
       "                   ...  \n",
       "1495     8        1950.0\n",
       "         9        2400.0\n",
       "         10       1950.0\n",
       "         11       3300.0\n",
       "         12       1950.0\n",
       "Name: total_income, Length: 985, dtype: float64"
      ]
     },
     "execution_count": 89,
     "metadata": {},
     "output_type": "execute_result"
    }
   ],
   "source": [
    "ultra"
   ]
  },
  {
   "cell_type": "markdown",
   "id": "3a8a3cf4",
   "metadata": {},
   "source": [
    "Выясним, как различаются дисперсии выборок пользователей тарифа смарт и тарифа ультра. Зададим степень свободы 1, т.к. работаем с выборками из генеральной совокупности"
   ]
  },
  {
   "cell_type": "code",
   "execution_count": 90,
   "id": "e9853be4",
   "metadata": {},
   "outputs": [
    {
     "name": "stdout",
     "output_type": "stream",
     "text": [
      "Дисперсия выборки пользователей тарифа Смарт: 684832.7240895072\n",
      "Дисперсия выборки пользователей тарифа Ультра: 141516.7450786183\n"
     ]
    }
   ],
   "source": [
    "print('Дисперсия выборки пользователей тарифа Смарт:', smart.var(ddof=1))\n",
    "print('Дисперсия выборки пользователей тарифа Ультра:', ultra.var(ddof=1))"
   ]
  },
  {
   "cell_type": "markdown",
   "id": "06bf44f6",
   "metadata": {},
   "source": [
    "Проверим гипотезу, используя встроенную в библиотеку scipy функцию ttest_ind - которая вычисляет уровень значимости критерия Стьюдента для двух независимых выборок. Т.к. дисперсии для выборок сильно отличаются, то небоходимо учесть это в функции, добавив аргумент equal_var=False."
   ]
  },
  {
   "cell_type": "code",
   "execution_count": 91,
   "id": "5b4e9cc6",
   "metadata": {},
   "outputs": [
    {
     "name": "stdout",
     "output_type": "stream",
     "text": [
      "p-значение: 4.7897104728368674e-238\n",
      "Отвергаем нулевую гипотезу\n"
     ]
    }
   ],
   "source": [
    "results = st.ttest_ind(smart, ultra, equal_var=False) \n",
    "print('p-значение:', results.pvalue)\n",
    "\n",
    "if (results.pvalue < alpha):\n",
    "    print(\"Отвергаем нулевую гипотезу\")\n",
    "else:\n",
    "    print(\"Не получилось отвергнуть нулевую гипотезу\")"
   ]
  },
  {
   "cell_type": "markdown",
   "id": "0784abf6",
   "metadata": {},
   "source": [
    "Мы отвергаем нулевую гипотезу, гласящую о том, что средние выручки пользователей тарифов равны."
   ]
  },
  {
   "cell_type": "code",
   "execution_count": 92,
   "id": "137869cc",
   "metadata": {},
   "outputs": [
    {
     "data": {
      "text/html": [
       "<div>\n",
       "<style scoped>\n",
       "    .dataframe tbody tr th:only-of-type {\n",
       "        vertical-align: middle;\n",
       "    }\n",
       "\n",
       "    .dataframe tbody tr th {\n",
       "        vertical-align: top;\n",
       "    }\n",
       "\n",
       "    .dataframe thead th {\n",
       "        text-align: right;\n",
       "    }\n",
       "</style>\n",
       "<table border=\"1\" class=\"dataframe\">\n",
       "  <thead>\n",
       "    <tr style=\"text-align: right;\">\n",
       "      <th></th>\n",
       "      <th>total_income</th>\n",
       "    </tr>\n",
       "    <tr>\n",
       "      <th>tariff</th>\n",
       "      <th></th>\n",
       "    </tr>\n",
       "  </thead>\n",
       "  <tbody>\n",
       "    <tr>\n",
       "      <th>smart</th>\n",
       "      <td>1306.949305</td>\n",
       "    </tr>\n",
       "    <tr>\n",
       "      <th>ultra</th>\n",
       "      <td>2070.152284</td>\n",
       "    </tr>\n",
       "  </tbody>\n",
       "</table>\n",
       "</div>"
      ],
      "text/plain": [
       "        total_income\n",
       "tariff              \n",
       "smart    1306.949305\n",
       "ultra    2070.152284"
      ]
     },
     "execution_count": 92,
     "metadata": {},
     "output_type": "execute_result"
    }
   ],
   "source": [
    "df.pivot_table(index='tariff', values='total_income', aggfunc='mean')"
   ]
  },
  {
   "cell_type": "markdown",
   "id": "abb5ecdd",
   "metadata": {},
   "source": [
    "Действительно, из таблицы видно, что средняя выручка отличается почти в два раза\n",
    "\n",
    "Исходя из результатов проверки гипотезы, мы так же можем с вероятностью 99,9% утверждать, что средняя выручка пользователя тарифа \"Смарт\" и тарифа \"Ультра\" отличаются."
   ]
  },
  {
   "cell_type": "markdown",
   "id": "68478426",
   "metadata": {},
   "source": [
    "Проверим гипотезу о том, что средняя выручка от пользователей из Москвы равна средней выручке от пользователей из других регионов.\n",
    "\n",
    "𝐻0  - средняя выручка от пользователей из г. Москва равно средней выручке пользователей других городов.\n",
    "\n",
    "𝐻1  - средние выручки отличаются\n",
    "\n",
    "𝛼=0.1%  - уровень значимости"
   ]
  },
  {
   "cell_type": "code",
   "execution_count": 93,
   "id": "59793093",
   "metadata": {},
   "outputs": [],
   "source": [
    "df = df.join(users.loc[:,['user_id', 'city']].set_index('user_id'), how='outer')"
   ]
  },
  {
   "cell_type": "code",
   "execution_count": 94,
   "id": "c56558ae",
   "metadata": {},
   "outputs": [],
   "source": [
    "moscow = df.query('city == \"Москва\"')['total_income']\n",
    "others = df.query('city != \"Москва\"')['total_income']"
   ]
  },
  {
   "cell_type": "code",
   "execution_count": 95,
   "id": "edae488e",
   "metadata": {},
   "outputs": [
    {
     "name": "stdout",
     "output_type": "stream",
     "text": [
      "Дисперсия выборки пользователей г. Москвы: 567709.3186176921\n",
      "Дисперсия выборки пользователей остальных городов: 659676.7721174321\n"
     ]
    }
   ],
   "source": [
    "print('Дисперсия выборки пользователей г. Москвы:', moscow.var(ddof=1))\n",
    "print('Дисперсия выборки пользователей остальных городов:', others.var(ddof=1))"
   ]
  },
  {
   "cell_type": "code",
   "execution_count": 96,
   "id": "4a6e0a27",
   "metadata": {},
   "outputs": [
    {
     "name": "stdout",
     "output_type": "stream",
     "text": [
      "p-значение: 0.5749090668370982\n",
      "Не получилось отвергнуть нулевую гипотезу\n"
     ]
    }
   ],
   "source": [
    "results = st.ttest_ind(moscow, others, equal_var=False) \n",
    "print('p-значение:', results.pvalue)\n",
    "\n",
    "if (results.pvalue < alpha):\n",
    "    print(\"Отвергаем нулевую гипотезу\")\n",
    "else:\n",
    "    print(\"Не получилось отвергнуть нулевую гипотезу\")"
   ]
  },
  {
   "cell_type": "markdown",
   "id": "56e16ee1",
   "metadata": {},
   "source": [
    "В данном случае нам не удалось отвергнуть нулевую гипотезу. "
   ]
  },
  {
   "cell_type": "markdown",
   "id": "a9a35fb4",
   "metadata": {},
   "source": [
    "## Вывод по статистическому анализу"
   ]
  },
  {
   "cell_type": "markdown",
   "id": "6e4940ce",
   "metadata": {},
   "source": [
    "В результате статистического анализа мы проверили две гипотезы с уровнем значимости  𝛼=5% :\n",
    "\n",
    "1. Первая нулевая гипотеза гласила о том, что средние выручки от пользователей тарифа \"Smart\" и тарифа \"Ultra\" равны.\n",
    "2. Вторая нулевая гипотеза гласила о том, что средние выручки от пользователей из Москвы равны средним выручкам от пользователей из других городов.\n",
    "\n",
    "В качестве альтернативных гипотез для обоих случаев мы выбрали утверждение о том, что средние выручки не будут равны. Для оценки мы использовали уровень значимости критерия Стьюдента для независимых выборок. В данном случае мы используем именно его, т.к. средние выручки выборок не зависят друг от друга.\n",
    "\n",
    "* В случае с тарифами мы отвергли нулевую гипотезу, и сделали вывод о том, что мы можем с вероятностью 99,9% утверждать, что средняя выручка пользователя тарифа \"Смарт\" и тарифа \"Ультра\" отличаются\n",
    "* В случае с городами мы не смогли отвергнуть нулевую гипотезу."
   ]
  },
  {
   "cell_type": "markdown",
   "id": "00c44f6a",
   "metadata": {},
   "source": [
    "# Общий вывод"
   ]
  },
  {
   "cell_type": "markdown",
   "id": "d1d0674e",
   "metadata": {},
   "source": [
    "Для анализа нам была предоставлена информация о пользователях телекомуникационной компании «Мегалайн» за 2018 год. Вся необходима информация была сохранена в 5 датасетах, содержащих общую информацию о клиентах, информацию о датах и продолжительности звонков, отправленных сообщениях, интернет сессиях и использованном трафике, а так же общую информацию о тарифах компании.\n",
    "\n",
    "Более перспективным для компании является тариф \"Ультра\", на момент исследования, он имеет намного меньше пользователей, однако средняя выручка, которую приносит тариф компании - больше. Среди пользователей тарифа \"Смарт\" заметна тенденция к увеличению потребления услуг компании, что в конечном итоге может привести их к более дорогому \"Ультра\". Увеличение количества пользователей этого тарифа смогло бы значительно увеличить выручку компании. Тариф \"Смарт\", напротив, прекрасно показывает себя, при текущих параметрах. Ему удалось привлечь значительное количество пользователей, которые вынуждены доплачивать за дополнительные услуги по более высоким тарифам, чем пользователи \"Ультра\", и тем самым приносить значительный доход."
   ]
  }
 ],
 "metadata": {
  "ExecuteTimeLog": [
   {
    "duration": 1164,
    "start_time": "2022-05-30T21:04:12.421Z"
   },
   {
    "duration": 140,
    "start_time": "2022-05-30T21:04:13.587Z"
   },
   {
    "duration": 0,
    "start_time": "2022-05-30T21:04:13.732Z"
   },
   {
    "duration": 0,
    "start_time": "2022-05-30T21:04:13.734Z"
   },
   {
    "duration": 0,
    "start_time": "2022-05-30T21:04:13.735Z"
   },
   {
    "duration": 0,
    "start_time": "2022-05-30T21:04:13.736Z"
   },
   {
    "duration": 0,
    "start_time": "2022-05-30T21:04:13.738Z"
   },
   {
    "duration": 0,
    "start_time": "2022-05-30T21:04:13.738Z"
   },
   {
    "duration": 0,
    "start_time": "2022-05-30T21:04:13.740Z"
   },
   {
    "duration": 0,
    "start_time": "2022-05-30T21:04:13.741Z"
   },
   {
    "duration": 0,
    "start_time": "2022-05-30T21:04:13.742Z"
   },
   {
    "duration": 0,
    "start_time": "2022-05-30T21:04:13.759Z"
   },
   {
    "duration": 0,
    "start_time": "2022-05-30T21:04:13.760Z"
   },
   {
    "duration": 0,
    "start_time": "2022-05-30T21:04:13.763Z"
   },
   {
    "duration": 0,
    "start_time": "2022-05-30T21:04:13.764Z"
   },
   {
    "duration": 0,
    "start_time": "2022-05-30T21:04:13.765Z"
   },
   {
    "duration": 0,
    "start_time": "2022-05-30T21:04:13.767Z"
   },
   {
    "duration": 0,
    "start_time": "2022-05-30T21:04:13.769Z"
   },
   {
    "duration": 0,
    "start_time": "2022-05-30T21:04:13.770Z"
   },
   {
    "duration": 0,
    "start_time": "2022-05-30T21:04:13.772Z"
   },
   {
    "duration": 0,
    "start_time": "2022-05-30T21:04:13.773Z"
   },
   {
    "duration": 0,
    "start_time": "2022-05-30T21:04:13.775Z"
   },
   {
    "duration": 0,
    "start_time": "2022-05-30T21:04:13.776Z"
   },
   {
    "duration": 0,
    "start_time": "2022-05-30T21:04:13.777Z"
   },
   {
    "duration": 0,
    "start_time": "2022-05-30T21:04:13.778Z"
   },
   {
    "duration": 0,
    "start_time": "2022-05-30T21:04:13.779Z"
   },
   {
    "duration": 0,
    "start_time": "2022-05-30T21:04:13.780Z"
   },
   {
    "duration": 0,
    "start_time": "2022-05-30T21:04:13.782Z"
   },
   {
    "duration": 0,
    "start_time": "2022-05-30T21:04:13.783Z"
   },
   {
    "duration": 0,
    "start_time": "2022-05-30T21:04:13.784Z"
   },
   {
    "duration": 0,
    "start_time": "2022-05-30T21:04:13.785Z"
   },
   {
    "duration": 0,
    "start_time": "2022-05-30T21:04:13.787Z"
   },
   {
    "duration": 0,
    "start_time": "2022-05-30T21:04:13.788Z"
   },
   {
    "duration": 0,
    "start_time": "2022-05-30T21:04:13.789Z"
   },
   {
    "duration": 0,
    "start_time": "2022-05-30T21:04:13.791Z"
   },
   {
    "duration": 0,
    "start_time": "2022-05-30T21:04:13.792Z"
   },
   {
    "duration": 0,
    "start_time": "2022-05-30T21:04:13.794Z"
   },
   {
    "duration": 0,
    "start_time": "2022-05-30T21:04:13.795Z"
   },
   {
    "duration": 0,
    "start_time": "2022-05-30T21:04:13.859Z"
   },
   {
    "duration": 1,
    "start_time": "2022-05-30T21:04:13.861Z"
   },
   {
    "duration": 0,
    "start_time": "2022-05-30T21:04:13.863Z"
   },
   {
    "duration": 0,
    "start_time": "2022-05-30T21:04:13.865Z"
   },
   {
    "duration": 0,
    "start_time": "2022-05-30T21:04:13.866Z"
   },
   {
    "duration": 0,
    "start_time": "2022-05-30T21:04:13.867Z"
   },
   {
    "duration": 0,
    "start_time": "2022-05-30T21:04:13.869Z"
   },
   {
    "duration": 0,
    "start_time": "2022-05-30T21:04:13.869Z"
   },
   {
    "duration": 0,
    "start_time": "2022-05-30T21:04:13.870Z"
   },
   {
    "duration": 0,
    "start_time": "2022-05-30T21:04:13.871Z"
   },
   {
    "duration": 0,
    "start_time": "2022-05-30T21:04:13.872Z"
   },
   {
    "duration": 0,
    "start_time": "2022-05-30T21:04:13.874Z"
   },
   {
    "duration": 0,
    "start_time": "2022-05-30T21:04:13.876Z"
   },
   {
    "duration": 0,
    "start_time": "2022-05-30T21:04:13.877Z"
   },
   {
    "duration": 0,
    "start_time": "2022-05-30T21:04:13.878Z"
   },
   {
    "duration": 0,
    "start_time": "2022-05-30T21:04:13.879Z"
   },
   {
    "duration": 0,
    "start_time": "2022-05-30T21:04:13.881Z"
   },
   {
    "duration": 0,
    "start_time": "2022-05-30T21:04:13.882Z"
   },
   {
    "duration": 1,
    "start_time": "2022-05-30T21:04:13.883Z"
   },
   {
    "duration": 0,
    "start_time": "2022-05-30T21:04:13.885Z"
   },
   {
    "duration": 0,
    "start_time": "2022-05-30T21:04:13.886Z"
   },
   {
    "duration": 0,
    "start_time": "2022-05-30T21:04:13.888Z"
   },
   {
    "duration": 0,
    "start_time": "2022-05-30T21:04:13.889Z"
   },
   {
    "duration": 0,
    "start_time": "2022-05-30T21:04:13.891Z"
   },
   {
    "duration": 0,
    "start_time": "2022-05-30T21:04:13.892Z"
   },
   {
    "duration": 0,
    "start_time": "2022-05-30T21:04:13.894Z"
   },
   {
    "duration": 0,
    "start_time": "2022-05-30T21:04:13.897Z"
   },
   {
    "duration": 0,
    "start_time": "2022-05-30T21:04:13.961Z"
   },
   {
    "duration": 0,
    "start_time": "2022-05-30T21:04:13.962Z"
   },
   {
    "duration": 0,
    "start_time": "2022-05-30T21:04:13.964Z"
   },
   {
    "duration": 0,
    "start_time": "2022-05-30T21:04:13.965Z"
   },
   {
    "duration": 0,
    "start_time": "2022-05-30T21:04:13.966Z"
   },
   {
    "duration": 0,
    "start_time": "2022-05-30T21:04:13.967Z"
   },
   {
    "duration": 0,
    "start_time": "2022-05-30T21:04:13.968Z"
   },
   {
    "duration": 0,
    "start_time": "2022-05-30T21:04:13.970Z"
   },
   {
    "duration": 0,
    "start_time": "2022-05-30T21:04:13.970Z"
   },
   {
    "duration": 0,
    "start_time": "2022-05-30T21:04:13.972Z"
   },
   {
    "duration": 0,
    "start_time": "2022-05-30T21:04:13.972Z"
   },
   {
    "duration": 0,
    "start_time": "2022-05-30T21:04:13.973Z"
   },
   {
    "duration": 0,
    "start_time": "2022-05-30T21:04:13.974Z"
   },
   {
    "duration": 0,
    "start_time": "2022-05-30T21:04:13.975Z"
   },
   {
    "duration": 0,
    "start_time": "2022-05-30T21:04:13.977Z"
   },
   {
    "duration": 0,
    "start_time": "2022-05-30T21:04:13.978Z"
   },
   {
    "duration": 0,
    "start_time": "2022-05-30T21:04:13.980Z"
   },
   {
    "duration": 0,
    "start_time": "2022-05-30T21:04:13.981Z"
   },
   {
    "duration": 0,
    "start_time": "2022-05-30T21:04:13.982Z"
   },
   {
    "duration": 0,
    "start_time": "2022-05-30T21:04:13.983Z"
   },
   {
    "duration": 0,
    "start_time": "2022-05-30T21:04:13.984Z"
   },
   {
    "duration": 0,
    "start_time": "2022-05-30T21:04:13.985Z"
   },
   {
    "duration": 0,
    "start_time": "2022-05-30T21:04:13.986Z"
   },
   {
    "duration": 0,
    "start_time": "2022-05-30T21:04:13.988Z"
   },
   {
    "duration": 0,
    "start_time": "2022-05-30T21:04:13.990Z"
   },
   {
    "duration": 0,
    "start_time": "2022-05-30T21:04:13.991Z"
   },
   {
    "duration": 0,
    "start_time": "2022-05-30T21:04:13.992Z"
   },
   {
    "duration": 0,
    "start_time": "2022-05-30T21:04:13.993Z"
   },
   {
    "duration": 0,
    "start_time": "2022-05-30T21:04:13.994Z"
   },
   {
    "duration": 0,
    "start_time": "2022-05-30T21:04:14.059Z"
   },
   {
    "duration": 411,
    "start_time": "2022-05-30T21:08:39.100Z"
   },
   {
    "duration": 4,
    "start_time": "2022-05-30T21:08:44.666Z"
   },
   {
    "duration": 505,
    "start_time": "2022-05-30T21:08:44.673Z"
   },
   {
    "duration": 83,
    "start_time": "2022-05-30T21:08:45.180Z"
   },
   {
    "duration": 68,
    "start_time": "2022-05-30T21:08:45.264Z"
   },
   {
    "duration": 4,
    "start_time": "2022-05-30T21:08:45.335Z"
   },
   {
    "duration": 124,
    "start_time": "2022-05-30T21:08:45.341Z"
   },
   {
    "duration": 3,
    "start_time": "2022-05-30T21:08:45.467Z"
   },
   {
    "duration": 199,
    "start_time": "2022-05-30T21:08:45.472Z"
   },
   {
    "duration": 22,
    "start_time": "2022-05-30T21:08:45.673Z"
   },
   {
    "duration": 564,
    "start_time": "2022-05-30T21:08:45.697Z"
   },
   {
    "duration": 7,
    "start_time": "2022-05-30T21:08:46.263Z"
   },
   {
    "duration": 18,
    "start_time": "2022-05-30T21:08:46.272Z"
   },
   {
    "duration": 411,
    "start_time": "2022-05-30T21:08:46.291Z"
   },
   {
    "duration": 7,
    "start_time": "2022-05-30T21:08:46.704Z"
   },
   {
    "duration": 20,
    "start_time": "2022-05-30T21:08:46.713Z"
   },
   {
    "duration": 4,
    "start_time": "2022-05-30T21:08:46.734Z"
   },
   {
    "duration": 31,
    "start_time": "2022-05-30T21:08:46.759Z"
   },
   {
    "duration": 37,
    "start_time": "2022-05-30T21:08:46.792Z"
   },
   {
    "duration": 43,
    "start_time": "2022-05-30T21:08:46.831Z"
   },
   {
    "duration": 83,
    "start_time": "2022-05-30T21:08:46.876Z"
   },
   {
    "duration": 262,
    "start_time": "2022-05-30T21:08:46.961Z"
   },
   {
    "duration": 36,
    "start_time": "2022-05-30T21:08:47.227Z"
   },
   {
    "duration": 7,
    "start_time": "2022-05-30T21:08:47.265Z"
   },
   {
    "duration": 59,
    "start_time": "2022-05-30T21:08:47.274Z"
   },
   {
    "duration": 48,
    "start_time": "2022-05-30T21:08:47.337Z"
   },
   {
    "duration": 34,
    "start_time": "2022-05-30T21:08:47.387Z"
   },
   {
    "duration": 42,
    "start_time": "2022-05-30T21:08:47.423Z"
   },
   {
    "duration": 69,
    "start_time": "2022-05-30T21:08:47.467Z"
   },
   {
    "duration": 133,
    "start_time": "2022-05-30T21:08:47.558Z"
   },
   {
    "duration": 17,
    "start_time": "2022-05-30T21:08:47.693Z"
   },
   {
    "duration": 7,
    "start_time": "2022-05-30T21:08:47.712Z"
   },
   {
    "duration": 22,
    "start_time": "2022-05-30T21:08:47.721Z"
   },
   {
    "duration": 38,
    "start_time": "2022-05-30T21:08:47.745Z"
   },
   {
    "duration": 23,
    "start_time": "2022-05-30T21:08:47.784Z"
   },
   {
    "duration": 52,
    "start_time": "2022-05-30T21:08:47.809Z"
   },
   {
    "duration": 145,
    "start_time": "2022-05-30T21:08:47.863Z"
   },
   {
    "duration": 19,
    "start_time": "2022-05-30T21:08:48.010Z"
   },
   {
    "duration": 14,
    "start_time": "2022-05-30T21:08:48.031Z"
   },
   {
    "duration": 21,
    "start_time": "2022-05-30T21:08:48.046Z"
   },
   {
    "duration": 13,
    "start_time": "2022-05-30T21:08:48.069Z"
   },
   {
    "duration": 25,
    "start_time": "2022-05-30T21:08:48.084Z"
   },
   {
    "duration": 15,
    "start_time": "2022-05-30T21:08:48.110Z"
   },
   {
    "duration": 41,
    "start_time": "2022-05-30T21:08:48.127Z"
   },
   {
    "duration": 7,
    "start_time": "2022-05-30T21:08:48.170Z"
   },
   {
    "duration": 8,
    "start_time": "2022-05-30T21:08:48.179Z"
   },
   {
    "duration": 12,
    "start_time": "2022-05-30T21:08:48.189Z"
   },
   {
    "duration": 13,
    "start_time": "2022-05-30T21:08:48.203Z"
   },
   {
    "duration": 45,
    "start_time": "2022-05-30T21:08:48.217Z"
   },
   {
    "duration": 14,
    "start_time": "2022-05-30T21:08:48.264Z"
   },
   {
    "duration": 11,
    "start_time": "2022-05-30T21:08:48.280Z"
   },
   {
    "duration": 28,
    "start_time": "2022-05-30T21:08:48.293Z"
   },
   {
    "duration": 8,
    "start_time": "2022-05-30T21:08:48.323Z"
   },
   {
    "duration": 46,
    "start_time": "2022-05-30T21:08:48.333Z"
   },
   {
    "duration": 7,
    "start_time": "2022-05-30T21:08:48.381Z"
   },
   {
    "duration": 6,
    "start_time": "2022-05-30T21:08:48.390Z"
   },
   {
    "duration": 31,
    "start_time": "2022-05-30T21:08:48.397Z"
   },
   {
    "duration": 107,
    "start_time": "2022-05-30T21:08:48.431Z"
   },
   {
    "duration": 23,
    "start_time": "2022-05-30T21:08:48.541Z"
   },
   {
    "duration": 39,
    "start_time": "2022-05-30T21:08:48.566Z"
   },
   {
    "duration": 11,
    "start_time": "2022-05-30T21:08:48.607Z"
   },
   {
    "duration": 92,
    "start_time": "2022-05-30T21:08:48.620Z"
   },
   {
    "duration": 12,
    "start_time": "2022-05-30T21:08:48.714Z"
   },
   {
    "duration": 44,
    "start_time": "2022-05-30T21:08:48.728Z"
   },
   {
    "duration": 23,
    "start_time": "2022-05-30T21:08:48.774Z"
   },
   {
    "duration": 15,
    "start_time": "2022-05-30T21:08:48.800Z"
   },
   {
    "duration": 45,
    "start_time": "2022-05-30T21:08:48.817Z"
   },
   {
    "duration": 73,
    "start_time": "2022-05-30T21:08:48.864Z"
   },
   {
    "duration": 6,
    "start_time": "2022-05-30T21:08:48.939Z"
   },
   {
    "duration": 5,
    "start_time": "2022-05-30T21:08:48.959Z"
   },
   {
    "duration": 13,
    "start_time": "2022-05-30T21:08:48.965Z"
   },
   {
    "duration": 9,
    "start_time": "2022-05-30T21:08:48.980Z"
   },
   {
    "duration": 11,
    "start_time": "2022-05-30T21:08:48.991Z"
   },
   {
    "duration": 9,
    "start_time": "2022-05-30T21:08:49.004Z"
   },
   {
    "duration": 10518,
    "start_time": "2022-05-30T21:08:49.014Z"
   },
   {
    "duration": 36,
    "start_time": "2022-05-30T21:08:59.534Z"
   },
   {
    "duration": 27,
    "start_time": "2022-05-30T21:08:59.571Z"
   },
   {
    "duration": 13,
    "start_time": "2022-05-30T21:08:59.600Z"
   },
   {
    "duration": 48,
    "start_time": "2022-05-30T21:08:59.615Z"
   },
   {
    "duration": 845,
    "start_time": "2022-05-30T21:08:59.665Z"
   },
   {
    "duration": 920,
    "start_time": "2022-05-30T21:09:00.512Z"
   },
   {
    "duration": 12,
    "start_time": "2022-05-30T21:09:01.434Z"
   },
   {
    "duration": 216,
    "start_time": "2022-05-30T21:09:01.458Z"
   },
   {
    "duration": 13,
    "start_time": "2022-05-30T21:09:01.680Z"
   },
   {
    "duration": 23,
    "start_time": "2022-05-30T21:09:01.695Z"
   },
   {
    "duration": 33,
    "start_time": "2022-05-30T21:09:01.720Z"
   },
   {
    "duration": 45,
    "start_time": "2022-05-30T21:09:01.755Z"
   },
   {
    "duration": 48,
    "start_time": "2022-05-30T21:09:01.802Z"
   },
   {
    "duration": 59,
    "start_time": "2022-05-30T21:09:01.853Z"
   },
   {
    "duration": 72,
    "start_time": "2022-05-30T21:09:01.914Z"
   },
   {
    "duration": 52,
    "start_time": "2022-05-30T21:09:01.988Z"
   },
   {
    "duration": 51,
    "start_time": "2022-05-30T21:09:02.043Z"
   },
   {
    "duration": 30,
    "start_time": "2022-05-30T21:09:02.096Z"
   },
   {
    "duration": 36,
    "start_time": "2022-05-30T21:09:02.128Z"
   },
   {
    "duration": 27,
    "start_time": "2022-05-30T21:09:02.166Z"
   },
   {
    "duration": 29,
    "start_time": "2022-05-30T21:09:02.196Z"
   },
   {
    "duration": 17,
    "start_time": "2022-05-30T21:25:43.507Z"
   },
   {
    "duration": 15,
    "start_time": "2022-05-30T21:26:37.640Z"
   },
   {
    "duration": 20,
    "start_time": "2022-05-30T21:35:58.590Z"
   },
   {
    "duration": 10,
    "start_time": "2022-05-30T21:51:31.377Z"
   },
   {
    "duration": 13,
    "start_time": "2022-05-30T21:51:51.983Z"
   },
   {
    "duration": 1311,
    "start_time": "2022-05-31T09:06:09.781Z"
   },
   {
    "duration": 140,
    "start_time": "2022-05-31T09:06:11.094Z"
   },
   {
    "duration": 0,
    "start_time": "2022-05-31T09:06:11.237Z"
   },
   {
    "duration": 0,
    "start_time": "2022-05-31T09:06:11.239Z"
   },
   {
    "duration": 0,
    "start_time": "2022-05-31T09:06:11.240Z"
   },
   {
    "duration": 0,
    "start_time": "2022-05-31T09:06:11.241Z"
   },
   {
    "duration": 0,
    "start_time": "2022-05-31T09:06:11.242Z"
   },
   {
    "duration": 0,
    "start_time": "2022-05-31T09:06:11.242Z"
   },
   {
    "duration": 0,
    "start_time": "2022-05-31T09:06:11.252Z"
   },
   {
    "duration": 0,
    "start_time": "2022-05-31T09:06:11.253Z"
   },
   {
    "duration": 0,
    "start_time": "2022-05-31T09:06:11.254Z"
   },
   {
    "duration": 0,
    "start_time": "2022-05-31T09:06:11.255Z"
   },
   {
    "duration": 0,
    "start_time": "2022-05-31T09:06:11.255Z"
   },
   {
    "duration": 0,
    "start_time": "2022-05-31T09:06:11.257Z"
   },
   {
    "duration": 0,
    "start_time": "2022-05-31T09:06:11.257Z"
   },
   {
    "duration": 0,
    "start_time": "2022-05-31T09:06:11.259Z"
   },
   {
    "duration": 0,
    "start_time": "2022-05-31T09:06:11.260Z"
   },
   {
    "duration": 0,
    "start_time": "2022-05-31T09:06:11.261Z"
   },
   {
    "duration": 0,
    "start_time": "2022-05-31T09:06:11.262Z"
   },
   {
    "duration": 0,
    "start_time": "2022-05-31T09:06:11.263Z"
   },
   {
    "duration": 0,
    "start_time": "2022-05-31T09:06:11.265Z"
   },
   {
    "duration": 0,
    "start_time": "2022-05-31T09:06:11.266Z"
   },
   {
    "duration": 0,
    "start_time": "2022-05-31T09:06:11.267Z"
   },
   {
    "duration": 0,
    "start_time": "2022-05-31T09:06:11.268Z"
   },
   {
    "duration": 0,
    "start_time": "2022-05-31T09:06:11.269Z"
   },
   {
    "duration": 0,
    "start_time": "2022-05-31T09:06:11.270Z"
   },
   {
    "duration": 0,
    "start_time": "2022-05-31T09:06:11.271Z"
   },
   {
    "duration": 0,
    "start_time": "2022-05-31T09:06:11.272Z"
   },
   {
    "duration": 0,
    "start_time": "2022-05-31T09:06:11.273Z"
   },
   {
    "duration": 0,
    "start_time": "2022-05-31T09:06:11.274Z"
   },
   {
    "duration": 0,
    "start_time": "2022-05-31T09:06:11.275Z"
   },
   {
    "duration": 0,
    "start_time": "2022-05-31T09:06:11.276Z"
   },
   {
    "duration": 0,
    "start_time": "2022-05-31T09:06:11.277Z"
   },
   {
    "duration": 0,
    "start_time": "2022-05-31T09:06:11.279Z"
   },
   {
    "duration": 0,
    "start_time": "2022-05-31T09:06:11.279Z"
   },
   {
    "duration": 0,
    "start_time": "2022-05-31T09:06:11.280Z"
   },
   {
    "duration": 0,
    "start_time": "2022-05-31T09:06:11.281Z"
   },
   {
    "duration": 0,
    "start_time": "2022-05-31T09:06:11.283Z"
   },
   {
    "duration": 0,
    "start_time": "2022-05-31T09:06:11.284Z"
   },
   {
    "duration": 0,
    "start_time": "2022-05-31T09:06:11.285Z"
   },
   {
    "duration": 0,
    "start_time": "2022-05-31T09:06:11.286Z"
   },
   {
    "duration": 0,
    "start_time": "2022-05-31T09:06:11.287Z"
   },
   {
    "duration": 0,
    "start_time": "2022-05-31T09:06:11.353Z"
   },
   {
    "duration": 0,
    "start_time": "2022-05-31T09:06:11.354Z"
   },
   {
    "duration": 0,
    "start_time": "2022-05-31T09:06:11.355Z"
   },
   {
    "duration": 0,
    "start_time": "2022-05-31T09:06:11.356Z"
   },
   {
    "duration": 0,
    "start_time": "2022-05-31T09:06:11.357Z"
   },
   {
    "duration": 0,
    "start_time": "2022-05-31T09:06:11.358Z"
   },
   {
    "duration": 0,
    "start_time": "2022-05-31T09:06:11.359Z"
   },
   {
    "duration": 0,
    "start_time": "2022-05-31T09:06:11.360Z"
   },
   {
    "duration": 0,
    "start_time": "2022-05-31T09:06:11.361Z"
   },
   {
    "duration": 0,
    "start_time": "2022-05-31T09:06:11.362Z"
   },
   {
    "duration": 0,
    "start_time": "2022-05-31T09:06:11.363Z"
   },
   {
    "duration": 0,
    "start_time": "2022-05-31T09:06:11.365Z"
   },
   {
    "duration": 0,
    "start_time": "2022-05-31T09:06:11.366Z"
   },
   {
    "duration": 0,
    "start_time": "2022-05-31T09:06:11.367Z"
   },
   {
    "duration": 0,
    "start_time": "2022-05-31T09:06:11.369Z"
   },
   {
    "duration": 0,
    "start_time": "2022-05-31T09:06:11.370Z"
   },
   {
    "duration": 0,
    "start_time": "2022-05-31T09:06:11.371Z"
   },
   {
    "duration": 0,
    "start_time": "2022-05-31T09:06:11.372Z"
   },
   {
    "duration": 0,
    "start_time": "2022-05-31T09:06:11.373Z"
   },
   {
    "duration": 0,
    "start_time": "2022-05-31T09:06:11.374Z"
   },
   {
    "duration": 0,
    "start_time": "2022-05-31T09:06:11.375Z"
   },
   {
    "duration": 0,
    "start_time": "2022-05-31T09:06:11.376Z"
   },
   {
    "duration": 0,
    "start_time": "2022-05-31T09:06:11.376Z"
   },
   {
    "duration": 0,
    "start_time": "2022-05-31T09:06:11.377Z"
   },
   {
    "duration": 0,
    "start_time": "2022-05-31T09:06:11.378Z"
   },
   {
    "duration": 0,
    "start_time": "2022-05-31T09:06:11.379Z"
   },
   {
    "duration": 0,
    "start_time": "2022-05-31T09:06:11.380Z"
   },
   {
    "duration": 0,
    "start_time": "2022-05-31T09:06:11.382Z"
   },
   {
    "duration": 0,
    "start_time": "2022-05-31T09:06:11.383Z"
   },
   {
    "duration": 0,
    "start_time": "2022-05-31T09:06:11.384Z"
   },
   {
    "duration": 0,
    "start_time": "2022-05-31T09:06:11.385Z"
   },
   {
    "duration": 0,
    "start_time": "2022-05-31T09:06:11.386Z"
   },
   {
    "duration": 0,
    "start_time": "2022-05-31T09:06:11.387Z"
   },
   {
    "duration": 0,
    "start_time": "2022-05-31T09:06:11.388Z"
   },
   {
    "duration": 0,
    "start_time": "2022-05-31T09:06:11.452Z"
   },
   {
    "duration": 0,
    "start_time": "2022-05-31T09:06:11.453Z"
   },
   {
    "duration": 0,
    "start_time": "2022-05-31T09:06:11.454Z"
   },
   {
    "duration": 0,
    "start_time": "2022-05-31T09:06:11.456Z"
   },
   {
    "duration": 0,
    "start_time": "2022-05-31T09:06:11.457Z"
   },
   {
    "duration": 0,
    "start_time": "2022-05-31T09:06:11.458Z"
   },
   {
    "duration": 0,
    "start_time": "2022-05-31T09:06:11.459Z"
   },
   {
    "duration": 0,
    "start_time": "2022-05-31T09:06:11.460Z"
   },
   {
    "duration": 0,
    "start_time": "2022-05-31T09:06:11.461Z"
   },
   {
    "duration": 0,
    "start_time": "2022-05-31T09:06:11.462Z"
   },
   {
    "duration": 0,
    "start_time": "2022-05-31T09:06:11.463Z"
   },
   {
    "duration": 0,
    "start_time": "2022-05-31T09:06:11.465Z"
   },
   {
    "duration": 0,
    "start_time": "2022-05-31T09:06:11.466Z"
   },
   {
    "duration": 0,
    "start_time": "2022-05-31T09:06:11.467Z"
   },
   {
    "duration": 0,
    "start_time": "2022-05-31T09:06:11.468Z"
   },
   {
    "duration": 0,
    "start_time": "2022-05-31T09:06:11.469Z"
   },
   {
    "duration": 0,
    "start_time": "2022-05-31T09:06:11.470Z"
   },
   {
    "duration": 0,
    "start_time": "2022-05-31T09:06:11.472Z"
   },
   {
    "duration": 0,
    "start_time": "2022-05-31T09:06:11.473Z"
   },
   {
    "duration": 1295,
    "start_time": "2022-05-31T09:06:44.257Z"
   },
   {
    "duration": 954,
    "start_time": "2022-05-31T09:06:45.554Z"
   },
   {
    "duration": 66,
    "start_time": "2022-05-31T09:06:46.510Z"
   },
   {
    "duration": 83,
    "start_time": "2022-05-31T09:06:46.579Z"
   },
   {
    "duration": 4,
    "start_time": "2022-05-31T09:06:46.664Z"
   },
   {
    "duration": 102,
    "start_time": "2022-05-31T09:06:46.670Z"
   },
   {
    "duration": 3,
    "start_time": "2022-05-31T09:06:46.774Z"
   },
   {
    "duration": 208,
    "start_time": "2022-05-31T09:06:46.779Z"
   },
   {
    "duration": 23,
    "start_time": "2022-05-31T09:06:46.989Z"
   },
   {
    "duration": 497,
    "start_time": "2022-05-31T09:06:47.014Z"
   },
   {
    "duration": 8,
    "start_time": "2022-05-31T09:06:47.512Z"
   },
   {
    "duration": 36,
    "start_time": "2022-05-31T09:06:47.521Z"
   },
   {
    "duration": 393,
    "start_time": "2022-05-31T09:06:47.559Z"
   },
   {
    "duration": 7,
    "start_time": "2022-05-31T09:06:47.953Z"
   },
   {
    "duration": 32,
    "start_time": "2022-05-31T09:06:47.961Z"
   },
   {
    "duration": 22,
    "start_time": "2022-05-31T09:06:47.995Z"
   },
   {
    "duration": 65,
    "start_time": "2022-05-31T09:06:48.019Z"
   },
   {
    "duration": 46,
    "start_time": "2022-05-31T09:06:48.085Z"
   },
   {
    "duration": 45,
    "start_time": "2022-05-31T09:06:48.133Z"
   },
   {
    "duration": 51,
    "start_time": "2022-05-31T09:06:48.180Z"
   },
   {
    "duration": 220,
    "start_time": "2022-05-31T09:06:48.232Z"
   },
   {
    "duration": 22,
    "start_time": "2022-05-31T09:06:48.454Z"
   },
   {
    "duration": 23,
    "start_time": "2022-05-31T09:06:48.478Z"
   },
   {
    "duration": 55,
    "start_time": "2022-05-31T09:06:48.503Z"
   },
   {
    "duration": 35,
    "start_time": "2022-05-31T09:06:48.559Z"
   },
   {
    "duration": 41,
    "start_time": "2022-05-31T09:06:48.596Z"
   },
   {
    "duration": 31,
    "start_time": "2022-05-31T09:06:48.639Z"
   },
   {
    "duration": 40,
    "start_time": "2022-05-31T09:06:48.675Z"
   },
   {
    "duration": 124,
    "start_time": "2022-05-31T09:06:48.717Z"
   },
   {
    "duration": 22,
    "start_time": "2022-05-31T09:06:48.843Z"
   },
   {
    "duration": 31,
    "start_time": "2022-05-31T09:06:48.866Z"
   },
   {
    "duration": 63,
    "start_time": "2022-05-31T09:06:48.898Z"
   },
   {
    "duration": 55,
    "start_time": "2022-05-31T09:06:48.963Z"
   },
   {
    "duration": 47,
    "start_time": "2022-05-31T09:06:49.019Z"
   },
   {
    "duration": 65,
    "start_time": "2022-05-31T09:06:49.068Z"
   },
   {
    "duration": 110,
    "start_time": "2022-05-31T09:06:49.134Z"
   },
   {
    "duration": 16,
    "start_time": "2022-05-31T09:06:49.246Z"
   },
   {
    "duration": 30,
    "start_time": "2022-05-31T09:06:49.263Z"
   },
   {
    "duration": 49,
    "start_time": "2022-05-31T09:06:49.294Z"
   },
   {
    "duration": 47,
    "start_time": "2022-05-31T09:06:49.345Z"
   },
   {
    "duration": 60,
    "start_time": "2022-05-31T09:06:49.394Z"
   },
   {
    "duration": 57,
    "start_time": "2022-05-31T09:06:49.457Z"
   },
   {
    "duration": 85,
    "start_time": "2022-05-31T09:06:49.515Z"
   },
   {
    "duration": 44,
    "start_time": "2022-05-31T09:06:49.602Z"
   },
   {
    "duration": 36,
    "start_time": "2022-05-31T09:06:49.648Z"
   },
   {
    "duration": 63,
    "start_time": "2022-05-31T09:06:49.686Z"
   },
   {
    "duration": 62,
    "start_time": "2022-05-31T09:06:49.752Z"
   },
   {
    "duration": 51,
    "start_time": "2022-05-31T09:06:49.816Z"
   },
   {
    "duration": 59,
    "start_time": "2022-05-31T09:06:49.869Z"
   },
   {
    "duration": 41,
    "start_time": "2022-05-31T09:06:49.930Z"
   },
   {
    "duration": 56,
    "start_time": "2022-05-31T09:06:49.973Z"
   },
   {
    "duration": 39,
    "start_time": "2022-05-31T09:06:50.032Z"
   },
   {
    "duration": 47,
    "start_time": "2022-05-31T09:06:50.073Z"
   },
   {
    "duration": 7,
    "start_time": "2022-05-31T09:06:50.123Z"
   },
   {
    "duration": 57,
    "start_time": "2022-05-31T09:06:50.132Z"
   },
   {
    "duration": 61,
    "start_time": "2022-05-31T09:06:50.191Z"
   },
   {
    "duration": 117,
    "start_time": "2022-05-31T09:06:50.254Z"
   },
   {
    "duration": 14,
    "start_time": "2022-05-31T09:06:50.373Z"
   },
   {
    "duration": 89,
    "start_time": "2022-05-31T09:06:50.389Z"
   },
   {
    "duration": 12,
    "start_time": "2022-05-31T09:06:50.479Z"
   },
   {
    "duration": 80,
    "start_time": "2022-05-31T09:06:50.493Z"
   },
   {
    "duration": 12,
    "start_time": "2022-05-31T09:06:50.575Z"
   },
   {
    "duration": 58,
    "start_time": "2022-05-31T09:06:50.589Z"
   },
   {
    "duration": 20,
    "start_time": "2022-05-31T09:06:50.649Z"
   },
   {
    "duration": 26,
    "start_time": "2022-05-31T09:06:50.671Z"
   },
   {
    "duration": 69,
    "start_time": "2022-05-31T09:06:50.700Z"
   },
   {
    "duration": 89,
    "start_time": "2022-05-31T09:06:50.771Z"
   },
   {
    "duration": 6,
    "start_time": "2022-05-31T09:06:50.862Z"
   },
   {
    "duration": 36,
    "start_time": "2022-05-31T09:06:50.870Z"
   },
   {
    "duration": 36,
    "start_time": "2022-05-31T09:06:50.908Z"
   },
   {
    "duration": 26,
    "start_time": "2022-05-31T09:06:50.946Z"
   },
   {
    "duration": 48,
    "start_time": "2022-05-31T09:06:50.974Z"
   },
   {
    "duration": 41,
    "start_time": "2022-05-31T09:06:51.024Z"
   },
   {
    "duration": 11040,
    "start_time": "2022-05-31T09:06:51.067Z"
   },
   {
    "duration": 30,
    "start_time": "2022-05-31T09:07:02.109Z"
   },
   {
    "duration": 52,
    "start_time": "2022-05-31T09:07:02.141Z"
   },
   {
    "duration": 43,
    "start_time": "2022-05-31T09:07:02.195Z"
   },
   {
    "duration": 79,
    "start_time": "2022-05-31T09:07:02.240Z"
   },
   {
    "duration": 920,
    "start_time": "2022-05-31T09:07:02.321Z"
   },
   {
    "duration": 919,
    "start_time": "2022-05-31T09:07:03.252Z"
   },
   {
    "duration": 12,
    "start_time": "2022-05-31T09:07:04.173Z"
   },
   {
    "duration": 218,
    "start_time": "2022-05-31T09:07:04.190Z"
   },
   {
    "duration": 14,
    "start_time": "2022-05-31T09:07:04.410Z"
   },
   {
    "duration": 25,
    "start_time": "2022-05-31T09:07:04.426Z"
   },
   {
    "duration": 29,
    "start_time": "2022-05-31T09:07:04.453Z"
   },
   {
    "duration": 30,
    "start_time": "2022-05-31T09:07:04.484Z"
   },
   {
    "duration": 16,
    "start_time": "2022-05-31T09:07:04.515Z"
   },
   {
    "duration": 18,
    "start_time": "2022-05-31T09:07:04.532Z"
   },
   {
    "duration": 14,
    "start_time": "2022-05-31T09:07:04.551Z"
   },
   {
    "duration": 29,
    "start_time": "2022-05-31T09:07:04.566Z"
   },
   {
    "duration": 28,
    "start_time": "2022-05-31T09:07:04.597Z"
   },
   {
    "duration": 26,
    "start_time": "2022-05-31T09:07:04.627Z"
   },
   {
    "duration": 41,
    "start_time": "2022-05-31T09:07:04.654Z"
   },
   {
    "duration": 36,
    "start_time": "2022-05-31T09:07:04.697Z"
   },
   {
    "duration": 33,
    "start_time": "2022-05-31T09:07:04.735Z"
   },
   {
    "duration": 109,
    "start_time": "2022-05-31T09:20:28.957Z"
   },
   {
    "duration": 1153,
    "start_time": "2022-05-31T09:21:21.233Z"
   },
   {
    "duration": 433,
    "start_time": "2022-05-31T09:21:22.388Z"
   },
   {
    "duration": 66,
    "start_time": "2022-05-31T09:21:22.823Z"
   },
   {
    "duration": 96,
    "start_time": "2022-05-31T09:21:22.891Z"
   },
   {
    "duration": 4,
    "start_time": "2022-05-31T09:21:22.990Z"
   },
   {
    "duration": 111,
    "start_time": "2022-05-31T09:21:22.996Z"
   },
   {
    "duration": 2,
    "start_time": "2022-05-31T09:21:23.109Z"
   },
   {
    "duration": 182,
    "start_time": "2022-05-31T09:21:23.113Z"
   },
   {
    "duration": 26,
    "start_time": "2022-05-31T09:21:23.297Z"
   },
   {
    "duration": 506,
    "start_time": "2022-05-31T09:21:23.325Z"
   },
   {
    "duration": 120,
    "start_time": "2022-05-31T09:21:23.833Z"
   },
   {
    "duration": 0,
    "start_time": "2022-05-31T09:21:23.959Z"
   },
   {
    "duration": 0,
    "start_time": "2022-05-31T09:21:23.960Z"
   },
   {
    "duration": 0,
    "start_time": "2022-05-31T09:21:23.961Z"
   },
   {
    "duration": 0,
    "start_time": "2022-05-31T09:21:23.963Z"
   },
   {
    "duration": 0,
    "start_time": "2022-05-31T09:21:23.964Z"
   },
   {
    "duration": 0,
    "start_time": "2022-05-31T09:21:23.965Z"
   },
   {
    "duration": 0,
    "start_time": "2022-05-31T09:21:23.966Z"
   },
   {
    "duration": 0,
    "start_time": "2022-05-31T09:21:23.968Z"
   },
   {
    "duration": 0,
    "start_time": "2022-05-31T09:21:23.969Z"
   },
   {
    "duration": 0,
    "start_time": "2022-05-31T09:21:23.971Z"
   },
   {
    "duration": 0,
    "start_time": "2022-05-31T09:21:23.972Z"
   },
   {
    "duration": 0,
    "start_time": "2022-05-31T09:21:23.973Z"
   },
   {
    "duration": 0,
    "start_time": "2022-05-31T09:21:23.974Z"
   },
   {
    "duration": 0,
    "start_time": "2022-05-31T09:21:23.975Z"
   },
   {
    "duration": 0,
    "start_time": "2022-05-31T09:21:23.977Z"
   },
   {
    "duration": 0,
    "start_time": "2022-05-31T09:21:23.978Z"
   },
   {
    "duration": 0,
    "start_time": "2022-05-31T09:21:23.979Z"
   },
   {
    "duration": 0,
    "start_time": "2022-05-31T09:21:23.980Z"
   },
   {
    "duration": 0,
    "start_time": "2022-05-31T09:21:23.981Z"
   },
   {
    "duration": 0,
    "start_time": "2022-05-31T09:21:23.982Z"
   },
   {
    "duration": 0,
    "start_time": "2022-05-31T09:21:23.983Z"
   },
   {
    "duration": 0,
    "start_time": "2022-05-31T09:21:23.984Z"
   },
   {
    "duration": 0,
    "start_time": "2022-05-31T09:21:23.985Z"
   },
   {
    "duration": 0,
    "start_time": "2022-05-31T09:21:23.986Z"
   },
   {
    "duration": 0,
    "start_time": "2022-05-31T09:21:23.987Z"
   },
   {
    "duration": 0,
    "start_time": "2022-05-31T09:21:23.988Z"
   },
   {
    "duration": 0,
    "start_time": "2022-05-31T09:21:23.989Z"
   },
   {
    "duration": 0,
    "start_time": "2022-05-31T09:21:23.990Z"
   },
   {
    "duration": 0,
    "start_time": "2022-05-31T09:21:23.991Z"
   },
   {
    "duration": 0,
    "start_time": "2022-05-31T09:21:23.991Z"
   },
   {
    "duration": 0,
    "start_time": "2022-05-31T09:21:23.992Z"
   },
   {
    "duration": 0,
    "start_time": "2022-05-31T09:21:23.993Z"
   },
   {
    "duration": 0,
    "start_time": "2022-05-31T09:21:23.995Z"
   },
   {
    "duration": 0,
    "start_time": "2022-05-31T09:21:23.996Z"
   },
   {
    "duration": 0,
    "start_time": "2022-05-31T09:21:24.052Z"
   },
   {
    "duration": 0,
    "start_time": "2022-05-31T09:21:24.053Z"
   },
   {
    "duration": 0,
    "start_time": "2022-05-31T09:21:24.055Z"
   },
   {
    "duration": 0,
    "start_time": "2022-05-31T09:21:24.057Z"
   },
   {
    "duration": 0,
    "start_time": "2022-05-31T09:21:24.058Z"
   },
   {
    "duration": 0,
    "start_time": "2022-05-31T09:21:24.060Z"
   },
   {
    "duration": 0,
    "start_time": "2022-05-31T09:21:24.062Z"
   },
   {
    "duration": 0,
    "start_time": "2022-05-31T09:21:24.063Z"
   },
   {
    "duration": 0,
    "start_time": "2022-05-31T09:21:24.064Z"
   },
   {
    "duration": 0,
    "start_time": "2022-05-31T09:21:24.065Z"
   },
   {
    "duration": 0,
    "start_time": "2022-05-31T09:21:24.067Z"
   },
   {
    "duration": 0,
    "start_time": "2022-05-31T09:21:24.068Z"
   },
   {
    "duration": 0,
    "start_time": "2022-05-31T09:21:24.069Z"
   },
   {
    "duration": 0,
    "start_time": "2022-05-31T09:21:24.070Z"
   },
   {
    "duration": 0,
    "start_time": "2022-05-31T09:21:24.071Z"
   },
   {
    "duration": 0,
    "start_time": "2022-05-31T09:21:24.072Z"
   },
   {
    "duration": 0,
    "start_time": "2022-05-31T09:21:24.073Z"
   },
   {
    "duration": 0,
    "start_time": "2022-05-31T09:21:24.074Z"
   },
   {
    "duration": 0,
    "start_time": "2022-05-31T09:21:24.075Z"
   },
   {
    "duration": 0,
    "start_time": "2022-05-31T09:21:24.076Z"
   },
   {
    "duration": 0,
    "start_time": "2022-05-31T09:21:24.077Z"
   },
   {
    "duration": 0,
    "start_time": "2022-05-31T09:21:24.079Z"
   },
   {
    "duration": 0,
    "start_time": "2022-05-31T09:21:24.080Z"
   },
   {
    "duration": 0,
    "start_time": "2022-05-31T09:21:24.081Z"
   },
   {
    "duration": 0,
    "start_time": "2022-05-31T09:21:24.082Z"
   },
   {
    "duration": 0,
    "start_time": "2022-05-31T09:21:24.083Z"
   },
   {
    "duration": 0,
    "start_time": "2022-05-31T09:21:24.085Z"
   },
   {
    "duration": 0,
    "start_time": "2022-05-31T09:21:24.086Z"
   },
   {
    "duration": 0,
    "start_time": "2022-05-31T09:21:24.087Z"
   },
   {
    "duration": 0,
    "start_time": "2022-05-31T09:21:24.088Z"
   },
   {
    "duration": 0,
    "start_time": "2022-05-31T09:21:24.089Z"
   },
   {
    "duration": 0,
    "start_time": "2022-05-31T09:21:24.090Z"
   },
   {
    "duration": 0,
    "start_time": "2022-05-31T09:21:24.153Z"
   },
   {
    "duration": 0,
    "start_time": "2022-05-31T09:21:24.155Z"
   },
   {
    "duration": 0,
    "start_time": "2022-05-31T09:21:24.157Z"
   },
   {
    "duration": 0,
    "start_time": "2022-05-31T09:21:24.158Z"
   },
   {
    "duration": 0,
    "start_time": "2022-05-31T09:21:24.159Z"
   },
   {
    "duration": 0,
    "start_time": "2022-05-31T09:21:24.161Z"
   },
   {
    "duration": 0,
    "start_time": "2022-05-31T09:21:24.163Z"
   },
   {
    "duration": 0,
    "start_time": "2022-05-31T09:21:24.165Z"
   },
   {
    "duration": 0,
    "start_time": "2022-05-31T09:21:24.167Z"
   },
   {
    "duration": 0,
    "start_time": "2022-05-31T09:21:24.168Z"
   },
   {
    "duration": 0,
    "start_time": "2022-05-31T09:21:24.170Z"
   },
   {
    "duration": 0,
    "start_time": "2022-05-31T09:21:24.172Z"
   },
   {
    "duration": 0,
    "start_time": "2022-05-31T09:21:24.173Z"
   },
   {
    "duration": 0,
    "start_time": "2022-05-31T09:21:24.174Z"
   },
   {
    "duration": 0,
    "start_time": "2022-05-31T09:21:24.176Z"
   },
   {
    "duration": 0,
    "start_time": "2022-05-31T09:21:24.178Z"
   },
   {
    "duration": 0,
    "start_time": "2022-05-31T09:21:24.179Z"
   },
   {
    "duration": 13,
    "start_time": "2022-05-31T09:21:33.879Z"
   },
   {
    "duration": 13,
    "start_time": "2022-05-31T09:21:57.572Z"
   },
   {
    "duration": 14,
    "start_time": "2022-05-31T09:24:40.622Z"
   },
   {
    "duration": 14,
    "start_time": "2022-05-31T09:24:49.289Z"
   },
   {
    "duration": 4,
    "start_time": "2022-05-31T09:25:02.178Z"
   },
   {
    "duration": 7,
    "start_time": "2022-05-31T09:25:08.010Z"
   },
   {
    "duration": 7,
    "start_time": "2022-05-31T09:25:11.554Z"
   },
   {
    "duration": 6,
    "start_time": "2022-05-31T09:25:56.087Z"
   },
   {
    "duration": 24,
    "start_time": "2022-05-31T09:31:35.110Z"
   },
   {
    "duration": 1274,
    "start_time": "2022-05-31T09:31:44.286Z"
   },
   {
    "duration": 461,
    "start_time": "2022-05-31T09:31:45.563Z"
   },
   {
    "duration": 66,
    "start_time": "2022-05-31T09:31:46.026Z"
   },
   {
    "duration": 90,
    "start_time": "2022-05-31T09:31:46.094Z"
   },
   {
    "duration": 4,
    "start_time": "2022-05-31T09:31:46.186Z"
   },
   {
    "duration": 109,
    "start_time": "2022-05-31T09:31:46.192Z"
   },
   {
    "duration": 4,
    "start_time": "2022-05-31T09:31:46.303Z"
   },
   {
    "duration": 201,
    "start_time": "2022-05-31T09:31:46.308Z"
   },
   {
    "duration": 24,
    "start_time": "2022-05-31T09:31:46.511Z"
   },
   {
    "duration": 509,
    "start_time": "2022-05-31T09:31:46.537Z"
   },
   {
    "duration": 9,
    "start_time": "2022-05-31T09:31:47.048Z"
   },
   {
    "duration": 8,
    "start_time": "2022-05-31T09:31:47.058Z"
   },
   {
    "duration": 25,
    "start_time": "2022-05-31T09:31:47.067Z"
   },
   {
    "duration": 430,
    "start_time": "2022-05-31T09:31:47.095Z"
   },
   {
    "duration": 6,
    "start_time": "2022-05-31T09:31:47.527Z"
   },
   {
    "duration": 24,
    "start_time": "2022-05-31T09:31:47.535Z"
   },
   {
    "duration": 4,
    "start_time": "2022-05-31T09:31:47.561Z"
   },
   {
    "duration": 41,
    "start_time": "2022-05-31T09:31:47.566Z"
   },
   {
    "duration": 47,
    "start_time": "2022-05-31T09:31:47.609Z"
   },
   {
    "duration": 20,
    "start_time": "2022-05-31T09:31:47.658Z"
   },
   {
    "duration": 73,
    "start_time": "2022-05-31T09:31:47.679Z"
   },
   {
    "duration": 217,
    "start_time": "2022-05-31T09:31:47.754Z"
   },
   {
    "duration": 21,
    "start_time": "2022-05-31T09:31:47.973Z"
   },
   {
    "duration": 8,
    "start_time": "2022-05-31T09:31:47.996Z"
   },
   {
    "duration": 25,
    "start_time": "2022-05-31T09:31:48.006Z"
   },
   {
    "duration": 39,
    "start_time": "2022-05-31T09:31:48.032Z"
   },
   {
    "duration": 26,
    "start_time": "2022-05-31T09:31:48.073Z"
   },
   {
    "duration": 20,
    "start_time": "2022-05-31T09:31:48.101Z"
   },
   {
    "duration": 83,
    "start_time": "2022-05-31T09:31:48.123Z"
   },
   {
    "duration": 156,
    "start_time": "2022-05-31T09:31:48.208Z"
   },
   {
    "duration": 18,
    "start_time": "2022-05-31T09:31:48.366Z"
   },
   {
    "duration": 7,
    "start_time": "2022-05-31T09:31:48.386Z"
   },
   {
    "duration": 40,
    "start_time": "2022-05-31T09:31:48.394Z"
   },
   {
    "duration": 28,
    "start_time": "2022-05-31T09:31:48.437Z"
   },
   {
    "duration": 34,
    "start_time": "2022-05-31T09:31:48.467Z"
   },
   {
    "duration": 68,
    "start_time": "2022-05-31T09:31:48.503Z"
   },
   {
    "duration": 120,
    "start_time": "2022-05-31T09:31:48.574Z"
   },
   {
    "duration": 15,
    "start_time": "2022-05-31T09:31:48.696Z"
   },
   {
    "duration": 7,
    "start_time": "2022-05-31T09:31:48.713Z"
   },
   {
    "duration": 30,
    "start_time": "2022-05-31T09:31:48.722Z"
   },
   {
    "duration": 12,
    "start_time": "2022-05-31T09:31:48.758Z"
   },
   {
    "duration": 27,
    "start_time": "2022-05-31T09:31:48.772Z"
   },
   {
    "duration": 8,
    "start_time": "2022-05-31T09:31:48.801Z"
   },
   {
    "duration": 19,
    "start_time": "2022-05-31T09:31:48.811Z"
   },
   {
    "duration": 14,
    "start_time": "2022-05-31T09:31:48.853Z"
   },
   {
    "duration": 12,
    "start_time": "2022-05-31T09:31:48.869Z"
   },
   {
    "duration": 15,
    "start_time": "2022-05-31T09:31:48.883Z"
   },
   {
    "duration": 19,
    "start_time": "2022-05-31T09:31:48.901Z"
   },
   {
    "duration": 32,
    "start_time": "2022-05-31T09:31:48.922Z"
   },
   {
    "duration": 20,
    "start_time": "2022-05-31T09:31:48.956Z"
   },
   {
    "duration": 16,
    "start_time": "2022-05-31T09:31:48.977Z"
   },
   {
    "duration": 22,
    "start_time": "2022-05-31T09:31:48.994Z"
   },
   {
    "duration": 34,
    "start_time": "2022-05-31T09:31:49.018Z"
   },
   {
    "duration": 21,
    "start_time": "2022-05-31T09:31:49.054Z"
   },
   {
    "duration": 7,
    "start_time": "2022-05-31T09:31:49.076Z"
   },
   {
    "duration": 7,
    "start_time": "2022-05-31T09:31:49.084Z"
   },
   {
    "duration": 25,
    "start_time": "2022-05-31T09:31:49.092Z"
   },
   {
    "duration": 109,
    "start_time": "2022-05-31T09:31:49.119Z"
   },
   {
    "duration": 27,
    "start_time": "2022-05-31T09:31:49.230Z"
   },
   {
    "duration": 39,
    "start_time": "2022-05-31T09:31:49.259Z"
   },
   {
    "duration": 16,
    "start_time": "2022-05-31T09:31:49.300Z"
   },
   {
    "duration": 81,
    "start_time": "2022-05-31T09:31:49.318Z"
   },
   {
    "duration": 15,
    "start_time": "2022-05-31T09:31:49.401Z"
   },
   {
    "duration": 40,
    "start_time": "2022-05-31T09:31:49.418Z"
   },
   {
    "duration": 21,
    "start_time": "2022-05-31T09:31:49.460Z"
   },
   {
    "duration": 9,
    "start_time": "2022-05-31T09:31:49.483Z"
   },
   {
    "duration": 30,
    "start_time": "2022-05-31T09:31:49.494Z"
   },
   {
    "duration": 89,
    "start_time": "2022-05-31T09:31:49.527Z"
   },
   {
    "duration": 7,
    "start_time": "2022-05-31T09:31:49.617Z"
   },
   {
    "duration": 9,
    "start_time": "2022-05-31T09:31:49.625Z"
   },
   {
    "duration": 30,
    "start_time": "2022-05-31T09:31:49.635Z"
   },
   {
    "duration": 12,
    "start_time": "2022-05-31T09:31:49.667Z"
   },
   {
    "duration": 10,
    "start_time": "2022-05-31T09:31:49.681Z"
   },
   {
    "duration": 11211,
    "start_time": "2022-05-31T09:31:49.694Z"
   },
   {
    "duration": 23,
    "start_time": "2022-05-31T09:32:00.907Z"
   },
   {
    "duration": 39,
    "start_time": "2022-05-31T09:32:00.932Z"
   },
   {
    "duration": 49,
    "start_time": "2022-05-31T09:32:00.973Z"
   },
   {
    "duration": 52,
    "start_time": "2022-05-31T09:32:01.024Z"
   },
   {
    "duration": 958,
    "start_time": "2022-05-31T09:32:01.077Z"
   },
   {
    "duration": 971,
    "start_time": "2022-05-31T09:32:02.037Z"
   },
   {
    "duration": 13,
    "start_time": "2022-05-31T09:32:03.009Z"
   },
   {
    "duration": 219,
    "start_time": "2022-05-31T09:32:03.023Z"
   },
   {
    "duration": 17,
    "start_time": "2022-05-31T09:32:03.244Z"
   },
   {
    "duration": 11,
    "start_time": "2022-05-31T09:32:03.262Z"
   },
   {
    "duration": 15,
    "start_time": "2022-05-31T09:32:03.274Z"
   },
   {
    "duration": 12,
    "start_time": "2022-05-31T09:32:03.291Z"
   },
   {
    "duration": 12,
    "start_time": "2022-05-31T09:32:03.304Z"
   },
   {
    "duration": 12,
    "start_time": "2022-05-31T09:32:03.318Z"
   },
   {
    "duration": 8,
    "start_time": "2022-05-31T09:32:03.332Z"
   },
   {
    "duration": 19,
    "start_time": "2022-05-31T09:32:03.342Z"
   },
   {
    "duration": 26,
    "start_time": "2022-05-31T09:32:03.363Z"
   },
   {
    "duration": 11,
    "start_time": "2022-05-31T09:32:03.391Z"
   },
   {
    "duration": 14,
    "start_time": "2022-05-31T09:32:03.403Z"
   },
   {
    "duration": 5,
    "start_time": "2022-05-31T09:32:03.419Z"
   },
   {
    "duration": 10,
    "start_time": "2022-05-31T09:32:03.425Z"
   },
   {
    "duration": 6,
    "start_time": "2022-05-31T09:32:56.097Z"
   },
   {
    "duration": 27,
    "start_time": "2022-05-31T09:34:03.953Z"
   },
   {
    "duration": 129,
    "start_time": "2022-05-31T09:34:50.705Z"
   },
   {
    "duration": 28,
    "start_time": "2022-05-31T09:35:12.753Z"
   },
   {
    "duration": 382,
    "start_time": "2022-05-31T09:35:23.637Z"
   },
   {
    "duration": 26,
    "start_time": "2022-05-31T09:35:33.710Z"
   },
   {
    "duration": 413,
    "start_time": "2022-05-31T09:35:37.632Z"
   },
   {
    "duration": 516,
    "start_time": "2022-05-31T09:35:51.436Z"
   },
   {
    "duration": 453,
    "start_time": "2022-05-31T09:36:01.030Z"
   },
   {
    "duration": 444,
    "start_time": "2022-05-31T09:36:13.938Z"
   },
   {
    "duration": 926,
    "start_time": "2022-05-31T09:38:07.518Z"
   },
   {
    "duration": 389,
    "start_time": "2022-05-31T09:38:38.368Z"
   },
   {
    "duration": 350,
    "start_time": "2022-05-31T09:42:20.966Z"
   },
   {
    "duration": 16,
    "start_time": "2022-05-31T09:51:45.797Z"
   },
   {
    "duration": 13,
    "start_time": "2022-05-31T09:52:04.570Z"
   },
   {
    "duration": 13,
    "start_time": "2022-05-31T09:52:17.028Z"
   },
   {
    "duration": 409,
    "start_time": "2022-05-31T09:54:01.970Z"
   },
   {
    "duration": 19,
    "start_time": "2022-05-31T10:03:48.608Z"
   },
   {
    "duration": 22,
    "start_time": "2022-05-31T10:05:14.777Z"
   },
   {
    "duration": 18,
    "start_time": "2022-05-31T10:06:10.093Z"
   },
   {
    "duration": 102,
    "start_time": "2022-05-31T10:07:11.035Z"
   },
   {
    "duration": 19,
    "start_time": "2022-05-31T10:07:15.264Z"
   },
   {
    "duration": 1301,
    "start_time": "2022-05-31T10:08:44.959Z"
   },
   {
    "duration": 458,
    "start_time": "2022-05-31T10:08:46.262Z"
   },
   {
    "duration": 74,
    "start_time": "2022-05-31T10:08:46.722Z"
   },
   {
    "duration": 104,
    "start_time": "2022-05-31T10:08:46.799Z"
   },
   {
    "duration": 4,
    "start_time": "2022-05-31T10:08:46.905Z"
   },
   {
    "duration": 116,
    "start_time": "2022-05-31T10:08:46.911Z"
   },
   {
    "duration": 4,
    "start_time": "2022-05-31T10:08:47.028Z"
   },
   {
    "duration": 241,
    "start_time": "2022-05-31T10:08:47.034Z"
   },
   {
    "duration": 25,
    "start_time": "2022-05-31T10:08:47.277Z"
   },
   {
    "duration": 521,
    "start_time": "2022-05-31T10:08:47.305Z"
   },
   {
    "duration": 7,
    "start_time": "2022-05-31T10:08:47.828Z"
   },
   {
    "duration": 29,
    "start_time": "2022-05-31T10:08:47.836Z"
   },
   {
    "duration": 138,
    "start_time": "2022-05-31T10:08:47.869Z"
   },
   {
    "duration": 0,
    "start_time": "2022-05-31T10:08:48.012Z"
   },
   {
    "duration": 0,
    "start_time": "2022-05-31T10:08:48.014Z"
   },
   {
    "duration": 0,
    "start_time": "2022-05-31T10:08:48.015Z"
   },
   {
    "duration": 0,
    "start_time": "2022-05-31T10:08:48.016Z"
   },
   {
    "duration": 0,
    "start_time": "2022-05-31T10:08:48.018Z"
   },
   {
    "duration": 0,
    "start_time": "2022-05-31T10:08:48.020Z"
   },
   {
    "duration": 0,
    "start_time": "2022-05-31T10:08:48.021Z"
   },
   {
    "duration": 0,
    "start_time": "2022-05-31T10:08:48.022Z"
   },
   {
    "duration": 0,
    "start_time": "2022-05-31T10:08:48.024Z"
   },
   {
    "duration": 0,
    "start_time": "2022-05-31T10:08:48.025Z"
   },
   {
    "duration": 0,
    "start_time": "2022-05-31T10:08:48.027Z"
   },
   {
    "duration": 0,
    "start_time": "2022-05-31T10:08:48.054Z"
   },
   {
    "duration": 0,
    "start_time": "2022-05-31T10:08:48.055Z"
   },
   {
    "duration": 0,
    "start_time": "2022-05-31T10:08:48.055Z"
   },
   {
    "duration": 0,
    "start_time": "2022-05-31T10:08:48.056Z"
   },
   {
    "duration": 0,
    "start_time": "2022-05-31T10:08:48.056Z"
   },
   {
    "duration": 0,
    "start_time": "2022-05-31T10:08:48.057Z"
   },
   {
    "duration": 0,
    "start_time": "2022-05-31T10:08:48.058Z"
   },
   {
    "duration": 0,
    "start_time": "2022-05-31T10:08:48.059Z"
   },
   {
    "duration": 0,
    "start_time": "2022-05-31T10:08:48.059Z"
   },
   {
    "duration": 0,
    "start_time": "2022-05-31T10:08:48.060Z"
   },
   {
    "duration": 0,
    "start_time": "2022-05-31T10:08:48.064Z"
   },
   {
    "duration": 0,
    "start_time": "2022-05-31T10:08:48.065Z"
   },
   {
    "duration": 0,
    "start_time": "2022-05-31T10:08:48.066Z"
   },
   {
    "duration": 0,
    "start_time": "2022-05-31T10:08:48.067Z"
   },
   {
    "duration": 0,
    "start_time": "2022-05-31T10:08:48.069Z"
   },
   {
    "duration": 0,
    "start_time": "2022-05-31T10:08:48.070Z"
   },
   {
    "duration": 0,
    "start_time": "2022-05-31T10:08:48.071Z"
   },
   {
    "duration": 0,
    "start_time": "2022-05-31T10:08:48.072Z"
   },
   {
    "duration": 0,
    "start_time": "2022-05-31T10:08:48.074Z"
   },
   {
    "duration": 0,
    "start_time": "2022-05-31T10:08:48.075Z"
   },
   {
    "duration": 0,
    "start_time": "2022-05-31T10:08:48.076Z"
   },
   {
    "duration": 0,
    "start_time": "2022-05-31T10:08:48.077Z"
   },
   {
    "duration": 0,
    "start_time": "2022-05-31T10:08:48.078Z"
   },
   {
    "duration": 0,
    "start_time": "2022-05-31T10:08:48.079Z"
   },
   {
    "duration": 1,
    "start_time": "2022-05-31T10:08:48.080Z"
   },
   {
    "duration": 0,
    "start_time": "2022-05-31T10:08:48.082Z"
   },
   {
    "duration": 0,
    "start_time": "2022-05-31T10:08:48.083Z"
   },
   {
    "duration": 0,
    "start_time": "2022-05-31T10:08:48.084Z"
   },
   {
    "duration": 0,
    "start_time": "2022-05-31T10:08:48.086Z"
   },
   {
    "duration": 0,
    "start_time": "2022-05-31T10:08:48.087Z"
   },
   {
    "duration": 0,
    "start_time": "2022-05-31T10:08:48.088Z"
   },
   {
    "duration": 0,
    "start_time": "2022-05-31T10:08:48.089Z"
   },
   {
    "duration": 0,
    "start_time": "2022-05-31T10:08:48.090Z"
   },
   {
    "duration": 0,
    "start_time": "2022-05-31T10:08:48.091Z"
   },
   {
    "duration": 0,
    "start_time": "2022-05-31T10:08:48.092Z"
   },
   {
    "duration": 0,
    "start_time": "2022-05-31T10:08:48.093Z"
   },
   {
    "duration": 0,
    "start_time": "2022-05-31T10:08:48.094Z"
   },
   {
    "duration": 0,
    "start_time": "2022-05-31T10:08:48.094Z"
   },
   {
    "duration": 0,
    "start_time": "2022-05-31T10:08:48.153Z"
   },
   {
    "duration": 0,
    "start_time": "2022-05-31T10:08:48.155Z"
   },
   {
    "duration": 0,
    "start_time": "2022-05-31T10:08:48.159Z"
   },
   {
    "duration": 0,
    "start_time": "2022-05-31T10:08:48.162Z"
   },
   {
    "duration": 0,
    "start_time": "2022-05-31T10:08:48.163Z"
   },
   {
    "duration": 0,
    "start_time": "2022-05-31T10:08:48.164Z"
   },
   {
    "duration": 0,
    "start_time": "2022-05-31T10:08:48.165Z"
   },
   {
    "duration": 0,
    "start_time": "2022-05-31T10:08:48.166Z"
   },
   {
    "duration": 0,
    "start_time": "2022-05-31T10:08:48.168Z"
   },
   {
    "duration": 0,
    "start_time": "2022-05-31T10:08:48.172Z"
   },
   {
    "duration": 0,
    "start_time": "2022-05-31T10:08:48.173Z"
   },
   {
    "duration": 0,
    "start_time": "2022-05-31T10:08:48.174Z"
   },
   {
    "duration": 0,
    "start_time": "2022-05-31T10:08:48.175Z"
   },
   {
    "duration": 0,
    "start_time": "2022-05-31T10:08:48.175Z"
   },
   {
    "duration": 0,
    "start_time": "2022-05-31T10:08:48.179Z"
   },
   {
    "duration": 0,
    "start_time": "2022-05-31T10:08:48.179Z"
   },
   {
    "duration": 0,
    "start_time": "2022-05-31T10:08:48.181Z"
   },
   {
    "duration": 0,
    "start_time": "2022-05-31T10:08:48.182Z"
   },
   {
    "duration": 0,
    "start_time": "2022-05-31T10:08:48.182Z"
   },
   {
    "duration": 0,
    "start_time": "2022-05-31T10:08:48.183Z"
   },
   {
    "duration": 0,
    "start_time": "2022-05-31T10:08:48.192Z"
   },
   {
    "duration": 0,
    "start_time": "2022-05-31T10:08:48.193Z"
   },
   {
    "duration": 0,
    "start_time": "2022-05-31T10:08:48.196Z"
   },
   {
    "duration": 0,
    "start_time": "2022-05-31T10:08:48.198Z"
   },
   {
    "duration": 0,
    "start_time": "2022-05-31T10:08:48.200Z"
   },
   {
    "duration": 0,
    "start_time": "2022-05-31T10:08:48.201Z"
   },
   {
    "duration": 0,
    "start_time": "2022-05-31T10:08:48.252Z"
   },
   {
    "duration": 0,
    "start_time": "2022-05-31T10:08:48.253Z"
   },
   {
    "duration": 0,
    "start_time": "2022-05-31T10:08:48.254Z"
   },
   {
    "duration": 0,
    "start_time": "2022-05-31T10:08:48.254Z"
   },
   {
    "duration": 0,
    "start_time": "2022-05-31T10:08:48.255Z"
   },
   {
    "duration": 0,
    "start_time": "2022-05-31T10:08:48.256Z"
   },
   {
    "duration": 0,
    "start_time": "2022-05-31T10:08:48.256Z"
   },
   {
    "duration": 0,
    "start_time": "2022-05-31T10:08:48.257Z"
   },
   {
    "duration": 14,
    "start_time": "2022-05-31T10:09:54.683Z"
   },
   {
    "duration": 4,
    "start_time": "2022-05-31T10:09:56.276Z"
   },
   {
    "duration": 31,
    "start_time": "2022-05-31T10:10:01.196Z"
   },
   {
    "duration": 37,
    "start_time": "2022-05-31T10:10:03.275Z"
   },
   {
    "duration": 19,
    "start_time": "2022-05-31T10:10:06.098Z"
   },
   {
    "duration": 70,
    "start_time": "2022-05-31T10:10:06.622Z"
   },
   {
    "duration": 219,
    "start_time": "2022-05-31T10:10:07.228Z"
   },
   {
    "duration": 21,
    "start_time": "2022-05-31T10:10:07.719Z"
   },
   {
    "duration": 3,
    "start_time": "2022-05-31T10:10:08.388Z"
   },
   {
    "duration": 25,
    "start_time": "2022-05-31T10:10:08.888Z"
   },
   {
    "duration": 28,
    "start_time": "2022-05-31T10:10:09.822Z"
   },
   {
    "duration": 27,
    "start_time": "2022-05-31T10:10:11.088Z"
   },
   {
    "duration": 17,
    "start_time": "2022-05-31T10:10:11.687Z"
   },
   {
    "duration": 35,
    "start_time": "2022-05-31T10:10:12.220Z"
   },
   {
    "duration": 142,
    "start_time": "2022-05-31T10:10:12.835Z"
   },
   {
    "duration": 17,
    "start_time": "2022-05-31T10:10:13.304Z"
   },
   {
    "duration": 3,
    "start_time": "2022-05-31T10:10:13.868Z"
   },
   {
    "duration": 15,
    "start_time": "2022-05-31T10:10:14.425Z"
   },
   {
    "duration": 36,
    "start_time": "2022-05-31T10:10:15.397Z"
   },
   {
    "duration": 29,
    "start_time": "2022-05-31T10:10:15.749Z"
   },
   {
    "duration": 28,
    "start_time": "2022-05-31T10:10:15.965Z"
   },
   {
    "duration": 114,
    "start_time": "2022-05-31T10:10:16.166Z"
   },
   {
    "duration": 13,
    "start_time": "2022-05-31T10:10:16.381Z"
   },
   {
    "duration": 2,
    "start_time": "2022-05-31T10:10:16.567Z"
   },
   {
    "duration": 15,
    "start_time": "2022-05-31T10:10:16.783Z"
   },
   {
    "duration": 11,
    "start_time": "2022-05-31T10:10:17.167Z"
   },
   {
    "duration": 21,
    "start_time": "2022-05-31T10:10:17.368Z"
   },
   {
    "duration": 7,
    "start_time": "2022-05-31T10:10:17.568Z"
   },
   {
    "duration": 14,
    "start_time": "2022-05-31T10:10:17.770Z"
   },
   {
    "duration": 7,
    "start_time": "2022-05-31T10:10:17.970Z"
   },
   {
    "duration": 3,
    "start_time": "2022-05-31T10:10:18.200Z"
   },
   {
    "duration": 22,
    "start_time": "2022-05-31T10:10:18.452Z"
   },
   {
    "duration": 10,
    "start_time": "2022-05-31T10:10:18.834Z"
   },
   {
    "duration": 22,
    "start_time": "2022-05-31T10:10:19.049Z"
   },
   {
    "duration": 14,
    "start_time": "2022-05-31T10:10:19.267Z"
   },
   {
    "duration": 8,
    "start_time": "2022-05-31T10:10:19.482Z"
   },
   {
    "duration": 26,
    "start_time": "2022-05-31T10:10:19.700Z"
   },
   {
    "duration": 10,
    "start_time": "2022-05-31T10:10:20.107Z"
   },
   {
    "duration": 18,
    "start_time": "2022-05-31T10:10:20.318Z"
   },
   {
    "duration": 12,
    "start_time": "2022-05-31T10:10:20.552Z"
   },
   {
    "duration": 3,
    "start_time": "2022-05-31T10:10:20.732Z"
   },
   {
    "duration": 17,
    "start_time": "2022-05-31T10:10:20.934Z"
   },
   {
    "duration": 81,
    "start_time": "2022-05-31T10:10:23.770Z"
   },
   {
    "duration": 14,
    "start_time": "2022-05-31T10:10:24.034Z"
   },
   {
    "duration": 42,
    "start_time": "2022-05-31T10:10:29.303Z"
   },
   {
    "duration": 12,
    "start_time": "2022-05-31T10:10:29.483Z"
   },
   {
    "duration": 48,
    "start_time": "2022-05-31T10:10:29.887Z"
   },
   {
    "duration": 8,
    "start_time": "2022-05-31T10:10:30.099Z"
   },
   {
    "duration": 13,
    "start_time": "2022-05-31T10:10:57.346Z"
   },
   {
    "duration": 43,
    "start_time": "2022-05-31T10:12:57.943Z"
   },
   {
    "duration": 9,
    "start_time": "2022-05-31T10:13:00.188Z"
   },
   {
    "duration": 48,
    "start_time": "2022-05-31T10:14:26.044Z"
   },
   {
    "duration": 1256,
    "start_time": "2022-05-31T10:16:46.946Z"
   },
   {
    "duration": 444,
    "start_time": "2022-05-31T10:16:48.204Z"
   },
   {
    "duration": 78,
    "start_time": "2022-05-31T10:16:48.649Z"
   },
   {
    "duration": 80,
    "start_time": "2022-05-31T10:16:48.730Z"
   },
   {
    "duration": 5,
    "start_time": "2022-05-31T10:16:48.812Z"
   },
   {
    "duration": 122,
    "start_time": "2022-05-31T10:16:48.819Z"
   },
   {
    "duration": 4,
    "start_time": "2022-05-31T10:16:48.943Z"
   },
   {
    "duration": 235,
    "start_time": "2022-05-31T10:16:48.949Z"
   },
   {
    "duration": 23,
    "start_time": "2022-05-31T10:16:49.186Z"
   },
   {
    "duration": 520,
    "start_time": "2022-05-31T10:16:49.212Z"
   },
   {
    "duration": 21,
    "start_time": "2022-05-31T10:16:49.734Z"
   },
   {
    "duration": 13,
    "start_time": "2022-05-31T10:16:49.764Z"
   },
   {
    "duration": 138,
    "start_time": "2022-05-31T10:16:49.779Z"
   },
   {
    "duration": 0,
    "start_time": "2022-05-31T10:16:49.921Z"
   },
   {
    "duration": 0,
    "start_time": "2022-05-31T10:16:49.922Z"
   },
   {
    "duration": 0,
    "start_time": "2022-05-31T10:16:49.924Z"
   },
   {
    "duration": 0,
    "start_time": "2022-05-31T10:16:49.925Z"
   },
   {
    "duration": 1,
    "start_time": "2022-05-31T10:16:49.925Z"
   },
   {
    "duration": 0,
    "start_time": "2022-05-31T10:16:49.927Z"
   },
   {
    "duration": 0,
    "start_time": "2022-05-31T10:16:49.928Z"
   },
   {
    "duration": 0,
    "start_time": "2022-05-31T10:16:49.929Z"
   },
   {
    "duration": 0,
    "start_time": "2022-05-31T10:16:49.930Z"
   },
   {
    "duration": 0,
    "start_time": "2022-05-31T10:16:49.932Z"
   },
   {
    "duration": 0,
    "start_time": "2022-05-31T10:16:49.933Z"
   },
   {
    "duration": 0,
    "start_time": "2022-05-31T10:16:49.934Z"
   },
   {
    "duration": 0,
    "start_time": "2022-05-31T10:16:49.953Z"
   },
   {
    "duration": 0,
    "start_time": "2022-05-31T10:16:49.956Z"
   },
   {
    "duration": 0,
    "start_time": "2022-05-31T10:16:49.959Z"
   },
   {
    "duration": 0,
    "start_time": "2022-05-31T10:16:49.960Z"
   },
   {
    "duration": 0,
    "start_time": "2022-05-31T10:16:49.961Z"
   },
   {
    "duration": 0,
    "start_time": "2022-05-31T10:16:49.962Z"
   },
   {
    "duration": 0,
    "start_time": "2022-05-31T10:16:49.963Z"
   },
   {
    "duration": 0,
    "start_time": "2022-05-31T10:16:49.964Z"
   },
   {
    "duration": 0,
    "start_time": "2022-05-31T10:16:49.965Z"
   },
   {
    "duration": 0,
    "start_time": "2022-05-31T10:16:49.966Z"
   },
   {
    "duration": 1,
    "start_time": "2022-05-31T10:16:49.966Z"
   },
   {
    "duration": 0,
    "start_time": "2022-05-31T10:16:49.967Z"
   },
   {
    "duration": 0,
    "start_time": "2022-05-31T10:16:49.970Z"
   },
   {
    "duration": 0,
    "start_time": "2022-05-31T10:16:49.974Z"
   },
   {
    "duration": 0,
    "start_time": "2022-05-31T10:16:49.975Z"
   },
   {
    "duration": 0,
    "start_time": "2022-05-31T10:16:49.976Z"
   },
   {
    "duration": 0,
    "start_time": "2022-05-31T10:16:49.977Z"
   },
   {
    "duration": 0,
    "start_time": "2022-05-31T10:16:49.978Z"
   },
   {
    "duration": 0,
    "start_time": "2022-05-31T10:16:49.980Z"
   },
   {
    "duration": 0,
    "start_time": "2022-05-31T10:16:49.981Z"
   },
   {
    "duration": 0,
    "start_time": "2022-05-31T10:16:49.982Z"
   },
   {
    "duration": 0,
    "start_time": "2022-05-31T10:16:49.984Z"
   },
   {
    "duration": 0,
    "start_time": "2022-05-31T10:16:49.986Z"
   },
   {
    "duration": 0,
    "start_time": "2022-05-31T10:16:49.987Z"
   },
   {
    "duration": 0,
    "start_time": "2022-05-31T10:16:49.988Z"
   },
   {
    "duration": 0,
    "start_time": "2022-05-31T10:16:49.990Z"
   },
   {
    "duration": 0,
    "start_time": "2022-05-31T10:16:49.991Z"
   },
   {
    "duration": 0,
    "start_time": "2022-05-31T10:16:49.993Z"
   },
   {
    "duration": 0,
    "start_time": "2022-05-31T10:16:49.994Z"
   },
   {
    "duration": 0,
    "start_time": "2022-05-31T10:16:50.056Z"
   },
   {
    "duration": 0,
    "start_time": "2022-05-31T10:16:50.057Z"
   },
   {
    "duration": 0,
    "start_time": "2022-05-31T10:16:50.058Z"
   },
   {
    "duration": 0,
    "start_time": "2022-05-31T10:16:50.059Z"
   },
   {
    "duration": 0,
    "start_time": "2022-05-31T10:16:50.060Z"
   },
   {
    "duration": 0,
    "start_time": "2022-05-31T10:16:50.061Z"
   },
   {
    "duration": 0,
    "start_time": "2022-05-31T10:16:50.062Z"
   },
   {
    "duration": 0,
    "start_time": "2022-05-31T10:16:50.063Z"
   },
   {
    "duration": 0,
    "start_time": "2022-05-31T10:16:50.065Z"
   },
   {
    "duration": 0,
    "start_time": "2022-05-31T10:16:50.068Z"
   },
   {
    "duration": 0,
    "start_time": "2022-05-31T10:16:50.069Z"
   },
   {
    "duration": 0,
    "start_time": "2022-05-31T10:16:50.070Z"
   },
   {
    "duration": 0,
    "start_time": "2022-05-31T10:16:50.071Z"
   },
   {
    "duration": 0,
    "start_time": "2022-05-31T10:16:50.072Z"
   },
   {
    "duration": 0,
    "start_time": "2022-05-31T10:16:50.073Z"
   },
   {
    "duration": 0,
    "start_time": "2022-05-31T10:16:50.078Z"
   },
   {
    "duration": 0,
    "start_time": "2022-05-31T10:16:50.079Z"
   },
   {
    "duration": 0,
    "start_time": "2022-05-31T10:16:50.080Z"
   },
   {
    "duration": 0,
    "start_time": "2022-05-31T10:16:50.081Z"
   },
   {
    "duration": 0,
    "start_time": "2022-05-31T10:16:50.083Z"
   },
   {
    "duration": 0,
    "start_time": "2022-05-31T10:16:50.085Z"
   },
   {
    "duration": 0,
    "start_time": "2022-05-31T10:16:50.086Z"
   },
   {
    "duration": 0,
    "start_time": "2022-05-31T10:16:50.087Z"
   },
   {
    "duration": 0,
    "start_time": "2022-05-31T10:16:50.089Z"
   },
   {
    "duration": 0,
    "start_time": "2022-05-31T10:16:50.091Z"
   },
   {
    "duration": 0,
    "start_time": "2022-05-31T10:16:50.092Z"
   },
   {
    "duration": 0,
    "start_time": "2022-05-31T10:16:50.093Z"
   },
   {
    "duration": 0,
    "start_time": "2022-05-31T10:16:50.095Z"
   },
   {
    "duration": 0,
    "start_time": "2022-05-31T10:16:50.096Z"
   },
   {
    "duration": 0,
    "start_time": "2022-05-31T10:16:50.096Z"
   },
   {
    "duration": 0,
    "start_time": "2022-05-31T10:16:50.097Z"
   },
   {
    "duration": 0,
    "start_time": "2022-05-31T10:16:50.151Z"
   },
   {
    "duration": 0,
    "start_time": "2022-05-31T10:16:50.153Z"
   },
   {
    "duration": 0,
    "start_time": "2022-05-31T10:16:50.153Z"
   },
   {
    "duration": 0,
    "start_time": "2022-05-31T10:16:50.156Z"
   },
   {
    "duration": 0,
    "start_time": "2022-05-31T10:16:50.157Z"
   },
   {
    "duration": 0,
    "start_time": "2022-05-31T10:16:50.158Z"
   },
   {
    "duration": 0,
    "start_time": "2022-05-31T10:16:50.162Z"
   },
   {
    "duration": 0,
    "start_time": "2022-05-31T10:16:50.163Z"
   },
   {
    "duration": 0,
    "start_time": "2022-05-31T10:16:50.164Z"
   },
   {
    "duration": 0,
    "start_time": "2022-05-31T10:16:50.165Z"
   },
   {
    "duration": 0,
    "start_time": "2022-05-31T10:16:50.166Z"
   },
   {
    "duration": 22,
    "start_time": "2022-05-31T10:17:11.744Z"
   },
   {
    "duration": 46,
    "start_time": "2022-05-31T10:17:13.987Z"
   },
   {
    "duration": 1216,
    "start_time": "2022-05-31T10:17:19.409Z"
   },
   {
    "duration": 431,
    "start_time": "2022-05-31T10:17:20.626Z"
   },
   {
    "duration": 86,
    "start_time": "2022-05-31T10:17:21.063Z"
   },
   {
    "duration": 85,
    "start_time": "2022-05-31T10:17:21.154Z"
   },
   {
    "duration": 4,
    "start_time": "2022-05-31T10:17:21.240Z"
   },
   {
    "duration": 126,
    "start_time": "2022-05-31T10:17:21.245Z"
   },
   {
    "duration": 3,
    "start_time": "2022-05-31T10:17:21.372Z"
   },
   {
    "duration": 211,
    "start_time": "2022-05-31T10:17:21.376Z"
   },
   {
    "duration": 23,
    "start_time": "2022-05-31T10:17:21.589Z"
   },
   {
    "duration": 493,
    "start_time": "2022-05-31T10:17:21.615Z"
   },
   {
    "duration": 7,
    "start_time": "2022-05-31T10:17:22.110Z"
   },
   {
    "duration": 10,
    "start_time": "2022-05-31T10:17:22.119Z"
   },
   {
    "duration": 39,
    "start_time": "2022-05-31T10:17:22.131Z"
   },
   {
    "duration": 31,
    "start_time": "2022-05-31T10:17:22.173Z"
   },
   {
    "duration": 129,
    "start_time": "2022-05-31T10:17:22.206Z"
   },
   {
    "duration": 0,
    "start_time": "2022-05-31T10:17:22.338Z"
   },
   {
    "duration": 0,
    "start_time": "2022-05-31T10:17:22.339Z"
   },
   {
    "duration": 0,
    "start_time": "2022-05-31T10:17:22.340Z"
   },
   {
    "duration": 0,
    "start_time": "2022-05-31T10:17:22.341Z"
   },
   {
    "duration": 0,
    "start_time": "2022-05-31T10:17:22.342Z"
   },
   {
    "duration": 0,
    "start_time": "2022-05-31T10:17:22.343Z"
   },
   {
    "duration": 0,
    "start_time": "2022-05-31T10:17:22.344Z"
   },
   {
    "duration": 0,
    "start_time": "2022-05-31T10:17:22.353Z"
   },
   {
    "duration": 0,
    "start_time": "2022-05-31T10:17:22.354Z"
   },
   {
    "duration": 0,
    "start_time": "2022-05-31T10:17:22.355Z"
   },
   {
    "duration": 0,
    "start_time": "2022-05-31T10:17:22.357Z"
   },
   {
    "duration": 0,
    "start_time": "2022-05-31T10:17:22.363Z"
   },
   {
    "duration": 0,
    "start_time": "2022-05-31T10:17:22.364Z"
   },
   {
    "duration": 0,
    "start_time": "2022-05-31T10:17:22.364Z"
   },
   {
    "duration": 0,
    "start_time": "2022-05-31T10:17:22.365Z"
   },
   {
    "duration": 0,
    "start_time": "2022-05-31T10:17:22.367Z"
   },
   {
    "duration": 0,
    "start_time": "2022-05-31T10:17:22.368Z"
   },
   {
    "duration": 0,
    "start_time": "2022-05-31T10:17:22.369Z"
   },
   {
    "duration": 0,
    "start_time": "2022-05-31T10:17:22.370Z"
   },
   {
    "duration": 0,
    "start_time": "2022-05-31T10:17:22.371Z"
   },
   {
    "duration": 1,
    "start_time": "2022-05-31T10:17:22.371Z"
   },
   {
    "duration": 0,
    "start_time": "2022-05-31T10:17:22.373Z"
   },
   {
    "duration": 0,
    "start_time": "2022-05-31T10:17:22.375Z"
   },
   {
    "duration": 0,
    "start_time": "2022-05-31T10:17:22.376Z"
   },
   {
    "duration": 0,
    "start_time": "2022-05-31T10:17:22.377Z"
   },
   {
    "duration": 0,
    "start_time": "2022-05-31T10:17:22.379Z"
   },
   {
    "duration": 1,
    "start_time": "2022-05-31T10:17:22.379Z"
   },
   {
    "duration": 0,
    "start_time": "2022-05-31T10:17:22.380Z"
   },
   {
    "duration": 0,
    "start_time": "2022-05-31T10:17:22.383Z"
   },
   {
    "duration": 0,
    "start_time": "2022-05-31T10:17:22.385Z"
   },
   {
    "duration": 0,
    "start_time": "2022-05-31T10:17:22.386Z"
   },
   {
    "duration": 0,
    "start_time": "2022-05-31T10:17:22.387Z"
   },
   {
    "duration": 0,
    "start_time": "2022-05-31T10:17:22.388Z"
   },
   {
    "duration": 0,
    "start_time": "2022-05-31T10:17:22.389Z"
   },
   {
    "duration": 0,
    "start_time": "2022-05-31T10:17:22.390Z"
   },
   {
    "duration": 0,
    "start_time": "2022-05-31T10:17:22.391Z"
   },
   {
    "duration": 0,
    "start_time": "2022-05-31T10:17:22.392Z"
   },
   {
    "duration": 0,
    "start_time": "2022-05-31T10:17:22.393Z"
   },
   {
    "duration": 0,
    "start_time": "2022-05-31T10:17:22.394Z"
   },
   {
    "duration": 0,
    "start_time": "2022-05-31T10:17:22.395Z"
   },
   {
    "duration": 0,
    "start_time": "2022-05-31T10:17:22.396Z"
   },
   {
    "duration": 0,
    "start_time": "2022-05-31T10:17:22.397Z"
   },
   {
    "duration": 0,
    "start_time": "2022-05-31T10:17:22.397Z"
   },
   {
    "duration": 0,
    "start_time": "2022-05-31T10:17:22.454Z"
   },
   {
    "duration": 0,
    "start_time": "2022-05-31T10:17:22.455Z"
   },
   {
    "duration": 0,
    "start_time": "2022-05-31T10:17:22.456Z"
   },
   {
    "duration": 0,
    "start_time": "2022-05-31T10:17:22.456Z"
   },
   {
    "duration": 0,
    "start_time": "2022-05-31T10:17:22.457Z"
   },
   {
    "duration": 0,
    "start_time": "2022-05-31T10:17:22.458Z"
   },
   {
    "duration": 0,
    "start_time": "2022-05-31T10:17:22.458Z"
   },
   {
    "duration": 0,
    "start_time": "2022-05-31T10:17:22.459Z"
   },
   {
    "duration": 0,
    "start_time": "2022-05-31T10:17:22.460Z"
   },
   {
    "duration": 0,
    "start_time": "2022-05-31T10:17:22.460Z"
   },
   {
    "duration": 0,
    "start_time": "2022-05-31T10:17:22.461Z"
   },
   {
    "duration": 0,
    "start_time": "2022-05-31T10:17:22.462Z"
   },
   {
    "duration": 1,
    "start_time": "2022-05-31T10:17:22.462Z"
   },
   {
    "duration": 0,
    "start_time": "2022-05-31T10:17:22.463Z"
   },
   {
    "duration": 0,
    "start_time": "2022-05-31T10:17:22.464Z"
   },
   {
    "duration": 1,
    "start_time": "2022-05-31T10:17:22.464Z"
   },
   {
    "duration": 0,
    "start_time": "2022-05-31T10:17:22.465Z"
   },
   {
    "duration": 0,
    "start_time": "2022-05-31T10:17:22.466Z"
   },
   {
    "duration": 0,
    "start_time": "2022-05-31T10:17:22.467Z"
   },
   {
    "duration": 0,
    "start_time": "2022-05-31T10:17:22.470Z"
   },
   {
    "duration": 0,
    "start_time": "2022-05-31T10:17:22.472Z"
   },
   {
    "duration": 0,
    "start_time": "2022-05-31T10:17:22.473Z"
   },
   {
    "duration": 0,
    "start_time": "2022-05-31T10:17:22.474Z"
   },
   {
    "duration": 0,
    "start_time": "2022-05-31T10:17:22.475Z"
   },
   {
    "duration": 0,
    "start_time": "2022-05-31T10:17:22.477Z"
   },
   {
    "duration": 0,
    "start_time": "2022-05-31T10:17:22.478Z"
   },
   {
    "duration": 0,
    "start_time": "2022-05-31T10:17:22.479Z"
   },
   {
    "duration": 0,
    "start_time": "2022-05-31T10:17:22.480Z"
   },
   {
    "duration": 0,
    "start_time": "2022-05-31T10:17:22.482Z"
   },
   {
    "duration": 0,
    "start_time": "2022-05-31T10:17:22.482Z"
   },
   {
    "duration": 0,
    "start_time": "2022-05-31T10:17:22.483Z"
   },
   {
    "duration": 0,
    "start_time": "2022-05-31T10:17:22.484Z"
   },
   {
    "duration": 0,
    "start_time": "2022-05-31T10:17:22.485Z"
   },
   {
    "duration": 0,
    "start_time": "2022-05-31T10:17:22.486Z"
   },
   {
    "duration": 0,
    "start_time": "2022-05-31T10:17:22.487Z"
   },
   {
    "duration": 0,
    "start_time": "2022-05-31T10:17:22.488Z"
   },
   {
    "duration": 0,
    "start_time": "2022-05-31T10:17:22.489Z"
   },
   {
    "duration": 0,
    "start_time": "2022-05-31T10:17:22.491Z"
   },
   {
    "duration": 392,
    "start_time": "2022-05-31T10:18:15.570Z"
   },
   {
    "duration": 1262,
    "start_time": "2022-05-31T10:18:54.544Z"
   },
   {
    "duration": 422,
    "start_time": "2022-05-31T10:18:55.808Z"
   },
   {
    "duration": 73,
    "start_time": "2022-05-31T10:18:56.231Z"
   },
   {
    "duration": 80,
    "start_time": "2022-05-31T10:18:56.306Z"
   },
   {
    "duration": 3,
    "start_time": "2022-05-31T10:18:56.388Z"
   },
   {
    "duration": 120,
    "start_time": "2022-05-31T10:18:56.393Z"
   },
   {
    "duration": 3,
    "start_time": "2022-05-31T10:18:56.514Z"
   },
   {
    "duration": 199,
    "start_time": "2022-05-31T10:18:56.518Z"
   },
   {
    "duration": 39,
    "start_time": "2022-05-31T10:18:56.720Z"
   },
   {
    "duration": 522,
    "start_time": "2022-05-31T10:18:56.764Z"
   },
   {
    "duration": 7,
    "start_time": "2022-05-31T10:18:57.287Z"
   },
   {
    "duration": 7,
    "start_time": "2022-05-31T10:18:57.295Z"
   },
   {
    "duration": 21,
    "start_time": "2022-05-31T10:18:57.304Z"
   },
   {
    "duration": 402,
    "start_time": "2022-05-31T10:18:57.326Z"
   },
   {
    "duration": 6,
    "start_time": "2022-05-31T10:18:57.730Z"
   },
   {
    "duration": 29,
    "start_time": "2022-05-31T10:18:57.737Z"
   },
   {
    "duration": 11,
    "start_time": "2022-05-31T10:18:57.769Z"
   },
   {
    "duration": 39,
    "start_time": "2022-05-31T10:18:57.781Z"
   },
   {
    "duration": 51,
    "start_time": "2022-05-31T10:18:57.822Z"
   },
   {
    "duration": 19,
    "start_time": "2022-05-31T10:18:57.874Z"
   },
   {
    "duration": 63,
    "start_time": "2022-05-31T10:18:57.895Z"
   },
   {
    "duration": 220,
    "start_time": "2022-05-31T10:18:57.959Z"
   },
   {
    "duration": 21,
    "start_time": "2022-05-31T10:18:58.181Z"
   },
   {
    "duration": 6,
    "start_time": "2022-05-31T10:18:58.204Z"
   },
   {
    "duration": 21,
    "start_time": "2022-05-31T10:18:58.211Z"
   },
   {
    "duration": 44,
    "start_time": "2022-05-31T10:18:58.234Z"
   },
   {
    "duration": 23,
    "start_time": "2022-05-31T10:18:58.280Z"
   },
   {
    "duration": 18,
    "start_time": "2022-05-31T10:18:58.308Z"
   },
   {
    "duration": 40,
    "start_time": "2022-05-31T10:18:58.352Z"
   },
   {
    "duration": 149,
    "start_time": "2022-05-31T10:18:58.395Z"
   },
   {
    "duration": 27,
    "start_time": "2022-05-31T10:18:58.547Z"
   },
   {
    "duration": 7,
    "start_time": "2022-05-31T10:18:58.576Z"
   },
   {
    "duration": 18,
    "start_time": "2022-05-31T10:18:58.585Z"
   },
   {
    "duration": 23,
    "start_time": "2022-05-31T10:18:58.604Z"
   },
   {
    "duration": 48,
    "start_time": "2022-05-31T10:18:58.629Z"
   },
   {
    "duration": 25,
    "start_time": "2022-05-31T10:18:58.679Z"
   },
   {
    "duration": 117,
    "start_time": "2022-05-31T10:18:58.706Z"
   },
   {
    "duration": 14,
    "start_time": "2022-05-31T10:18:58.825Z"
   },
   {
    "duration": 10,
    "start_time": "2022-05-31T10:18:58.852Z"
   },
   {
    "duration": 23,
    "start_time": "2022-05-31T10:18:58.864Z"
   },
   {
    "duration": 10,
    "start_time": "2022-05-31T10:18:58.889Z"
   },
   {
    "duration": 24,
    "start_time": "2022-05-31T10:18:58.901Z"
   },
   {
    "duration": 13,
    "start_time": "2022-05-31T10:18:58.927Z"
   },
   {
    "duration": 14,
    "start_time": "2022-05-31T10:18:58.959Z"
   },
   {
    "duration": 11,
    "start_time": "2022-05-31T10:18:58.975Z"
   },
   {
    "duration": 6,
    "start_time": "2022-05-31T10:18:58.987Z"
   },
   {
    "duration": 13,
    "start_time": "2022-05-31T10:18:58.994Z"
   },
   {
    "duration": 18,
    "start_time": "2022-05-31T10:18:59.008Z"
   },
   {
    "duration": 40,
    "start_time": "2022-05-31T10:18:59.028Z"
   },
   {
    "duration": 16,
    "start_time": "2022-05-31T10:18:59.070Z"
   },
   {
    "duration": 9,
    "start_time": "2022-05-31T10:18:59.088Z"
   },
   {
    "duration": 19,
    "start_time": "2022-05-31T10:18:59.099Z"
   },
   {
    "duration": 35,
    "start_time": "2022-05-31T10:18:59.120Z"
   },
   {
    "duration": 27,
    "start_time": "2022-05-31T10:18:59.157Z"
   },
   {
    "duration": 10,
    "start_time": "2022-05-31T10:18:59.186Z"
   },
   {
    "duration": 7,
    "start_time": "2022-05-31T10:18:59.198Z"
   },
   {
    "duration": 25,
    "start_time": "2022-05-31T10:18:59.206Z"
   },
   {
    "duration": 110,
    "start_time": "2022-05-31T10:18:59.233Z"
   },
   {
    "duration": 23,
    "start_time": "2022-05-31T10:18:59.345Z"
   },
   {
    "duration": 37,
    "start_time": "2022-05-31T10:18:59.369Z"
   },
   {
    "duration": 10,
    "start_time": "2022-05-31T10:18:59.408Z"
   },
   {
    "duration": 73,
    "start_time": "2022-05-31T10:18:59.419Z"
   },
   {
    "duration": 12,
    "start_time": "2022-05-31T10:18:59.494Z"
   },
   {
    "duration": 22,
    "start_time": "2022-05-31T10:18:59.508Z"
   },
   {
    "duration": 31,
    "start_time": "2022-05-31T10:18:59.532Z"
   },
   {
    "duration": 9,
    "start_time": "2022-05-31T10:18:59.567Z"
   },
   {
    "duration": 23,
    "start_time": "2022-05-31T10:18:59.578Z"
   },
   {
    "duration": 5,
    "start_time": "2022-05-31T10:18:59.603Z"
   },
   {
    "duration": 8,
    "start_time": "2022-05-31T10:18:59.610Z"
   },
   {
    "duration": 9,
    "start_time": "2022-05-31T10:18:59.619Z"
   },
   {
    "duration": 36,
    "start_time": "2022-05-31T10:18:59.629Z"
   },
   {
    "duration": 28,
    "start_time": "2022-05-31T10:18:59.666Z"
   },
   {
    "duration": 8,
    "start_time": "2022-05-31T10:18:59.696Z"
   },
   {
    "duration": 10984,
    "start_time": "2022-05-31T10:18:59.706Z"
   },
   {
    "duration": 14,
    "start_time": "2022-05-31T10:19:10.691Z"
   },
   {
    "duration": 19,
    "start_time": "2022-05-31T10:19:10.706Z"
   },
   {
    "duration": 27,
    "start_time": "2022-05-31T10:19:10.726Z"
   },
   {
    "duration": 36,
    "start_time": "2022-05-31T10:19:10.755Z"
   },
   {
    "duration": 935,
    "start_time": "2022-05-31T10:19:10.793Z"
   },
   {
    "duration": 978,
    "start_time": "2022-05-31T10:19:11.730Z"
   },
   {
    "duration": 13,
    "start_time": "2022-05-31T10:19:12.709Z"
   },
   {
    "duration": 240,
    "start_time": "2022-05-31T10:19:12.726Z"
   },
   {
    "duration": 14,
    "start_time": "2022-05-31T10:19:12.969Z"
   },
   {
    "duration": 10,
    "start_time": "2022-05-31T10:19:12.985Z"
   },
   {
    "duration": 7,
    "start_time": "2022-05-31T10:19:12.997Z"
   },
   {
    "duration": 22,
    "start_time": "2022-05-31T10:19:13.005Z"
   },
   {
    "duration": 15,
    "start_time": "2022-05-31T10:19:13.028Z"
   },
   {
    "duration": 26,
    "start_time": "2022-05-31T10:19:13.045Z"
   },
   {
    "duration": 12,
    "start_time": "2022-05-31T10:19:13.073Z"
   },
   {
    "duration": 18,
    "start_time": "2022-05-31T10:19:13.087Z"
   },
   {
    "duration": 16,
    "start_time": "2022-05-31T10:19:13.107Z"
   },
   {
    "duration": 13,
    "start_time": "2022-05-31T10:19:13.125Z"
   },
   {
    "duration": 27,
    "start_time": "2022-05-31T10:19:13.140Z"
   },
   {
    "duration": 8,
    "start_time": "2022-05-31T10:19:13.168Z"
   },
   {
    "duration": 12,
    "start_time": "2022-05-31T10:19:13.178Z"
   },
   {
    "duration": 23,
    "start_time": "2022-05-31T10:19:33.111Z"
   },
   {
    "duration": 7,
    "start_time": "2022-05-31T10:19:42.734Z"
   },
   {
    "duration": 3,
    "start_time": "2022-05-31T10:30:11.413Z"
   },
   {
    "duration": 1152,
    "start_time": "2022-05-31T10:30:38.342Z"
   },
   {
    "duration": 437,
    "start_time": "2022-05-31T10:30:39.496Z"
   },
   {
    "duration": 71,
    "start_time": "2022-05-31T10:30:39.935Z"
   },
   {
    "duration": 86,
    "start_time": "2022-05-31T10:30:40.008Z"
   },
   {
    "duration": 4,
    "start_time": "2022-05-31T10:30:40.096Z"
   },
   {
    "duration": 122,
    "start_time": "2022-05-31T10:30:40.101Z"
   },
   {
    "duration": 3,
    "start_time": "2022-05-31T10:30:40.224Z"
   },
   {
    "duration": 212,
    "start_time": "2022-05-31T10:30:40.229Z"
   },
   {
    "duration": 26,
    "start_time": "2022-05-31T10:30:40.442Z"
   },
   {
    "duration": 570,
    "start_time": "2022-05-31T10:30:40.470Z"
   },
   {
    "duration": 20,
    "start_time": "2022-05-31T10:30:41.042Z"
   },
   {
    "duration": 12,
    "start_time": "2022-05-31T10:30:41.068Z"
   },
   {
    "duration": 36,
    "start_time": "2022-05-31T10:30:41.081Z"
   },
   {
    "duration": 384,
    "start_time": "2022-05-31T10:30:41.121Z"
   },
   {
    "duration": 7,
    "start_time": "2022-05-31T10:30:41.506Z"
   },
   {
    "duration": 25,
    "start_time": "2022-05-31T10:30:41.514Z"
   },
   {
    "duration": 16,
    "start_time": "2022-05-31T10:30:41.541Z"
   },
   {
    "duration": 51,
    "start_time": "2022-05-31T10:30:41.563Z"
   },
   {
    "duration": 28,
    "start_time": "2022-05-31T10:30:41.615Z"
   },
   {
    "duration": 31,
    "start_time": "2022-05-31T10:30:41.644Z"
   },
   {
    "duration": 49,
    "start_time": "2022-05-31T10:30:41.677Z"
   },
   {
    "duration": 243,
    "start_time": "2022-05-31T10:30:41.727Z"
   },
   {
    "duration": 21,
    "start_time": "2022-05-31T10:30:41.972Z"
   },
   {
    "duration": 8,
    "start_time": "2022-05-31T10:30:41.994Z"
   },
   {
    "duration": 21,
    "start_time": "2022-05-31T10:30:42.004Z"
   },
   {
    "duration": 45,
    "start_time": "2022-05-31T10:30:42.027Z"
   },
   {
    "duration": 31,
    "start_time": "2022-05-31T10:30:42.073Z"
   },
   {
    "duration": 19,
    "start_time": "2022-05-31T10:30:42.105Z"
   },
   {
    "duration": 62,
    "start_time": "2022-05-31T10:30:42.125Z"
   },
   {
    "duration": 120,
    "start_time": "2022-05-31T10:30:42.188Z"
   },
   {
    "duration": 16,
    "start_time": "2022-05-31T10:30:42.310Z"
   },
   {
    "duration": 12,
    "start_time": "2022-05-31T10:30:42.327Z"
   },
   {
    "duration": 27,
    "start_time": "2022-05-31T10:30:42.341Z"
   },
   {
    "duration": 25,
    "start_time": "2022-05-31T10:30:42.369Z"
   },
   {
    "duration": 22,
    "start_time": "2022-05-31T10:30:42.396Z"
   },
   {
    "duration": 68,
    "start_time": "2022-05-31T10:30:42.420Z"
   },
   {
    "duration": 121,
    "start_time": "2022-05-31T10:30:42.490Z"
   },
   {
    "duration": 21,
    "start_time": "2022-05-31T10:30:42.614Z"
   },
   {
    "duration": 23,
    "start_time": "2022-05-31T10:30:42.636Z"
   },
   {
    "duration": 40,
    "start_time": "2022-05-31T10:30:42.661Z"
   },
   {
    "duration": 11,
    "start_time": "2022-05-31T10:30:42.706Z"
   },
   {
    "duration": 39,
    "start_time": "2022-05-31T10:30:42.719Z"
   },
   {
    "duration": 24,
    "start_time": "2022-05-31T10:30:42.760Z"
   },
   {
    "duration": 27,
    "start_time": "2022-05-31T10:30:42.785Z"
   },
   {
    "duration": 9,
    "start_time": "2022-05-31T10:30:42.814Z"
   },
   {
    "duration": 8,
    "start_time": "2022-05-31T10:30:42.825Z"
   },
   {
    "duration": 15,
    "start_time": "2022-05-31T10:30:42.835Z"
   },
   {
    "duration": 37,
    "start_time": "2022-05-31T10:30:42.852Z"
   },
   {
    "duration": 29,
    "start_time": "2022-05-31T10:30:42.890Z"
   },
   {
    "duration": 60,
    "start_time": "2022-05-31T10:30:42.921Z"
   },
   {
    "duration": 19,
    "start_time": "2022-05-31T10:30:42.983Z"
   },
   {
    "duration": 23,
    "start_time": "2022-05-31T10:30:43.004Z"
   },
   {
    "duration": 16,
    "start_time": "2022-05-31T10:30:43.028Z"
   },
   {
    "duration": 30,
    "start_time": "2022-05-31T10:30:43.046Z"
   },
   {
    "duration": 9,
    "start_time": "2022-05-31T10:30:43.078Z"
   },
   {
    "duration": 14,
    "start_time": "2022-05-31T10:30:43.089Z"
   },
   {
    "duration": 24,
    "start_time": "2022-05-31T10:30:43.105Z"
   },
   {
    "duration": 119,
    "start_time": "2022-05-31T10:30:43.131Z"
   },
   {
    "duration": 19,
    "start_time": "2022-05-31T10:30:43.254Z"
   },
   {
    "duration": 42,
    "start_time": "2022-05-31T10:30:43.275Z"
   },
   {
    "duration": 15,
    "start_time": "2022-05-31T10:30:43.319Z"
   },
   {
    "duration": 81,
    "start_time": "2022-05-31T10:30:43.336Z"
   },
   {
    "duration": 13,
    "start_time": "2022-05-31T10:30:43.419Z"
   },
   {
    "duration": 42,
    "start_time": "2022-05-31T10:30:43.433Z"
   },
   {
    "duration": 16,
    "start_time": "2022-05-31T10:30:43.477Z"
   },
   {
    "duration": 15,
    "start_time": "2022-05-31T10:30:43.495Z"
   },
   {
    "duration": 19,
    "start_time": "2022-05-31T10:30:43.512Z"
   },
   {
    "duration": 23,
    "start_time": "2022-05-31T10:30:43.532Z"
   },
   {
    "duration": 26,
    "start_time": "2022-05-31T10:30:43.557Z"
   },
   {
    "duration": 10,
    "start_time": "2022-05-31T10:30:43.584Z"
   },
   {
    "duration": 13,
    "start_time": "2022-05-31T10:30:43.596Z"
   },
   {
    "duration": 15,
    "start_time": "2022-05-31T10:30:43.611Z"
   },
   {
    "duration": 54,
    "start_time": "2022-05-31T10:30:43.628Z"
   },
   {
    "duration": 14405,
    "start_time": "2022-05-31T10:30:43.684Z"
   },
   {
    "duration": 15,
    "start_time": "2022-05-31T10:30:58.091Z"
   },
   {
    "duration": 16,
    "start_time": "2022-05-31T10:30:58.107Z"
   },
   {
    "duration": 42,
    "start_time": "2022-05-31T10:30:58.125Z"
   },
   {
    "duration": 51,
    "start_time": "2022-05-31T10:30:58.169Z"
   },
   {
    "duration": 946,
    "start_time": "2022-05-31T10:30:58.222Z"
   },
   {
    "duration": 979,
    "start_time": "2022-05-31T10:30:59.170Z"
   },
   {
    "duration": 23,
    "start_time": "2022-05-31T10:31:00.151Z"
   },
   {
    "duration": 232,
    "start_time": "2022-05-31T10:31:00.176Z"
   },
   {
    "duration": 14,
    "start_time": "2022-05-31T10:31:00.410Z"
   },
   {
    "duration": 60,
    "start_time": "2022-05-31T10:31:00.425Z"
   },
   {
    "duration": 33,
    "start_time": "2022-05-31T10:31:00.487Z"
   },
   {
    "duration": 53,
    "start_time": "2022-05-31T10:31:00.522Z"
   },
   {
    "duration": 19,
    "start_time": "2022-05-31T10:31:00.577Z"
   },
   {
    "duration": 25,
    "start_time": "2022-05-31T10:31:00.598Z"
   },
   {
    "duration": 17,
    "start_time": "2022-05-31T10:31:00.626Z"
   },
   {
    "duration": 33,
    "start_time": "2022-05-31T10:31:00.645Z"
   },
   {
    "duration": 30,
    "start_time": "2022-05-31T10:31:00.680Z"
   },
   {
    "duration": 17,
    "start_time": "2022-05-31T10:31:00.711Z"
   },
   {
    "duration": 47,
    "start_time": "2022-05-31T10:31:00.730Z"
   },
   {
    "duration": 14,
    "start_time": "2022-05-31T10:31:00.778Z"
   },
   {
    "duration": 17,
    "start_time": "2022-05-31T10:31:00.794Z"
   },
   {
    "duration": 15,
    "start_time": "2022-05-31T10:45:44.309Z"
   },
   {
    "duration": 3,
    "start_time": "2022-05-31T10:45:49.065Z"
   },
   {
    "duration": 25,
    "start_time": "2022-05-31T10:46:01.593Z"
   },
   {
    "duration": 1202,
    "start_time": "2022-05-31T10:52:08.301Z"
   },
   {
    "duration": 434,
    "start_time": "2022-05-31T10:52:09.505Z"
   },
   {
    "duration": 75,
    "start_time": "2022-05-31T10:52:09.941Z"
   },
   {
    "duration": 89,
    "start_time": "2022-05-31T10:52:10.018Z"
   },
   {
    "duration": 11,
    "start_time": "2022-05-31T10:52:10.108Z"
   },
   {
    "duration": 145,
    "start_time": "2022-05-31T10:52:10.121Z"
   },
   {
    "duration": 3,
    "start_time": "2022-05-31T10:52:10.268Z"
   },
   {
    "duration": 199,
    "start_time": "2022-05-31T10:52:10.273Z"
   },
   {
    "duration": 23,
    "start_time": "2022-05-31T10:52:10.474Z"
   },
   {
    "duration": 511,
    "start_time": "2022-05-31T10:52:10.500Z"
   },
   {
    "duration": 6,
    "start_time": "2022-05-31T10:52:11.013Z"
   },
   {
    "duration": 6,
    "start_time": "2022-05-31T10:52:11.021Z"
   },
   {
    "duration": 36,
    "start_time": "2022-05-31T10:52:11.029Z"
   },
   {
    "duration": 423,
    "start_time": "2022-05-31T10:52:11.068Z"
   },
   {
    "duration": 6,
    "start_time": "2022-05-31T10:52:11.492Z"
   },
   {
    "duration": 17,
    "start_time": "2022-05-31T10:52:11.499Z"
   },
   {
    "duration": 4,
    "start_time": "2022-05-31T10:52:11.517Z"
   },
   {
    "duration": 57,
    "start_time": "2022-05-31T10:52:11.522Z"
   },
   {
    "duration": 37,
    "start_time": "2022-05-31T10:52:11.581Z"
   },
   {
    "duration": 39,
    "start_time": "2022-05-31T10:52:11.619Z"
   },
   {
    "duration": 50,
    "start_time": "2022-05-31T10:52:11.660Z"
   },
   {
    "duration": 234,
    "start_time": "2022-05-31T10:52:11.711Z"
   },
   {
    "duration": 30,
    "start_time": "2022-05-31T10:52:11.946Z"
   },
   {
    "duration": 7,
    "start_time": "2022-05-31T10:52:11.978Z"
   },
   {
    "duration": 22,
    "start_time": "2022-05-31T10:52:11.987Z"
   },
   {
    "duration": 25,
    "start_time": "2022-05-31T10:52:12.011Z"
   },
   {
    "duration": 35,
    "start_time": "2022-05-31T10:52:12.053Z"
   },
   {
    "duration": 18,
    "start_time": "2022-05-31T10:52:12.093Z"
   },
   {
    "duration": 65,
    "start_time": "2022-05-31T10:52:12.113Z"
   },
   {
    "duration": 135,
    "start_time": "2022-05-31T10:52:12.180Z"
   },
   {
    "duration": 17,
    "start_time": "2022-05-31T10:52:12.317Z"
   },
   {
    "duration": 5,
    "start_time": "2022-05-31T10:52:12.352Z"
   },
   {
    "duration": 33,
    "start_time": "2022-05-31T10:52:12.361Z"
   },
   {
    "duration": 23,
    "start_time": "2022-05-31T10:52:12.396Z"
   },
   {
    "duration": 23,
    "start_time": "2022-05-31T10:52:12.421Z"
   },
   {
    "duration": 39,
    "start_time": "2022-05-31T10:52:12.445Z"
   },
   {
    "duration": 136,
    "start_time": "2022-05-31T10:52:12.486Z"
   },
   {
    "duration": 16,
    "start_time": "2022-05-31T10:52:12.623Z"
   },
   {
    "duration": 5,
    "start_time": "2022-05-31T10:52:12.641Z"
   },
   {
    "duration": 38,
    "start_time": "2022-05-31T10:52:12.648Z"
   },
   {
    "duration": 14,
    "start_time": "2022-05-31T10:52:12.689Z"
   },
   {
    "duration": 29,
    "start_time": "2022-05-31T10:52:12.706Z"
   },
   {
    "duration": 18,
    "start_time": "2022-05-31T10:52:12.737Z"
   },
   {
    "duration": 15,
    "start_time": "2022-05-31T10:52:12.759Z"
   },
   {
    "duration": 6,
    "start_time": "2022-05-31T10:52:12.776Z"
   },
   {
    "duration": 6,
    "start_time": "2022-05-31T10:52:12.783Z"
   },
   {
    "duration": 16,
    "start_time": "2022-05-31T10:52:12.791Z"
   },
   {
    "duration": 21,
    "start_time": "2022-05-31T10:52:12.809Z"
   },
   {
    "duration": 36,
    "start_time": "2022-05-31T10:52:12.832Z"
   },
   {
    "duration": 18,
    "start_time": "2022-05-31T10:52:12.870Z"
   },
   {
    "duration": 17,
    "start_time": "2022-05-31T10:52:12.890Z"
   },
   {
    "duration": 44,
    "start_time": "2022-05-31T10:52:12.909Z"
   },
   {
    "duration": 18,
    "start_time": "2022-05-31T10:52:12.962Z"
   },
   {
    "duration": 30,
    "start_time": "2022-05-31T10:52:12.981Z"
   },
   {
    "duration": 8,
    "start_time": "2022-05-31T10:52:13.013Z"
   },
   {
    "duration": 6,
    "start_time": "2022-05-31T10:52:13.023Z"
   },
   {
    "duration": 33,
    "start_time": "2022-05-31T10:52:13.031Z"
   },
   {
    "duration": 81,
    "start_time": "2022-05-31T10:52:13.068Z"
   },
   {
    "duration": 23,
    "start_time": "2022-05-31T10:52:13.152Z"
   },
   {
    "duration": 41,
    "start_time": "2022-05-31T10:52:13.177Z"
   },
   {
    "duration": 13,
    "start_time": "2022-05-31T10:52:13.220Z"
   },
   {
    "duration": 77,
    "start_time": "2022-05-31T10:52:13.235Z"
   },
   {
    "duration": 12,
    "start_time": "2022-05-31T10:52:13.313Z"
   },
   {
    "duration": 40,
    "start_time": "2022-05-31T10:52:13.327Z"
   },
   {
    "duration": 12,
    "start_time": "2022-05-31T10:52:13.371Z"
   },
   {
    "duration": 29,
    "start_time": "2022-05-31T10:52:13.384Z"
   },
   {
    "duration": 18,
    "start_time": "2022-05-31T10:52:13.415Z"
   },
   {
    "duration": 9,
    "start_time": "2022-05-31T10:52:13.435Z"
   },
   {
    "duration": 13,
    "start_time": "2022-05-31T10:52:13.445Z"
   },
   {
    "duration": 24,
    "start_time": "2022-05-31T10:52:13.464Z"
   },
   {
    "duration": 11,
    "start_time": "2022-05-31T10:52:13.489Z"
   },
   {
    "duration": 15,
    "start_time": "2022-05-31T10:52:13.501Z"
   },
   {
    "duration": 7,
    "start_time": "2022-05-31T10:52:13.518Z"
   },
   {
    "duration": 11174,
    "start_time": "2022-05-31T10:52:13.526Z"
   },
   {
    "duration": 14,
    "start_time": "2022-05-31T10:52:24.702Z"
   },
   {
    "duration": 11,
    "start_time": "2022-05-31T10:52:24.718Z"
   },
   {
    "duration": 29,
    "start_time": "2022-05-31T10:52:24.731Z"
   },
   {
    "duration": 44,
    "start_time": "2022-05-31T10:52:24.766Z"
   },
   {
    "duration": 978,
    "start_time": "2022-05-31T10:52:24.812Z"
   },
   {
    "duration": 956,
    "start_time": "2022-05-31T10:52:25.792Z"
   },
   {
    "duration": 26,
    "start_time": "2022-05-31T10:52:26.750Z"
   },
   {
    "duration": 218,
    "start_time": "2022-05-31T10:52:26.782Z"
   },
   {
    "duration": 14,
    "start_time": "2022-05-31T10:52:27.001Z"
   },
   {
    "duration": 11,
    "start_time": "2022-05-31T10:52:27.016Z"
   },
   {
    "duration": 6,
    "start_time": "2022-05-31T10:52:27.028Z"
   },
   {
    "duration": 31,
    "start_time": "2022-05-31T10:52:27.035Z"
   },
   {
    "duration": 8,
    "start_time": "2022-05-31T10:52:27.070Z"
   },
   {
    "duration": 11,
    "start_time": "2022-05-31T10:52:27.080Z"
   },
   {
    "duration": 7,
    "start_time": "2022-05-31T10:52:27.092Z"
   },
   {
    "duration": 10,
    "start_time": "2022-05-31T10:52:27.100Z"
   },
   {
    "duration": 16,
    "start_time": "2022-05-31T10:52:27.111Z"
   },
   {
    "duration": 35,
    "start_time": "2022-05-31T10:52:27.129Z"
   },
   {
    "duration": 19,
    "start_time": "2022-05-31T10:52:27.166Z"
   },
   {
    "duration": 5,
    "start_time": "2022-05-31T10:52:27.188Z"
   },
   {
    "duration": 6,
    "start_time": "2022-05-31T10:52:27.196Z"
   },
   {
    "duration": 1269,
    "start_time": "2022-05-31T12:54:53.996Z"
   },
   {
    "duration": 962,
    "start_time": "2022-05-31T12:54:55.267Z"
   },
   {
    "duration": 82,
    "start_time": "2022-05-31T12:54:56.232Z"
   },
   {
    "duration": 83,
    "start_time": "2022-05-31T12:54:56.316Z"
   },
   {
    "duration": 3,
    "start_time": "2022-05-31T12:54:56.401Z"
   },
   {
    "duration": 124,
    "start_time": "2022-05-31T12:54:56.405Z"
   },
   {
    "duration": 4,
    "start_time": "2022-05-31T12:54:56.532Z"
   },
   {
    "duration": 227,
    "start_time": "2022-05-31T12:54:56.539Z"
   },
   {
    "duration": 26,
    "start_time": "2022-05-31T12:54:56.767Z"
   },
   {
    "duration": 597,
    "start_time": "2022-05-31T12:54:56.797Z"
   },
   {
    "duration": 6,
    "start_time": "2022-05-31T12:54:57.396Z"
   },
   {
    "duration": 7,
    "start_time": "2022-05-31T12:54:57.403Z"
   },
   {
    "duration": 22,
    "start_time": "2022-05-31T12:54:57.424Z"
   },
   {
    "duration": 433,
    "start_time": "2022-05-31T12:54:57.448Z"
   },
   {
    "duration": 6,
    "start_time": "2022-05-31T12:54:57.883Z"
   },
   {
    "duration": 19,
    "start_time": "2022-05-31T12:54:57.891Z"
   },
   {
    "duration": 15,
    "start_time": "2022-05-31T12:54:57.911Z"
   },
   {
    "duration": 48,
    "start_time": "2022-05-31T12:54:57.929Z"
   },
   {
    "duration": 48,
    "start_time": "2022-05-31T12:54:57.980Z"
   },
   {
    "duration": 22,
    "start_time": "2022-05-31T12:54:58.030Z"
   },
   {
    "duration": 73,
    "start_time": "2022-05-31T12:54:58.055Z"
   },
   {
    "duration": 247,
    "start_time": "2022-05-31T12:54:58.130Z"
   },
   {
    "duration": 23,
    "start_time": "2022-05-31T12:54:58.378Z"
   },
   {
    "duration": 6,
    "start_time": "2022-05-31T12:54:58.402Z"
   },
   {
    "duration": 43,
    "start_time": "2022-05-31T12:54:58.409Z"
   },
   {
    "duration": 27,
    "start_time": "2022-05-31T12:54:58.453Z"
   },
   {
    "duration": 50,
    "start_time": "2022-05-31T12:54:58.482Z"
   },
   {
    "duration": 27,
    "start_time": "2022-05-31T12:54:58.539Z"
   },
   {
    "duration": 77,
    "start_time": "2022-05-31T12:54:58.568Z"
   },
   {
    "duration": 150,
    "start_time": "2022-05-31T12:54:58.649Z"
   },
   {
    "duration": 26,
    "start_time": "2022-05-31T12:54:58.801Z"
   },
   {
    "duration": 6,
    "start_time": "2022-05-31T12:54:58.829Z"
   },
   {
    "duration": 24,
    "start_time": "2022-05-31T12:54:58.837Z"
   },
   {
    "duration": 25,
    "start_time": "2022-05-31T12:54:58.863Z"
   },
   {
    "duration": 57,
    "start_time": "2022-05-31T12:54:58.890Z"
   },
   {
    "duration": 35,
    "start_time": "2022-05-31T12:54:58.949Z"
   },
   {
    "duration": 153,
    "start_time": "2022-05-31T12:54:58.985Z"
   },
   {
    "duration": 18,
    "start_time": "2022-05-31T12:54:59.140Z"
   },
   {
    "duration": 6,
    "start_time": "2022-05-31T12:54:59.160Z"
   },
   {
    "duration": 19,
    "start_time": "2022-05-31T12:54:59.168Z"
   },
   {
    "duration": 39,
    "start_time": "2022-05-31T12:54:59.188Z"
   },
   {
    "duration": 36,
    "start_time": "2022-05-31T12:54:59.241Z"
   },
   {
    "duration": 20,
    "start_time": "2022-05-31T12:54:59.278Z"
   },
   {
    "duration": 66,
    "start_time": "2022-05-31T12:54:59.300Z"
   },
   {
    "duration": 12,
    "start_time": "2022-05-31T12:54:59.368Z"
   },
   {
    "duration": 6,
    "start_time": "2022-05-31T12:54:59.381Z"
   },
   {
    "duration": 15,
    "start_time": "2022-05-31T12:54:59.389Z"
   },
   {
    "duration": 21,
    "start_time": "2022-05-31T12:54:59.406Z"
   },
   {
    "duration": 47,
    "start_time": "2022-05-31T12:54:59.429Z"
   },
   {
    "duration": 21,
    "start_time": "2022-05-31T12:54:59.478Z"
   },
   {
    "duration": 12,
    "start_time": "2022-05-31T12:54:59.500Z"
   },
   {
    "duration": 24,
    "start_time": "2022-05-31T12:54:59.514Z"
   },
   {
    "duration": 24,
    "start_time": "2022-05-31T12:54:59.540Z"
   },
   {
    "duration": 32,
    "start_time": "2022-05-31T12:54:59.567Z"
   },
   {
    "duration": 8,
    "start_time": "2022-05-31T12:54:59.601Z"
   },
   {
    "duration": 17,
    "start_time": "2022-05-31T12:54:59.611Z"
   },
   {
    "duration": 30,
    "start_time": "2022-05-31T12:54:59.630Z"
   },
   {
    "duration": 90,
    "start_time": "2022-05-31T12:54:59.662Z"
   },
   {
    "duration": 12,
    "start_time": "2022-05-31T12:54:59.754Z"
   },
   {
    "duration": 44,
    "start_time": "2022-05-31T12:54:59.768Z"
   },
   {
    "duration": 23,
    "start_time": "2022-05-31T12:54:59.814Z"
   },
   {
    "duration": 63,
    "start_time": "2022-05-31T12:54:59.840Z"
   },
   {
    "duration": 26,
    "start_time": "2022-05-31T12:54:59.905Z"
   },
   {
    "duration": 45,
    "start_time": "2022-05-31T12:54:59.932Z"
   },
   {
    "duration": 13,
    "start_time": "2022-05-31T12:54:59.979Z"
   },
   {
    "duration": 13,
    "start_time": "2022-05-31T12:54:59.993Z"
   },
   {
    "duration": 26,
    "start_time": "2022-05-31T12:55:00.009Z"
   },
   {
    "duration": 33,
    "start_time": "2022-05-31T12:55:00.037Z"
   },
   {
    "duration": 13,
    "start_time": "2022-05-31T12:55:00.072Z"
   },
   {
    "duration": 26,
    "start_time": "2022-05-31T12:55:00.086Z"
   },
   {
    "duration": 44,
    "start_time": "2022-05-31T12:55:00.115Z"
   },
   {
    "duration": 22,
    "start_time": "2022-05-31T12:55:00.162Z"
   },
   {
    "duration": 13,
    "start_time": "2022-05-31T12:55:00.186Z"
   },
   {
    "duration": 11398,
    "start_time": "2022-05-31T12:55:00.201Z"
   },
   {
    "duration": 14,
    "start_time": "2022-05-31T12:55:11.600Z"
   },
   {
    "duration": 12,
    "start_time": "2022-05-31T12:55:11.629Z"
   },
   {
    "duration": 14,
    "start_time": "2022-05-31T12:55:11.643Z"
   },
   {
    "duration": 37,
    "start_time": "2022-05-31T12:55:11.659Z"
   },
   {
    "duration": 953,
    "start_time": "2022-05-31T12:55:11.698Z"
   },
   {
    "duration": 1081,
    "start_time": "2022-05-31T12:55:12.654Z"
   },
   {
    "duration": 18,
    "start_time": "2022-05-31T12:55:13.737Z"
   },
   {
    "duration": 250,
    "start_time": "2022-05-31T12:55:13.760Z"
   },
   {
    "duration": 21,
    "start_time": "2022-05-31T12:55:14.011Z"
   },
   {
    "duration": 23,
    "start_time": "2022-05-31T12:55:14.034Z"
   },
   {
    "duration": 6,
    "start_time": "2022-05-31T12:55:14.059Z"
   },
   {
    "duration": 16,
    "start_time": "2022-05-31T12:55:14.067Z"
   },
   {
    "duration": 9,
    "start_time": "2022-05-31T12:55:14.084Z"
   },
   {
    "duration": 9,
    "start_time": "2022-05-31T12:55:14.094Z"
   },
   {
    "duration": 23,
    "start_time": "2022-05-31T12:55:14.104Z"
   },
   {
    "duration": 24,
    "start_time": "2022-05-31T12:55:14.130Z"
   },
   {
    "duration": 22,
    "start_time": "2022-05-31T12:55:14.156Z"
   },
   {
    "duration": 10,
    "start_time": "2022-05-31T12:55:14.180Z"
   },
   {
    "duration": 18,
    "start_time": "2022-05-31T12:55:14.192Z"
   },
   {
    "duration": 11,
    "start_time": "2022-05-31T12:55:14.211Z"
   },
   {
    "duration": 18,
    "start_time": "2022-05-31T12:55:14.224Z"
   },
   {
    "duration": 21,
    "start_time": "2022-05-31T12:57:42.664Z"
   },
   {
    "duration": 1167,
    "start_time": "2022-05-31T14:10:33.717Z"
   },
   {
    "duration": 433,
    "start_time": "2022-05-31T14:10:34.886Z"
   },
   {
    "duration": 83,
    "start_time": "2022-05-31T14:10:35.321Z"
   },
   {
    "duration": 89,
    "start_time": "2022-05-31T14:10:35.406Z"
   },
   {
    "duration": 4,
    "start_time": "2022-05-31T14:10:35.497Z"
   },
   {
    "duration": 98,
    "start_time": "2022-05-31T14:10:35.502Z"
   },
   {
    "duration": 2,
    "start_time": "2022-05-31T14:10:35.602Z"
   },
   {
    "duration": 178,
    "start_time": "2022-05-31T14:10:35.606Z"
   },
   {
    "duration": 23,
    "start_time": "2022-05-31T14:10:35.786Z"
   },
   {
    "duration": 491,
    "start_time": "2022-05-31T14:10:35.812Z"
   },
   {
    "duration": 7,
    "start_time": "2022-05-31T14:10:36.305Z"
   },
   {
    "duration": 20,
    "start_time": "2022-05-31T14:10:36.313Z"
   },
   {
    "duration": 30,
    "start_time": "2022-05-31T14:10:36.334Z"
   },
   {
    "duration": 378,
    "start_time": "2022-05-31T14:10:36.365Z"
   },
   {
    "duration": 20,
    "start_time": "2022-05-31T14:10:36.744Z"
   },
   {
    "duration": 3,
    "start_time": "2022-05-31T14:10:36.765Z"
   },
   {
    "duration": 41,
    "start_time": "2022-05-31T14:10:36.770Z"
   },
   {
    "duration": 40,
    "start_time": "2022-05-31T14:10:36.813Z"
   },
   {
    "duration": 19,
    "start_time": "2022-05-31T14:10:36.855Z"
   },
   {
    "duration": 46,
    "start_time": "2022-05-31T14:10:36.875Z"
   },
   {
    "duration": 222,
    "start_time": "2022-05-31T14:10:36.922Z"
   },
   {
    "duration": 25,
    "start_time": "2022-05-31T14:10:37.145Z"
   },
   {
    "duration": 4,
    "start_time": "2022-05-31T14:10:37.172Z"
   },
   {
    "duration": 22,
    "start_time": "2022-05-31T14:10:37.177Z"
   },
   {
    "duration": 26,
    "start_time": "2022-05-31T14:10:37.201Z"
   },
   {
    "duration": 25,
    "start_time": "2022-05-31T14:10:37.251Z"
   },
   {
    "duration": 18,
    "start_time": "2022-05-31T14:10:37.278Z"
   },
   {
    "duration": 60,
    "start_time": "2022-05-31T14:10:37.301Z"
   },
   {
    "duration": 117,
    "start_time": "2022-05-31T14:10:37.363Z"
   },
   {
    "duration": 17,
    "start_time": "2022-05-31T14:10:37.481Z"
   },
   {
    "duration": 9,
    "start_time": "2022-05-31T14:10:37.500Z"
   },
   {
    "duration": 25,
    "start_time": "2022-05-31T14:10:37.511Z"
   },
   {
    "duration": 33,
    "start_time": "2022-05-31T14:10:37.539Z"
   },
   {
    "duration": 24,
    "start_time": "2022-05-31T14:10:37.575Z"
   },
   {
    "duration": 55,
    "start_time": "2022-05-31T14:10:37.601Z"
   },
   {
    "duration": 96,
    "start_time": "2022-05-31T14:10:37.657Z"
   },
   {
    "duration": 14,
    "start_time": "2022-05-31T14:10:37.755Z"
   },
   {
    "duration": 5,
    "start_time": "2022-05-31T14:10:37.771Z"
   },
   {
    "duration": 23,
    "start_time": "2022-05-31T14:10:37.778Z"
   },
   {
    "duration": 12,
    "start_time": "2022-05-31T14:10:37.802Z"
   },
   {
    "duration": 41,
    "start_time": "2022-05-31T14:10:37.815Z"
   },
   {
    "duration": 8,
    "start_time": "2022-05-31T14:10:37.858Z"
   },
   {
    "duration": 21,
    "start_time": "2022-05-31T14:10:37.868Z"
   },
   {
    "duration": 22,
    "start_time": "2022-05-31T14:10:37.890Z"
   },
   {
    "duration": 10,
    "start_time": "2022-05-31T14:10:37.914Z"
   },
   {
    "duration": 21,
    "start_time": "2022-05-31T14:10:37.926Z"
   },
   {
    "duration": 23,
    "start_time": "2022-05-31T14:10:37.948Z"
   },
   {
    "duration": 17,
    "start_time": "2022-05-31T14:10:37.973Z"
   },
   {
    "duration": 18,
    "start_time": "2022-05-31T14:10:37.991Z"
   },
   {
    "duration": 20,
    "start_time": "2022-05-31T14:10:38.010Z"
   },
   {
    "duration": 26,
    "start_time": "2022-05-31T14:10:38.031Z"
   },
   {
    "duration": 9,
    "start_time": "2022-05-31T14:10:38.059Z"
   },
   {
    "duration": 20,
    "start_time": "2022-05-31T14:10:38.069Z"
   },
   {
    "duration": 7,
    "start_time": "2022-05-31T14:10:38.090Z"
   },
   {
    "duration": 13,
    "start_time": "2022-05-31T14:10:38.098Z"
   },
   {
    "duration": 44,
    "start_time": "2022-05-31T14:10:38.112Z"
   },
   {
    "duration": 79,
    "start_time": "2022-05-31T14:10:38.158Z"
   },
   {
    "duration": 20,
    "start_time": "2022-05-31T14:10:38.238Z"
   },
   {
    "duration": 37,
    "start_time": "2022-05-31T14:10:38.259Z"
   },
   {
    "duration": 11,
    "start_time": "2022-05-31T14:10:38.297Z"
   },
   {
    "duration": 12,
    "start_time": "2022-05-31T14:10:38.310Z"
   },
   {
    "duration": 70,
    "start_time": "2022-05-31T14:10:38.323Z"
   },
   {
    "duration": 13,
    "start_time": "2022-05-31T14:10:38.395Z"
   },
   {
    "duration": 37,
    "start_time": "2022-05-31T14:10:38.409Z"
   },
   {
    "duration": 11,
    "start_time": "2022-05-31T14:10:38.448Z"
   },
   {
    "duration": 10,
    "start_time": "2022-05-31T14:10:38.461Z"
   },
   {
    "duration": 14,
    "start_time": "2022-05-31T14:10:38.473Z"
   },
   {
    "duration": 9,
    "start_time": "2022-05-31T14:10:38.489Z"
   },
   {
    "duration": 9,
    "start_time": "2022-05-31T14:10:38.500Z"
   },
   {
    "duration": 11,
    "start_time": "2022-05-31T14:10:38.511Z"
   },
   {
    "duration": 7,
    "start_time": "2022-05-31T14:10:38.523Z"
   },
   {
    "duration": 31,
    "start_time": "2022-05-31T14:10:38.531Z"
   },
   {
    "duration": 7,
    "start_time": "2022-05-31T14:10:38.563Z"
   },
   {
    "duration": 10816,
    "start_time": "2022-05-31T14:10:38.572Z"
   },
   {
    "duration": 14,
    "start_time": "2022-05-31T14:10:49.390Z"
   },
   {
    "duration": 35,
    "start_time": "2022-05-31T14:10:49.406Z"
   },
   {
    "duration": 38,
    "start_time": "2022-05-31T14:10:49.442Z"
   },
   {
    "duration": 56,
    "start_time": "2022-05-31T14:10:49.482Z"
   },
   {
    "duration": 898,
    "start_time": "2022-05-31T14:10:49.540Z"
   },
   {
    "duration": 973,
    "start_time": "2022-05-31T14:10:50.440Z"
   },
   {
    "duration": 13,
    "start_time": "2022-05-31T14:10:51.415Z"
   },
   {
    "duration": 230,
    "start_time": "2022-05-31T14:10:51.433Z"
   },
   {
    "duration": 14,
    "start_time": "2022-05-31T14:10:51.665Z"
   },
   {
    "duration": 8,
    "start_time": "2022-05-31T14:10:51.680Z"
   },
   {
    "duration": 6,
    "start_time": "2022-05-31T14:10:51.690Z"
   },
   {
    "duration": 12,
    "start_time": "2022-05-31T14:10:51.698Z"
   },
   {
    "duration": 7,
    "start_time": "2022-05-31T14:10:51.712Z"
   },
   {
    "duration": 33,
    "start_time": "2022-05-31T14:10:51.720Z"
   },
   {
    "duration": 11,
    "start_time": "2022-05-31T14:10:51.755Z"
   },
   {
    "duration": 10,
    "start_time": "2022-05-31T14:10:51.768Z"
   },
   {
    "duration": 19,
    "start_time": "2022-05-31T14:10:51.779Z"
   },
   {
    "duration": 11,
    "start_time": "2022-05-31T14:10:51.800Z"
   },
   {
    "duration": 13,
    "start_time": "2022-05-31T14:10:51.812Z"
   },
   {
    "duration": 5,
    "start_time": "2022-05-31T14:10:51.826Z"
   },
   {
    "duration": 21,
    "start_time": "2022-05-31T14:10:51.832Z"
   },
   {
    "duration": 1295,
    "start_time": "2022-05-31T14:49:10.205Z"
   },
   {
    "duration": 945,
    "start_time": "2022-05-31T14:49:11.503Z"
   },
   {
    "duration": 73,
    "start_time": "2022-05-31T14:49:12.450Z"
   },
   {
    "duration": 75,
    "start_time": "2022-05-31T14:49:12.525Z"
   },
   {
    "duration": 4,
    "start_time": "2022-05-31T14:49:12.602Z"
   },
   {
    "duration": 117,
    "start_time": "2022-05-31T14:49:12.607Z"
   },
   {
    "duration": 2,
    "start_time": "2022-05-31T14:49:12.726Z"
   },
   {
    "duration": 190,
    "start_time": "2022-05-31T14:49:12.730Z"
   },
   {
    "duration": 22,
    "start_time": "2022-05-31T14:49:12.921Z"
   },
   {
    "duration": 537,
    "start_time": "2022-05-31T14:49:12.945Z"
   },
   {
    "duration": 6,
    "start_time": "2022-05-31T14:49:13.484Z"
   },
   {
    "duration": 12,
    "start_time": "2022-05-31T14:49:13.491Z"
   },
   {
    "duration": 22,
    "start_time": "2022-05-31T14:49:13.505Z"
   },
   {
    "duration": 407,
    "start_time": "2022-05-31T14:49:13.530Z"
   },
   {
    "duration": 16,
    "start_time": "2022-05-31T14:49:13.939Z"
   },
   {
    "duration": 3,
    "start_time": "2022-05-31T14:49:13.957Z"
   },
   {
    "duration": 60,
    "start_time": "2022-05-31T14:49:13.962Z"
   },
   {
    "duration": 30,
    "start_time": "2022-05-31T14:49:14.024Z"
   },
   {
    "duration": 17,
    "start_time": "2022-05-31T14:49:14.056Z"
   },
   {
    "duration": 79,
    "start_time": "2022-05-31T14:49:14.074Z"
   },
   {
    "duration": 218,
    "start_time": "2022-05-31T14:49:14.154Z"
   },
   {
    "duration": 29,
    "start_time": "2022-05-31T14:49:14.374Z"
   },
   {
    "duration": 10,
    "start_time": "2022-05-31T14:49:14.405Z"
   },
   {
    "duration": 25,
    "start_time": "2022-05-31T14:49:14.417Z"
   },
   {
    "duration": 38,
    "start_time": "2022-05-31T14:49:14.443Z"
   },
   {
    "duration": 31,
    "start_time": "2022-05-31T14:49:14.483Z"
   },
   {
    "duration": 17,
    "start_time": "2022-05-31T14:49:14.516Z"
   },
   {
    "duration": 36,
    "start_time": "2022-05-31T14:49:14.535Z"
   },
   {
    "duration": 137,
    "start_time": "2022-05-31T14:49:14.572Z"
   },
   {
    "duration": 17,
    "start_time": "2022-05-31T14:49:14.711Z"
   },
   {
    "duration": 5,
    "start_time": "2022-05-31T14:49:14.730Z"
   },
   {
    "duration": 20,
    "start_time": "2022-05-31T14:49:14.737Z"
   },
   {
    "duration": 42,
    "start_time": "2022-05-31T14:49:14.759Z"
   },
   {
    "duration": 23,
    "start_time": "2022-05-31T14:49:14.803Z"
   },
   {
    "duration": 27,
    "start_time": "2022-05-31T14:49:14.827Z"
   },
   {
    "duration": 108,
    "start_time": "2022-05-31T14:49:14.856Z"
   },
   {
    "duration": 14,
    "start_time": "2022-05-31T14:49:14.966Z"
   },
   {
    "duration": 17,
    "start_time": "2022-05-31T14:49:14.982Z"
   },
   {
    "duration": 46,
    "start_time": "2022-05-31T14:49:15.001Z"
   },
   {
    "duration": 35,
    "start_time": "2022-05-31T14:49:15.049Z"
   },
   {
    "duration": 38,
    "start_time": "2022-05-31T14:49:15.088Z"
   },
   {
    "duration": 8,
    "start_time": "2022-05-31T14:49:15.128Z"
   },
   {
    "duration": 15,
    "start_time": "2022-05-31T14:49:15.137Z"
   },
   {
    "duration": 10,
    "start_time": "2022-05-31T14:49:15.154Z"
   },
   {
    "duration": 4,
    "start_time": "2022-05-31T14:49:15.165Z"
   },
   {
    "duration": 15,
    "start_time": "2022-05-31T14:49:15.171Z"
   },
   {
    "duration": 22,
    "start_time": "2022-05-31T14:49:15.187Z"
   },
   {
    "duration": 18,
    "start_time": "2022-05-31T14:49:15.210Z"
   },
   {
    "duration": 16,
    "start_time": "2022-05-31T14:49:15.229Z"
   },
   {
    "duration": 7,
    "start_time": "2022-05-31T14:49:15.247Z"
   },
   {
    "duration": 47,
    "start_time": "2022-05-31T14:49:15.256Z"
   },
   {
    "duration": 33,
    "start_time": "2022-05-31T14:49:15.304Z"
   },
   {
    "duration": 21,
    "start_time": "2022-05-31T14:49:15.339Z"
   },
   {
    "duration": 6,
    "start_time": "2022-05-31T14:49:15.362Z"
   },
   {
    "duration": 17,
    "start_time": "2022-05-31T14:49:15.370Z"
   },
   {
    "duration": 26,
    "start_time": "2022-05-31T14:49:15.389Z"
   },
   {
    "duration": 87,
    "start_time": "2022-05-31T14:49:15.417Z"
   },
   {
    "duration": 12,
    "start_time": "2022-05-31T14:49:15.506Z"
   },
   {
    "duration": 51,
    "start_time": "2022-05-31T14:49:15.520Z"
   },
   {
    "duration": 9,
    "start_time": "2022-05-31T14:49:15.573Z"
   },
   {
    "duration": 17,
    "start_time": "2022-05-31T14:49:15.583Z"
   },
   {
    "duration": 50,
    "start_time": "2022-05-31T14:49:15.602Z"
   },
   {
    "duration": 11,
    "start_time": "2022-05-31T14:49:15.653Z"
   },
   {
    "duration": 38,
    "start_time": "2022-05-31T14:49:15.665Z"
   },
   {
    "duration": 11,
    "start_time": "2022-05-31T14:49:15.705Z"
   },
   {
    "duration": 18,
    "start_time": "2022-05-31T14:49:15.717Z"
   },
   {
    "duration": 14,
    "start_time": "2022-05-31T14:49:15.737Z"
   },
   {
    "duration": 9,
    "start_time": "2022-05-31T14:49:15.752Z"
   },
   {
    "duration": 14,
    "start_time": "2022-05-31T14:49:15.762Z"
   },
   {
    "duration": 14,
    "start_time": "2022-05-31T14:49:15.778Z"
   },
   {
    "duration": 7,
    "start_time": "2022-05-31T14:49:15.794Z"
   },
   {
    "duration": 18,
    "start_time": "2022-05-31T14:49:15.803Z"
   },
   {
    "duration": 14,
    "start_time": "2022-05-31T14:49:15.822Z"
   },
   {
    "duration": 10450,
    "start_time": "2022-05-31T14:49:15.837Z"
   },
   {
    "duration": 18,
    "start_time": "2022-05-31T14:49:26.288Z"
   },
   {
    "duration": 12,
    "start_time": "2022-05-31T14:49:26.308Z"
   },
   {
    "duration": 16,
    "start_time": "2022-05-31T14:49:26.321Z"
   },
   {
    "duration": 41,
    "start_time": "2022-05-31T14:49:26.339Z"
   },
   {
    "duration": 874,
    "start_time": "2022-05-31T14:49:26.383Z"
   },
   {
    "duration": 860,
    "start_time": "2022-05-31T14:49:27.259Z"
   },
   {
    "duration": 14,
    "start_time": "2022-05-31T14:49:28.120Z"
   },
   {
    "duration": 214,
    "start_time": "2022-05-31T14:49:28.136Z"
   },
   {
    "duration": 19,
    "start_time": "2022-05-31T14:49:28.353Z"
   },
   {
    "duration": 25,
    "start_time": "2022-05-31T14:49:28.374Z"
   },
   {
    "duration": 3,
    "start_time": "2022-05-31T14:49:28.401Z"
   },
   {
    "duration": 16,
    "start_time": "2022-05-31T14:49:28.406Z"
   },
   {
    "duration": 9,
    "start_time": "2022-05-31T14:49:28.424Z"
   },
   {
    "duration": 10,
    "start_time": "2022-05-31T14:49:28.435Z"
   },
   {
    "duration": 5,
    "start_time": "2022-05-31T14:49:28.446Z"
   },
   {
    "duration": 12,
    "start_time": "2022-05-31T14:49:28.452Z"
   },
   {
    "duration": 42,
    "start_time": "2022-05-31T14:49:28.465Z"
   },
   {
    "duration": 8,
    "start_time": "2022-05-31T14:49:28.508Z"
   },
   {
    "duration": 12,
    "start_time": "2022-05-31T14:49:28.517Z"
   },
   {
    "duration": 5,
    "start_time": "2022-05-31T14:49:28.531Z"
   },
   {
    "duration": 8,
    "start_time": "2022-05-31T14:49:28.537Z"
   },
   {
    "duration": 9,
    "start_time": "2022-05-31T14:55:05.680Z"
   },
   {
    "duration": 8,
    "start_time": "2022-05-31T14:55:16.539Z"
   },
   {
    "duration": 7,
    "start_time": "2022-05-31T16:17:36.749Z"
   },
   {
    "duration": 16,
    "start_time": "2022-05-31T16:17:38.705Z"
   },
   {
    "duration": 10,
    "start_time": "2022-05-31T16:20:32.876Z"
   },
   {
    "duration": 6,
    "start_time": "2022-05-31T16:20:50.586Z"
   },
   {
    "duration": 13,
    "start_time": "2022-05-31T16:20:51.219Z"
   },
   {
    "duration": 5,
    "start_time": "2022-05-31T16:21:02.981Z"
   },
   {
    "duration": 11,
    "start_time": "2022-05-31T16:21:03.785Z"
   },
   {
    "duration": 7,
    "start_time": "2022-05-31T16:21:10.469Z"
   },
   {
    "duration": 12,
    "start_time": "2022-05-31T16:21:10.919Z"
   },
   {
    "duration": 6,
    "start_time": "2022-05-31T16:21:22.346Z"
   },
   {
    "duration": 13,
    "start_time": "2022-05-31T16:21:22.992Z"
   },
   {
    "duration": 123,
    "start_time": "2022-05-31T16:22:33.053Z"
   },
   {
    "duration": 26,
    "start_time": "2022-05-31T16:22:40.404Z"
   },
   {
    "duration": 6,
    "start_time": "2022-05-31T16:22:45.334Z"
   },
   {
    "duration": 49,
    "start_time": "2022-05-31T16:22:52.312Z"
   },
   {
    "duration": 5,
    "start_time": "2022-05-31T16:22:52.963Z"
   },
   {
    "duration": 13,
    "start_time": "2022-05-31T16:22:53.658Z"
   },
   {
    "duration": 7,
    "start_time": "2022-05-31T16:23:12.805Z"
   },
   {
    "duration": 16,
    "start_time": "2022-05-31T16:23:13.689Z"
   },
   {
    "duration": 9,
    "start_time": "2022-05-31T16:23:20.367Z"
   },
   {
    "duration": 1162,
    "start_time": "2022-05-31T16:23:31.132Z"
   },
   {
    "duration": 420,
    "start_time": "2022-05-31T16:23:32.296Z"
   },
   {
    "duration": 62,
    "start_time": "2022-05-31T16:23:32.717Z"
   },
   {
    "duration": 75,
    "start_time": "2022-05-31T16:23:32.781Z"
   },
   {
    "duration": 3,
    "start_time": "2022-05-31T16:23:32.858Z"
   },
   {
    "duration": 99,
    "start_time": "2022-05-31T16:23:32.862Z"
   },
   {
    "duration": 3,
    "start_time": "2022-05-31T16:23:32.963Z"
   },
   {
    "duration": 187,
    "start_time": "2022-05-31T16:23:32.967Z"
   },
   {
    "duration": 22,
    "start_time": "2022-05-31T16:23:33.156Z"
   },
   {
    "duration": 505,
    "start_time": "2022-05-31T16:23:33.180Z"
   },
   {
    "duration": 6,
    "start_time": "2022-05-31T16:23:33.687Z"
   },
   {
    "duration": 11,
    "start_time": "2022-05-31T16:23:33.695Z"
   },
   {
    "duration": 20,
    "start_time": "2022-05-31T16:23:33.708Z"
   },
   {
    "duration": 377,
    "start_time": "2022-05-31T16:23:33.730Z"
   },
   {
    "duration": 15,
    "start_time": "2022-05-31T16:23:34.109Z"
   },
   {
    "duration": 4,
    "start_time": "2022-05-31T16:23:34.126Z"
   },
   {
    "duration": 51,
    "start_time": "2022-05-31T16:23:34.131Z"
   },
   {
    "duration": 27,
    "start_time": "2022-05-31T16:23:34.183Z"
   },
   {
    "duration": 17,
    "start_time": "2022-05-31T16:23:34.211Z"
   },
   {
    "duration": 46,
    "start_time": "2022-05-31T16:23:34.251Z"
   },
   {
    "duration": 197,
    "start_time": "2022-05-31T16:23:34.299Z"
   },
   {
    "duration": 20,
    "start_time": "2022-05-31T16:23:34.498Z"
   },
   {
    "duration": 6,
    "start_time": "2022-05-31T16:23:34.519Z"
   },
   {
    "duration": 32,
    "start_time": "2022-05-31T16:23:34.527Z"
   },
   {
    "duration": 24,
    "start_time": "2022-05-31T16:23:34.561Z"
   },
   {
    "duration": 25,
    "start_time": "2022-05-31T16:23:34.587Z"
   },
   {
    "duration": 38,
    "start_time": "2022-05-31T16:23:34.614Z"
   },
   {
    "duration": 33,
    "start_time": "2022-05-31T16:23:34.656Z"
   },
   {
    "duration": 138,
    "start_time": "2022-05-31T16:23:34.691Z"
   },
   {
    "duration": 24,
    "start_time": "2022-05-31T16:23:34.831Z"
   },
   {
    "duration": 5,
    "start_time": "2022-05-31T16:23:34.857Z"
   },
   {
    "duration": 19,
    "start_time": "2022-05-31T16:23:34.863Z"
   },
   {
    "duration": 22,
    "start_time": "2022-05-31T16:23:34.883Z"
   },
   {
    "duration": 47,
    "start_time": "2022-05-31T16:23:34.906Z"
   },
   {
    "duration": 25,
    "start_time": "2022-05-31T16:23:34.955Z"
   },
   {
    "duration": 109,
    "start_time": "2022-05-31T16:23:34.982Z"
   },
   {
    "duration": 15,
    "start_time": "2022-05-31T16:23:35.093Z"
   },
   {
    "duration": 5,
    "start_time": "2022-05-31T16:23:35.110Z"
   },
   {
    "duration": 17,
    "start_time": "2022-05-31T16:23:35.116Z"
   },
   {
    "duration": 16,
    "start_time": "2022-05-31T16:23:35.158Z"
   },
   {
    "duration": 38,
    "start_time": "2022-05-31T16:23:35.176Z"
   },
   {
    "duration": 16,
    "start_time": "2022-05-31T16:23:35.216Z"
   },
   {
    "duration": 30,
    "start_time": "2022-05-31T16:23:35.233Z"
   },
   {
    "duration": 9,
    "start_time": "2022-05-31T16:23:35.266Z"
   },
   {
    "duration": 27,
    "start_time": "2022-05-31T16:23:35.277Z"
   },
   {
    "duration": 44,
    "start_time": "2022-05-31T16:23:35.306Z"
   },
   {
    "duration": 25,
    "start_time": "2022-05-31T16:23:35.352Z"
   },
   {
    "duration": 29,
    "start_time": "2022-05-31T16:23:35.380Z"
   },
   {
    "duration": 26,
    "start_time": "2022-05-31T16:23:35.411Z"
   },
   {
    "duration": 16,
    "start_time": "2022-05-31T16:23:35.439Z"
   },
   {
    "duration": 23,
    "start_time": "2022-05-31T16:23:35.457Z"
   },
   {
    "duration": 9,
    "start_time": "2022-05-31T16:23:35.482Z"
   },
   {
    "duration": 20,
    "start_time": "2022-05-31T16:23:35.492Z"
   },
   {
    "duration": 6,
    "start_time": "2022-05-31T16:23:35.513Z"
   },
   {
    "duration": 4,
    "start_time": "2022-05-31T16:23:35.520Z"
   },
   {
    "duration": 44,
    "start_time": "2022-05-31T16:23:35.525Z"
   },
   {
    "duration": 91,
    "start_time": "2022-05-31T16:23:35.570Z"
   },
   {
    "duration": 12,
    "start_time": "2022-05-31T16:23:35.662Z"
   },
   {
    "duration": 38,
    "start_time": "2022-05-31T16:23:35.676Z"
   },
   {
    "duration": 11,
    "start_time": "2022-05-31T16:23:35.716Z"
   },
   {
    "duration": 68,
    "start_time": "2022-05-31T16:23:35.729Z"
   },
   {
    "duration": 5,
    "start_time": "2022-05-31T16:23:35.798Z"
   },
   {
    "duration": 15,
    "start_time": "2022-05-31T16:23:35.805Z"
   },
   {
    "duration": 14,
    "start_time": "2022-05-31T16:23:35.822Z"
   },
   {
    "duration": 33,
    "start_time": "2022-05-31T16:23:35.837Z"
   },
   {
    "duration": 11,
    "start_time": "2022-05-31T16:23:35.871Z"
   },
   {
    "duration": 8,
    "start_time": "2022-05-31T16:23:35.884Z"
   },
   {
    "duration": 15,
    "start_time": "2022-05-31T16:23:35.894Z"
   },
   {
    "duration": 10,
    "start_time": "2022-05-31T16:23:35.911Z"
   },
   {
    "duration": 6,
    "start_time": "2022-05-31T16:23:35.923Z"
   },
   {
    "duration": 25,
    "start_time": "2022-05-31T16:23:35.930Z"
   },
   {
    "duration": 5,
    "start_time": "2022-05-31T16:23:35.956Z"
   },
   {
    "duration": 15,
    "start_time": "2022-05-31T16:23:35.963Z"
   },
   {
    "duration": 6,
    "start_time": "2022-05-31T16:23:35.980Z"
   },
   {
    "duration": 12078,
    "start_time": "2022-05-31T16:23:35.988Z"
   },
   {
    "duration": 14,
    "start_time": "2022-05-31T16:23:48.068Z"
   },
   {
    "duration": 12,
    "start_time": "2022-05-31T16:23:48.084Z"
   },
   {
    "duration": 15,
    "start_time": "2022-05-31T16:23:48.098Z"
   },
   {
    "duration": 69,
    "start_time": "2022-05-31T16:23:48.115Z"
   },
   {
    "duration": 954,
    "start_time": "2022-05-31T16:23:48.186Z"
   },
   {
    "duration": 1034,
    "start_time": "2022-05-31T16:23:49.151Z"
   },
   {
    "duration": 15,
    "start_time": "2022-05-31T16:23:50.192Z"
   },
   {
    "duration": 237,
    "start_time": "2022-05-31T16:23:50.209Z"
   },
   {
    "duration": 14,
    "start_time": "2022-05-31T16:23:50.451Z"
   },
   {
    "duration": 7,
    "start_time": "2022-05-31T16:23:50.467Z"
   },
   {
    "duration": 8,
    "start_time": "2022-05-31T16:23:50.475Z"
   },
   {
    "duration": 13,
    "start_time": "2022-05-31T16:23:50.484Z"
   },
   {
    "duration": 9,
    "start_time": "2022-05-31T16:23:50.499Z"
   },
   {
    "duration": 14,
    "start_time": "2022-05-31T16:23:50.510Z"
   },
   {
    "duration": 27,
    "start_time": "2022-05-31T16:23:50.526Z"
   },
   {
    "duration": 6,
    "start_time": "2022-05-31T16:23:50.555Z"
   },
   {
    "duration": 21,
    "start_time": "2022-05-31T16:23:50.562Z"
   },
   {
    "duration": 14,
    "start_time": "2022-05-31T16:23:50.584Z"
   },
   {
    "duration": 15,
    "start_time": "2022-05-31T16:23:50.600Z"
   },
   {
    "duration": 5,
    "start_time": "2022-05-31T16:23:50.617Z"
   },
   {
    "duration": 10,
    "start_time": "2022-05-31T16:23:50.623Z"
   },
   {
    "duration": 9,
    "start_time": "2022-05-31T16:27:06.337Z"
   },
   {
    "duration": 118,
    "start_time": "2022-05-31T16:27:08.708Z"
   },
   {
    "duration": 7,
    "start_time": "2022-05-31T16:27:33.012Z"
   },
   {
    "duration": 7,
    "start_time": "2022-05-31T16:27:55.487Z"
   },
   {
    "duration": 18,
    "start_time": "2022-05-31T16:27:57.840Z"
   },
   {
    "duration": 1116,
    "start_time": "2022-05-31T16:28:06.583Z"
   },
   {
    "duration": 423,
    "start_time": "2022-05-31T16:28:07.701Z"
   },
   {
    "duration": 93,
    "start_time": "2022-05-31T16:28:08.127Z"
   },
   {
    "duration": 96,
    "start_time": "2022-05-31T16:28:08.222Z"
   },
   {
    "duration": 3,
    "start_time": "2022-05-31T16:28:08.320Z"
   },
   {
    "duration": 120,
    "start_time": "2022-05-31T16:28:08.325Z"
   },
   {
    "duration": 6,
    "start_time": "2022-05-31T16:28:08.446Z"
   },
   {
    "duration": 203,
    "start_time": "2022-05-31T16:28:08.454Z"
   },
   {
    "duration": 22,
    "start_time": "2022-05-31T16:28:08.659Z"
   },
   {
    "duration": 550,
    "start_time": "2022-05-31T16:28:08.684Z"
   },
   {
    "duration": 16,
    "start_time": "2022-05-31T16:28:09.236Z"
   },
   {
    "duration": 7,
    "start_time": "2022-05-31T16:28:09.254Z"
   },
   {
    "duration": 19,
    "start_time": "2022-05-31T16:28:09.262Z"
   },
   {
    "duration": 424,
    "start_time": "2022-05-31T16:28:09.283Z"
   },
   {
    "duration": 15,
    "start_time": "2022-05-31T16:28:09.709Z"
   },
   {
    "duration": 4,
    "start_time": "2022-05-31T16:28:09.726Z"
   },
   {
    "duration": 49,
    "start_time": "2022-05-31T16:28:09.731Z"
   },
   {
    "duration": 29,
    "start_time": "2022-05-31T16:28:09.782Z"
   },
   {
    "duration": 18,
    "start_time": "2022-05-31T16:28:09.812Z"
   },
   {
    "duration": 47,
    "start_time": "2022-05-31T16:28:09.853Z"
   },
   {
    "duration": 218,
    "start_time": "2022-05-31T16:28:09.902Z"
   },
   {
    "duration": 31,
    "start_time": "2022-05-31T16:28:10.121Z"
   },
   {
    "duration": 12,
    "start_time": "2022-05-31T16:28:10.154Z"
   },
   {
    "duration": 24,
    "start_time": "2022-05-31T16:28:10.167Z"
   },
   {
    "duration": 25,
    "start_time": "2022-05-31T16:28:10.193Z"
   },
   {
    "duration": 38,
    "start_time": "2022-05-31T16:28:10.220Z"
   },
   {
    "duration": 18,
    "start_time": "2022-05-31T16:28:10.259Z"
   },
   {
    "duration": 31,
    "start_time": "2022-05-31T16:28:10.281Z"
   },
   {
    "duration": 120,
    "start_time": "2022-05-31T16:28:10.314Z"
   },
   {
    "duration": 26,
    "start_time": "2022-05-31T16:28:10.436Z"
   },
   {
    "duration": 4,
    "start_time": "2022-05-31T16:28:10.464Z"
   },
   {
    "duration": 24,
    "start_time": "2022-05-31T16:28:10.469Z"
   },
   {
    "duration": 24,
    "start_time": "2022-05-31T16:28:10.494Z"
   },
   {
    "duration": 45,
    "start_time": "2022-05-31T16:28:10.520Z"
   },
   {
    "duration": 25,
    "start_time": "2022-05-31T16:28:10.567Z"
   },
   {
    "duration": 103,
    "start_time": "2022-05-31T16:28:10.593Z"
   },
   {
    "duration": 14,
    "start_time": "2022-05-31T16:28:10.698Z"
   },
   {
    "duration": 6,
    "start_time": "2022-05-31T16:28:10.714Z"
   },
   {
    "duration": 19,
    "start_time": "2022-05-31T16:28:10.722Z"
   },
   {
    "duration": 19,
    "start_time": "2022-05-31T16:28:10.742Z"
   },
   {
    "duration": 22,
    "start_time": "2022-05-31T16:28:10.763Z"
   },
   {
    "duration": 7,
    "start_time": "2022-05-31T16:28:10.786Z"
   },
   {
    "duration": 19,
    "start_time": "2022-05-31T16:28:10.794Z"
   },
   {
    "duration": 9,
    "start_time": "2022-05-31T16:28:10.815Z"
   },
   {
    "duration": 5,
    "start_time": "2022-05-31T16:28:10.825Z"
   },
   {
    "duration": 26,
    "start_time": "2022-05-31T16:28:10.831Z"
   },
   {
    "duration": 16,
    "start_time": "2022-05-31T16:28:10.859Z"
   },
   {
    "duration": 19,
    "start_time": "2022-05-31T16:28:10.877Z"
   },
   {
    "duration": 15,
    "start_time": "2022-05-31T16:28:10.897Z"
   },
   {
    "duration": 8,
    "start_time": "2022-05-31T16:28:10.913Z"
   },
   {
    "duration": 41,
    "start_time": "2022-05-31T16:28:10.923Z"
   },
   {
    "duration": 10,
    "start_time": "2022-05-31T16:28:10.966Z"
   },
   {
    "duration": 21,
    "start_time": "2022-05-31T16:28:10.977Z"
   },
   {
    "duration": 6,
    "start_time": "2022-05-31T16:28:10.999Z"
   },
   {
    "duration": 4,
    "start_time": "2022-05-31T16:28:11.007Z"
   },
   {
    "duration": 49,
    "start_time": "2022-05-31T16:28:11.013Z"
   },
   {
    "duration": 88,
    "start_time": "2022-05-31T16:28:11.064Z"
   },
   {
    "duration": 12,
    "start_time": "2022-05-31T16:28:11.154Z"
   },
   {
    "duration": 46,
    "start_time": "2022-05-31T16:28:11.167Z"
   },
   {
    "duration": 11,
    "start_time": "2022-05-31T16:28:11.215Z"
   },
   {
    "duration": 64,
    "start_time": "2022-05-31T16:28:11.227Z"
   },
   {
    "duration": 4,
    "start_time": "2022-05-31T16:28:11.293Z"
   },
   {
    "duration": 12,
    "start_time": "2022-05-31T16:28:11.299Z"
   },
   {
    "duration": 15,
    "start_time": "2022-05-31T16:28:11.313Z"
   },
   {
    "duration": 35,
    "start_time": "2022-05-31T16:28:11.329Z"
   },
   {
    "duration": 11,
    "start_time": "2022-05-31T16:28:11.366Z"
   },
   {
    "duration": 9,
    "start_time": "2022-05-31T16:28:11.378Z"
   },
   {
    "duration": 13,
    "start_time": "2022-05-31T16:28:11.388Z"
   },
   {
    "duration": 9,
    "start_time": "2022-05-31T16:28:11.403Z"
   },
   {
    "duration": 9,
    "start_time": "2022-05-31T16:28:11.413Z"
   },
   {
    "duration": 29,
    "start_time": "2022-05-31T16:28:11.423Z"
   },
   {
    "duration": 5,
    "start_time": "2022-05-31T16:28:11.454Z"
   },
   {
    "duration": 16,
    "start_time": "2022-05-31T16:28:11.460Z"
   },
   {
    "duration": 11,
    "start_time": "2022-05-31T16:28:11.477Z"
   },
   {
    "duration": 10829,
    "start_time": "2022-05-31T16:28:11.489Z"
   },
   {
    "duration": 13,
    "start_time": "2022-05-31T16:28:22.320Z"
   },
   {
    "duration": 17,
    "start_time": "2022-05-31T16:28:22.335Z"
   },
   {
    "duration": 13,
    "start_time": "2022-05-31T16:28:22.353Z"
   },
   {
    "duration": 33,
    "start_time": "2022-05-31T16:28:22.367Z"
   },
   {
    "duration": 899,
    "start_time": "2022-05-31T16:28:22.401Z"
   },
   {
    "duration": 890,
    "start_time": "2022-05-31T16:28:23.302Z"
   },
   {
    "duration": 11,
    "start_time": "2022-05-31T16:28:24.197Z"
   },
   {
    "duration": 207,
    "start_time": "2022-05-31T16:28:24.210Z"
   },
   {
    "duration": 12,
    "start_time": "2022-05-31T16:28:24.419Z"
   },
   {
    "duration": 19,
    "start_time": "2022-05-31T16:28:24.433Z"
   },
   {
    "duration": 2,
    "start_time": "2022-05-31T16:28:24.454Z"
   },
   {
    "duration": 14,
    "start_time": "2022-05-31T16:28:24.457Z"
   },
   {
    "duration": 10,
    "start_time": "2022-05-31T16:28:24.472Z"
   },
   {
    "duration": 15,
    "start_time": "2022-05-31T16:28:24.483Z"
   },
   {
    "duration": 11,
    "start_time": "2022-05-31T16:28:24.499Z"
   },
   {
    "duration": 9,
    "start_time": "2022-05-31T16:28:24.511Z"
   },
   {
    "duration": 15,
    "start_time": "2022-05-31T16:28:24.521Z"
   },
   {
    "duration": 16,
    "start_time": "2022-05-31T16:28:24.537Z"
   },
   {
    "duration": 15,
    "start_time": "2022-05-31T16:28:24.555Z"
   },
   {
    "duration": 4,
    "start_time": "2022-05-31T16:28:24.572Z"
   },
   {
    "duration": 8,
    "start_time": "2022-05-31T16:28:24.578Z"
   },
   {
    "duration": 1067,
    "start_time": "2022-05-31T16:28:58.597Z"
   },
   {
    "duration": 404,
    "start_time": "2022-05-31T16:28:59.666Z"
   },
   {
    "duration": 69,
    "start_time": "2022-05-31T16:29:00.072Z"
   },
   {
    "duration": 75,
    "start_time": "2022-05-31T16:29:00.144Z"
   },
   {
    "duration": 4,
    "start_time": "2022-05-31T16:29:00.220Z"
   },
   {
    "duration": 99,
    "start_time": "2022-05-31T16:29:00.226Z"
   },
   {
    "duration": 3,
    "start_time": "2022-05-31T16:29:00.327Z"
   },
   {
    "duration": 184,
    "start_time": "2022-05-31T16:29:00.331Z"
   },
   {
    "duration": 27,
    "start_time": "2022-05-31T16:29:00.516Z"
   },
   {
    "duration": 462,
    "start_time": "2022-05-31T16:29:00.552Z"
   },
   {
    "duration": 6,
    "start_time": "2022-05-31T16:29:01.016Z"
   },
   {
    "duration": 23,
    "start_time": "2022-05-31T16:29:01.023Z"
   },
   {
    "duration": 38,
    "start_time": "2022-05-31T16:29:01.047Z"
   },
   {
    "duration": 400,
    "start_time": "2022-05-31T16:29:01.086Z"
   },
   {
    "duration": 15,
    "start_time": "2022-05-31T16:29:01.488Z"
   },
   {
    "duration": 27,
    "start_time": "2022-05-31T16:29:01.504Z"
   },
   {
    "duration": 45,
    "start_time": "2022-05-31T16:29:01.533Z"
   },
   {
    "duration": 27,
    "start_time": "2022-05-31T16:29:01.580Z"
   },
   {
    "duration": 26,
    "start_time": "2022-05-31T16:29:01.609Z"
   },
   {
    "duration": 62,
    "start_time": "2022-05-31T16:29:01.637Z"
   },
   {
    "duration": 225,
    "start_time": "2022-05-31T16:29:01.700Z"
   },
   {
    "duration": 27,
    "start_time": "2022-05-31T16:29:01.927Z"
   },
   {
    "duration": 13,
    "start_time": "2022-05-31T16:29:01.956Z"
   },
   {
    "duration": 25,
    "start_time": "2022-05-31T16:29:01.971Z"
   },
   {
    "duration": 27,
    "start_time": "2022-05-31T16:29:01.998Z"
   },
   {
    "duration": 36,
    "start_time": "2022-05-31T16:29:02.026Z"
   },
   {
    "duration": 17,
    "start_time": "2022-05-31T16:29:02.063Z"
   },
   {
    "duration": 56,
    "start_time": "2022-05-31T16:29:02.084Z"
   },
   {
    "duration": 100,
    "start_time": "2022-05-31T16:29:02.142Z"
   },
   {
    "duration": 21,
    "start_time": "2022-05-31T16:29:02.243Z"
   },
   {
    "duration": 18,
    "start_time": "2022-05-31T16:29:02.266Z"
   },
   {
    "duration": 19,
    "start_time": "2022-05-31T16:29:02.286Z"
   },
   {
    "duration": 36,
    "start_time": "2022-05-31T16:29:02.307Z"
   },
   {
    "duration": 21,
    "start_time": "2022-05-31T16:29:02.345Z"
   },
   {
    "duration": 28,
    "start_time": "2022-05-31T16:29:02.368Z"
   },
   {
    "duration": 111,
    "start_time": "2022-05-31T16:29:02.398Z"
   },
   {
    "duration": 20,
    "start_time": "2022-05-31T16:29:02.511Z"
   },
   {
    "duration": 15,
    "start_time": "2022-05-31T16:29:02.533Z"
   },
   {
    "duration": 18,
    "start_time": "2022-05-31T16:29:02.553Z"
   },
   {
    "duration": 23,
    "start_time": "2022-05-31T16:29:02.573Z"
   },
   {
    "duration": 32,
    "start_time": "2022-05-31T16:29:02.598Z"
   },
   {
    "duration": 18,
    "start_time": "2022-05-31T16:29:02.632Z"
   },
   {
    "duration": 17,
    "start_time": "2022-05-31T16:29:02.652Z"
   },
   {
    "duration": 8,
    "start_time": "2022-05-31T16:29:02.671Z"
   },
   {
    "duration": 10,
    "start_time": "2022-05-31T16:29:02.680Z"
   },
   {
    "duration": 14,
    "start_time": "2022-05-31T16:29:02.692Z"
   },
   {
    "duration": 11,
    "start_time": "2022-05-31T16:29:02.707Z"
   },
   {
    "duration": 20,
    "start_time": "2022-05-31T16:29:02.719Z"
   },
   {
    "duration": 28,
    "start_time": "2022-05-31T16:29:02.740Z"
   },
   {
    "duration": 14,
    "start_time": "2022-05-31T16:29:02.770Z"
   },
   {
    "duration": 21,
    "start_time": "2022-05-31T16:29:02.786Z"
   },
   {
    "duration": 41,
    "start_time": "2022-05-31T16:29:02.808Z"
   },
   {
    "duration": 31,
    "start_time": "2022-05-31T16:29:02.851Z"
   },
   {
    "duration": 6,
    "start_time": "2022-05-31T16:29:02.884Z"
   },
   {
    "duration": 6,
    "start_time": "2022-05-31T16:29:02.892Z"
   },
   {
    "duration": 34,
    "start_time": "2022-05-31T16:29:02.899Z"
   },
   {
    "duration": 81,
    "start_time": "2022-05-31T16:29:02.934Z"
   },
   {
    "duration": 13,
    "start_time": "2022-05-31T16:29:03.016Z"
   },
   {
    "duration": 47,
    "start_time": "2022-05-31T16:29:03.030Z"
   },
   {
    "duration": 10,
    "start_time": "2022-05-31T16:29:03.079Z"
   },
   {
    "duration": 61,
    "start_time": "2022-05-31T16:29:03.091Z"
   },
   {
    "duration": 6,
    "start_time": "2022-05-31T16:29:03.154Z"
   },
   {
    "duration": 19,
    "start_time": "2022-05-31T16:29:03.162Z"
   },
   {
    "duration": 19,
    "start_time": "2022-05-31T16:29:03.183Z"
   },
   {
    "duration": 23,
    "start_time": "2022-05-31T16:29:03.204Z"
   },
   {
    "duration": 24,
    "start_time": "2022-05-31T16:29:03.229Z"
   },
   {
    "duration": 8,
    "start_time": "2022-05-31T16:29:03.255Z"
   },
   {
    "duration": 16,
    "start_time": "2022-05-31T16:29:03.264Z"
   },
   {
    "duration": 9,
    "start_time": "2022-05-31T16:29:03.282Z"
   },
   {
    "duration": 6,
    "start_time": "2022-05-31T16:29:03.293Z"
   },
   {
    "duration": 6,
    "start_time": "2022-05-31T16:29:03.301Z"
   },
   {
    "duration": 6,
    "start_time": "2022-05-31T16:29:03.308Z"
   },
   {
    "duration": 39,
    "start_time": "2022-05-31T16:29:03.316Z"
   },
   {
    "duration": 6,
    "start_time": "2022-05-31T16:29:03.357Z"
   },
   {
    "duration": 10678,
    "start_time": "2022-05-31T16:29:03.365Z"
   },
   {
    "duration": 18,
    "start_time": "2022-05-31T16:29:14.045Z"
   },
   {
    "duration": 10,
    "start_time": "2022-05-31T16:29:14.065Z"
   },
   {
    "duration": 13,
    "start_time": "2022-05-31T16:29:14.077Z"
   },
   {
    "duration": 39,
    "start_time": "2022-05-31T16:29:14.092Z"
   },
   {
    "duration": 861,
    "start_time": "2022-05-31T16:29:14.132Z"
   },
   {
    "duration": 974,
    "start_time": "2022-05-31T16:29:14.995Z"
   },
   {
    "duration": 14,
    "start_time": "2022-05-31T16:29:15.974Z"
   },
   {
    "duration": 226,
    "start_time": "2022-05-31T16:29:15.990Z"
   },
   {
    "duration": 15,
    "start_time": "2022-05-31T16:29:16.218Z"
   },
   {
    "duration": 21,
    "start_time": "2022-05-31T16:29:16.235Z"
   },
   {
    "duration": 6,
    "start_time": "2022-05-31T16:29:16.258Z"
   },
   {
    "duration": 14,
    "start_time": "2022-05-31T16:29:16.265Z"
   },
   {
    "duration": 13,
    "start_time": "2022-05-31T16:29:16.280Z"
   },
   {
    "duration": 10,
    "start_time": "2022-05-31T16:29:16.295Z"
   },
   {
    "duration": 7,
    "start_time": "2022-05-31T16:29:16.307Z"
   },
   {
    "duration": 11,
    "start_time": "2022-05-31T16:29:16.315Z"
   },
   {
    "duration": 31,
    "start_time": "2022-05-31T16:29:16.328Z"
   },
   {
    "duration": 10,
    "start_time": "2022-05-31T16:29:16.360Z"
   },
   {
    "duration": 25,
    "start_time": "2022-05-31T16:29:16.372Z"
   },
   {
    "duration": 5,
    "start_time": "2022-05-31T16:29:16.399Z"
   },
   {
    "duration": 9,
    "start_time": "2022-05-31T16:29:16.406Z"
   },
   {
    "duration": 1226,
    "start_time": "2022-05-31T16:30:15.148Z"
   },
   {
    "duration": 401,
    "start_time": "2022-05-31T16:30:16.376Z"
   },
   {
    "duration": 62,
    "start_time": "2022-05-31T16:30:16.778Z"
   },
   {
    "duration": 70,
    "start_time": "2022-05-31T16:30:16.842Z"
   },
   {
    "duration": 3,
    "start_time": "2022-05-31T16:30:16.914Z"
   },
   {
    "duration": 92,
    "start_time": "2022-05-31T16:30:16.918Z"
   },
   {
    "duration": 3,
    "start_time": "2022-05-31T16:30:17.012Z"
   },
   {
    "duration": 180,
    "start_time": "2022-05-31T16:30:17.016Z"
   },
   {
    "duration": 22,
    "start_time": "2022-05-31T16:30:17.198Z"
   },
   {
    "duration": 460,
    "start_time": "2022-05-31T16:30:17.223Z"
   },
   {
    "duration": 6,
    "start_time": "2022-05-31T16:30:17.685Z"
   },
   {
    "duration": 6,
    "start_time": "2022-05-31T16:30:17.693Z"
   },
   {
    "duration": 21,
    "start_time": "2022-05-31T16:30:17.701Z"
   },
   {
    "duration": 376,
    "start_time": "2022-05-31T16:30:17.724Z"
   },
   {
    "duration": 16,
    "start_time": "2022-05-31T16:30:18.102Z"
   },
   {
    "duration": 4,
    "start_time": "2022-05-31T16:30:18.120Z"
   },
   {
    "duration": 55,
    "start_time": "2022-05-31T16:30:18.125Z"
   },
   {
    "duration": 31,
    "start_time": "2022-05-31T16:30:18.181Z"
   },
   {
    "duration": 40,
    "start_time": "2022-05-31T16:30:18.214Z"
   },
   {
    "duration": 49,
    "start_time": "2022-05-31T16:30:18.256Z"
   },
   {
    "duration": 229,
    "start_time": "2022-05-31T16:30:18.306Z"
   },
   {
    "duration": 25,
    "start_time": "2022-05-31T16:30:18.537Z"
   },
   {
    "duration": 5,
    "start_time": "2022-05-31T16:30:18.564Z"
   },
   {
    "duration": 21,
    "start_time": "2022-05-31T16:30:18.571Z"
   },
   {
    "duration": 25,
    "start_time": "2022-05-31T16:30:18.593Z"
   },
   {
    "duration": 42,
    "start_time": "2022-05-31T16:30:18.620Z"
   },
   {
    "duration": 16,
    "start_time": "2022-05-31T16:30:18.664Z"
   },
   {
    "duration": 33,
    "start_time": "2022-05-31T16:30:18.684Z"
   },
   {
    "duration": 123,
    "start_time": "2022-05-31T16:30:18.718Z"
   },
   {
    "duration": 21,
    "start_time": "2022-05-31T16:30:18.843Z"
   },
   {
    "duration": 7,
    "start_time": "2022-05-31T16:30:18.866Z"
   },
   {
    "duration": 21,
    "start_time": "2022-05-31T16:30:18.875Z"
   },
   {
    "duration": 23,
    "start_time": "2022-05-31T16:30:18.897Z"
   },
   {
    "duration": 39,
    "start_time": "2022-05-31T16:30:18.921Z"
   },
   {
    "duration": 26,
    "start_time": "2022-05-31T16:30:18.962Z"
   },
   {
    "duration": 108,
    "start_time": "2022-05-31T16:30:18.989Z"
   },
   {
    "duration": 15,
    "start_time": "2022-05-31T16:30:19.099Z"
   },
   {
    "duration": 6,
    "start_time": "2022-05-31T16:30:19.116Z"
   },
   {
    "duration": 17,
    "start_time": "2022-05-31T16:30:19.123Z"
   },
   {
    "duration": 11,
    "start_time": "2022-05-31T16:30:19.152Z"
   },
   {
    "duration": 26,
    "start_time": "2022-05-31T16:30:19.165Z"
   },
   {
    "duration": 7,
    "start_time": "2022-05-31T16:30:19.192Z"
   },
   {
    "duration": 14,
    "start_time": "2022-05-31T16:30:19.201Z"
   },
   {
    "duration": 7,
    "start_time": "2022-05-31T16:30:19.216Z"
   },
   {
    "duration": 28,
    "start_time": "2022-05-31T16:30:19.224Z"
   },
   {
    "duration": 18,
    "start_time": "2022-05-31T16:30:19.254Z"
   },
   {
    "duration": 11,
    "start_time": "2022-05-31T16:30:19.273Z"
   },
   {
    "duration": 17,
    "start_time": "2022-05-31T16:30:19.286Z"
   },
   {
    "duration": 19,
    "start_time": "2022-05-31T16:30:19.305Z"
   },
   {
    "duration": 8,
    "start_time": "2022-05-31T16:30:19.326Z"
   },
   {
    "duration": 17,
    "start_time": "2022-05-31T16:30:19.352Z"
   },
   {
    "duration": 14,
    "start_time": "2022-05-31T16:30:19.371Z"
   },
   {
    "duration": 22,
    "start_time": "2022-05-31T16:30:19.386Z"
   },
   {
    "duration": 6,
    "start_time": "2022-05-31T16:30:19.410Z"
   },
   {
    "duration": 7,
    "start_time": "2022-05-31T16:30:19.417Z"
   },
   {
    "duration": 40,
    "start_time": "2022-05-31T16:30:19.425Z"
   },
   {
    "duration": 92,
    "start_time": "2022-05-31T16:30:19.466Z"
   },
   {
    "duration": 12,
    "start_time": "2022-05-31T16:30:19.560Z"
   },
   {
    "duration": 37,
    "start_time": "2022-05-31T16:30:19.574Z"
   },
   {
    "duration": 10,
    "start_time": "2022-05-31T16:30:19.613Z"
   },
   {
    "duration": 73,
    "start_time": "2022-05-31T16:30:19.625Z"
   },
   {
    "duration": 6,
    "start_time": "2022-05-31T16:30:19.699Z"
   },
   {
    "duration": 18,
    "start_time": "2022-05-31T16:30:19.706Z"
   },
   {
    "duration": 9,
    "start_time": "2022-05-31T16:30:19.726Z"
   },
   {
    "duration": 36,
    "start_time": "2022-05-31T16:30:19.736Z"
   },
   {
    "duration": 11,
    "start_time": "2022-05-31T16:30:19.774Z"
   },
   {
    "duration": 14,
    "start_time": "2022-05-31T16:30:19.787Z"
   },
   {
    "duration": 23,
    "start_time": "2022-05-31T16:30:19.803Z"
   },
   {
    "duration": 12,
    "start_time": "2022-05-31T16:30:19.828Z"
   },
   {
    "duration": 5,
    "start_time": "2022-05-31T16:30:19.852Z"
   },
   {
    "duration": 12,
    "start_time": "2022-05-31T16:30:19.859Z"
   },
   {
    "duration": 7,
    "start_time": "2022-05-31T16:30:19.873Z"
   },
   {
    "duration": 14,
    "start_time": "2022-05-31T16:30:19.881Z"
   },
   {
    "duration": 12,
    "start_time": "2022-05-31T16:30:19.897Z"
   },
   {
    "duration": 10835,
    "start_time": "2022-05-31T16:30:19.911Z"
   },
   {
    "duration": 15,
    "start_time": "2022-05-31T16:30:30.748Z"
   },
   {
    "duration": 23,
    "start_time": "2022-05-31T16:30:30.764Z"
   },
   {
    "duration": 27,
    "start_time": "2022-05-31T16:30:30.789Z"
   },
   {
    "duration": 52,
    "start_time": "2022-05-31T16:30:30.818Z"
   },
   {
    "duration": 861,
    "start_time": "2022-05-31T16:30:30.871Z"
   },
   {
    "duration": 996,
    "start_time": "2022-05-31T16:30:31.733Z"
   },
   {
    "duration": 21,
    "start_time": "2022-05-31T16:30:32.734Z"
   },
   {
    "duration": 231,
    "start_time": "2022-05-31T16:30:32.757Z"
   },
   {
    "duration": 14,
    "start_time": "2022-05-31T16:30:32.990Z"
   },
   {
    "duration": 8,
    "start_time": "2022-05-31T16:30:33.006Z"
   },
   {
    "duration": 13,
    "start_time": "2022-05-31T16:30:33.016Z"
   },
   {
    "duration": 21,
    "start_time": "2022-05-31T16:30:33.031Z"
   },
   {
    "duration": 7,
    "start_time": "2022-05-31T16:30:33.053Z"
   },
   {
    "duration": 13,
    "start_time": "2022-05-31T16:30:33.062Z"
   },
   {
    "duration": 11,
    "start_time": "2022-05-31T16:30:33.077Z"
   },
   {
    "duration": 14,
    "start_time": "2022-05-31T16:30:33.089Z"
   },
   {
    "duration": 21,
    "start_time": "2022-05-31T16:30:33.105Z"
   },
   {
    "duration": 12,
    "start_time": "2022-05-31T16:30:33.128Z"
   },
   {
    "duration": 22,
    "start_time": "2022-05-31T16:30:33.142Z"
   },
   {
    "duration": 6,
    "start_time": "2022-05-31T16:30:33.166Z"
   },
   {
    "duration": 10,
    "start_time": "2022-05-31T16:30:33.174Z"
   },
   {
    "duration": 25,
    "start_time": "2022-05-31T16:31:41.224Z"
   },
   {
    "duration": 29,
    "start_time": "2022-05-31T16:31:47.444Z"
   },
   {
    "duration": 11,
    "start_time": "2022-05-31T16:31:55.069Z"
   },
   {
    "duration": 1076,
    "start_time": "2022-05-31T16:39:37.910Z"
   },
   {
    "duration": 401,
    "start_time": "2022-05-31T16:39:38.988Z"
   },
   {
    "duration": 62,
    "start_time": "2022-05-31T16:39:39.390Z"
   },
   {
    "duration": 71,
    "start_time": "2022-05-31T16:39:39.455Z"
   },
   {
    "duration": 3,
    "start_time": "2022-05-31T16:39:39.528Z"
   },
   {
    "duration": 102,
    "start_time": "2022-05-31T16:39:39.533Z"
   },
   {
    "duration": 2,
    "start_time": "2022-05-31T16:39:39.637Z"
   },
   {
    "duration": 187,
    "start_time": "2022-05-31T16:39:39.641Z"
   },
   {
    "duration": 32,
    "start_time": "2022-05-31T16:39:39.829Z"
   },
   {
    "duration": 500,
    "start_time": "2022-05-31T16:39:39.864Z"
   },
   {
    "duration": 6,
    "start_time": "2022-05-31T16:39:40.366Z"
   },
   {
    "duration": 7,
    "start_time": "2022-05-31T16:39:40.374Z"
   },
   {
    "duration": 19,
    "start_time": "2022-05-31T16:39:40.383Z"
   },
   {
    "duration": 401,
    "start_time": "2022-05-31T16:39:40.404Z"
   },
   {
    "duration": 16,
    "start_time": "2022-05-31T16:39:40.806Z"
   },
   {
    "duration": 4,
    "start_time": "2022-05-31T16:39:40.824Z"
   },
   {
    "duration": 50,
    "start_time": "2022-05-31T16:39:40.829Z"
   },
   {
    "duration": 27,
    "start_time": "2022-05-31T16:39:40.881Z"
   },
   {
    "duration": 19,
    "start_time": "2022-05-31T16:39:40.910Z"
   },
   {
    "duration": 47,
    "start_time": "2022-05-31T16:39:40.953Z"
   },
   {
    "duration": 218,
    "start_time": "2022-05-31T16:39:41.002Z"
   },
   {
    "duration": 30,
    "start_time": "2022-05-31T16:39:41.222Z"
   },
   {
    "duration": 3,
    "start_time": "2022-05-31T16:39:41.253Z"
   },
   {
    "duration": 33,
    "start_time": "2022-05-31T16:39:41.258Z"
   },
   {
    "duration": 30,
    "start_time": "2022-05-31T16:39:41.293Z"
   },
   {
    "duration": 28,
    "start_time": "2022-05-31T16:39:41.325Z"
   },
   {
    "duration": 17,
    "start_time": "2022-05-31T16:39:41.354Z"
   },
   {
    "duration": 32,
    "start_time": "2022-05-31T16:39:41.375Z"
   },
   {
    "duration": 137,
    "start_time": "2022-05-31T16:39:41.409Z"
   },
   {
    "duration": 17,
    "start_time": "2022-05-31T16:39:41.548Z"
   },
   {
    "duration": 9,
    "start_time": "2022-05-31T16:39:41.566Z"
   },
   {
    "duration": 21,
    "start_time": "2022-05-31T16:39:41.576Z"
   },
   {
    "duration": 30,
    "start_time": "2022-05-31T16:39:41.599Z"
   },
   {
    "duration": 38,
    "start_time": "2022-05-31T16:39:41.631Z"
   },
   {
    "duration": 26,
    "start_time": "2022-05-31T16:39:41.670Z"
   },
   {
    "duration": 105,
    "start_time": "2022-05-31T16:39:41.698Z"
   },
   {
    "duration": 14,
    "start_time": "2022-05-31T16:39:41.805Z"
   },
   {
    "duration": 16,
    "start_time": "2022-05-31T16:39:41.821Z"
   },
   {
    "duration": 20,
    "start_time": "2022-05-31T16:39:41.839Z"
   },
   {
    "duration": 10,
    "start_time": "2022-05-31T16:39:41.861Z"
   },
   {
    "duration": 35,
    "start_time": "2022-05-31T16:39:41.873Z"
   },
   {
    "duration": 9,
    "start_time": "2022-05-31T16:39:41.910Z"
   },
   {
    "duration": 31,
    "start_time": "2022-05-31T16:39:41.921Z"
   },
   {
    "duration": 6,
    "start_time": "2022-05-31T16:39:41.953Z"
   },
   {
    "duration": 10,
    "start_time": "2022-05-31T16:39:41.961Z"
   },
   {
    "duration": 16,
    "start_time": "2022-05-31T16:39:41.972Z"
   },
   {
    "duration": 17,
    "start_time": "2022-05-31T16:39:41.989Z"
   },
   {
    "duration": 19,
    "start_time": "2022-05-31T16:39:42.007Z"
   },
   {
    "duration": 25,
    "start_time": "2022-05-31T16:39:42.028Z"
   },
   {
    "duration": 8,
    "start_time": "2022-05-31T16:39:42.054Z"
   },
   {
    "duration": 27,
    "start_time": "2022-05-31T16:39:42.063Z"
   },
   {
    "duration": 16,
    "start_time": "2022-05-31T16:39:42.091Z"
   },
   {
    "duration": 30,
    "start_time": "2022-05-31T16:39:42.109Z"
   },
   {
    "duration": 18,
    "start_time": "2022-05-31T16:39:42.152Z"
   },
   {
    "duration": 16,
    "start_time": "2022-05-31T16:39:42.172Z"
   },
   {
    "duration": 34,
    "start_time": "2022-05-31T16:39:42.189Z"
   },
   {
    "duration": 77,
    "start_time": "2022-05-31T16:39:42.225Z"
   },
   {
    "duration": 12,
    "start_time": "2022-05-31T16:39:42.304Z"
   },
   {
    "duration": 50,
    "start_time": "2022-05-31T16:39:42.318Z"
   },
   {
    "duration": 11,
    "start_time": "2022-05-31T16:39:42.370Z"
   },
   {
    "duration": 55,
    "start_time": "2022-05-31T16:39:42.383Z"
   },
   {
    "duration": 14,
    "start_time": "2022-05-31T16:39:42.440Z"
   },
   {
    "duration": 25,
    "start_time": "2022-05-31T16:39:42.455Z"
   },
   {
    "duration": 17,
    "start_time": "2022-05-31T16:39:42.481Z"
   },
   {
    "duration": 26,
    "start_time": "2022-05-31T16:39:42.499Z"
   },
   {
    "duration": 13,
    "start_time": "2022-05-31T16:39:42.527Z"
   },
   {
    "duration": 8,
    "start_time": "2022-05-31T16:39:42.551Z"
   },
   {
    "duration": 16,
    "start_time": "2022-05-31T16:39:42.562Z"
   },
   {
    "duration": 15,
    "start_time": "2022-05-31T16:39:42.580Z"
   },
   {
    "duration": 11,
    "start_time": "2022-05-31T16:39:42.596Z"
   },
   {
    "duration": 10,
    "start_time": "2022-05-31T16:39:42.609Z"
   },
   {
    "duration": 8,
    "start_time": "2022-05-31T16:39:42.621Z"
   },
   {
    "duration": 17,
    "start_time": "2022-05-31T16:39:42.652Z"
   },
   {
    "duration": 14,
    "start_time": "2022-05-31T16:39:42.672Z"
   },
   {
    "duration": 11705,
    "start_time": "2022-05-31T16:39:42.689Z"
   },
   {
    "duration": 15,
    "start_time": "2022-05-31T16:39:54.396Z"
   },
   {
    "duration": 14,
    "start_time": "2022-05-31T16:39:54.413Z"
   },
   {
    "duration": 25,
    "start_time": "2022-05-31T16:39:54.429Z"
   },
   {
    "duration": 40,
    "start_time": "2022-05-31T16:39:54.456Z"
   },
   {
    "duration": 989,
    "start_time": "2022-05-31T16:39:54.498Z"
   },
   {
    "duration": 938,
    "start_time": "2022-05-31T16:39:55.489Z"
   },
   {
    "duration": 20,
    "start_time": "2022-05-31T16:39:56.432Z"
   },
   {
    "duration": 196,
    "start_time": "2022-05-31T16:39:56.453Z"
   },
   {
    "duration": 13,
    "start_time": "2022-05-31T16:39:56.652Z"
   },
   {
    "duration": 8,
    "start_time": "2022-05-31T16:39:56.667Z"
   },
   {
    "duration": 18,
    "start_time": "2022-05-31T16:39:56.677Z"
   },
   {
    "duration": 11,
    "start_time": "2022-05-31T16:39:56.697Z"
   },
   {
    "duration": 8,
    "start_time": "2022-05-31T16:39:56.710Z"
   },
   {
    "duration": 7,
    "start_time": "2022-05-31T16:39:56.720Z"
   },
   {
    "duration": 5,
    "start_time": "2022-05-31T16:39:56.728Z"
   },
   {
    "duration": 5,
    "start_time": "2022-05-31T16:39:56.751Z"
   },
   {
    "duration": 17,
    "start_time": "2022-05-31T16:39:56.757Z"
   },
   {
    "duration": 10,
    "start_time": "2022-05-31T16:39:56.775Z"
   },
   {
    "duration": 14,
    "start_time": "2022-05-31T16:39:56.786Z"
   },
   {
    "duration": 5,
    "start_time": "2022-05-31T16:39:56.801Z"
   },
   {
    "duration": 8,
    "start_time": "2022-05-31T16:39:56.808Z"
   },
   {
    "duration": 1087,
    "start_time": "2022-05-31T16:40:21.908Z"
   },
   {
    "duration": 394,
    "start_time": "2022-05-31T16:40:22.997Z"
   },
   {
    "duration": 63,
    "start_time": "2022-05-31T16:40:23.393Z"
   },
   {
    "duration": 69,
    "start_time": "2022-05-31T16:40:23.458Z"
   },
   {
    "duration": 3,
    "start_time": "2022-05-31T16:40:23.529Z"
   },
   {
    "duration": 107,
    "start_time": "2022-05-31T16:40:23.533Z"
   },
   {
    "duration": 3,
    "start_time": "2022-05-31T16:40:23.642Z"
   },
   {
    "duration": 181,
    "start_time": "2022-05-31T16:40:23.646Z"
   },
   {
    "duration": 31,
    "start_time": "2022-05-31T16:40:23.830Z"
   },
   {
    "duration": 529,
    "start_time": "2022-05-31T16:40:23.864Z"
   },
   {
    "duration": 8,
    "start_time": "2022-05-31T16:40:24.395Z"
   },
   {
    "duration": 7,
    "start_time": "2022-05-31T16:40:24.404Z"
   },
   {
    "duration": 19,
    "start_time": "2022-05-31T16:40:24.413Z"
   },
   {
    "duration": 370,
    "start_time": "2022-05-31T16:40:24.451Z"
   },
   {
    "duration": 14,
    "start_time": "2022-05-31T16:40:24.824Z"
   },
   {
    "duration": 13,
    "start_time": "2022-05-31T16:40:24.839Z"
   },
   {
    "duration": 33,
    "start_time": "2022-05-31T16:40:24.854Z"
   },
   {
    "duration": 28,
    "start_time": "2022-05-31T16:40:24.889Z"
   },
   {
    "duration": 40,
    "start_time": "2022-05-31T16:40:24.919Z"
   },
   {
    "duration": 62,
    "start_time": "2022-05-31T16:40:24.961Z"
   },
   {
    "duration": 263,
    "start_time": "2022-05-31T16:40:25.025Z"
   },
   {
    "duration": 27,
    "start_time": "2022-05-31T16:40:25.290Z"
   },
   {
    "duration": 8,
    "start_time": "2022-05-31T16:40:25.319Z"
   },
   {
    "duration": 38,
    "start_time": "2022-05-31T16:40:25.329Z"
   },
   {
    "duration": 57,
    "start_time": "2022-05-31T16:40:25.369Z"
   },
   {
    "duration": 36,
    "start_time": "2022-05-31T16:40:25.428Z"
   },
   {
    "duration": 18,
    "start_time": "2022-05-31T16:40:25.466Z"
   },
   {
    "duration": 34,
    "start_time": "2022-05-31T16:40:25.490Z"
   },
   {
    "duration": 120,
    "start_time": "2022-05-31T16:40:25.553Z"
   },
   {
    "duration": 16,
    "start_time": "2022-05-31T16:40:25.675Z"
   },
   {
    "duration": 9,
    "start_time": "2022-05-31T16:40:25.692Z"
   },
   {
    "duration": 35,
    "start_time": "2022-05-31T16:40:25.703Z"
   },
   {
    "duration": 37,
    "start_time": "2022-05-31T16:40:25.740Z"
   },
   {
    "duration": 23,
    "start_time": "2022-05-31T16:40:25.779Z"
   },
   {
    "duration": 48,
    "start_time": "2022-05-31T16:40:25.804Z"
   },
   {
    "duration": 102,
    "start_time": "2022-05-31T16:40:25.854Z"
   },
   {
    "duration": 15,
    "start_time": "2022-05-31T16:40:25.958Z"
   },
   {
    "duration": 6,
    "start_time": "2022-05-31T16:40:25.975Z"
   },
   {
    "duration": 17,
    "start_time": "2022-05-31T16:40:25.982Z"
   },
   {
    "duration": 12,
    "start_time": "2022-05-31T16:40:26.000Z"
   },
   {
    "duration": 50,
    "start_time": "2022-05-31T16:40:26.014Z"
   },
   {
    "duration": 7,
    "start_time": "2022-05-31T16:40:26.065Z"
   },
   {
    "duration": 15,
    "start_time": "2022-05-31T16:40:26.074Z"
   },
   {
    "duration": 7,
    "start_time": "2022-05-31T16:40:26.091Z"
   },
   {
    "duration": 4,
    "start_time": "2022-05-31T16:40:26.100Z"
   },
   {
    "duration": 14,
    "start_time": "2022-05-31T16:40:26.106Z"
   },
   {
    "duration": 46,
    "start_time": "2022-05-31T16:40:26.122Z"
   },
   {
    "duration": 19,
    "start_time": "2022-05-31T16:40:26.169Z"
   },
   {
    "duration": 19,
    "start_time": "2022-05-31T16:40:26.189Z"
   },
   {
    "duration": 10,
    "start_time": "2022-05-31T16:40:26.209Z"
   },
   {
    "duration": 34,
    "start_time": "2022-05-31T16:40:26.221Z"
   },
   {
    "duration": 9,
    "start_time": "2022-05-31T16:40:26.257Z"
   },
   {
    "duration": 23,
    "start_time": "2022-05-31T16:40:26.268Z"
   },
   {
    "duration": 6,
    "start_time": "2022-05-31T16:40:26.293Z"
   },
   {
    "duration": 5,
    "start_time": "2022-05-31T16:40:26.300Z"
   },
   {
    "duration": 49,
    "start_time": "2022-05-31T16:40:26.307Z"
   },
   {
    "duration": 81,
    "start_time": "2022-05-31T16:40:26.357Z"
   },
   {
    "duration": 23,
    "start_time": "2022-05-31T16:40:26.440Z"
   },
   {
    "duration": 36,
    "start_time": "2022-05-31T16:40:26.465Z"
   },
   {
    "duration": 11,
    "start_time": "2022-05-31T16:40:26.503Z"
   },
   {
    "duration": 79,
    "start_time": "2022-05-31T16:40:26.516Z"
   },
   {
    "duration": 6,
    "start_time": "2022-05-31T16:40:26.596Z"
   },
   {
    "duration": 17,
    "start_time": "2022-05-31T16:40:26.603Z"
   },
   {
    "duration": 11,
    "start_time": "2022-05-31T16:40:26.621Z"
   },
   {
    "duration": 39,
    "start_time": "2022-05-31T16:40:26.633Z"
   },
   {
    "duration": 13,
    "start_time": "2022-05-31T16:40:26.673Z"
   },
   {
    "duration": 10,
    "start_time": "2022-05-31T16:40:26.687Z"
   },
   {
    "duration": 15,
    "start_time": "2022-05-31T16:40:26.698Z"
   },
   {
    "duration": 8,
    "start_time": "2022-05-31T16:40:26.715Z"
   },
   {
    "duration": 28,
    "start_time": "2022-05-31T16:40:26.725Z"
   },
   {
    "duration": 6,
    "start_time": "2022-05-31T16:40:26.754Z"
   },
   {
    "duration": 6,
    "start_time": "2022-05-31T16:40:26.761Z"
   },
   {
    "duration": 16,
    "start_time": "2022-05-31T16:40:26.769Z"
   },
   {
    "duration": 6,
    "start_time": "2022-05-31T16:40:26.787Z"
   },
   {
    "duration": 145,
    "start_time": "2022-05-31T16:40:26.795Z"
   },
   {
    "duration": 0,
    "start_time": "2022-05-31T16:40:26.943Z"
   },
   {
    "duration": 0,
    "start_time": "2022-05-31T16:40:26.944Z"
   },
   {
    "duration": 0,
    "start_time": "2022-05-31T16:40:26.945Z"
   },
   {
    "duration": 0,
    "start_time": "2022-05-31T16:40:26.952Z"
   },
   {
    "duration": 0,
    "start_time": "2022-05-31T16:40:26.953Z"
   },
   {
    "duration": 0,
    "start_time": "2022-05-31T16:40:26.954Z"
   },
   {
    "duration": 0,
    "start_time": "2022-05-31T16:40:26.955Z"
   },
   {
    "duration": 0,
    "start_time": "2022-05-31T16:40:26.956Z"
   },
   {
    "duration": 0,
    "start_time": "2022-05-31T16:40:26.957Z"
   },
   {
    "duration": 0,
    "start_time": "2022-05-31T16:40:26.958Z"
   },
   {
    "duration": 0,
    "start_time": "2022-05-31T16:40:26.959Z"
   },
   {
    "duration": 0,
    "start_time": "2022-05-31T16:40:26.960Z"
   },
   {
    "duration": 0,
    "start_time": "2022-05-31T16:40:26.961Z"
   },
   {
    "duration": 0,
    "start_time": "2022-05-31T16:40:26.963Z"
   },
   {
    "duration": 0,
    "start_time": "2022-05-31T16:40:26.964Z"
   },
   {
    "duration": 0,
    "start_time": "2022-05-31T16:40:26.965Z"
   },
   {
    "duration": 0,
    "start_time": "2022-05-31T16:40:26.966Z"
   },
   {
    "duration": 0,
    "start_time": "2022-05-31T16:40:26.967Z"
   },
   {
    "duration": 0,
    "start_time": "2022-05-31T16:40:26.968Z"
   },
   {
    "duration": 0,
    "start_time": "2022-05-31T16:40:26.969Z"
   },
   {
    "duration": 0,
    "start_time": "2022-05-31T16:40:26.970Z"
   },
   {
    "duration": 21,
    "start_time": "2022-05-31T16:42:33.224Z"
   },
   {
    "duration": 47,
    "start_time": "2022-05-31T16:42:51.999Z"
   },
   {
    "duration": 369,
    "start_time": "2022-05-31T16:42:52.573Z"
   },
   {
    "duration": 49,
    "start_time": "2022-05-31T16:43:26.020Z"
   },
   {
    "duration": 5,
    "start_time": "2022-05-31T16:43:26.780Z"
   },
   {
    "duration": 12,
    "start_time": "2022-05-31T16:43:28.654Z"
   },
   {
    "duration": 11,
    "start_time": "2022-05-31T16:43:50.090Z"
   },
   {
    "duration": 20,
    "start_time": "2022-05-31T16:43:51.498Z"
   },
   {
    "duration": 13,
    "start_time": "2022-05-31T16:43:52.039Z"
   },
   {
    "duration": 8,
    "start_time": "2022-05-31T16:43:52.591Z"
   },
   {
    "duration": 14,
    "start_time": "2022-05-31T16:43:53.256Z"
   },
   {
    "duration": 5,
    "start_time": "2022-05-31T16:43:55.501Z"
   },
   {
    "duration": 5,
    "start_time": "2022-05-31T16:43:56.023Z"
   },
   {
    "duration": 6,
    "start_time": "2022-05-31T16:43:56.514Z"
   },
   {
    "duration": 6,
    "start_time": "2022-05-31T16:43:57.046Z"
   },
   {
    "duration": 5,
    "start_time": "2022-05-31T16:44:02.419Z"
   },
   {
    "duration": 14,
    "start_time": "2022-05-31T16:44:04.645Z"
   },
   {
    "duration": 7,
    "start_time": "2022-05-31T16:44:08.957Z"
   },
   {
    "duration": 21,
    "start_time": "2022-05-31T16:44:12.235Z"
   },
   {
    "duration": 7,
    "start_time": "2022-05-31T16:44:51.194Z"
   },
   {
    "duration": 21,
    "start_time": "2022-05-31T16:44:54.607Z"
   },
   {
    "duration": 7,
    "start_time": "2022-05-31T16:45:27.729Z"
   },
   {
    "duration": 586,
    "start_time": "2022-05-31T16:45:30.569Z"
   },
   {
    "duration": 6,
    "start_time": "2022-05-31T16:46:03.022Z"
   },
   {
    "duration": 456,
    "start_time": "2022-05-31T16:46:05.525Z"
   },
   {
    "duration": 7,
    "start_time": "2022-05-31T16:47:16.554Z"
   },
   {
    "duration": 21,
    "start_time": "2022-05-31T16:47:19.453Z"
   },
   {
    "duration": 9,
    "start_time": "2022-05-31T16:47:35.282Z"
   },
   {
    "duration": 11718,
    "start_time": "2022-05-31T16:47:37.963Z"
   },
   {
    "duration": 15,
    "start_time": "2022-05-31T16:47:55.453Z"
   },
   {
    "duration": 22,
    "start_time": "2022-05-31T16:49:41.482Z"
   },
   {
    "duration": 15,
    "start_time": "2022-05-31T16:49:53.194Z"
   },
   {
    "duration": 1476,
    "start_time": "2022-05-31T16:50:35.077Z"
   },
   {
    "duration": 402,
    "start_time": "2022-05-31T16:50:36.554Z"
   },
   {
    "duration": 63,
    "start_time": "2022-05-31T16:50:36.958Z"
   },
   {
    "duration": 84,
    "start_time": "2022-05-31T16:50:37.023Z"
   },
   {
    "duration": 3,
    "start_time": "2022-05-31T16:50:37.109Z"
   },
   {
    "duration": 99,
    "start_time": "2022-05-31T16:50:37.114Z"
   },
   {
    "duration": 3,
    "start_time": "2022-05-31T16:50:37.214Z"
   },
   {
    "duration": 190,
    "start_time": "2022-05-31T16:50:37.218Z"
   },
   {
    "duration": 23,
    "start_time": "2022-05-31T16:50:37.410Z"
   },
   {
    "duration": 516,
    "start_time": "2022-05-31T16:50:37.435Z"
   },
   {
    "duration": 7,
    "start_time": "2022-05-31T16:50:37.953Z"
   },
   {
    "duration": 6,
    "start_time": "2022-05-31T16:50:37.962Z"
   },
   {
    "duration": 22,
    "start_time": "2022-05-31T16:50:37.970Z"
   },
   {
    "duration": 409,
    "start_time": "2022-05-31T16:50:37.993Z"
   },
   {
    "duration": 17,
    "start_time": "2022-05-31T16:50:38.404Z"
   },
   {
    "duration": 5,
    "start_time": "2022-05-31T16:50:38.422Z"
   },
   {
    "duration": 48,
    "start_time": "2022-05-31T16:50:38.428Z"
   },
   {
    "duration": 27,
    "start_time": "2022-05-31T16:50:38.477Z"
   },
   {
    "duration": 17,
    "start_time": "2022-05-31T16:50:38.506Z"
   },
   {
    "duration": 70,
    "start_time": "2022-05-31T16:50:38.524Z"
   },
   {
    "duration": 212,
    "start_time": "2022-05-31T16:50:38.596Z"
   },
   {
    "duration": 22,
    "start_time": "2022-05-31T16:50:38.809Z"
   },
   {
    "duration": 5,
    "start_time": "2022-05-31T16:50:38.833Z"
   },
   {
    "duration": 16,
    "start_time": "2022-05-31T16:50:38.852Z"
   },
   {
    "duration": 23,
    "start_time": "2022-05-31T16:50:38.870Z"
   },
   {
    "duration": 22,
    "start_time": "2022-05-31T16:50:38.895Z"
   },
   {
    "duration": 43,
    "start_time": "2022-05-31T16:50:38.919Z"
   },
   {
    "duration": 34,
    "start_time": "2022-05-31T16:50:38.967Z"
   },
   {
    "duration": 127,
    "start_time": "2022-05-31T16:50:39.003Z"
   },
   {
    "duration": 23,
    "start_time": "2022-05-31T16:50:39.132Z"
   },
   {
    "duration": 6,
    "start_time": "2022-05-31T16:50:39.156Z"
   },
   {
    "duration": 18,
    "start_time": "2022-05-31T16:50:39.163Z"
   },
   {
    "duration": 27,
    "start_time": "2022-05-31T16:50:39.183Z"
   },
   {
    "duration": 51,
    "start_time": "2022-05-31T16:50:39.212Z"
   },
   {
    "duration": 25,
    "start_time": "2022-05-31T16:50:39.265Z"
   },
   {
    "duration": 117,
    "start_time": "2022-05-31T16:50:39.291Z"
   },
   {
    "duration": 14,
    "start_time": "2022-05-31T16:50:39.411Z"
   },
   {
    "duration": 7,
    "start_time": "2022-05-31T16:50:39.427Z"
   },
   {
    "duration": 23,
    "start_time": "2022-05-31T16:50:39.436Z"
   },
   {
    "duration": 12,
    "start_time": "2022-05-31T16:50:39.461Z"
   },
   {
    "duration": 24,
    "start_time": "2022-05-31T16:50:39.474Z"
   },
   {
    "duration": 8,
    "start_time": "2022-05-31T16:50:39.500Z"
   },
   {
    "duration": 16,
    "start_time": "2022-05-31T16:50:39.509Z"
   },
   {
    "duration": 6,
    "start_time": "2022-05-31T16:50:39.552Z"
   },
   {
    "duration": 5,
    "start_time": "2022-05-31T16:50:39.559Z"
   },
   {
    "duration": 13,
    "start_time": "2022-05-31T16:50:39.566Z"
   },
   {
    "duration": 13,
    "start_time": "2022-05-31T16:50:39.580Z"
   },
   {
    "duration": 18,
    "start_time": "2022-05-31T16:50:39.594Z"
   },
   {
    "duration": 39,
    "start_time": "2022-05-31T16:50:39.614Z"
   },
   {
    "duration": 7,
    "start_time": "2022-05-31T16:50:39.655Z"
   },
   {
    "duration": 27,
    "start_time": "2022-05-31T16:50:39.664Z"
   },
   {
    "duration": 11,
    "start_time": "2022-05-31T16:50:39.693Z"
   },
   {
    "duration": 23,
    "start_time": "2022-05-31T16:50:39.705Z"
   },
   {
    "duration": 29,
    "start_time": "2022-05-31T16:50:39.730Z"
   },
   {
    "duration": 6,
    "start_time": "2022-05-31T16:50:39.761Z"
   },
   {
    "duration": 26,
    "start_time": "2022-05-31T16:50:39.769Z"
   },
   {
    "duration": 100,
    "start_time": "2022-05-31T16:50:39.797Z"
   },
   {
    "duration": 17,
    "start_time": "2022-05-31T16:50:39.899Z"
   },
   {
    "duration": 55,
    "start_time": "2022-05-31T16:50:39.918Z"
   },
   {
    "duration": 14,
    "start_time": "2022-05-31T16:50:39.975Z"
   },
   {
    "duration": 72,
    "start_time": "2022-05-31T16:50:39.990Z"
   },
   {
    "duration": 6,
    "start_time": "2022-05-31T16:50:40.064Z"
   },
   {
    "duration": 17,
    "start_time": "2022-05-31T16:50:40.072Z"
   },
   {
    "duration": 12,
    "start_time": "2022-05-31T16:50:40.090Z"
   },
   {
    "duration": 30,
    "start_time": "2022-05-31T16:50:40.103Z"
   },
   {
    "duration": 31,
    "start_time": "2022-05-31T16:50:40.134Z"
   },
   {
    "duration": 19,
    "start_time": "2022-05-31T16:50:40.167Z"
   },
   {
    "duration": 17,
    "start_time": "2022-05-31T16:50:40.188Z"
   },
   {
    "duration": 8,
    "start_time": "2022-05-31T16:50:40.207Z"
   },
   {
    "duration": 14,
    "start_time": "2022-05-31T16:50:40.216Z"
   },
   {
    "duration": 9,
    "start_time": "2022-05-31T16:50:40.232Z"
   },
   {
    "duration": 13,
    "start_time": "2022-05-31T16:50:40.243Z"
   },
   {
    "duration": 16,
    "start_time": "2022-05-31T16:50:40.257Z"
   },
   {
    "duration": 7,
    "start_time": "2022-05-31T16:50:40.275Z"
   },
   {
    "duration": 10686,
    "start_time": "2022-05-31T16:50:40.284Z"
   },
   {
    "duration": 17,
    "start_time": "2022-05-31T16:50:50.971Z"
   },
   {
    "duration": 21,
    "start_time": "2022-05-31T16:50:50.990Z"
   },
   {
    "duration": 15,
    "start_time": "2022-05-31T16:50:51.013Z"
   },
   {
    "duration": 50,
    "start_time": "2022-05-31T16:50:51.030Z"
   },
   {
    "duration": 853,
    "start_time": "2022-05-31T16:50:51.083Z"
   },
   {
    "duration": 928,
    "start_time": "2022-05-31T16:50:51.937Z"
   },
   {
    "duration": 13,
    "start_time": "2022-05-31T16:50:52.870Z"
   },
   {
    "duration": 217,
    "start_time": "2022-05-31T16:50:52.884Z"
   },
   {
    "duration": 14,
    "start_time": "2022-05-31T16:50:53.103Z"
   },
   {
    "duration": 8,
    "start_time": "2022-05-31T16:50:53.119Z"
   },
   {
    "duration": 6,
    "start_time": "2022-05-31T16:50:53.128Z"
   },
   {
    "duration": 25,
    "start_time": "2022-05-31T16:50:53.135Z"
   },
   {
    "duration": 11,
    "start_time": "2022-05-31T16:50:53.161Z"
   },
   {
    "duration": 14,
    "start_time": "2022-05-31T16:50:53.174Z"
   },
   {
    "duration": 6,
    "start_time": "2022-05-31T16:50:53.190Z"
   },
   {
    "duration": 10,
    "start_time": "2022-05-31T16:50:53.198Z"
   },
   {
    "duration": 21,
    "start_time": "2022-05-31T16:50:53.209Z"
   },
   {
    "duration": 24,
    "start_time": "2022-05-31T16:50:53.232Z"
   },
   {
    "duration": 13,
    "start_time": "2022-05-31T16:50:53.257Z"
   },
   {
    "duration": 6,
    "start_time": "2022-05-31T16:50:53.272Z"
   },
   {
    "duration": 9,
    "start_time": "2022-05-31T16:50:53.279Z"
   },
   {
    "duration": 23,
    "start_time": "2022-05-31T16:51:25.154Z"
   },
   {
    "duration": 16,
    "start_time": "2022-05-31T16:51:59.320Z"
   },
   {
    "duration": 16,
    "start_time": "2022-05-31T16:52:07.608Z"
   },
   {
    "duration": 109,
    "start_time": "2022-05-31T16:52:42.120Z"
   },
   {
    "duration": 19,
    "start_time": "2022-05-31T16:52:49.036Z"
   },
   {
    "duration": 23,
    "start_time": "2022-05-31T16:53:20.070Z"
   },
   {
    "duration": 13,
    "start_time": "2022-05-31T16:53:20.924Z"
   },
   {
    "duration": 10,
    "start_time": "2022-05-31T16:55:03.746Z"
   },
   {
    "duration": 13,
    "start_time": "2022-05-31T16:55:05.902Z"
   },
   {
    "duration": 29,
    "start_time": "2022-05-31T16:55:17.553Z"
   },
   {
    "duration": 7,
    "start_time": "2022-05-31T16:55:32.169Z"
   },
   {
    "duration": 1113,
    "start_time": "2022-05-31T16:55:37.160Z"
   },
   {
    "duration": 416,
    "start_time": "2022-05-31T16:55:38.275Z"
   },
   {
    "duration": 64,
    "start_time": "2022-05-31T16:55:38.693Z"
   },
   {
    "duration": 70,
    "start_time": "2022-05-31T16:55:38.759Z"
   },
   {
    "duration": 3,
    "start_time": "2022-05-31T16:55:38.831Z"
   },
   {
    "duration": 103,
    "start_time": "2022-05-31T16:55:38.836Z"
   },
   {
    "duration": 3,
    "start_time": "2022-05-31T16:55:38.941Z"
   },
   {
    "duration": 193,
    "start_time": "2022-05-31T16:55:38.945Z"
   },
   {
    "duration": 28,
    "start_time": "2022-05-31T16:55:39.140Z"
   },
   {
    "duration": 496,
    "start_time": "2022-05-31T16:55:39.171Z"
   },
   {
    "duration": 7,
    "start_time": "2022-05-31T16:55:39.668Z"
   },
   {
    "duration": 10,
    "start_time": "2022-05-31T16:55:39.676Z"
   },
   {
    "duration": 20,
    "start_time": "2022-05-31T16:55:39.687Z"
   },
   {
    "duration": 382,
    "start_time": "2022-05-31T16:55:39.709Z"
   },
   {
    "duration": 15,
    "start_time": "2022-05-31T16:55:40.092Z"
   },
   {
    "duration": 4,
    "start_time": "2022-05-31T16:55:40.109Z"
   },
   {
    "duration": 44,
    "start_time": "2022-05-31T16:55:40.114Z"
   },
   {
    "duration": 42,
    "start_time": "2022-05-31T16:55:40.159Z"
   },
   {
    "duration": 19,
    "start_time": "2022-05-31T16:55:40.202Z"
   },
   {
    "duration": 67,
    "start_time": "2022-05-31T16:55:40.222Z"
   },
   {
    "duration": 218,
    "start_time": "2022-05-31T16:55:40.290Z"
   },
   {
    "duration": 21,
    "start_time": "2022-05-31T16:55:40.509Z"
   },
   {
    "duration": 7,
    "start_time": "2022-05-31T16:55:40.532Z"
   },
   {
    "duration": 26,
    "start_time": "2022-05-31T16:55:40.540Z"
   },
   {
    "duration": 26,
    "start_time": "2022-05-31T16:55:40.567Z"
   },
   {
    "duration": 24,
    "start_time": "2022-05-31T16:55:40.595Z"
   },
   {
    "duration": 43,
    "start_time": "2022-05-31T16:55:40.621Z"
   },
   {
    "duration": 34,
    "start_time": "2022-05-31T16:55:40.668Z"
   },
   {
    "duration": 135,
    "start_time": "2022-05-31T16:55:40.703Z"
   },
   {
    "duration": 22,
    "start_time": "2022-05-31T16:55:40.840Z"
   },
   {
    "duration": 10,
    "start_time": "2022-05-31T16:55:40.863Z"
   },
   {
    "duration": 21,
    "start_time": "2022-05-31T16:55:40.874Z"
   },
   {
    "duration": 25,
    "start_time": "2022-05-31T16:55:40.897Z"
   },
   {
    "duration": 46,
    "start_time": "2022-05-31T16:55:40.924Z"
   },
   {
    "duration": 27,
    "start_time": "2022-05-31T16:55:40.972Z"
   },
   {
    "duration": 110,
    "start_time": "2022-05-31T16:55:41.001Z"
   },
   {
    "duration": 15,
    "start_time": "2022-05-31T16:55:41.112Z"
   },
   {
    "duration": 5,
    "start_time": "2022-05-31T16:55:41.128Z"
   },
   {
    "duration": 25,
    "start_time": "2022-05-31T16:55:41.134Z"
   },
   {
    "duration": 11,
    "start_time": "2022-05-31T16:55:41.161Z"
   },
   {
    "duration": 21,
    "start_time": "2022-05-31T16:55:41.173Z"
   },
   {
    "duration": 13,
    "start_time": "2022-05-31T16:55:41.195Z"
   },
   {
    "duration": 44,
    "start_time": "2022-05-31T16:55:41.209Z"
   },
   {
    "duration": 9,
    "start_time": "2022-05-31T16:55:41.255Z"
   },
   {
    "duration": 5,
    "start_time": "2022-05-31T16:55:41.266Z"
   },
   {
    "duration": 16,
    "start_time": "2022-05-31T16:55:41.272Z"
   },
   {
    "duration": 18,
    "start_time": "2022-05-31T16:55:41.290Z"
   },
   {
    "duration": 42,
    "start_time": "2022-05-31T16:55:41.310Z"
   },
   {
    "duration": 13,
    "start_time": "2022-05-31T16:55:41.354Z"
   },
   {
    "duration": 10,
    "start_time": "2022-05-31T16:55:41.369Z"
   },
   {
    "duration": 20,
    "start_time": "2022-05-31T16:55:41.380Z"
   },
   {
    "duration": 11,
    "start_time": "2022-05-31T16:55:41.401Z"
   },
   {
    "duration": 47,
    "start_time": "2022-05-31T16:55:41.413Z"
   },
   {
    "duration": 7,
    "start_time": "2022-05-31T16:55:41.461Z"
   },
   {
    "duration": 17,
    "start_time": "2022-05-31T16:55:41.470Z"
   },
   {
    "duration": 29,
    "start_time": "2022-05-31T16:55:41.489Z"
   },
   {
    "duration": 93,
    "start_time": "2022-05-31T16:55:41.520Z"
   },
   {
    "duration": 13,
    "start_time": "2022-05-31T16:55:41.615Z"
   },
   {
    "duration": 52,
    "start_time": "2022-05-31T16:55:41.630Z"
   },
   {
    "duration": 10,
    "start_time": "2022-05-31T16:55:41.684Z"
   },
   {
    "duration": 66,
    "start_time": "2022-05-31T16:55:41.696Z"
   },
   {
    "duration": 5,
    "start_time": "2022-05-31T16:55:41.763Z"
   },
   {
    "duration": 18,
    "start_time": "2022-05-31T16:55:41.770Z"
   },
   {
    "duration": 18,
    "start_time": "2022-05-31T16:55:41.790Z"
   },
   {
    "duration": 24,
    "start_time": "2022-05-31T16:55:41.810Z"
   },
   {
    "duration": 19,
    "start_time": "2022-05-31T16:55:41.836Z"
   },
   {
    "duration": 8,
    "start_time": "2022-05-31T16:55:41.857Z"
   },
   {
    "duration": 6,
    "start_time": "2022-05-31T16:55:41.867Z"
   },
   {
    "duration": 7,
    "start_time": "2022-05-31T16:55:41.875Z"
   },
   {
    "duration": 6,
    "start_time": "2022-05-31T16:55:41.884Z"
   },
   {
    "duration": 6,
    "start_time": "2022-05-31T16:55:41.892Z"
   },
   {
    "duration": 15,
    "start_time": "2022-05-31T16:55:41.900Z"
   },
   {
    "duration": 40,
    "start_time": "2022-05-31T16:55:41.916Z"
   },
   {
    "duration": 11523,
    "start_time": "2022-05-31T16:55:41.958Z"
   },
   {
    "duration": 15,
    "start_time": "2022-05-31T16:55:53.483Z"
   },
   {
    "duration": 17,
    "start_time": "2022-05-31T16:55:53.500Z"
   },
   {
    "duration": 22,
    "start_time": "2022-05-31T16:55:53.519Z"
   },
   {
    "duration": 126,
    "start_time": "2022-05-31T16:55:53.542Z"
   },
   {
    "duration": 0,
    "start_time": "2022-05-31T16:55:53.670Z"
   },
   {
    "duration": 0,
    "start_time": "2022-05-31T16:55:53.671Z"
   },
   {
    "duration": 0,
    "start_time": "2022-05-31T16:55:53.672Z"
   },
   {
    "duration": 0,
    "start_time": "2022-05-31T16:55:53.673Z"
   },
   {
    "duration": 0,
    "start_time": "2022-05-31T16:55:53.674Z"
   },
   {
    "duration": 0,
    "start_time": "2022-05-31T16:55:53.676Z"
   },
   {
    "duration": 0,
    "start_time": "2022-05-31T16:55:53.676Z"
   },
   {
    "duration": 0,
    "start_time": "2022-05-31T16:55:53.677Z"
   },
   {
    "duration": 0,
    "start_time": "2022-05-31T16:55:53.679Z"
   },
   {
    "duration": 0,
    "start_time": "2022-05-31T16:55:53.679Z"
   },
   {
    "duration": 0,
    "start_time": "2022-05-31T16:55:53.681Z"
   },
   {
    "duration": 0,
    "start_time": "2022-05-31T16:55:53.682Z"
   },
   {
    "duration": 0,
    "start_time": "2022-05-31T16:55:53.683Z"
   },
   {
    "duration": 0,
    "start_time": "2022-05-31T16:55:53.684Z"
   },
   {
    "duration": 0,
    "start_time": "2022-05-31T16:55:53.685Z"
   },
   {
    "duration": 0,
    "start_time": "2022-05-31T16:55:53.686Z"
   },
   {
    "duration": 0,
    "start_time": "2022-05-31T16:55:53.687Z"
   },
   {
    "duration": 35,
    "start_time": "2022-05-31T16:56:09.437Z"
   },
   {
    "duration": 927,
    "start_time": "2022-05-31T16:56:30.415Z"
   },
   {
    "duration": 934,
    "start_time": "2022-05-31T16:56:35.612Z"
   },
   {
    "duration": 1141,
    "start_time": "2022-05-31T16:57:13.004Z"
   },
   {
    "duration": 470,
    "start_time": "2022-05-31T16:57:14.148Z"
   },
   {
    "duration": 64,
    "start_time": "2022-05-31T16:57:14.620Z"
   },
   {
    "duration": 80,
    "start_time": "2022-05-31T16:57:14.686Z"
   },
   {
    "duration": 4,
    "start_time": "2022-05-31T16:57:14.768Z"
   },
   {
    "duration": 102,
    "start_time": "2022-05-31T16:57:14.773Z"
   },
   {
    "duration": 3,
    "start_time": "2022-05-31T16:57:14.877Z"
   },
   {
    "duration": 199,
    "start_time": "2022-05-31T16:57:14.883Z"
   },
   {
    "duration": 23,
    "start_time": "2022-05-31T16:57:15.084Z"
   },
   {
    "duration": 534,
    "start_time": "2022-05-31T16:57:15.110Z"
   },
   {
    "duration": 12,
    "start_time": "2022-05-31T16:57:15.645Z"
   },
   {
    "duration": 8,
    "start_time": "2022-05-31T16:57:15.659Z"
   },
   {
    "duration": 25,
    "start_time": "2022-05-31T16:57:15.669Z"
   },
   {
    "duration": 402,
    "start_time": "2022-05-31T16:57:15.695Z"
   },
   {
    "duration": 15,
    "start_time": "2022-05-31T16:57:16.098Z"
   },
   {
    "duration": 5,
    "start_time": "2022-05-31T16:57:16.115Z"
   },
   {
    "duration": 57,
    "start_time": "2022-05-31T16:57:16.121Z"
   },
   {
    "duration": 27,
    "start_time": "2022-05-31T16:57:16.179Z"
   },
   {
    "duration": 18,
    "start_time": "2022-05-31T16:57:16.208Z"
   },
   {
    "duration": 68,
    "start_time": "2022-05-31T16:57:16.227Z"
   },
   {
    "duration": 226,
    "start_time": "2022-05-31T16:57:16.297Z"
   },
   {
    "duration": 28,
    "start_time": "2022-05-31T16:57:16.525Z"
   },
   {
    "duration": 2,
    "start_time": "2022-05-31T16:57:16.555Z"
   },
   {
    "duration": 24,
    "start_time": "2022-05-31T16:57:16.558Z"
   },
   {
    "duration": 27,
    "start_time": "2022-05-31T16:57:16.583Z"
   },
   {
    "duration": 46,
    "start_time": "2022-05-31T16:57:16.611Z"
   },
   {
    "duration": 18,
    "start_time": "2022-05-31T16:57:16.659Z"
   },
   {
    "duration": 37,
    "start_time": "2022-05-31T16:57:16.681Z"
   },
   {
    "duration": 141,
    "start_time": "2022-05-31T16:57:16.719Z"
   },
   {
    "duration": 18,
    "start_time": "2022-05-31T16:57:16.861Z"
   },
   {
    "duration": 5,
    "start_time": "2022-05-31T16:57:16.881Z"
   },
   {
    "duration": 21,
    "start_time": "2022-05-31T16:57:16.887Z"
   },
   {
    "duration": 46,
    "start_time": "2022-05-31T16:57:16.910Z"
   },
   {
    "duration": 23,
    "start_time": "2022-05-31T16:57:16.958Z"
   },
   {
    "duration": 27,
    "start_time": "2022-05-31T16:57:16.983Z"
   },
   {
    "duration": 114,
    "start_time": "2022-05-31T16:57:17.012Z"
   },
   {
    "duration": 24,
    "start_time": "2022-05-31T16:57:17.128Z"
   },
   {
    "duration": 3,
    "start_time": "2022-05-31T16:57:17.154Z"
   },
   {
    "duration": 25,
    "start_time": "2022-05-31T16:57:17.158Z"
   },
   {
    "duration": 12,
    "start_time": "2022-05-31T16:57:17.185Z"
   },
   {
    "duration": 26,
    "start_time": "2022-05-31T16:57:17.198Z"
   },
   {
    "duration": 27,
    "start_time": "2022-05-31T16:57:17.226Z"
   },
   {
    "duration": 16,
    "start_time": "2022-05-31T16:57:17.255Z"
   },
   {
    "duration": 7,
    "start_time": "2022-05-31T16:57:17.273Z"
   },
   {
    "duration": 13,
    "start_time": "2022-05-31T16:57:17.282Z"
   },
   {
    "duration": 12,
    "start_time": "2022-05-31T16:57:17.297Z"
   },
   {
    "duration": 12,
    "start_time": "2022-05-31T16:57:17.311Z"
   },
   {
    "duration": 37,
    "start_time": "2022-05-31T16:57:17.325Z"
   },
   {
    "duration": 13,
    "start_time": "2022-05-31T16:57:17.364Z"
   },
   {
    "duration": 10,
    "start_time": "2022-05-31T16:57:17.379Z"
   },
   {
    "duration": 22,
    "start_time": "2022-05-31T16:57:17.390Z"
   },
   {
    "duration": 10,
    "start_time": "2022-05-31T16:57:17.413Z"
   },
   {
    "duration": 21,
    "start_time": "2022-05-31T16:57:17.451Z"
   },
   {
    "duration": 7,
    "start_time": "2022-05-31T16:57:17.473Z"
   },
   {
    "duration": 14,
    "start_time": "2022-05-31T16:57:17.481Z"
   },
   {
    "duration": 27,
    "start_time": "2022-05-31T16:57:17.496Z"
   },
   {
    "duration": 90,
    "start_time": "2022-05-31T16:57:17.525Z"
   },
   {
    "duration": 14,
    "start_time": "2022-05-31T16:57:17.617Z"
   },
   {
    "duration": 50,
    "start_time": "2022-05-31T16:57:17.633Z"
   },
   {
    "duration": 11,
    "start_time": "2022-05-31T16:57:17.685Z"
   },
   {
    "duration": 70,
    "start_time": "2022-05-31T16:57:17.698Z"
   },
   {
    "duration": 6,
    "start_time": "2022-05-31T16:57:17.770Z"
   },
   {
    "duration": 17,
    "start_time": "2022-05-31T16:57:17.777Z"
   },
   {
    "duration": 15,
    "start_time": "2022-05-31T16:57:17.796Z"
   },
   {
    "duration": 28,
    "start_time": "2022-05-31T16:57:17.812Z"
   },
   {
    "duration": 14,
    "start_time": "2022-05-31T16:57:17.851Z"
   },
   {
    "duration": 10,
    "start_time": "2022-05-31T16:57:17.866Z"
   },
   {
    "duration": 12,
    "start_time": "2022-05-31T16:57:17.878Z"
   },
   {
    "duration": 8,
    "start_time": "2022-05-31T16:57:17.892Z"
   },
   {
    "duration": 7,
    "start_time": "2022-05-31T16:57:17.902Z"
   },
   {
    "duration": 11,
    "start_time": "2022-05-31T16:57:17.911Z"
   },
   {
    "duration": 29,
    "start_time": "2022-05-31T16:57:17.924Z"
   },
   {
    "duration": 7,
    "start_time": "2022-05-31T16:57:17.955Z"
   },
   {
    "duration": 11199,
    "start_time": "2022-05-31T16:57:17.963Z"
   },
   {
    "duration": 17,
    "start_time": "2022-05-31T16:57:29.164Z"
   },
   {
    "duration": 28,
    "start_time": "2022-05-31T16:57:29.183Z"
   },
   {
    "duration": 14,
    "start_time": "2022-05-31T16:57:29.213Z"
   },
   {
    "duration": 50,
    "start_time": "2022-05-31T16:57:29.228Z"
   },
   {
    "duration": 853,
    "start_time": "2022-05-31T16:57:29.279Z"
   },
   {
    "duration": 963,
    "start_time": "2022-05-31T16:57:30.134Z"
   },
   {
    "duration": 13,
    "start_time": "2022-05-31T16:57:31.099Z"
   },
   {
    "duration": 218,
    "start_time": "2022-05-31T16:57:31.117Z"
   },
   {
    "duration": 20,
    "start_time": "2022-05-31T16:57:31.337Z"
   },
   {
    "duration": 22,
    "start_time": "2022-05-31T16:57:31.359Z"
   },
   {
    "duration": 10,
    "start_time": "2022-05-31T16:57:31.382Z"
   },
   {
    "duration": 21,
    "start_time": "2022-05-31T16:57:31.394Z"
   },
   {
    "duration": 12,
    "start_time": "2022-05-31T16:57:31.417Z"
   },
   {
    "duration": 19,
    "start_time": "2022-05-31T16:57:31.430Z"
   },
   {
    "duration": 24,
    "start_time": "2022-05-31T16:57:31.451Z"
   },
   {
    "duration": 23,
    "start_time": "2022-05-31T16:57:31.476Z"
   },
   {
    "duration": 19,
    "start_time": "2022-05-31T16:57:31.500Z"
   },
   {
    "duration": 16,
    "start_time": "2022-05-31T16:57:31.521Z"
   },
   {
    "duration": 13,
    "start_time": "2022-05-31T16:57:31.539Z"
   },
   {
    "duration": 6,
    "start_time": "2022-05-31T16:57:31.553Z"
   },
   {
    "duration": 11,
    "start_time": "2022-05-31T16:57:31.561Z"
   },
   {
    "duration": 60,
    "start_time": "2022-05-31T18:46:23.179Z"
   },
   {
    "duration": 1467,
    "start_time": "2022-05-31T18:46:28.805Z"
   },
   {
    "duration": 1158,
    "start_time": "2022-05-31T18:46:30.275Z"
   },
   {
    "duration": 91,
    "start_time": "2022-05-31T18:46:31.435Z"
   },
   {
    "duration": 97,
    "start_time": "2022-05-31T18:46:31.528Z"
   },
   {
    "duration": 4,
    "start_time": "2022-05-31T18:46:31.626Z"
   },
   {
    "duration": 110,
    "start_time": "2022-05-31T18:46:31.632Z"
   },
   {
    "duration": 3,
    "start_time": "2022-05-31T18:46:31.744Z"
   },
   {
    "duration": 241,
    "start_time": "2022-05-31T18:46:31.748Z"
   },
   {
    "duration": 25,
    "start_time": "2022-05-31T18:46:31.992Z"
   },
   {
    "duration": 570,
    "start_time": "2022-05-31T18:46:32.020Z"
   },
   {
    "duration": 9,
    "start_time": "2022-05-31T18:46:32.592Z"
   },
   {
    "duration": 10,
    "start_time": "2022-05-31T18:46:32.603Z"
   },
   {
    "duration": 26,
    "start_time": "2022-05-31T18:46:32.615Z"
   },
   {
    "duration": 410,
    "start_time": "2022-05-31T18:46:32.642Z"
   },
   {
    "duration": 26,
    "start_time": "2022-05-31T18:46:33.054Z"
   },
   {
    "duration": 6,
    "start_time": "2022-05-31T18:46:33.082Z"
   },
   {
    "duration": 39,
    "start_time": "2022-05-31T18:46:33.090Z"
   },
   {
    "duration": 48,
    "start_time": "2022-05-31T18:46:33.131Z"
   },
   {
    "duration": 19,
    "start_time": "2022-05-31T18:46:33.180Z"
   },
   {
    "duration": 77,
    "start_time": "2022-05-31T18:46:33.200Z"
   },
   {
    "duration": 258,
    "start_time": "2022-05-31T18:46:33.279Z"
   },
   {
    "duration": 33,
    "start_time": "2022-05-31T18:46:33.538Z"
   },
   {
    "duration": 3,
    "start_time": "2022-05-31T18:46:33.576Z"
   },
   {
    "duration": 29,
    "start_time": "2022-05-31T18:46:33.580Z"
   },
   {
    "duration": 33,
    "start_time": "2022-05-31T18:46:33.611Z"
   },
   {
    "duration": 47,
    "start_time": "2022-05-31T18:46:33.646Z"
   },
   {
    "duration": 26,
    "start_time": "2022-05-31T18:46:33.695Z"
   },
   {
    "duration": 62,
    "start_time": "2022-05-31T18:46:33.726Z"
   },
   {
    "duration": 134,
    "start_time": "2022-05-31T18:46:33.789Z"
   },
   {
    "duration": 19,
    "start_time": "2022-05-31T18:46:33.925Z"
   },
   {
    "duration": 4,
    "start_time": "2022-05-31T18:46:33.946Z"
   },
   {
    "duration": 26,
    "start_time": "2022-05-31T18:46:33.964Z"
   },
   {
    "duration": 26,
    "start_time": "2022-05-31T18:46:33.992Z"
   },
   {
    "duration": 58,
    "start_time": "2022-05-31T18:46:34.020Z"
   },
   {
    "duration": 30,
    "start_time": "2022-05-31T18:46:34.082Z"
   },
   {
    "duration": 110,
    "start_time": "2022-05-31T18:46:34.114Z"
   },
   {
    "duration": 16,
    "start_time": "2022-05-31T18:46:34.226Z"
   },
   {
    "duration": 23,
    "start_time": "2022-05-31T18:46:34.244Z"
   },
   {
    "duration": 21,
    "start_time": "2022-05-31T18:46:34.269Z"
   },
   {
    "duration": 12,
    "start_time": "2022-05-31T18:46:34.292Z"
   },
   {
    "duration": 28,
    "start_time": "2022-05-31T18:46:34.305Z"
   },
   {
    "duration": 36,
    "start_time": "2022-05-31T18:46:34.335Z"
   },
   {
    "duration": 17,
    "start_time": "2022-05-31T18:46:34.374Z"
   },
   {
    "duration": 6,
    "start_time": "2022-05-31T18:46:34.392Z"
   },
   {
    "duration": 13,
    "start_time": "2022-05-31T18:46:34.399Z"
   },
   {
    "duration": 13,
    "start_time": "2022-05-31T18:46:34.413Z"
   },
   {
    "duration": 13,
    "start_time": "2022-05-31T18:46:34.428Z"
   },
   {
    "duration": 43,
    "start_time": "2022-05-31T18:46:34.443Z"
   },
   {
    "duration": 13,
    "start_time": "2022-05-31T18:46:34.487Z"
   },
   {
    "duration": 9,
    "start_time": "2022-05-31T18:46:34.502Z"
   },
   {
    "duration": 16,
    "start_time": "2022-05-31T18:46:34.513Z"
   },
   {
    "duration": 46,
    "start_time": "2022-05-31T18:46:34.530Z"
   },
   {
    "duration": 32,
    "start_time": "2022-05-31T18:46:34.577Z"
   },
   {
    "duration": 6,
    "start_time": "2022-05-31T18:46:34.611Z"
   },
   {
    "duration": 4,
    "start_time": "2022-05-31T18:46:34.619Z"
   },
   {
    "duration": 25,
    "start_time": "2022-05-31T18:46:34.624Z"
   },
   {
    "duration": 121,
    "start_time": "2022-05-31T18:46:34.651Z"
   },
   {
    "duration": 15,
    "start_time": "2022-05-31T18:46:34.778Z"
   },
   {
    "duration": 47,
    "start_time": "2022-05-31T18:46:34.795Z"
   },
   {
    "duration": 12,
    "start_time": "2022-05-31T18:46:34.843Z"
   },
   {
    "duration": 62,
    "start_time": "2022-05-31T18:46:34.864Z"
   },
   {
    "duration": 6,
    "start_time": "2022-05-31T18:46:34.928Z"
   },
   {
    "duration": 30,
    "start_time": "2022-05-31T18:46:34.936Z"
   },
   {
    "duration": 18,
    "start_time": "2022-05-31T18:46:34.970Z"
   },
   {
    "duration": 23,
    "start_time": "2022-05-31T18:46:34.990Z"
   },
   {
    "duration": 13,
    "start_time": "2022-05-31T18:46:35.015Z"
   },
   {
    "duration": 11,
    "start_time": "2022-05-31T18:46:35.030Z"
   },
   {
    "duration": 34,
    "start_time": "2022-05-31T18:46:35.043Z"
   },
   {
    "duration": 8,
    "start_time": "2022-05-31T18:46:35.083Z"
   },
   {
    "duration": 7,
    "start_time": "2022-05-31T18:46:35.093Z"
   },
   {
    "duration": 6,
    "start_time": "2022-05-31T18:46:35.102Z"
   },
   {
    "duration": 16,
    "start_time": "2022-05-31T18:46:35.110Z"
   },
   {
    "duration": 9,
    "start_time": "2022-05-31T18:46:35.127Z"
   },
   {
    "duration": 19,
    "start_time": "2022-05-31T18:46:35.137Z"
   },
   {
    "duration": 11795,
    "start_time": "2022-05-31T18:46:35.158Z"
   },
   {
    "duration": 26,
    "start_time": "2022-05-31T18:46:46.955Z"
   },
   {
    "duration": 16,
    "start_time": "2022-05-31T18:46:46.983Z"
   },
   {
    "duration": 17,
    "start_time": "2022-05-31T18:46:47.002Z"
   },
   {
    "duration": 61,
    "start_time": "2022-05-31T18:46:47.021Z"
   },
   {
    "duration": 924,
    "start_time": "2022-05-31T18:46:47.084Z"
   },
   {
    "duration": 1124,
    "start_time": "2022-05-31T18:46:48.010Z"
   },
   {
    "duration": 29,
    "start_time": "2022-05-31T18:46:49.140Z"
   },
   {
    "duration": 262,
    "start_time": "2022-05-31T18:46:49.171Z"
   },
   {
    "duration": 15,
    "start_time": "2022-05-31T18:46:49.435Z"
   },
   {
    "duration": 28,
    "start_time": "2022-05-31T18:46:49.452Z"
   },
   {
    "duration": 8,
    "start_time": "2022-05-31T18:46:49.481Z"
   },
   {
    "duration": 12,
    "start_time": "2022-05-31T18:46:49.490Z"
   },
   {
    "duration": 7,
    "start_time": "2022-05-31T18:46:49.504Z"
   },
   {
    "duration": 9,
    "start_time": "2022-05-31T18:46:49.513Z"
   },
   {
    "duration": 6,
    "start_time": "2022-05-31T18:46:49.524Z"
   },
   {
    "duration": 6,
    "start_time": "2022-05-31T18:46:49.532Z"
   },
   {
    "duration": 37,
    "start_time": "2022-05-31T18:46:49.540Z"
   },
   {
    "duration": 12,
    "start_time": "2022-05-31T18:46:49.579Z"
   },
   {
    "duration": 14,
    "start_time": "2022-05-31T18:46:49.593Z"
   },
   {
    "duration": 5,
    "start_time": "2022-05-31T18:46:49.609Z"
   },
   {
    "duration": 6,
    "start_time": "2022-05-31T18:46:49.616Z"
   },
   {
    "duration": 5,
    "start_time": "2022-05-31T18:48:03.182Z"
   },
   {
    "duration": 549,
    "start_time": "2022-05-31T18:48:03.189Z"
   },
   {
    "duration": 92,
    "start_time": "2022-05-31T18:48:03.740Z"
   },
   {
    "duration": 91,
    "start_time": "2022-05-31T18:48:03.835Z"
   },
   {
    "duration": 3,
    "start_time": "2022-05-31T18:48:03.928Z"
   },
   {
    "duration": 140,
    "start_time": "2022-05-31T18:48:03.934Z"
   },
   {
    "duration": 11,
    "start_time": "2022-05-31T18:48:04.075Z"
   },
   {
    "duration": 188,
    "start_time": "2022-05-31T18:48:04.089Z"
   },
   {
    "duration": 24,
    "start_time": "2022-05-31T18:48:04.283Z"
   },
   {
    "duration": 438,
    "start_time": "2022-05-31T18:48:04.309Z"
   },
   {
    "duration": 22,
    "start_time": "2022-05-31T18:48:04.749Z"
   },
   {
    "duration": 8,
    "start_time": "2022-05-31T18:48:04.779Z"
   },
   {
    "duration": 22,
    "start_time": "2022-05-31T18:48:04.788Z"
   },
   {
    "duration": 413,
    "start_time": "2022-05-31T18:48:04.812Z"
   },
   {
    "duration": 16,
    "start_time": "2022-05-31T18:48:05.226Z"
   },
   {
    "duration": 4,
    "start_time": "2022-05-31T18:48:05.244Z"
   },
   {
    "duration": 39,
    "start_time": "2022-05-31T18:48:05.266Z"
   },
   {
    "duration": 28,
    "start_time": "2022-05-31T18:48:05.307Z"
   },
   {
    "duration": 48,
    "start_time": "2022-05-31T18:48:05.337Z"
   },
   {
    "duration": 53,
    "start_time": "2022-05-31T18:48:05.386Z"
   },
   {
    "duration": 289,
    "start_time": "2022-05-31T18:48:05.441Z"
   },
   {
    "duration": 25,
    "start_time": "2022-05-31T18:48:05.732Z"
   },
   {
    "duration": 25,
    "start_time": "2022-05-31T18:48:05.758Z"
   },
   {
    "duration": 24,
    "start_time": "2022-05-31T18:48:05.788Z"
   },
   {
    "duration": 32,
    "start_time": "2022-05-31T18:48:05.815Z"
   },
   {
    "duration": 41,
    "start_time": "2022-05-31T18:48:05.849Z"
   },
   {
    "duration": 19,
    "start_time": "2022-05-31T18:48:05.892Z"
   },
   {
    "duration": 71,
    "start_time": "2022-05-31T18:48:05.913Z"
   },
   {
    "duration": 143,
    "start_time": "2022-05-31T18:48:05.986Z"
   },
   {
    "duration": 19,
    "start_time": "2022-05-31T18:48:06.131Z"
   },
   {
    "duration": 8,
    "start_time": "2022-05-31T18:48:06.166Z"
   },
   {
    "duration": 24,
    "start_time": "2022-05-31T18:48:06.180Z"
   },
   {
    "duration": 28,
    "start_time": "2022-05-31T18:48:06.206Z"
   },
   {
    "duration": 46,
    "start_time": "2022-05-31T18:48:06.235Z"
   },
   {
    "duration": 35,
    "start_time": "2022-05-31T18:48:06.283Z"
   },
   {
    "duration": 126,
    "start_time": "2022-05-31T18:48:06.320Z"
   },
   {
    "duration": 32,
    "start_time": "2022-05-31T18:48:06.448Z"
   },
   {
    "duration": 8,
    "start_time": "2022-05-31T18:48:06.484Z"
   },
   {
    "duration": 20,
    "start_time": "2022-05-31T18:48:06.493Z"
   },
   {
    "duration": 11,
    "start_time": "2022-05-31T18:48:06.515Z"
   },
   {
    "duration": 46,
    "start_time": "2022-05-31T18:48:06.528Z"
   },
   {
    "duration": 12,
    "start_time": "2022-05-31T18:48:06.578Z"
   },
   {
    "duration": 22,
    "start_time": "2022-05-31T18:48:06.591Z"
   },
   {
    "duration": 14,
    "start_time": "2022-05-31T18:48:06.615Z"
   },
   {
    "duration": 8,
    "start_time": "2022-05-31T18:48:06.630Z"
   },
   {
    "duration": 27,
    "start_time": "2022-05-31T18:48:06.639Z"
   },
   {
    "duration": 13,
    "start_time": "2022-05-31T18:48:06.675Z"
   },
   {
    "duration": 20,
    "start_time": "2022-05-31T18:48:06.690Z"
   },
   {
    "duration": 21,
    "start_time": "2022-05-31T18:48:06.712Z"
   },
   {
    "duration": 8,
    "start_time": "2022-05-31T18:48:06.735Z"
   },
   {
    "duration": 24,
    "start_time": "2022-05-31T18:48:06.767Z"
   },
   {
    "duration": 10,
    "start_time": "2022-05-31T18:48:06.792Z"
   },
   {
    "duration": 20,
    "start_time": "2022-05-31T18:48:06.804Z"
   },
   {
    "duration": 6,
    "start_time": "2022-05-31T18:48:06.826Z"
   },
   {
    "duration": 34,
    "start_time": "2022-05-31T18:48:06.834Z"
   },
   {
    "duration": 30,
    "start_time": "2022-05-31T18:48:06.871Z"
   },
   {
    "duration": 96,
    "start_time": "2022-05-31T18:48:06.902Z"
   },
   {
    "duration": 13,
    "start_time": "2022-05-31T18:48:07.000Z"
   },
   {
    "duration": 67,
    "start_time": "2022-05-31T18:48:07.015Z"
   },
   {
    "duration": 26,
    "start_time": "2022-05-31T18:48:07.084Z"
   },
   {
    "duration": 68,
    "start_time": "2022-05-31T18:48:07.112Z"
   },
   {
    "duration": 6,
    "start_time": "2022-05-31T18:48:07.182Z"
   },
   {
    "duration": 16,
    "start_time": "2022-05-31T18:48:07.190Z"
   },
   {
    "duration": 12,
    "start_time": "2022-05-31T18:48:07.208Z"
   },
   {
    "duration": 46,
    "start_time": "2022-05-31T18:48:07.222Z"
   },
   {
    "duration": 17,
    "start_time": "2022-05-31T18:48:07.273Z"
   },
   {
    "duration": 11,
    "start_time": "2022-05-31T18:48:07.291Z"
   },
   {
    "duration": 9,
    "start_time": "2022-05-31T18:48:07.304Z"
   },
   {
    "duration": 6,
    "start_time": "2022-05-31T18:48:07.318Z"
   },
   {
    "duration": 8,
    "start_time": "2022-05-31T18:48:07.325Z"
   },
   {
    "duration": 34,
    "start_time": "2022-05-31T18:48:07.335Z"
   },
   {
    "duration": 22,
    "start_time": "2022-05-31T18:48:07.371Z"
   },
   {
    "duration": 8,
    "start_time": "2022-05-31T18:48:07.395Z"
   },
   {
    "duration": 18,
    "start_time": "2022-05-31T18:48:07.406Z"
   },
   {
    "duration": 31,
    "start_time": "2022-05-31T18:48:24.052Z"
   },
   {
    "duration": 12567,
    "start_time": "2022-05-31T18:48:38.505Z"
   },
   {
    "duration": 27,
    "start_time": "2022-05-31T18:48:51.074Z"
   },
   {
    "duration": 8,
    "start_time": "2022-05-31T18:57:34.795Z"
   },
   {
    "duration": 18,
    "start_time": "2022-05-31T18:57:52.478Z"
   },
   {
    "duration": 13059,
    "start_time": "2022-05-31T18:57:56.938Z"
   },
   {
    "duration": 17,
    "start_time": "2022-05-31T18:58:09.999Z"
   },
   {
    "duration": 11,
    "start_time": "2022-05-31T18:58:25.375Z"
   },
   {
    "duration": 12893,
    "start_time": "2022-05-31T18:58:33.284Z"
   },
   {
    "duration": 23,
    "start_time": "2022-05-31T18:58:46.190Z"
   },
   {
    "duration": 8,
    "start_time": "2022-05-31T19:00:42.184Z"
   },
   {
    "duration": 12766,
    "start_time": "2022-05-31T19:00:46.983Z"
   },
   {
    "duration": 29,
    "start_time": "2022-05-31T19:00:59.751Z"
   },
   {
    "duration": 1244,
    "start_time": "2022-05-31T19:03:41.468Z"
   },
   {
    "duration": 469,
    "start_time": "2022-05-31T19:03:42.715Z"
   },
   {
    "duration": 93,
    "start_time": "2022-05-31T19:03:43.186Z"
   },
   {
    "duration": 93,
    "start_time": "2022-05-31T19:03:43.282Z"
   },
   {
    "duration": 4,
    "start_time": "2022-05-31T19:03:43.377Z"
   },
   {
    "duration": 110,
    "start_time": "2022-05-31T19:03:43.383Z"
   },
   {
    "duration": 3,
    "start_time": "2022-05-31T19:03:43.495Z"
   },
   {
    "duration": 230,
    "start_time": "2022-05-31T19:03:43.500Z"
   },
   {
    "duration": 36,
    "start_time": "2022-05-31T19:03:43.732Z"
   },
   {
    "duration": 593,
    "start_time": "2022-05-31T19:03:43.773Z"
   },
   {
    "duration": 8,
    "start_time": "2022-05-31T19:03:44.369Z"
   },
   {
    "duration": 9,
    "start_time": "2022-05-31T19:03:44.379Z"
   },
   {
    "duration": 23,
    "start_time": "2022-05-31T19:03:44.390Z"
   },
   {
    "duration": 426,
    "start_time": "2022-05-31T19:03:44.415Z"
   },
   {
    "duration": 22,
    "start_time": "2022-05-31T19:03:44.843Z"
   },
   {
    "duration": 4,
    "start_time": "2022-05-31T19:03:44.867Z"
   },
   {
    "duration": 39,
    "start_time": "2022-05-31T19:03:44.873Z"
   },
   {
    "duration": 52,
    "start_time": "2022-05-31T19:03:44.914Z"
   },
   {
    "duration": 19,
    "start_time": "2022-05-31T19:03:44.968Z"
   },
   {
    "duration": 82,
    "start_time": "2022-05-31T19:03:44.989Z"
   },
   {
    "duration": 246,
    "start_time": "2022-05-31T19:03:45.072Z"
   },
   {
    "duration": 28,
    "start_time": "2022-05-31T19:03:45.321Z"
   },
   {
    "duration": 15,
    "start_time": "2022-05-31T19:03:45.351Z"
   },
   {
    "duration": 22,
    "start_time": "2022-05-31T19:03:45.368Z"
   },
   {
    "duration": 45,
    "start_time": "2022-05-31T19:03:45.392Z"
   },
   {
    "duration": 54,
    "start_time": "2022-05-31T19:03:45.439Z"
   },
   {
    "duration": 20,
    "start_time": "2022-05-31T19:03:45.495Z"
   },
   {
    "duration": 62,
    "start_time": "2022-05-31T19:03:45.520Z"
   },
   {
    "duration": 161,
    "start_time": "2022-05-31T19:03:45.584Z"
   },
   {
    "duration": 21,
    "start_time": "2022-05-31T19:03:45.747Z"
   },
   {
    "duration": 10,
    "start_time": "2022-05-31T19:03:45.770Z"
   },
   {
    "duration": 19,
    "start_time": "2022-05-31T19:03:45.782Z"
   },
   {
    "duration": 26,
    "start_time": "2022-05-31T19:03:45.803Z"
   },
   {
    "duration": 49,
    "start_time": "2022-05-31T19:03:45.831Z"
   },
   {
    "duration": 31,
    "start_time": "2022-05-31T19:03:45.881Z"
   },
   {
    "duration": 144,
    "start_time": "2022-05-31T19:03:45.914Z"
   },
   {
    "duration": 20,
    "start_time": "2022-05-31T19:03:46.059Z"
   },
   {
    "duration": 7,
    "start_time": "2022-05-31T19:03:46.081Z"
   },
   {
    "duration": 17,
    "start_time": "2022-05-31T19:03:46.090Z"
   },
   {
    "duration": 16,
    "start_time": "2022-05-31T19:03:46.109Z"
   },
   {
    "duration": 49,
    "start_time": "2022-05-31T19:03:46.127Z"
   },
   {
    "duration": 24,
    "start_time": "2022-05-31T19:03:46.178Z"
   },
   {
    "duration": 19,
    "start_time": "2022-05-31T19:03:46.204Z"
   },
   {
    "duration": 8,
    "start_time": "2022-05-31T19:03:46.225Z"
   },
   {
    "duration": 6,
    "start_time": "2022-05-31T19:03:46.235Z"
   },
   {
    "duration": 25,
    "start_time": "2022-05-31T19:03:46.243Z"
   },
   {
    "duration": 12,
    "start_time": "2022-05-31T19:03:46.270Z"
   },
   {
    "duration": 29,
    "start_time": "2022-05-31T19:03:46.284Z"
   },
   {
    "duration": 15,
    "start_time": "2022-05-31T19:03:46.315Z"
   },
   {
    "duration": 37,
    "start_time": "2022-05-31T19:03:46.332Z"
   },
   {
    "duration": 22,
    "start_time": "2022-05-31T19:03:46.371Z"
   },
   {
    "duration": 11,
    "start_time": "2022-05-31T19:03:46.395Z"
   },
   {
    "duration": 20,
    "start_time": "2022-05-31T19:03:46.408Z"
   },
   {
    "duration": 6,
    "start_time": "2022-05-31T19:03:46.430Z"
   },
   {
    "duration": 3,
    "start_time": "2022-05-31T19:03:46.465Z"
   },
   {
    "duration": 26,
    "start_time": "2022-05-31T19:03:46.470Z"
   },
   {
    "duration": 113,
    "start_time": "2022-05-31T19:03:46.498Z"
   },
   {
    "duration": 16,
    "start_time": "2022-05-31T19:03:46.613Z"
   },
   {
    "duration": 57,
    "start_time": "2022-05-31T19:03:46.631Z"
   },
   {
    "duration": 11,
    "start_time": "2022-05-31T19:03:46.690Z"
   },
   {
    "duration": 73,
    "start_time": "2022-05-31T19:03:46.703Z"
   },
   {
    "duration": 6,
    "start_time": "2022-05-31T19:03:46.778Z"
   },
   {
    "duration": 16,
    "start_time": "2022-05-31T19:03:46.785Z"
   },
   {
    "duration": 10,
    "start_time": "2022-05-31T19:03:46.802Z"
   },
   {
    "duration": 52,
    "start_time": "2022-05-31T19:03:46.814Z"
   },
   {
    "duration": 13,
    "start_time": "2022-05-31T19:03:46.868Z"
   },
   {
    "duration": 11,
    "start_time": "2022-05-31T19:03:46.883Z"
   },
   {
    "duration": 5,
    "start_time": "2022-05-31T19:03:46.896Z"
   },
   {
    "duration": 10,
    "start_time": "2022-05-31T19:03:46.903Z"
   },
   {
    "duration": 6,
    "start_time": "2022-05-31T19:03:46.915Z"
   },
   {
    "duration": 7,
    "start_time": "2022-05-31T19:03:46.922Z"
   },
   {
    "duration": 15,
    "start_time": "2022-05-31T19:03:46.965Z"
   },
   {
    "duration": 12,
    "start_time": "2022-05-31T19:03:46.982Z"
   },
   {
    "duration": 11648,
    "start_time": "2022-05-31T19:03:46.996Z"
   },
   {
    "duration": 22,
    "start_time": "2022-05-31T19:03:58.646Z"
   },
   {
    "duration": 16,
    "start_time": "2022-05-31T19:03:58.670Z"
   },
   {
    "duration": 15,
    "start_time": "2022-05-31T19:03:58.688Z"
   },
   {
    "duration": 60,
    "start_time": "2022-05-31T19:03:58.705Z"
   },
   {
    "duration": 981,
    "start_time": "2022-05-31T19:03:58.767Z"
   },
   {
    "duration": 1015,
    "start_time": "2022-05-31T19:03:59.749Z"
   },
   {
    "duration": 14,
    "start_time": "2022-05-31T19:04:00.766Z"
   },
   {
    "duration": 252,
    "start_time": "2022-05-31T19:04:00.786Z"
   },
   {
    "duration": 31,
    "start_time": "2022-05-31T19:04:01.041Z"
   },
   {
    "duration": 17,
    "start_time": "2022-05-31T19:04:01.074Z"
   },
   {
    "duration": 9,
    "start_time": "2022-05-31T19:04:01.093Z"
   },
   {
    "duration": 18,
    "start_time": "2022-05-31T19:04:01.104Z"
   },
   {
    "duration": 28,
    "start_time": "2022-05-31T19:04:01.124Z"
   },
   {
    "duration": 13,
    "start_time": "2022-05-31T19:04:01.154Z"
   },
   {
    "duration": 11,
    "start_time": "2022-05-31T19:04:01.169Z"
   },
   {
    "duration": 22,
    "start_time": "2022-05-31T19:04:01.182Z"
   },
   {
    "duration": 29,
    "start_time": "2022-05-31T19:04:01.206Z"
   },
   {
    "duration": 25,
    "start_time": "2022-05-31T19:04:01.237Z"
   },
   {
    "duration": 35,
    "start_time": "2022-05-31T19:04:01.264Z"
   },
   {
    "duration": 9,
    "start_time": "2022-05-31T19:04:01.301Z"
   },
   {
    "duration": 20,
    "start_time": "2022-05-31T19:04:01.311Z"
   },
   {
    "duration": 7,
    "start_time": "2022-05-31T19:18:19.484Z"
   },
   {
    "duration": 158,
    "start_time": "2022-05-31T19:18:23.683Z"
   },
   {
    "duration": 16,
    "start_time": "2022-05-31T19:18:24.318Z"
   },
   {
    "duration": 1173,
    "start_time": "2022-05-31T19:18:30.849Z"
   },
   {
    "duration": 937,
    "start_time": "2022-05-31T19:18:32.023Z"
   },
   {
    "duration": 63,
    "start_time": "2022-05-31T19:18:32.962Z"
   },
   {
    "duration": 72,
    "start_time": "2022-05-31T19:18:33.028Z"
   },
   {
    "duration": 4,
    "start_time": "2022-05-31T19:18:33.102Z"
   },
   {
    "duration": 98,
    "start_time": "2022-05-31T19:18:33.107Z"
   },
   {
    "duration": 2,
    "start_time": "2022-05-31T19:18:33.207Z"
   },
   {
    "duration": 204,
    "start_time": "2022-05-31T19:18:33.211Z"
   },
   {
    "duration": 21,
    "start_time": "2022-05-31T19:18:33.417Z"
   },
   {
    "duration": 484,
    "start_time": "2022-05-31T19:18:33.451Z"
   },
   {
    "duration": 16,
    "start_time": "2022-05-31T19:18:33.937Z"
   },
   {
    "duration": 6,
    "start_time": "2022-05-31T19:18:33.955Z"
   },
   {
    "duration": 20,
    "start_time": "2022-05-31T19:18:33.962Z"
   },
   {
    "duration": 424,
    "start_time": "2022-05-31T19:18:33.984Z"
   },
   {
    "duration": 15,
    "start_time": "2022-05-31T19:18:34.410Z"
   },
   {
    "duration": 4,
    "start_time": "2022-05-31T19:18:34.427Z"
   },
   {
    "duration": 51,
    "start_time": "2022-05-31T19:18:34.433Z"
   },
   {
    "duration": 28,
    "start_time": "2022-05-31T19:18:34.486Z"
   },
   {
    "duration": 39,
    "start_time": "2022-05-31T19:18:34.515Z"
   },
   {
    "duration": 48,
    "start_time": "2022-05-31T19:18:34.555Z"
   },
   {
    "duration": 234,
    "start_time": "2022-05-31T19:18:34.605Z"
   },
   {
    "duration": 20,
    "start_time": "2022-05-31T19:18:34.840Z"
   },
   {
    "duration": 5,
    "start_time": "2022-05-31T19:18:34.862Z"
   },
   {
    "duration": 20,
    "start_time": "2022-05-31T19:18:34.868Z"
   },
   {
    "duration": 26,
    "start_time": "2022-05-31T19:18:34.890Z"
   },
   {
    "duration": 46,
    "start_time": "2022-05-31T19:18:34.917Z"
   },
   {
    "duration": 18,
    "start_time": "2022-05-31T19:18:34.965Z"
   },
   {
    "duration": 36,
    "start_time": "2022-05-31T19:18:34.988Z"
   },
   {
    "duration": 171,
    "start_time": "2022-05-31T19:18:35.026Z"
   },
   {
    "duration": 23,
    "start_time": "2022-05-31T19:18:35.200Z"
   },
   {
    "duration": 11,
    "start_time": "2022-05-31T19:18:35.225Z"
   },
   {
    "duration": 33,
    "start_time": "2022-05-31T19:18:35.239Z"
   },
   {
    "duration": 34,
    "start_time": "2022-05-31T19:18:35.274Z"
   },
   {
    "duration": 43,
    "start_time": "2022-05-31T19:18:35.311Z"
   },
   {
    "duration": 40,
    "start_time": "2022-05-31T19:18:35.357Z"
   },
   {
    "duration": 154,
    "start_time": "2022-05-31T19:18:35.399Z"
   },
   {
    "duration": 17,
    "start_time": "2022-05-31T19:18:35.555Z"
   },
   {
    "duration": 7,
    "start_time": "2022-05-31T19:18:35.574Z"
   },
   {
    "duration": 19,
    "start_time": "2022-05-31T19:18:35.583Z"
   },
   {
    "duration": 11,
    "start_time": "2022-05-31T19:18:35.603Z"
   },
   {
    "duration": 44,
    "start_time": "2022-05-31T19:18:35.616Z"
   },
   {
    "duration": 11,
    "start_time": "2022-05-31T19:18:35.662Z"
   },
   {
    "duration": 20,
    "start_time": "2022-05-31T19:18:35.675Z"
   },
   {
    "duration": 10,
    "start_time": "2022-05-31T19:18:35.697Z"
   },
   {
    "duration": 7,
    "start_time": "2022-05-31T19:18:35.709Z"
   },
   {
    "duration": 14,
    "start_time": "2022-05-31T19:18:35.718Z"
   },
   {
    "duration": 27,
    "start_time": "2022-05-31T19:18:35.734Z"
   },
   {
    "duration": 19,
    "start_time": "2022-05-31T19:18:35.763Z"
   },
   {
    "duration": 13,
    "start_time": "2022-05-31T19:18:35.783Z"
   },
   {
    "duration": 7,
    "start_time": "2022-05-31T19:18:35.798Z"
   },
   {
    "duration": 51,
    "start_time": "2022-05-31T19:18:35.807Z"
   },
   {
    "duration": 10,
    "start_time": "2022-05-31T19:18:35.860Z"
   },
   {
    "duration": 26,
    "start_time": "2022-05-31T19:18:35.872Z"
   },
   {
    "duration": 17,
    "start_time": "2022-05-31T19:18:35.900Z"
   },
   {
    "duration": 11,
    "start_time": "2022-05-31T19:18:35.919Z"
   },
   {
    "duration": 39,
    "start_time": "2022-05-31T19:18:35.932Z"
   },
   {
    "duration": 101,
    "start_time": "2022-05-31T19:18:35.973Z"
   },
   {
    "duration": 18,
    "start_time": "2022-05-31T19:18:36.076Z"
   },
   {
    "duration": 66,
    "start_time": "2022-05-31T19:18:36.095Z"
   },
   {
    "duration": 14,
    "start_time": "2022-05-31T19:18:36.163Z"
   },
   {
    "duration": 59,
    "start_time": "2022-05-31T19:18:36.178Z"
   },
   {
    "duration": 5,
    "start_time": "2022-05-31T19:18:36.239Z"
   },
   {
    "duration": 12,
    "start_time": "2022-05-31T19:18:36.252Z"
   },
   {
    "duration": 13,
    "start_time": "2022-05-31T19:18:36.265Z"
   },
   {
    "duration": 28,
    "start_time": "2022-05-31T19:18:36.279Z"
   },
   {
    "duration": 20,
    "start_time": "2022-05-31T19:18:36.309Z"
   },
   {
    "duration": 12,
    "start_time": "2022-05-31T19:18:36.351Z"
   },
   {
    "duration": 7,
    "start_time": "2022-05-31T19:18:36.366Z"
   },
   {
    "duration": 9,
    "start_time": "2022-05-31T19:18:36.375Z"
   },
   {
    "duration": 9,
    "start_time": "2022-05-31T19:18:36.386Z"
   },
   {
    "duration": 7,
    "start_time": "2022-05-31T19:18:36.397Z"
   },
   {
    "duration": 48,
    "start_time": "2022-05-31T19:18:36.406Z"
   },
   {
    "duration": 9,
    "start_time": "2022-05-31T19:18:36.457Z"
   },
   {
    "duration": 131,
    "start_time": "2022-05-31T19:18:36.468Z"
   },
   {
    "duration": 0,
    "start_time": "2022-05-31T19:18:36.602Z"
   },
   {
    "duration": 0,
    "start_time": "2022-05-31T19:18:36.603Z"
   },
   {
    "duration": 0,
    "start_time": "2022-05-31T19:18:36.604Z"
   },
   {
    "duration": 0,
    "start_time": "2022-05-31T19:18:36.605Z"
   },
   {
    "duration": 0,
    "start_time": "2022-05-31T19:18:36.606Z"
   },
   {
    "duration": 0,
    "start_time": "2022-05-31T19:18:36.607Z"
   },
   {
    "duration": 0,
    "start_time": "2022-05-31T19:18:36.608Z"
   },
   {
    "duration": 0,
    "start_time": "2022-05-31T19:18:36.609Z"
   },
   {
    "duration": 0,
    "start_time": "2022-05-31T19:18:36.610Z"
   },
   {
    "duration": 0,
    "start_time": "2022-05-31T19:18:36.611Z"
   },
   {
    "duration": 0,
    "start_time": "2022-05-31T19:18:36.612Z"
   },
   {
    "duration": 0,
    "start_time": "2022-05-31T19:18:36.613Z"
   },
   {
    "duration": 0,
    "start_time": "2022-05-31T19:18:36.614Z"
   },
   {
    "duration": 0,
    "start_time": "2022-05-31T19:18:36.615Z"
   },
   {
    "duration": 0,
    "start_time": "2022-05-31T19:18:36.616Z"
   },
   {
    "duration": 0,
    "start_time": "2022-05-31T19:18:36.617Z"
   },
   {
    "duration": 0,
    "start_time": "2022-05-31T19:18:36.618Z"
   },
   {
    "duration": 0,
    "start_time": "2022-05-31T19:18:36.619Z"
   },
   {
    "duration": 0,
    "start_time": "2022-05-31T19:18:36.620Z"
   },
   {
    "duration": 0,
    "start_time": "2022-05-31T19:18:36.621Z"
   },
   {
    "duration": 0,
    "start_time": "2022-05-31T19:18:36.652Z"
   },
   {
    "duration": 1802,
    "start_time": "2022-05-31T19:19:19.697Z"
   },
   {
    "duration": 430,
    "start_time": "2022-05-31T19:19:21.501Z"
   },
   {
    "duration": 64,
    "start_time": "2022-05-31T19:19:21.932Z"
   },
   {
    "duration": 75,
    "start_time": "2022-05-31T19:19:21.998Z"
   },
   {
    "duration": 3,
    "start_time": "2022-05-31T19:19:22.075Z"
   },
   {
    "duration": 105,
    "start_time": "2022-05-31T19:19:22.080Z"
   },
   {
    "duration": 2,
    "start_time": "2022-05-31T19:19:22.187Z"
   },
   {
    "duration": 200,
    "start_time": "2022-05-31T19:19:22.191Z"
   },
   {
    "duration": 22,
    "start_time": "2022-05-31T19:19:22.392Z"
   },
   {
    "duration": 488,
    "start_time": "2022-05-31T19:19:22.417Z"
   },
   {
    "duration": 9,
    "start_time": "2022-05-31T19:19:22.907Z"
   },
   {
    "duration": 6,
    "start_time": "2022-05-31T19:19:22.918Z"
   },
   {
    "duration": 33,
    "start_time": "2022-05-31T19:19:22.925Z"
   },
   {
    "duration": 368,
    "start_time": "2022-05-31T19:19:22.960Z"
   },
   {
    "duration": 24,
    "start_time": "2022-05-31T19:19:23.330Z"
   },
   {
    "duration": 4,
    "start_time": "2022-05-31T19:19:23.355Z"
   },
   {
    "duration": 34,
    "start_time": "2022-05-31T19:19:23.360Z"
   },
   {
    "duration": 28,
    "start_time": "2022-05-31T19:19:23.395Z"
   },
   {
    "duration": 43,
    "start_time": "2022-05-31T19:19:23.425Z"
   },
   {
    "duration": 49,
    "start_time": "2022-05-31T19:19:23.469Z"
   },
   {
    "duration": 239,
    "start_time": "2022-05-31T19:19:23.520Z"
   },
   {
    "duration": 19,
    "start_time": "2022-05-31T19:19:23.761Z"
   },
   {
    "duration": 5,
    "start_time": "2022-05-31T19:19:23.782Z"
   },
   {
    "duration": 22,
    "start_time": "2022-05-31T19:19:23.789Z"
   },
   {
    "duration": 46,
    "start_time": "2022-05-31T19:19:23.813Z"
   },
   {
    "duration": 25,
    "start_time": "2022-05-31T19:19:23.861Z"
   },
   {
    "duration": 19,
    "start_time": "2022-05-31T19:19:23.888Z"
   },
   {
    "duration": 63,
    "start_time": "2022-05-31T19:19:23.912Z"
   },
   {
    "duration": 118,
    "start_time": "2022-05-31T19:19:23.977Z"
   },
   {
    "duration": 16,
    "start_time": "2022-05-31T19:19:24.096Z"
   },
   {
    "duration": 8,
    "start_time": "2022-05-31T19:19:24.114Z"
   },
   {
    "duration": 32,
    "start_time": "2022-05-31T19:19:24.124Z"
   },
   {
    "duration": 30,
    "start_time": "2022-05-31T19:19:24.158Z"
   },
   {
    "duration": 22,
    "start_time": "2022-05-31T19:19:24.191Z"
   },
   {
    "duration": 52,
    "start_time": "2022-05-31T19:19:24.215Z"
   },
   {
    "duration": 112,
    "start_time": "2022-05-31T19:19:24.269Z"
   },
   {
    "duration": 14,
    "start_time": "2022-05-31T19:19:24.383Z"
   },
   {
    "duration": 5,
    "start_time": "2022-05-31T19:19:24.399Z"
   },
   {
    "duration": 21,
    "start_time": "2022-05-31T19:19:24.405Z"
   },
   {
    "duration": 31,
    "start_time": "2022-05-31T19:19:24.427Z"
   },
   {
    "duration": 25,
    "start_time": "2022-05-31T19:19:24.460Z"
   },
   {
    "duration": 7,
    "start_time": "2022-05-31T19:19:24.486Z"
   },
   {
    "duration": 12,
    "start_time": "2022-05-31T19:19:24.495Z"
   },
   {
    "duration": 7,
    "start_time": "2022-05-31T19:19:24.509Z"
   },
   {
    "duration": 2,
    "start_time": "2022-05-31T19:19:24.552Z"
   },
   {
    "duration": 12,
    "start_time": "2022-05-31T19:19:24.556Z"
   },
   {
    "duration": 12,
    "start_time": "2022-05-31T19:19:24.570Z"
   },
   {
    "duration": 20,
    "start_time": "2022-05-31T19:19:24.584Z"
   },
   {
    "duration": 14,
    "start_time": "2022-05-31T19:19:24.606Z"
   },
   {
    "duration": 38,
    "start_time": "2022-05-31T19:19:24.622Z"
   },
   {
    "duration": 24,
    "start_time": "2022-05-31T19:19:24.661Z"
   },
   {
    "duration": 13,
    "start_time": "2022-05-31T19:19:24.687Z"
   },
   {
    "duration": 20,
    "start_time": "2022-05-31T19:19:24.701Z"
   },
   {
    "duration": 6,
    "start_time": "2022-05-31T19:19:24.723Z"
   },
   {
    "duration": 3,
    "start_time": "2022-05-31T19:19:24.752Z"
   },
   {
    "duration": 23,
    "start_time": "2022-05-31T19:19:24.756Z"
   },
   {
    "duration": 102,
    "start_time": "2022-05-31T19:19:24.781Z"
   },
   {
    "duration": 12,
    "start_time": "2022-05-31T19:19:24.885Z"
   },
   {
    "duration": 56,
    "start_time": "2022-05-31T19:19:24.899Z"
   },
   {
    "duration": 9,
    "start_time": "2022-05-31T19:19:24.957Z"
   },
   {
    "duration": 51,
    "start_time": "2022-05-31T19:19:24.968Z"
   },
   {
    "duration": 5,
    "start_time": "2022-05-31T19:19:25.020Z"
   },
   {
    "duration": 14,
    "start_time": "2022-05-31T19:19:25.051Z"
   },
   {
    "duration": 14,
    "start_time": "2022-05-31T19:19:25.067Z"
   },
   {
    "duration": 27,
    "start_time": "2022-05-31T19:19:25.082Z"
   },
   {
    "duration": 12,
    "start_time": "2022-05-31T19:19:25.111Z"
   },
   {
    "duration": 28,
    "start_time": "2022-05-31T19:19:25.125Z"
   },
   {
    "duration": 8,
    "start_time": "2022-05-31T19:19:25.156Z"
   },
   {
    "duration": 18,
    "start_time": "2022-05-31T19:19:25.166Z"
   },
   {
    "duration": 7,
    "start_time": "2022-05-31T19:19:25.186Z"
   },
   {
    "duration": 21,
    "start_time": "2022-05-31T19:19:25.195Z"
   },
   {
    "duration": 40,
    "start_time": "2022-05-31T19:19:25.219Z"
   },
   {
    "duration": 29,
    "start_time": "2022-05-31T19:19:25.261Z"
   },
   {
    "duration": 10704,
    "start_time": "2022-05-31T19:19:25.292Z"
   },
   {
    "duration": 18,
    "start_time": "2022-05-31T19:19:35.997Z"
   },
   {
    "duration": 12,
    "start_time": "2022-05-31T19:19:36.017Z"
   },
   {
    "duration": 30,
    "start_time": "2022-05-31T19:19:36.031Z"
   },
   {
    "duration": 37,
    "start_time": "2022-05-31T19:19:36.063Z"
   },
   {
    "duration": 913,
    "start_time": "2022-05-31T19:19:36.102Z"
   },
   {
    "duration": 919,
    "start_time": "2022-05-31T19:19:37.017Z"
   },
   {
    "duration": 21,
    "start_time": "2022-05-31T19:19:37.937Z"
   },
   {
    "duration": 214,
    "start_time": "2022-05-31T19:19:37.963Z"
   },
   {
    "duration": 13,
    "start_time": "2022-05-31T19:19:38.179Z"
   },
   {
    "duration": 12,
    "start_time": "2022-05-31T19:19:38.194Z"
   },
   {
    "duration": 6,
    "start_time": "2022-05-31T19:19:38.207Z"
   },
   {
    "duration": 16,
    "start_time": "2022-05-31T19:19:38.215Z"
   },
   {
    "duration": 21,
    "start_time": "2022-05-31T19:19:38.232Z"
   },
   {
    "duration": 6,
    "start_time": "2022-05-31T19:19:38.254Z"
   },
   {
    "duration": 6,
    "start_time": "2022-05-31T19:19:38.262Z"
   },
   {
    "duration": 14,
    "start_time": "2022-05-31T19:19:38.269Z"
   },
   {
    "duration": 14,
    "start_time": "2022-05-31T19:19:38.285Z"
   },
   {
    "duration": 11,
    "start_time": "2022-05-31T19:19:38.301Z"
   },
   {
    "duration": 19,
    "start_time": "2022-05-31T19:19:38.313Z"
   },
   {
    "duration": 20,
    "start_time": "2022-05-31T19:19:38.334Z"
   },
   {
    "duration": 7,
    "start_time": "2022-05-31T19:19:38.356Z"
   },
   {
    "duration": 4,
    "start_time": "2022-05-31T19:20:07.460Z"
   },
   {
    "duration": 1284,
    "start_time": "2022-05-31T19:23:24.227Z"
   },
   {
    "duration": 479,
    "start_time": "2022-05-31T19:23:25.513Z"
   },
   {
    "duration": 86,
    "start_time": "2022-05-31T19:23:25.994Z"
   },
   {
    "duration": 118,
    "start_time": "2022-05-31T19:23:26.083Z"
   },
   {
    "duration": 4,
    "start_time": "2022-05-31T19:23:26.204Z"
   },
   {
    "duration": 128,
    "start_time": "2022-05-31T19:23:26.211Z"
   },
   {
    "duration": 3,
    "start_time": "2022-05-31T19:23:26.341Z"
   },
   {
    "duration": 208,
    "start_time": "2022-05-31T19:23:26.345Z"
   },
   {
    "duration": 22,
    "start_time": "2022-05-31T19:23:26.555Z"
   },
   {
    "duration": 492,
    "start_time": "2022-05-31T19:23:26.580Z"
   },
   {
    "duration": 7,
    "start_time": "2022-05-31T19:23:27.073Z"
   },
   {
    "duration": 8,
    "start_time": "2022-05-31T19:23:27.081Z"
   },
   {
    "duration": 20,
    "start_time": "2022-05-31T19:23:27.091Z"
   },
   {
    "duration": 379,
    "start_time": "2022-05-31T19:23:27.112Z"
   },
   {
    "duration": 16,
    "start_time": "2022-05-31T19:23:27.492Z"
   },
   {
    "duration": 7,
    "start_time": "2022-05-31T19:23:27.510Z"
   },
   {
    "duration": 71,
    "start_time": "2022-05-31T19:23:27.519Z"
   },
   {
    "duration": 30,
    "start_time": "2022-05-31T19:23:27.592Z"
   },
   {
    "duration": 43,
    "start_time": "2022-05-31T19:23:27.623Z"
   },
   {
    "duration": 49,
    "start_time": "2022-05-31T19:23:27.668Z"
   },
   {
    "duration": 239,
    "start_time": "2022-05-31T19:23:27.719Z"
   },
   {
    "duration": 21,
    "start_time": "2022-05-31T19:23:27.959Z"
   },
   {
    "duration": 5,
    "start_time": "2022-05-31T19:23:27.982Z"
   },
   {
    "duration": 26,
    "start_time": "2022-05-31T19:23:27.988Z"
   },
   {
    "duration": 42,
    "start_time": "2022-05-31T19:23:28.016Z"
   },
   {
    "duration": 37,
    "start_time": "2022-05-31T19:23:28.060Z"
   },
   {
    "duration": 18,
    "start_time": "2022-05-31T19:23:28.099Z"
   },
   {
    "duration": 52,
    "start_time": "2022-05-31T19:23:28.121Z"
   },
   {
    "duration": 131,
    "start_time": "2022-05-31T19:23:28.175Z"
   },
   {
    "duration": 18,
    "start_time": "2022-05-31T19:23:28.308Z"
   },
   {
    "duration": 11,
    "start_time": "2022-05-31T19:23:28.328Z"
   },
   {
    "duration": 26,
    "start_time": "2022-05-31T19:23:28.341Z"
   },
   {
    "duration": 24,
    "start_time": "2022-05-31T19:23:28.369Z"
   },
   {
    "duration": 23,
    "start_time": "2022-05-31T19:23:28.395Z"
   },
   {
    "duration": 54,
    "start_time": "2022-05-31T19:23:28.420Z"
   },
   {
    "duration": 120,
    "start_time": "2022-05-31T19:23:28.476Z"
   },
   {
    "duration": 18,
    "start_time": "2022-05-31T19:23:28.598Z"
   },
   {
    "duration": 9,
    "start_time": "2022-05-31T19:23:28.617Z"
   },
   {
    "duration": 34,
    "start_time": "2022-05-31T19:23:28.628Z"
   },
   {
    "duration": 12,
    "start_time": "2022-05-31T19:23:28.664Z"
   },
   {
    "duration": 35,
    "start_time": "2022-05-31T19:23:28.678Z"
   },
   {
    "duration": 13,
    "start_time": "2022-05-31T19:23:28.716Z"
   },
   {
    "duration": 16,
    "start_time": "2022-05-31T19:23:28.753Z"
   },
   {
    "duration": 13,
    "start_time": "2022-05-31T19:23:28.771Z"
   },
   {
    "duration": 5,
    "start_time": "2022-05-31T19:23:28.786Z"
   },
   {
    "duration": 13,
    "start_time": "2022-05-31T19:23:28.793Z"
   },
   {
    "duration": 14,
    "start_time": "2022-05-31T19:23:28.808Z"
   },
   {
    "duration": 43,
    "start_time": "2022-05-31T19:23:28.823Z"
   },
   {
    "duration": 17,
    "start_time": "2022-05-31T19:23:28.868Z"
   },
   {
    "duration": 10,
    "start_time": "2022-05-31T19:23:28.886Z"
   },
   {
    "duration": 20,
    "start_time": "2022-05-31T19:23:28.898Z"
   },
   {
    "duration": 37,
    "start_time": "2022-05-31T19:23:28.920Z"
   },
   {
    "duration": 21,
    "start_time": "2022-05-31T19:23:28.959Z"
   },
   {
    "duration": 6,
    "start_time": "2022-05-31T19:23:28.981Z"
   },
   {
    "duration": 5,
    "start_time": "2022-05-31T19:23:28.989Z"
   },
   {
    "duration": 23,
    "start_time": "2022-05-31T19:23:28.995Z"
   },
   {
    "duration": 113,
    "start_time": "2022-05-31T19:23:29.020Z"
   },
   {
    "duration": 23,
    "start_time": "2022-05-31T19:23:29.135Z"
   },
   {
    "duration": 38,
    "start_time": "2022-05-31T19:23:29.160Z"
   },
   {
    "duration": 11,
    "start_time": "2022-05-31T19:23:29.200Z"
   },
   {
    "duration": 93,
    "start_time": "2022-05-31T19:23:29.213Z"
   },
   {
    "duration": 6,
    "start_time": "2022-05-31T19:23:29.307Z"
   },
   {
    "duration": 19,
    "start_time": "2022-05-31T19:23:29.315Z"
   },
   {
    "duration": 22,
    "start_time": "2022-05-31T19:23:29.336Z"
   },
   {
    "duration": 34,
    "start_time": "2022-05-31T19:23:29.360Z"
   },
   {
    "duration": 13,
    "start_time": "2022-05-31T19:23:29.396Z"
   },
   {
    "duration": 15,
    "start_time": "2022-05-31T19:23:29.411Z"
   },
   {
    "duration": 25,
    "start_time": "2022-05-31T19:23:29.428Z"
   },
   {
    "duration": 9,
    "start_time": "2022-05-31T19:23:29.455Z"
   },
   {
    "duration": 7,
    "start_time": "2022-05-31T19:23:29.465Z"
   },
   {
    "duration": 8,
    "start_time": "2022-05-31T19:23:29.474Z"
   },
   {
    "duration": 20,
    "start_time": "2022-05-31T19:23:29.484Z"
   },
   {
    "duration": 8,
    "start_time": "2022-05-31T19:23:29.506Z"
   },
   {
    "duration": 11743,
    "start_time": "2022-05-31T19:23:29.515Z"
   },
   {
    "duration": 15,
    "start_time": "2022-05-31T19:23:41.260Z"
   },
   {
    "duration": 5,
    "start_time": "2022-05-31T19:23:41.276Z"
   },
   {
    "duration": 10,
    "start_time": "2022-05-31T19:23:41.283Z"
   },
   {
    "duration": 16,
    "start_time": "2022-05-31T19:23:41.295Z"
   },
   {
    "duration": 65,
    "start_time": "2022-05-31T19:23:41.313Z"
   },
   {
    "duration": 965,
    "start_time": "2022-05-31T19:23:41.380Z"
   },
   {
    "duration": 982,
    "start_time": "2022-05-31T19:23:42.352Z"
   },
   {
    "duration": 18,
    "start_time": "2022-05-31T19:23:43.341Z"
   },
   {
    "duration": 228,
    "start_time": "2022-05-31T19:23:43.361Z"
   },
   {
    "duration": 14,
    "start_time": "2022-05-31T19:23:43.591Z"
   },
   {
    "duration": 7,
    "start_time": "2022-05-31T19:23:43.607Z"
   },
   {
    "duration": 5,
    "start_time": "2022-05-31T19:23:43.615Z"
   },
   {
    "duration": 32,
    "start_time": "2022-05-31T19:23:43.622Z"
   },
   {
    "duration": 6,
    "start_time": "2022-05-31T19:23:43.656Z"
   },
   {
    "duration": 9,
    "start_time": "2022-05-31T19:23:43.664Z"
   },
   {
    "duration": 5,
    "start_time": "2022-05-31T19:23:43.675Z"
   },
   {
    "duration": 6,
    "start_time": "2022-05-31T19:23:43.682Z"
   },
   {
    "duration": 13,
    "start_time": "2022-05-31T19:23:43.690Z"
   },
   {
    "duration": 7,
    "start_time": "2022-05-31T19:23:43.705Z"
   },
   {
    "duration": 49,
    "start_time": "2022-05-31T19:23:43.713Z"
   },
   {
    "duration": 4,
    "start_time": "2022-05-31T19:23:43.764Z"
   },
   {
    "duration": 8,
    "start_time": "2022-05-31T19:23:43.770Z"
   },
   {
    "duration": 1342,
    "start_time": "2022-05-31T19:42:47.294Z"
   },
   {
    "duration": 598,
    "start_time": "2022-05-31T19:42:48.639Z"
   },
   {
    "duration": 97,
    "start_time": "2022-05-31T19:42:49.240Z"
   },
   {
    "duration": 89,
    "start_time": "2022-05-31T19:42:49.339Z"
   },
   {
    "duration": 3,
    "start_time": "2022-05-31T19:42:49.431Z"
   },
   {
    "duration": 112,
    "start_time": "2022-05-31T19:42:49.437Z"
   },
   {
    "duration": 3,
    "start_time": "2022-05-31T19:42:49.551Z"
   },
   {
    "duration": 245,
    "start_time": "2022-05-31T19:42:49.555Z"
   },
   {
    "duration": 24,
    "start_time": "2022-05-31T19:42:49.802Z"
   },
   {
    "duration": 546,
    "start_time": "2022-05-31T19:42:49.828Z"
   },
   {
    "duration": 19,
    "start_time": "2022-05-31T19:42:50.379Z"
   },
   {
    "duration": 9,
    "start_time": "2022-05-31T19:42:50.401Z"
   },
   {
    "duration": 20,
    "start_time": "2022-05-31T19:42:50.412Z"
   },
   {
    "duration": 413,
    "start_time": "2022-05-31T19:42:50.436Z"
   },
   {
    "duration": 23,
    "start_time": "2022-05-31T19:42:50.850Z"
   },
   {
    "duration": 12,
    "start_time": "2022-05-31T19:42:50.879Z"
   },
   {
    "duration": 39,
    "start_time": "2022-05-31T19:42:50.894Z"
   },
   {
    "duration": 44,
    "start_time": "2022-05-31T19:42:50.935Z"
   },
   {
    "duration": 25,
    "start_time": "2022-05-31T19:42:50.985Z"
   },
   {
    "duration": 92,
    "start_time": "2022-05-31T19:42:51.012Z"
   },
   {
    "duration": 276,
    "start_time": "2022-05-31T19:42:51.106Z"
   },
   {
    "duration": 28,
    "start_time": "2022-05-31T19:42:51.387Z"
   },
   {
    "duration": 8,
    "start_time": "2022-05-31T19:42:51.417Z"
   },
   {
    "duration": 27,
    "start_time": "2022-05-31T19:42:51.427Z"
   },
   {
    "duration": 42,
    "start_time": "2022-05-31T19:42:51.464Z"
   },
   {
    "duration": 27,
    "start_time": "2022-05-31T19:42:51.508Z"
   },
   {
    "duration": 49,
    "start_time": "2022-05-31T19:42:51.537Z"
   },
   {
    "duration": 44,
    "start_time": "2022-05-31T19:42:51.589Z"
   },
   {
    "duration": 165,
    "start_time": "2022-05-31T19:42:51.634Z"
   },
   {
    "duration": 19,
    "start_time": "2022-05-31T19:42:51.801Z"
   },
   {
    "duration": 4,
    "start_time": "2022-05-31T19:42:51.822Z"
   },
   {
    "duration": 21,
    "start_time": "2022-05-31T19:42:51.827Z"
   },
   {
    "duration": 41,
    "start_time": "2022-05-31T19:42:51.864Z"
   },
   {
    "duration": 25,
    "start_time": "2022-05-31T19:42:51.907Z"
   },
   {
    "duration": 75,
    "start_time": "2022-05-31T19:42:51.935Z"
   },
   {
    "duration": 133,
    "start_time": "2022-05-31T19:42:52.012Z"
   },
   {
    "duration": 22,
    "start_time": "2022-05-31T19:42:52.148Z"
   },
   {
    "duration": 31,
    "start_time": "2022-05-31T19:42:52.172Z"
   },
   {
    "duration": 25,
    "start_time": "2022-05-31T19:42:52.205Z"
   },
   {
    "duration": 12,
    "start_time": "2022-05-31T19:42:52.232Z"
   },
   {
    "duration": 32,
    "start_time": "2022-05-31T19:42:52.249Z"
   },
   {
    "duration": 23,
    "start_time": "2022-05-31T19:42:52.282Z"
   },
   {
    "duration": 31,
    "start_time": "2022-05-31T19:42:52.307Z"
   },
   {
    "duration": 9,
    "start_time": "2022-05-31T19:42:52.339Z"
   },
   {
    "duration": 5,
    "start_time": "2022-05-31T19:42:52.350Z"
   },
   {
    "duration": 20,
    "start_time": "2022-05-31T19:42:52.357Z"
   },
   {
    "duration": 32,
    "start_time": "2022-05-31T19:42:52.378Z"
   },
   {
    "duration": 22,
    "start_time": "2022-05-31T19:42:52.412Z"
   },
   {
    "duration": 16,
    "start_time": "2022-05-31T19:42:52.436Z"
   },
   {
    "duration": 9,
    "start_time": "2022-05-31T19:42:52.453Z"
   },
   {
    "duration": 47,
    "start_time": "2022-05-31T19:42:52.467Z"
   },
   {
    "duration": 11,
    "start_time": "2022-05-31T19:42:52.516Z"
   },
   {
    "duration": 21,
    "start_time": "2022-05-31T19:42:52.529Z"
   },
   {
    "duration": 7,
    "start_time": "2022-05-31T19:42:52.552Z"
   },
   {
    "duration": 40,
    "start_time": "2022-05-31T19:42:52.562Z"
   },
   {
    "duration": 22,
    "start_time": "2022-05-31T19:42:52.604Z"
   },
   {
    "duration": 104,
    "start_time": "2022-05-31T19:42:52.627Z"
   },
   {
    "duration": 13,
    "start_time": "2022-05-31T19:42:52.733Z"
   },
   {
    "duration": 58,
    "start_time": "2022-05-31T19:42:52.748Z"
   },
   {
    "duration": 11,
    "start_time": "2022-05-31T19:42:52.808Z"
   },
   {
    "duration": 77,
    "start_time": "2022-05-31T19:42:52.821Z"
   },
   {
    "duration": 5,
    "start_time": "2022-05-31T19:42:52.900Z"
   },
   {
    "duration": 17,
    "start_time": "2022-05-31T19:42:52.907Z"
   },
   {
    "duration": 13,
    "start_time": "2022-05-31T19:42:52.926Z"
   },
   {
    "duration": 51,
    "start_time": "2022-05-31T19:42:52.941Z"
   },
   {
    "duration": 13,
    "start_time": "2022-05-31T19:42:52.999Z"
   },
   {
    "duration": 8,
    "start_time": "2022-05-31T19:42:53.014Z"
   },
   {
    "duration": 6,
    "start_time": "2022-05-31T19:42:53.024Z"
   },
   {
    "duration": 6,
    "start_time": "2022-05-31T19:42:53.031Z"
   },
   {
    "duration": 35,
    "start_time": "2022-05-31T19:42:53.039Z"
   },
   {
    "duration": 12,
    "start_time": "2022-05-31T19:42:53.075Z"
   },
   {
    "duration": 22,
    "start_time": "2022-05-31T19:42:53.092Z"
   },
   {
    "duration": 7,
    "start_time": "2022-05-31T19:42:53.116Z"
   },
   {
    "duration": 12573,
    "start_time": "2022-05-31T19:42:53.125Z"
   },
   {
    "duration": 16,
    "start_time": "2022-05-31T19:43:05.700Z"
   },
   {
    "duration": 10,
    "start_time": "2022-05-31T19:43:05.718Z"
   },
   {
    "duration": 11,
    "start_time": "2022-05-31T19:43:05.730Z"
   },
   {
    "duration": 36,
    "start_time": "2022-05-31T19:43:05.743Z"
   },
   {
    "duration": 57,
    "start_time": "2022-05-31T19:43:05.783Z"
   },
   {
    "duration": 971,
    "start_time": "2022-05-31T19:43:05.842Z"
   },
   {
    "duration": 1130,
    "start_time": "2022-05-31T19:43:06.814Z"
   },
   {
    "duration": 21,
    "start_time": "2022-05-31T19:43:07.946Z"
   },
   {
    "duration": 251,
    "start_time": "2022-05-31T19:43:07.969Z"
   },
   {
    "duration": 15,
    "start_time": "2022-05-31T19:43:08.221Z"
   },
   {
    "duration": 8,
    "start_time": "2022-05-31T19:43:08.238Z"
   },
   {
    "duration": 49,
    "start_time": "2022-05-31T19:43:08.247Z"
   },
   {
    "duration": 13,
    "start_time": "2022-05-31T19:43:08.298Z"
   },
   {
    "duration": 9,
    "start_time": "2022-05-31T19:43:08.313Z"
   },
   {
    "duration": 8,
    "start_time": "2022-05-31T19:43:08.324Z"
   },
   {
    "duration": 6,
    "start_time": "2022-05-31T19:43:08.334Z"
   },
   {
    "duration": 10,
    "start_time": "2022-05-31T19:43:08.342Z"
   },
   {
    "duration": 26,
    "start_time": "2022-05-31T19:43:08.354Z"
   },
   {
    "duration": 31,
    "start_time": "2022-05-31T19:43:08.381Z"
   },
   {
    "duration": 13,
    "start_time": "2022-05-31T19:43:08.414Z"
   },
   {
    "duration": 4,
    "start_time": "2022-05-31T19:43:08.429Z"
   },
   {
    "duration": 6,
    "start_time": "2022-05-31T19:43:08.435Z"
   }
  ],
  "kernelspec": {
   "display_name": "Python 3 (ipykernel)",
   "language": "python",
   "name": "python3"
  },
  "language_info": {
   "codemirror_mode": {
    "name": "ipython",
    "version": 3
   },
   "file_extension": ".py",
   "mimetype": "text/x-python",
   "name": "python",
   "nbconvert_exporter": "python",
   "pygments_lexer": "ipython3",
   "version": "3.9.5"
  },
  "toc": {
   "base_numbering": 1,
   "nav_menu": {},
   "number_sections": true,
   "sideBar": true,
   "skip_h1_title": true,
   "title_cell": "Table of Contents",
   "title_sidebar": "Contents",
   "toc_cell": false,
   "toc_position": {},
   "toc_section_display": true,
   "toc_window_display": false
  }
 },
 "nbformat": 4,
 "nbformat_minor": 5
}
